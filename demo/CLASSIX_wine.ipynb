{
 "cells": [
  {
   "cell_type": "code",
   "execution_count": 1,
   "metadata": {},
   "outputs": [],
   "source": [
    "import numpy as np\n",
    "from psyke import Extractor\n",
    "import pandas as pd\n",
    "from sklearn.model_selection import train_test_split\n",
    "from sklearn import datasets\n",
    "from sklearn import metrics\n",
    "from psyke.clustering.classix.Classix_tuning import tuning_params_classix\n",
    "import plotly.express as px\n",
    "\n",
    "\n",
    "X_path=\"datasets\\X_Wine.npy\"\n",
    "Y_path=\"datasets\\Y_Wine.npy\""
   ]
  },
  {
   "cell_type": "code",
   "execution_count": 2,
   "metadata": {},
   "outputs": [],
   "source": [
    "X=np.load(X_path)\n",
    "Y=np.load(Y_path)"
   ]
  },
  {
   "cell_type": "code",
   "execution_count": 3,
   "metadata": {},
   "outputs": [
    {
     "name": "stdout",
     "output_type": "stream",
     "text": [
      "Number of expected class are: [1 2 3]\n"
     ]
    }
   ],
   "source": [
    "class_expected=np.unique(Y)\n",
    "print(\"Number of expected class are:\", class_expected)"
   ]
  },
  {
   "cell_type": "code",
   "execution_count": 4,
   "metadata": {},
   "outputs": [],
   "source": [
    "X_train, X_test, Y_train, Y_test = train_test_split(X, Y, test_size=0.20, random_state=42)"
   ]
  },
  {
   "attachments": {},
   "cell_type": "markdown",
   "metadata": {},
   "source": [
    "Classix works with merging based on distance"
   ]
  },
  {
   "cell_type": "code",
   "execution_count": 5,
   "metadata": {},
   "outputs": [],
   "source": [
    "parameters = {'minPts':[0,5,10,15,20,25,30,35,40,50], 'radius':[0.1,0.2,0.3,0.5,0.75,1],'scale':[0.5,0.75,1,1.25,1.5,1.75,2]}\n",
    "\n",
    "results=tuning_params_classix(X_train,X_test,Y_test,parameters,'distance')"
   ]
  },
  {
   "cell_type": "code",
   "execution_count": 6,
   "metadata": {},
   "outputs": [
    {
     "name": "stdout",
     "output_type": "stream",
     "text": [
      "The best configuration in distance aggregation has ARI score is  0.6470588235294118  , minPts is:  5  , radius is:  0.2 , scale is:  1.5\n"
     ]
    }
   ],
   "source": [
    "results_list = [x[0] for x in results]\n",
    "idx_best_configuration=np.argmax(results_list)\n",
    "print(\"The best configuration in distance aggregation has ARI score is \",results[idx_best_configuration][0],\" , minPts is: \",results[idx_best_configuration][1],' , radius is: ',results[idx_best_configuration][2], ', scale is: ',results[idx_best_configuration][3])"
   ]
  },
  {
   "cell_type": "code",
   "execution_count": 7,
   "metadata": {},
   "outputs": [],
   "source": [
    "minPts_best_distance=results[idx_best_configuration][1]\n",
    "radius_best_distance=results[idx_best_configuration][2]\n",
    "scale_best_distance=results[idx_best_configuration][3]"
   ]
  },
  {
   "attachments": {},
   "cell_type": "markdown",
   "metadata": {},
   "source": [
    "Classix works with merging based on density"
   ]
  },
  {
   "cell_type": "code",
   "execution_count": 8,
   "metadata": {},
   "outputs": [],
   "source": [
    "parameters = {'minPts':[0,5,10,15,20,25,30,35,40,50], 'radius':[0.1,0.2,0.3,0.5,0.75,1],'scale':[0.5,0.75,1,1.25,1.5,1.75,2]}\n",
    "\n",
    "results=tuning_params_classix(X_train,X_test,Y_test,parameters,'density')"
   ]
  },
  {
   "cell_type": "code",
   "execution_count": 9,
   "metadata": {},
   "outputs": [
    {
     "name": "stdout",
     "output_type": "stream",
     "text": [
      "The best configuration in density aggregation has ARI score is:  0.4444444444444444  , minPts is:  10  , radius is:  0.2 , scale is:  0.5\n"
     ]
    }
   ],
   "source": [
    "results_list = [x[0] for x in results]\n",
    "idx_best_configuration=np.argmax(results_list)\n",
    "print(\"The best configuration in density aggregation has ARI score is: \",results[idx_best_configuration][0],\" , minPts is: \",results[idx_best_configuration][1],' , radius is: ',results[idx_best_configuration][2],', scale is: ',results[idx_best_configuration][3])"
   ]
  },
  {
   "cell_type": "code",
   "execution_count": 10,
   "metadata": {},
   "outputs": [],
   "source": [
    "minPts_best_density=results[idx_best_configuration][1]\n",
    "radius_best_density=results[idx_best_configuration][2]\n",
    "scale_best_density=results[idx_best_configuration][3]"
   ]
  },
  {
   "attachments": {},
   "cell_type": "markdown",
   "metadata": {},
   "source": [
    "Plot results"
   ]
  },
  {
   "cell_type": "code",
   "execution_count": 11,
   "metadata": {},
   "outputs": [],
   "source": [
    "df_test=pd.DataFrame(pd.concat([pd.DataFrame(X_test,columns=[0,1,2,3,4,5,6,7,8,9,10,11,12]),pd.DataFrame(Y_test,columns=[13])],axis=1))"
   ]
  },
  {
   "cell_type": "code",
   "execution_count": 12,
   "metadata": {},
   "outputs": [
    {
     "data": {
      "application/vnd.plotly.v1+json": {
       "config": {
        "plotlyServerURL": "https://plot.ly"
       },
       "data": [
        {
         "dimensions": [
          {
           "axis": {
            "matches": true
           },
           "label": "0",
           "values": [
            13.64,
            14.21,
            12.93,
            13.73,
            12.37,
            14.3,
            12,
            13.4,
            11.61,
            13.36,
            13.5,
            13.5,
            13.41,
            12.77,
            13.63,
            12.52,
            11.41,
            12.08,
            13.86,
            12.08,
            14.19,
            13.11,
            12.33,
            13.4,
            12.77,
            13.78,
            12.42,
            12.37,
            12.08,
            13.56,
            14.02,
            12.37,
            13.16,
            13.58,
            13.75,
            13.88
           ]
          },
          {
           "axis": {
            "matches": true
           },
           "label": "1",
           "values": [
            3.1,
            4.04,
            2.81,
            1.5,
            1.17,
            1.92,
            3.43,
            3.91,
            1.35,
            2.56,
            1.81,
            3.12,
            3.84,
            3.43,
            1.81,
            2.43,
            0.74,
            1.13,
            1.35,
            1.39,
            1.59,
            1.01,
            1.1,
            4.6,
            2.39,
            2.76,
            1.61,
            1.21,
            1.83,
            1.73,
            1.68,
            1.63,
            3.57,
            1.66,
            1.73,
            1.89
           ]
          },
          {
           "axis": {
            "matches": true
           },
           "label": "2",
           "values": [
            2.56,
            2.44,
            2.7,
            2.7,
            1.92,
            2.72,
            2,
            2.48,
            2.7,
            2.35,
            2.61,
            2.62,
            2.12,
            1.98,
            2.7,
            2.17,
            2.5,
            2.51,
            2.27,
            2.5,
            2.48,
            1.7,
            2.28,
            2.86,
            2.28,
            2.3,
            2.19,
            2.56,
            2.32,
            2.46,
            2.21,
            2.3,
            2.15,
            2.36,
            2.41,
            2.59
           ]
          },
          {
           "axis": {
            "matches": true
           },
           "label": "3",
           "values": [
            15.2,
            18.9,
            21,
            22.5,
            19.6,
            20,
            19,
            23,
            20,
            20,
            20,
            24,
            18.8,
            16,
            17.2,
            21,
            21,
            24,
            16,
            22.5,
            16.5,
            15,
            16,
            25,
            19.5,
            22,
            22.5,
            18.1,
            18.5,
            20.5,
            16,
            24.5,
            21,
            19.1,
            16,
            15
           ]
          },
          {
           "axis": {
            "matches": true
           },
           "label": "4",
           "values": [
            116,
            111,
            96,
            101,
            78,
            120,
            87,
            102,
            94,
            89,
            96,
            123,
            90,
            80,
            112,
            88,
            88,
            78,
            98,
            84,
            108,
            78,
            101,
            112,
            86,
            90,
            108,
            98,
            81,
            116,
            96,
            88,
            102,
            106,
            89,
            101
           ]
          },
          {
           "axis": {
            "matches": true
           },
           "label": "5",
           "values": [
            2.7,
            2.85,
            1.54,
            3,
            2.11,
            2.8,
            2,
            1.8,
            2.74,
            1.4,
            2.53,
            1.4,
            2.45,
            1.63,
            2.85,
            2.55,
            2.48,
            2,
            2.98,
            2.56,
            3.3,
            2.98,
            2.05,
            1.98,
            1.39,
            1.35,
            2,
            2.42,
            1.6,
            2.96,
            2.65,
            2.22,
            1.5,
            2.86,
            2.6,
            3.25
           ]
          },
          {
           "axis": {
            "matches": true
           },
           "label": "6",
           "values": [
            3.03,
            2.65,
            0.5,
            3.25,
            2,
            3.14,
            1.64,
            0.75,
            2.92,
            0.5,
            2.61,
            1.57,
            2.68,
            1.25,
            2.91,
            2.27,
            2.01,
            1.58,
            3.15,
            2.29,
            3.93,
            3.18,
            1.09,
            0.96,
            0.51,
            0.68,
            2.09,
            2.65,
            1.5,
            2.78,
            2.33,
            2.45,
            0.55,
            3.19,
            2.76,
            3.56
           ]
          },
          {
           "axis": {
            "matches": true
           },
           "label": "7",
           "values": [
            0.17,
            0.3,
            0.53,
            0.29,
            0.27,
            0.33,
            0.37,
            0.43,
            0.29,
            0.37,
            0.28,
            0.22,
            0.27,
            0.43,
            0.3,
            0.26,
            0.42,
            0.4,
            0.22,
            0.43,
            0.32,
            0.26,
            0.63,
            0.27,
            0.48,
            0.41,
            0.34,
            0.37,
            0.52,
            0.2,
            0.26,
            0.4,
            0.43,
            0.22,
            0.29,
            0.17
           ]
          },
          {
           "axis": {
            "matches": true
           },
           "label": "8",
           "values": [
            1.66,
            1.25,
            0.75,
            2.38,
            1.04,
            1.97,
            1.87,
            1.41,
            2.49,
            0.64,
            1.66,
            1.25,
            1.48,
            0.83,
            1.46,
            1.22,
            1.44,
            1.4,
            1.85,
            1.04,
            1.86,
            2.28,
            0.41,
            1.11,
            0.64,
            1.03,
            1.61,
            2.08,
            1.64,
            2.45,
            1.98,
            1.9,
            1.3,
            1.95,
            1.81,
            1.7
           ]
          },
          {
           "axis": {
            "matches": true
           },
           "label": "9",
           "values": [
            5.1,
            5.24,
            4.6,
            5.7,
            4.68,
            6.2,
            1.28,
            7.3,
            2.65,
            5.6,
            3.52,
            8.6,
            4.28,
            3.4,
            7.3,
            2,
            3.08,
            2.2,
            7.22,
            2.9,
            8.7,
            5.3,
            3.27,
            8.5,
            9.899999,
            9.58,
            2.06,
            4.6,
            2.4,
            6.25,
            4.7,
            2.12,
            4,
            6.9,
            5.6,
            5.43
           ]
          },
          {
           "axis": {
            "matches": true
           },
           "label": "10",
           "values": [
            0.96,
            0.87,
            0.77,
            1.19,
            1.12,
            1.07,
            0.93,
            0.7,
            0.96,
            0.7,
            1.12,
            0.59,
            0.91,
            0.7,
            1.28,
            0.9,
            1.1,
            1.31,
            1.01,
            0.93,
            1.23,
            1.12,
            1.25,
            0.67,
            0.57,
            0.7,
            1.06,
            1.19,
            1.08,
            0.98,
            1.04,
            0.89,
            0.6,
            1.09,
            1.15,
            0.88
           ]
          },
          {
           "axis": {
            "matches": true
           },
           "label": "11",
           "values": [
            3.36,
            3.33,
            2.31,
            2.71,
            3.48,
            2.65,
            3.05,
            1.56,
            3.26,
            2.47,
            3.82,
            1.3,
            3,
            2.12,
            2.88,
            2.78,
            2.31,
            2.72,
            3.55,
            3.19,
            2.82,
            3.18,
            1.67,
            1.92,
            1.63,
            1.68,
            2.96,
            2.3,
            2.27,
            3.03,
            3.59,
            2.78,
            1.68,
            2.88,
            2.9,
            3.56
           ]
          },
          {
           "axis": {
            "matches": true
           },
           "label": "12",
           "values": [
            845,
            1080,
            600,
            1285,
            510,
            1280,
            564,
            750,
            680,
            780,
            845,
            500,
            1035,
            372,
            1310,
            325,
            434,
            630,
            1045,
            385,
            1680,
            502,
            680,
            630,
            470,
            615,
            345,
            678,
            480,
            1120,
            1035,
            342,
            830,
            1515,
            1320,
            1095
           ]
          }
         ],
         "hovertemplate": "%{xaxis.title.text}=%{x}<br>%{yaxis.title.text}=%{y}<br>13=%{marker.color}<extra></extra>",
         "legendgroup": "",
         "marker": {
          "color": [
           1,
           1,
           3,
           1,
           2,
           1,
           2,
           3,
           2,
           3,
           1,
           3,
           1,
           2,
           1,
           2,
           2,
           2,
           1,
           2,
           1,
           2,
           2,
           3,
           3,
           3,
           2,
           2,
           2,
           1,
           1,
           2,
           3,
           1,
           1,
           1
          ],
          "coloraxis": "coloraxis",
          "symbol": "circle"
         },
         "name": "",
         "showlegend": false,
         "type": "splom"
        }
       ],
       "layout": {
        "coloraxis": {
         "colorbar": {
          "title": {
           "text": "13"
          }
         },
         "colorscale": [
          [
           0,
           "#0d0887"
          ],
          [
           0.1111111111111111,
           "#46039f"
          ],
          [
           0.2222222222222222,
           "#7201a8"
          ],
          [
           0.3333333333333333,
           "#9c179e"
          ],
          [
           0.4444444444444444,
           "#bd3786"
          ],
          [
           0.5555555555555556,
           "#d8576b"
          ],
          [
           0.6666666666666666,
           "#ed7953"
          ],
          [
           0.7777777777777778,
           "#fb9f3a"
          ],
          [
           0.8888888888888888,
           "#fdca26"
          ],
          [
           1,
           "#f0f921"
          ]
         ]
        },
        "dragmode": "select",
        "legend": {
         "tracegroupgap": 0
        },
        "margin": {
         "t": 60
        },
        "template": {
         "data": {
          "bar": [
           {
            "error_x": {
             "color": "#2a3f5f"
            },
            "error_y": {
             "color": "#2a3f5f"
            },
            "marker": {
             "line": {
              "color": "#E5ECF6",
              "width": 0.5
             },
             "pattern": {
              "fillmode": "overlay",
              "size": 10,
              "solidity": 0.2
             }
            },
            "type": "bar"
           }
          ],
          "barpolar": [
           {
            "marker": {
             "line": {
              "color": "#E5ECF6",
              "width": 0.5
             },
             "pattern": {
              "fillmode": "overlay",
              "size": 10,
              "solidity": 0.2
             }
            },
            "type": "barpolar"
           }
          ],
          "carpet": [
           {
            "aaxis": {
             "endlinecolor": "#2a3f5f",
             "gridcolor": "white",
             "linecolor": "white",
             "minorgridcolor": "white",
             "startlinecolor": "#2a3f5f"
            },
            "baxis": {
             "endlinecolor": "#2a3f5f",
             "gridcolor": "white",
             "linecolor": "white",
             "minorgridcolor": "white",
             "startlinecolor": "#2a3f5f"
            },
            "type": "carpet"
           }
          ],
          "choropleth": [
           {
            "colorbar": {
             "outlinewidth": 0,
             "ticks": ""
            },
            "type": "choropleth"
           }
          ],
          "contour": [
           {
            "colorbar": {
             "outlinewidth": 0,
             "ticks": ""
            },
            "colorscale": [
             [
              0,
              "#0d0887"
             ],
             [
              0.1111111111111111,
              "#46039f"
             ],
             [
              0.2222222222222222,
              "#7201a8"
             ],
             [
              0.3333333333333333,
              "#9c179e"
             ],
             [
              0.4444444444444444,
              "#bd3786"
             ],
             [
              0.5555555555555556,
              "#d8576b"
             ],
             [
              0.6666666666666666,
              "#ed7953"
             ],
             [
              0.7777777777777778,
              "#fb9f3a"
             ],
             [
              0.8888888888888888,
              "#fdca26"
             ],
             [
              1,
              "#f0f921"
             ]
            ],
            "type": "contour"
           }
          ],
          "contourcarpet": [
           {
            "colorbar": {
             "outlinewidth": 0,
             "ticks": ""
            },
            "type": "contourcarpet"
           }
          ],
          "heatmap": [
           {
            "colorbar": {
             "outlinewidth": 0,
             "ticks": ""
            },
            "colorscale": [
             [
              0,
              "#0d0887"
             ],
             [
              0.1111111111111111,
              "#46039f"
             ],
             [
              0.2222222222222222,
              "#7201a8"
             ],
             [
              0.3333333333333333,
              "#9c179e"
             ],
             [
              0.4444444444444444,
              "#bd3786"
             ],
             [
              0.5555555555555556,
              "#d8576b"
             ],
             [
              0.6666666666666666,
              "#ed7953"
             ],
             [
              0.7777777777777778,
              "#fb9f3a"
             ],
             [
              0.8888888888888888,
              "#fdca26"
             ],
             [
              1,
              "#f0f921"
             ]
            ],
            "type": "heatmap"
           }
          ],
          "heatmapgl": [
           {
            "colorbar": {
             "outlinewidth": 0,
             "ticks": ""
            },
            "colorscale": [
             [
              0,
              "#0d0887"
             ],
             [
              0.1111111111111111,
              "#46039f"
             ],
             [
              0.2222222222222222,
              "#7201a8"
             ],
             [
              0.3333333333333333,
              "#9c179e"
             ],
             [
              0.4444444444444444,
              "#bd3786"
             ],
             [
              0.5555555555555556,
              "#d8576b"
             ],
             [
              0.6666666666666666,
              "#ed7953"
             ],
             [
              0.7777777777777778,
              "#fb9f3a"
             ],
             [
              0.8888888888888888,
              "#fdca26"
             ],
             [
              1,
              "#f0f921"
             ]
            ],
            "type": "heatmapgl"
           }
          ],
          "histogram": [
           {
            "marker": {
             "pattern": {
              "fillmode": "overlay",
              "size": 10,
              "solidity": 0.2
             }
            },
            "type": "histogram"
           }
          ],
          "histogram2d": [
           {
            "colorbar": {
             "outlinewidth": 0,
             "ticks": ""
            },
            "colorscale": [
             [
              0,
              "#0d0887"
             ],
             [
              0.1111111111111111,
              "#46039f"
             ],
             [
              0.2222222222222222,
              "#7201a8"
             ],
             [
              0.3333333333333333,
              "#9c179e"
             ],
             [
              0.4444444444444444,
              "#bd3786"
             ],
             [
              0.5555555555555556,
              "#d8576b"
             ],
             [
              0.6666666666666666,
              "#ed7953"
             ],
             [
              0.7777777777777778,
              "#fb9f3a"
             ],
             [
              0.8888888888888888,
              "#fdca26"
             ],
             [
              1,
              "#f0f921"
             ]
            ],
            "type": "histogram2d"
           }
          ],
          "histogram2dcontour": [
           {
            "colorbar": {
             "outlinewidth": 0,
             "ticks": ""
            },
            "colorscale": [
             [
              0,
              "#0d0887"
             ],
             [
              0.1111111111111111,
              "#46039f"
             ],
             [
              0.2222222222222222,
              "#7201a8"
             ],
             [
              0.3333333333333333,
              "#9c179e"
             ],
             [
              0.4444444444444444,
              "#bd3786"
             ],
             [
              0.5555555555555556,
              "#d8576b"
             ],
             [
              0.6666666666666666,
              "#ed7953"
             ],
             [
              0.7777777777777778,
              "#fb9f3a"
             ],
             [
              0.8888888888888888,
              "#fdca26"
             ],
             [
              1,
              "#f0f921"
             ]
            ],
            "type": "histogram2dcontour"
           }
          ],
          "mesh3d": [
           {
            "colorbar": {
             "outlinewidth": 0,
             "ticks": ""
            },
            "type": "mesh3d"
           }
          ],
          "parcoords": [
           {
            "line": {
             "colorbar": {
              "outlinewidth": 0,
              "ticks": ""
             }
            },
            "type": "parcoords"
           }
          ],
          "pie": [
           {
            "automargin": true,
            "type": "pie"
           }
          ],
          "scatter": [
           {
            "fillpattern": {
             "fillmode": "overlay",
             "size": 10,
             "solidity": 0.2
            },
            "type": "scatter"
           }
          ],
          "scatter3d": [
           {
            "line": {
             "colorbar": {
              "outlinewidth": 0,
              "ticks": ""
             }
            },
            "marker": {
             "colorbar": {
              "outlinewidth": 0,
              "ticks": ""
             }
            },
            "type": "scatter3d"
           }
          ],
          "scattercarpet": [
           {
            "marker": {
             "colorbar": {
              "outlinewidth": 0,
              "ticks": ""
             }
            },
            "type": "scattercarpet"
           }
          ],
          "scattergeo": [
           {
            "marker": {
             "colorbar": {
              "outlinewidth": 0,
              "ticks": ""
             }
            },
            "type": "scattergeo"
           }
          ],
          "scattergl": [
           {
            "marker": {
             "colorbar": {
              "outlinewidth": 0,
              "ticks": ""
             }
            },
            "type": "scattergl"
           }
          ],
          "scattermapbox": [
           {
            "marker": {
             "colorbar": {
              "outlinewidth": 0,
              "ticks": ""
             }
            },
            "type": "scattermapbox"
           }
          ],
          "scatterpolar": [
           {
            "marker": {
             "colorbar": {
              "outlinewidth": 0,
              "ticks": ""
             }
            },
            "type": "scatterpolar"
           }
          ],
          "scatterpolargl": [
           {
            "marker": {
             "colorbar": {
              "outlinewidth": 0,
              "ticks": ""
             }
            },
            "type": "scatterpolargl"
           }
          ],
          "scatterternary": [
           {
            "marker": {
             "colorbar": {
              "outlinewidth": 0,
              "ticks": ""
             }
            },
            "type": "scatterternary"
           }
          ],
          "surface": [
           {
            "colorbar": {
             "outlinewidth": 0,
             "ticks": ""
            },
            "colorscale": [
             [
              0,
              "#0d0887"
             ],
             [
              0.1111111111111111,
              "#46039f"
             ],
             [
              0.2222222222222222,
              "#7201a8"
             ],
             [
              0.3333333333333333,
              "#9c179e"
             ],
             [
              0.4444444444444444,
              "#bd3786"
             ],
             [
              0.5555555555555556,
              "#d8576b"
             ],
             [
              0.6666666666666666,
              "#ed7953"
             ],
             [
              0.7777777777777778,
              "#fb9f3a"
             ],
             [
              0.8888888888888888,
              "#fdca26"
             ],
             [
              1,
              "#f0f921"
             ]
            ],
            "type": "surface"
           }
          ],
          "table": [
           {
            "cells": {
             "fill": {
              "color": "#EBF0F8"
             },
             "line": {
              "color": "white"
             }
            },
            "header": {
             "fill": {
              "color": "#C8D4E3"
             },
             "line": {
              "color": "white"
             }
            },
            "type": "table"
           }
          ]
         },
         "layout": {
          "annotationdefaults": {
           "arrowcolor": "#2a3f5f",
           "arrowhead": 0,
           "arrowwidth": 1
          },
          "autotypenumbers": "strict",
          "coloraxis": {
           "colorbar": {
            "outlinewidth": 0,
            "ticks": ""
           }
          },
          "colorscale": {
           "diverging": [
            [
             0,
             "#8e0152"
            ],
            [
             0.1,
             "#c51b7d"
            ],
            [
             0.2,
             "#de77ae"
            ],
            [
             0.3,
             "#f1b6da"
            ],
            [
             0.4,
             "#fde0ef"
            ],
            [
             0.5,
             "#f7f7f7"
            ],
            [
             0.6,
             "#e6f5d0"
            ],
            [
             0.7,
             "#b8e186"
            ],
            [
             0.8,
             "#7fbc41"
            ],
            [
             0.9,
             "#4d9221"
            ],
            [
             1,
             "#276419"
            ]
           ],
           "sequential": [
            [
             0,
             "#0d0887"
            ],
            [
             0.1111111111111111,
             "#46039f"
            ],
            [
             0.2222222222222222,
             "#7201a8"
            ],
            [
             0.3333333333333333,
             "#9c179e"
            ],
            [
             0.4444444444444444,
             "#bd3786"
            ],
            [
             0.5555555555555556,
             "#d8576b"
            ],
            [
             0.6666666666666666,
             "#ed7953"
            ],
            [
             0.7777777777777778,
             "#fb9f3a"
            ],
            [
             0.8888888888888888,
             "#fdca26"
            ],
            [
             1,
             "#f0f921"
            ]
           ],
           "sequentialminus": [
            [
             0,
             "#0d0887"
            ],
            [
             0.1111111111111111,
             "#46039f"
            ],
            [
             0.2222222222222222,
             "#7201a8"
            ],
            [
             0.3333333333333333,
             "#9c179e"
            ],
            [
             0.4444444444444444,
             "#bd3786"
            ],
            [
             0.5555555555555556,
             "#d8576b"
            ],
            [
             0.6666666666666666,
             "#ed7953"
            ],
            [
             0.7777777777777778,
             "#fb9f3a"
            ],
            [
             0.8888888888888888,
             "#fdca26"
            ],
            [
             1,
             "#f0f921"
            ]
           ]
          },
          "colorway": [
           "#636efa",
           "#EF553B",
           "#00cc96",
           "#ab63fa",
           "#FFA15A",
           "#19d3f3",
           "#FF6692",
           "#B6E880",
           "#FF97FF",
           "#FECB52"
          ],
          "font": {
           "color": "#2a3f5f"
          },
          "geo": {
           "bgcolor": "white",
           "lakecolor": "white",
           "landcolor": "#E5ECF6",
           "showlakes": true,
           "showland": true,
           "subunitcolor": "white"
          },
          "hoverlabel": {
           "align": "left"
          },
          "hovermode": "closest",
          "mapbox": {
           "style": "light"
          },
          "paper_bgcolor": "white",
          "plot_bgcolor": "#E5ECF6",
          "polar": {
           "angularaxis": {
            "gridcolor": "white",
            "linecolor": "white",
            "ticks": ""
           },
           "bgcolor": "#E5ECF6",
           "radialaxis": {
            "gridcolor": "white",
            "linecolor": "white",
            "ticks": ""
           }
          },
          "scene": {
           "xaxis": {
            "backgroundcolor": "#E5ECF6",
            "gridcolor": "white",
            "gridwidth": 2,
            "linecolor": "white",
            "showbackground": true,
            "ticks": "",
            "zerolinecolor": "white"
           },
           "yaxis": {
            "backgroundcolor": "#E5ECF6",
            "gridcolor": "white",
            "gridwidth": 2,
            "linecolor": "white",
            "showbackground": true,
            "ticks": "",
            "zerolinecolor": "white"
           },
           "zaxis": {
            "backgroundcolor": "#E5ECF6",
            "gridcolor": "white",
            "gridwidth": 2,
            "linecolor": "white",
            "showbackground": true,
            "ticks": "",
            "zerolinecolor": "white"
           }
          },
          "shapedefaults": {
           "line": {
            "color": "#2a3f5f"
           }
          },
          "ternary": {
           "aaxis": {
            "gridcolor": "white",
            "linecolor": "white",
            "ticks": ""
           },
           "baxis": {
            "gridcolor": "white",
            "linecolor": "white",
            "ticks": ""
           },
           "bgcolor": "#E5ECF6",
           "caxis": {
            "gridcolor": "white",
            "linecolor": "white",
            "ticks": ""
           }
          },
          "title": {
           "x": 0.05
          },
          "xaxis": {
           "automargin": true,
           "gridcolor": "white",
           "linecolor": "white",
           "ticks": "",
           "title": {
            "standoff": 15
           },
           "zerolinecolor": "white",
           "zerolinewidth": 2
          },
          "yaxis": {
           "automargin": true,
           "gridcolor": "white",
           "linecolor": "white",
           "ticks": "",
           "title": {
            "standoff": 15
           },
           "zerolinecolor": "white",
           "zerolinewidth": 2
          }
         }
        }
       }
      }
     },
     "metadata": {},
     "output_type": "display_data"
    }
   ],
   "source": [
    "fig = px.scatter_matrix(df_test,\n",
    "    dimensions=[0,1,2,3,4,5,6,7,8,9,10,11,12],\n",
    "    color=13)\n",
    "fig.show()"
   ]
  },
  {
   "cell_type": "code",
   "execution_count": 13,
   "metadata": {},
   "outputs": [
    {
     "data": {
      "application/vnd.plotly.v1+json": {
       "config": {
        "plotlyServerURL": "https://plot.ly"
       },
       "data": [
        {
         "dimensions": [
          {
           "axis": {
            "matches": true
           },
           "label": "0",
           "values": [
            13.64,
            14.21,
            12.93,
            13.73,
            12.37,
            14.3,
            12,
            13.4,
            11.61,
            13.36,
            13.5,
            13.5,
            13.41,
            12.77,
            13.63,
            12.52,
            11.41,
            12.08,
            13.86,
            12.08,
            14.19,
            13.11,
            12.33,
            13.4,
            12.77,
            13.78,
            12.42,
            12.37,
            12.08,
            13.56,
            14.02,
            12.37,
            13.16,
            13.58,
            13.75,
            13.88
           ]
          },
          {
           "axis": {
            "matches": true
           },
           "label": "1",
           "values": [
            3.1,
            4.04,
            2.81,
            1.5,
            1.17,
            1.92,
            3.43,
            3.91,
            1.35,
            2.56,
            1.81,
            3.12,
            3.84,
            3.43,
            1.81,
            2.43,
            0.74,
            1.13,
            1.35,
            1.39,
            1.59,
            1.01,
            1.1,
            4.6,
            2.39,
            2.76,
            1.61,
            1.21,
            1.83,
            1.73,
            1.68,
            1.63,
            3.57,
            1.66,
            1.73,
            1.89
           ]
          },
          {
           "axis": {
            "matches": true
           },
           "label": "2",
           "values": [
            2.56,
            2.44,
            2.7,
            2.7,
            1.92,
            2.72,
            2,
            2.48,
            2.7,
            2.35,
            2.61,
            2.62,
            2.12,
            1.98,
            2.7,
            2.17,
            2.5,
            2.51,
            2.27,
            2.5,
            2.48,
            1.7,
            2.28,
            2.86,
            2.28,
            2.3,
            2.19,
            2.56,
            2.32,
            2.46,
            2.21,
            2.3,
            2.15,
            2.36,
            2.41,
            2.59
           ]
          },
          {
           "axis": {
            "matches": true
           },
           "label": "3",
           "values": [
            15.2,
            18.9,
            21,
            22.5,
            19.6,
            20,
            19,
            23,
            20,
            20,
            20,
            24,
            18.8,
            16,
            17.2,
            21,
            21,
            24,
            16,
            22.5,
            16.5,
            15,
            16,
            25,
            19.5,
            22,
            22.5,
            18.1,
            18.5,
            20.5,
            16,
            24.5,
            21,
            19.1,
            16,
            15
           ]
          },
          {
           "axis": {
            "matches": true
           },
           "label": "4",
           "values": [
            116,
            111,
            96,
            101,
            78,
            120,
            87,
            102,
            94,
            89,
            96,
            123,
            90,
            80,
            112,
            88,
            88,
            78,
            98,
            84,
            108,
            78,
            101,
            112,
            86,
            90,
            108,
            98,
            81,
            116,
            96,
            88,
            102,
            106,
            89,
            101
           ]
          },
          {
           "axis": {
            "matches": true
           },
           "label": "5",
           "values": [
            2.7,
            2.85,
            1.54,
            3,
            2.11,
            2.8,
            2,
            1.8,
            2.74,
            1.4,
            2.53,
            1.4,
            2.45,
            1.63,
            2.85,
            2.55,
            2.48,
            2,
            2.98,
            2.56,
            3.3,
            2.98,
            2.05,
            1.98,
            1.39,
            1.35,
            2,
            2.42,
            1.6,
            2.96,
            2.65,
            2.22,
            1.5,
            2.86,
            2.6,
            3.25
           ]
          },
          {
           "axis": {
            "matches": true
           },
           "label": "6",
           "values": [
            3.03,
            2.65,
            0.5,
            3.25,
            2,
            3.14,
            1.64,
            0.75,
            2.92,
            0.5,
            2.61,
            1.57,
            2.68,
            1.25,
            2.91,
            2.27,
            2.01,
            1.58,
            3.15,
            2.29,
            3.93,
            3.18,
            1.09,
            0.96,
            0.51,
            0.68,
            2.09,
            2.65,
            1.5,
            2.78,
            2.33,
            2.45,
            0.55,
            3.19,
            2.76,
            3.56
           ]
          },
          {
           "axis": {
            "matches": true
           },
           "label": "7",
           "values": [
            0.17,
            0.3,
            0.53,
            0.29,
            0.27,
            0.33,
            0.37,
            0.43,
            0.29,
            0.37,
            0.28,
            0.22,
            0.27,
            0.43,
            0.3,
            0.26,
            0.42,
            0.4,
            0.22,
            0.43,
            0.32,
            0.26,
            0.63,
            0.27,
            0.48,
            0.41,
            0.34,
            0.37,
            0.52,
            0.2,
            0.26,
            0.4,
            0.43,
            0.22,
            0.29,
            0.17
           ]
          },
          {
           "axis": {
            "matches": true
           },
           "label": "8",
           "values": [
            1.66,
            1.25,
            0.75,
            2.38,
            1.04,
            1.97,
            1.87,
            1.41,
            2.49,
            0.64,
            1.66,
            1.25,
            1.48,
            0.83,
            1.46,
            1.22,
            1.44,
            1.4,
            1.85,
            1.04,
            1.86,
            2.28,
            0.41,
            1.11,
            0.64,
            1.03,
            1.61,
            2.08,
            1.64,
            2.45,
            1.98,
            1.9,
            1.3,
            1.95,
            1.81,
            1.7
           ]
          },
          {
           "axis": {
            "matches": true
           },
           "label": "9",
           "values": [
            5.1,
            5.24,
            4.6,
            5.7,
            4.68,
            6.2,
            1.28,
            7.3,
            2.65,
            5.6,
            3.52,
            8.6,
            4.28,
            3.4,
            7.3,
            2,
            3.08,
            2.2,
            7.22,
            2.9,
            8.7,
            5.3,
            3.27,
            8.5,
            9.899999,
            9.58,
            2.06,
            4.6,
            2.4,
            6.25,
            4.7,
            2.12,
            4,
            6.9,
            5.6,
            5.43
           ]
          },
          {
           "axis": {
            "matches": true
           },
           "label": "10",
           "values": [
            0.96,
            0.87,
            0.77,
            1.19,
            1.12,
            1.07,
            0.93,
            0.7,
            0.96,
            0.7,
            1.12,
            0.59,
            0.91,
            0.7,
            1.28,
            0.9,
            1.1,
            1.31,
            1.01,
            0.93,
            1.23,
            1.12,
            1.25,
            0.67,
            0.57,
            0.7,
            1.06,
            1.19,
            1.08,
            0.98,
            1.04,
            0.89,
            0.6,
            1.09,
            1.15,
            0.88
           ]
          },
          {
           "axis": {
            "matches": true
           },
           "label": "11",
           "values": [
            3.36,
            3.33,
            2.31,
            2.71,
            3.48,
            2.65,
            3.05,
            1.56,
            3.26,
            2.47,
            3.82,
            1.3,
            3,
            2.12,
            2.88,
            2.78,
            2.31,
            2.72,
            3.55,
            3.19,
            2.82,
            3.18,
            1.67,
            1.92,
            1.63,
            1.68,
            2.96,
            2.3,
            2.27,
            3.03,
            3.59,
            2.78,
            1.68,
            2.88,
            2.9,
            3.56
           ]
          },
          {
           "axis": {
            "matches": true
           },
           "label": "12",
           "values": [
            845,
            1080,
            600,
            1285,
            510,
            1280,
            564,
            750,
            680,
            780,
            845,
            500,
            1035,
            372,
            1310,
            325,
            434,
            630,
            1045,
            385,
            1680,
            502,
            680,
            630,
            470,
            615,
            345,
            678,
            480,
            1120,
            1035,
            342,
            830,
            1515,
            1320,
            1095
           ]
          }
         ],
         "hovertemplate": "%{xaxis.title.text}=%{x}<br>%{yaxis.title.text}=%{y}<br>13=%{marker.color}<extra></extra>",
         "legendgroup": "",
         "marker": {
          "color": [
           1,
           1,
           0,
           1,
           0,
           1,
           0,
           0,
           0,
           0,
           1,
           0,
           1,
           0,
           1,
           0,
           0,
           0,
           1,
           0,
           1,
           0,
           0,
           0,
           0,
           0,
           0,
           0,
           0,
           1,
           1,
           0,
           0,
           1,
           1,
           1
          ],
          "coloraxis": "coloraxis",
          "symbol": "circle"
         },
         "name": "",
         "showlegend": false,
         "type": "splom"
        }
       ],
       "layout": {
        "coloraxis": {
         "colorbar": {
          "title": {
           "text": "13"
          }
         },
         "colorscale": [
          [
           0,
           "#0d0887"
          ],
          [
           0.1111111111111111,
           "#46039f"
          ],
          [
           0.2222222222222222,
           "#7201a8"
          ],
          [
           0.3333333333333333,
           "#9c179e"
          ],
          [
           0.4444444444444444,
           "#bd3786"
          ],
          [
           0.5555555555555556,
           "#d8576b"
          ],
          [
           0.6666666666666666,
           "#ed7953"
          ],
          [
           0.7777777777777778,
           "#fb9f3a"
          ],
          [
           0.8888888888888888,
           "#fdca26"
          ],
          [
           1,
           "#f0f921"
          ]
         ]
        },
        "dragmode": "select",
        "legend": {
         "tracegroupgap": 0
        },
        "margin": {
         "t": 60
        },
        "template": {
         "data": {
          "bar": [
           {
            "error_x": {
             "color": "#2a3f5f"
            },
            "error_y": {
             "color": "#2a3f5f"
            },
            "marker": {
             "line": {
              "color": "#E5ECF6",
              "width": 0.5
             },
             "pattern": {
              "fillmode": "overlay",
              "size": 10,
              "solidity": 0.2
             }
            },
            "type": "bar"
           }
          ],
          "barpolar": [
           {
            "marker": {
             "line": {
              "color": "#E5ECF6",
              "width": 0.5
             },
             "pattern": {
              "fillmode": "overlay",
              "size": 10,
              "solidity": 0.2
             }
            },
            "type": "barpolar"
           }
          ],
          "carpet": [
           {
            "aaxis": {
             "endlinecolor": "#2a3f5f",
             "gridcolor": "white",
             "linecolor": "white",
             "minorgridcolor": "white",
             "startlinecolor": "#2a3f5f"
            },
            "baxis": {
             "endlinecolor": "#2a3f5f",
             "gridcolor": "white",
             "linecolor": "white",
             "minorgridcolor": "white",
             "startlinecolor": "#2a3f5f"
            },
            "type": "carpet"
           }
          ],
          "choropleth": [
           {
            "colorbar": {
             "outlinewidth": 0,
             "ticks": ""
            },
            "type": "choropleth"
           }
          ],
          "contour": [
           {
            "colorbar": {
             "outlinewidth": 0,
             "ticks": ""
            },
            "colorscale": [
             [
              0,
              "#0d0887"
             ],
             [
              0.1111111111111111,
              "#46039f"
             ],
             [
              0.2222222222222222,
              "#7201a8"
             ],
             [
              0.3333333333333333,
              "#9c179e"
             ],
             [
              0.4444444444444444,
              "#bd3786"
             ],
             [
              0.5555555555555556,
              "#d8576b"
             ],
             [
              0.6666666666666666,
              "#ed7953"
             ],
             [
              0.7777777777777778,
              "#fb9f3a"
             ],
             [
              0.8888888888888888,
              "#fdca26"
             ],
             [
              1,
              "#f0f921"
             ]
            ],
            "type": "contour"
           }
          ],
          "contourcarpet": [
           {
            "colorbar": {
             "outlinewidth": 0,
             "ticks": ""
            },
            "type": "contourcarpet"
           }
          ],
          "heatmap": [
           {
            "colorbar": {
             "outlinewidth": 0,
             "ticks": ""
            },
            "colorscale": [
             [
              0,
              "#0d0887"
             ],
             [
              0.1111111111111111,
              "#46039f"
             ],
             [
              0.2222222222222222,
              "#7201a8"
             ],
             [
              0.3333333333333333,
              "#9c179e"
             ],
             [
              0.4444444444444444,
              "#bd3786"
             ],
             [
              0.5555555555555556,
              "#d8576b"
             ],
             [
              0.6666666666666666,
              "#ed7953"
             ],
             [
              0.7777777777777778,
              "#fb9f3a"
             ],
             [
              0.8888888888888888,
              "#fdca26"
             ],
             [
              1,
              "#f0f921"
             ]
            ],
            "type": "heatmap"
           }
          ],
          "heatmapgl": [
           {
            "colorbar": {
             "outlinewidth": 0,
             "ticks": ""
            },
            "colorscale": [
             [
              0,
              "#0d0887"
             ],
             [
              0.1111111111111111,
              "#46039f"
             ],
             [
              0.2222222222222222,
              "#7201a8"
             ],
             [
              0.3333333333333333,
              "#9c179e"
             ],
             [
              0.4444444444444444,
              "#bd3786"
             ],
             [
              0.5555555555555556,
              "#d8576b"
             ],
             [
              0.6666666666666666,
              "#ed7953"
             ],
             [
              0.7777777777777778,
              "#fb9f3a"
             ],
             [
              0.8888888888888888,
              "#fdca26"
             ],
             [
              1,
              "#f0f921"
             ]
            ],
            "type": "heatmapgl"
           }
          ],
          "histogram": [
           {
            "marker": {
             "pattern": {
              "fillmode": "overlay",
              "size": 10,
              "solidity": 0.2
             }
            },
            "type": "histogram"
           }
          ],
          "histogram2d": [
           {
            "colorbar": {
             "outlinewidth": 0,
             "ticks": ""
            },
            "colorscale": [
             [
              0,
              "#0d0887"
             ],
             [
              0.1111111111111111,
              "#46039f"
             ],
             [
              0.2222222222222222,
              "#7201a8"
             ],
             [
              0.3333333333333333,
              "#9c179e"
             ],
             [
              0.4444444444444444,
              "#bd3786"
             ],
             [
              0.5555555555555556,
              "#d8576b"
             ],
             [
              0.6666666666666666,
              "#ed7953"
             ],
             [
              0.7777777777777778,
              "#fb9f3a"
             ],
             [
              0.8888888888888888,
              "#fdca26"
             ],
             [
              1,
              "#f0f921"
             ]
            ],
            "type": "histogram2d"
           }
          ],
          "histogram2dcontour": [
           {
            "colorbar": {
             "outlinewidth": 0,
             "ticks": ""
            },
            "colorscale": [
             [
              0,
              "#0d0887"
             ],
             [
              0.1111111111111111,
              "#46039f"
             ],
             [
              0.2222222222222222,
              "#7201a8"
             ],
             [
              0.3333333333333333,
              "#9c179e"
             ],
             [
              0.4444444444444444,
              "#bd3786"
             ],
             [
              0.5555555555555556,
              "#d8576b"
             ],
             [
              0.6666666666666666,
              "#ed7953"
             ],
             [
              0.7777777777777778,
              "#fb9f3a"
             ],
             [
              0.8888888888888888,
              "#fdca26"
             ],
             [
              1,
              "#f0f921"
             ]
            ],
            "type": "histogram2dcontour"
           }
          ],
          "mesh3d": [
           {
            "colorbar": {
             "outlinewidth": 0,
             "ticks": ""
            },
            "type": "mesh3d"
           }
          ],
          "parcoords": [
           {
            "line": {
             "colorbar": {
              "outlinewidth": 0,
              "ticks": ""
             }
            },
            "type": "parcoords"
           }
          ],
          "pie": [
           {
            "automargin": true,
            "type": "pie"
           }
          ],
          "scatter": [
           {
            "fillpattern": {
             "fillmode": "overlay",
             "size": 10,
             "solidity": 0.2
            },
            "type": "scatter"
           }
          ],
          "scatter3d": [
           {
            "line": {
             "colorbar": {
              "outlinewidth": 0,
              "ticks": ""
             }
            },
            "marker": {
             "colorbar": {
              "outlinewidth": 0,
              "ticks": ""
             }
            },
            "type": "scatter3d"
           }
          ],
          "scattercarpet": [
           {
            "marker": {
             "colorbar": {
              "outlinewidth": 0,
              "ticks": ""
             }
            },
            "type": "scattercarpet"
           }
          ],
          "scattergeo": [
           {
            "marker": {
             "colorbar": {
              "outlinewidth": 0,
              "ticks": ""
             }
            },
            "type": "scattergeo"
           }
          ],
          "scattergl": [
           {
            "marker": {
             "colorbar": {
              "outlinewidth": 0,
              "ticks": ""
             }
            },
            "type": "scattergl"
           }
          ],
          "scattermapbox": [
           {
            "marker": {
             "colorbar": {
              "outlinewidth": 0,
              "ticks": ""
             }
            },
            "type": "scattermapbox"
           }
          ],
          "scatterpolar": [
           {
            "marker": {
             "colorbar": {
              "outlinewidth": 0,
              "ticks": ""
             }
            },
            "type": "scatterpolar"
           }
          ],
          "scatterpolargl": [
           {
            "marker": {
             "colorbar": {
              "outlinewidth": 0,
              "ticks": ""
             }
            },
            "type": "scatterpolargl"
           }
          ],
          "scatterternary": [
           {
            "marker": {
             "colorbar": {
              "outlinewidth": 0,
              "ticks": ""
             }
            },
            "type": "scatterternary"
           }
          ],
          "surface": [
           {
            "colorbar": {
             "outlinewidth": 0,
             "ticks": ""
            },
            "colorscale": [
             [
              0,
              "#0d0887"
             ],
             [
              0.1111111111111111,
              "#46039f"
             ],
             [
              0.2222222222222222,
              "#7201a8"
             ],
             [
              0.3333333333333333,
              "#9c179e"
             ],
             [
              0.4444444444444444,
              "#bd3786"
             ],
             [
              0.5555555555555556,
              "#d8576b"
             ],
             [
              0.6666666666666666,
              "#ed7953"
             ],
             [
              0.7777777777777778,
              "#fb9f3a"
             ],
             [
              0.8888888888888888,
              "#fdca26"
             ],
             [
              1,
              "#f0f921"
             ]
            ],
            "type": "surface"
           }
          ],
          "table": [
           {
            "cells": {
             "fill": {
              "color": "#EBF0F8"
             },
             "line": {
              "color": "white"
             }
            },
            "header": {
             "fill": {
              "color": "#C8D4E3"
             },
             "line": {
              "color": "white"
             }
            },
            "type": "table"
           }
          ]
         },
         "layout": {
          "annotationdefaults": {
           "arrowcolor": "#2a3f5f",
           "arrowhead": 0,
           "arrowwidth": 1
          },
          "autotypenumbers": "strict",
          "coloraxis": {
           "colorbar": {
            "outlinewidth": 0,
            "ticks": ""
           }
          },
          "colorscale": {
           "diverging": [
            [
             0,
             "#8e0152"
            ],
            [
             0.1,
             "#c51b7d"
            ],
            [
             0.2,
             "#de77ae"
            ],
            [
             0.3,
             "#f1b6da"
            ],
            [
             0.4,
             "#fde0ef"
            ],
            [
             0.5,
             "#f7f7f7"
            ],
            [
             0.6,
             "#e6f5d0"
            ],
            [
             0.7,
             "#b8e186"
            ],
            [
             0.8,
             "#7fbc41"
            ],
            [
             0.9,
             "#4d9221"
            ],
            [
             1,
             "#276419"
            ]
           ],
           "sequential": [
            [
             0,
             "#0d0887"
            ],
            [
             0.1111111111111111,
             "#46039f"
            ],
            [
             0.2222222222222222,
             "#7201a8"
            ],
            [
             0.3333333333333333,
             "#9c179e"
            ],
            [
             0.4444444444444444,
             "#bd3786"
            ],
            [
             0.5555555555555556,
             "#d8576b"
            ],
            [
             0.6666666666666666,
             "#ed7953"
            ],
            [
             0.7777777777777778,
             "#fb9f3a"
            ],
            [
             0.8888888888888888,
             "#fdca26"
            ],
            [
             1,
             "#f0f921"
            ]
           ],
           "sequentialminus": [
            [
             0,
             "#0d0887"
            ],
            [
             0.1111111111111111,
             "#46039f"
            ],
            [
             0.2222222222222222,
             "#7201a8"
            ],
            [
             0.3333333333333333,
             "#9c179e"
            ],
            [
             0.4444444444444444,
             "#bd3786"
            ],
            [
             0.5555555555555556,
             "#d8576b"
            ],
            [
             0.6666666666666666,
             "#ed7953"
            ],
            [
             0.7777777777777778,
             "#fb9f3a"
            ],
            [
             0.8888888888888888,
             "#fdca26"
            ],
            [
             1,
             "#f0f921"
            ]
           ]
          },
          "colorway": [
           "#636efa",
           "#EF553B",
           "#00cc96",
           "#ab63fa",
           "#FFA15A",
           "#19d3f3",
           "#FF6692",
           "#B6E880",
           "#FF97FF",
           "#FECB52"
          ],
          "font": {
           "color": "#2a3f5f"
          },
          "geo": {
           "bgcolor": "white",
           "lakecolor": "white",
           "landcolor": "#E5ECF6",
           "showlakes": true,
           "showland": true,
           "subunitcolor": "white"
          },
          "hoverlabel": {
           "align": "left"
          },
          "hovermode": "closest",
          "mapbox": {
           "style": "light"
          },
          "paper_bgcolor": "white",
          "plot_bgcolor": "#E5ECF6",
          "polar": {
           "angularaxis": {
            "gridcolor": "white",
            "linecolor": "white",
            "ticks": ""
           },
           "bgcolor": "#E5ECF6",
           "radialaxis": {
            "gridcolor": "white",
            "linecolor": "white",
            "ticks": ""
           }
          },
          "scene": {
           "xaxis": {
            "backgroundcolor": "#E5ECF6",
            "gridcolor": "white",
            "gridwidth": 2,
            "linecolor": "white",
            "showbackground": true,
            "ticks": "",
            "zerolinecolor": "white"
           },
           "yaxis": {
            "backgroundcolor": "#E5ECF6",
            "gridcolor": "white",
            "gridwidth": 2,
            "linecolor": "white",
            "showbackground": true,
            "ticks": "",
            "zerolinecolor": "white"
           },
           "zaxis": {
            "backgroundcolor": "#E5ECF6",
            "gridcolor": "white",
            "gridwidth": 2,
            "linecolor": "white",
            "showbackground": true,
            "ticks": "",
            "zerolinecolor": "white"
           }
          },
          "shapedefaults": {
           "line": {
            "color": "#2a3f5f"
           }
          },
          "ternary": {
           "aaxis": {
            "gridcolor": "white",
            "linecolor": "white",
            "ticks": ""
           },
           "baxis": {
            "gridcolor": "white",
            "linecolor": "white",
            "ticks": ""
           },
           "bgcolor": "#E5ECF6",
           "caxis": {
            "gridcolor": "white",
            "linecolor": "white",
            "ticks": ""
           }
          },
          "title": {
           "x": 0.05
          },
          "xaxis": {
           "automargin": true,
           "gridcolor": "white",
           "linecolor": "white",
           "ticks": "",
           "title": {
            "standoff": 15
           },
           "zerolinecolor": "white",
           "zerolinewidth": 2
          },
          "yaxis": {
           "automargin": true,
           "gridcolor": "white",
           "linecolor": "white",
           "ticks": "",
           "title": {
            "standoff": 15
           },
           "zerolinecolor": "white",
           "zerolinewidth": 2
          }
         }
        }
       }
      }
     },
     "metadata": {},
     "output_type": "display_data"
    }
   ],
   "source": [
    "classix_distance=Extractor.classix(group_merging_mode='distance',minPts=minPts_best_distance,radius=radius_best_distance,scale=scale_best_distance)\n",
    "classix_distance.fit(X_train)\n",
    "Y_pred_distance=classix_distance.predict(X_test)\n",
    "df_pred_distance=pd.DataFrame(pd.concat([pd.DataFrame(X_test,columns=[0,1,2,3,4,5,6,7,8,9,10,11,12]),pd.DataFrame(Y_pred_distance,columns=[13])],axis=1))\n",
    "fig = px.scatter_matrix(df_pred_distance,\n",
    "    dimensions=[0,1,2,3,4,5,6,7,8,9,10,11,12],\n",
    "    color=13)\n",
    "fig.show()"
   ]
  },
  {
   "attachments": {},
   "cell_type": "markdown",
   "metadata": {},
   "source": [
    "Rand score on best configuration with merging based on distance"
   ]
  },
  {
   "cell_type": "code",
   "execution_count": 14,
   "metadata": {},
   "outputs": [
    {
     "name": "stdout",
     "output_type": "stream",
     "text": [
      "0.8222222222222222\n"
     ]
    }
   ],
   "source": [
    "print(metrics.rand_score(Y_test,Y_pred_distance))"
   ]
  },
  {
   "cell_type": "code",
   "execution_count": 18,
   "metadata": {},
   "outputs": [
    {
     "name": "stdout",
     "output_type": "stream",
     "text": [
      "\tGeneralExplanation\n",
      "A clustering of 142 data points with 13 features has been performed. \n",
      "The radius parameter was set to 0.20 and MinPts was set to 5. \n",
      "As the provided data has been scaled by a factor of 1/230.52, data points within a radius of R=0.20*230.52=46.10 were aggregated into groups. \n",
      "This resulted in 26 groups, each uniquely associated with a starting point. \n",
      "These 26 groups were subsequently merged into 2 clusters resulting in the following mapping groups --> cluster:\n",
      "Groups [13, 14, 15, 16, 17, 18, 19, 20, 21, 22, 23, 24, 25] --> Cluster 0\n",
      "Groups [0, 1, 2, 3, 4, 5, 6, 7, 8, 9, 10, 11, 12] --> Cluster 1\n",
      "\n",
      "Below the list of all the groups starting points (unscaled):\n",
      "\n",
      "Starting point 0 has alpha score = -3.523 and coordinates [1.438e+01 1.870e+00 2.380e+00 1.200e+01 1.020e+02 3.300e+00 3.640e+00\n",
      " 2.900e-01 2.960e+00 7.500e+00 1.200e+00 3.000e+00 1.547e+03]\n",
      "Starting point 1 has alpha score = -3.233 and coordinates [1.437e+01 1.950e+00 2.500e+00 1.680e+01 1.130e+02 3.850e+00 3.490e+00\n",
      " 2.400e-01 2.180e+00 7.800e+00 8.600e-01 3.450e+00 1.480e+03]\n",
      "Starting point 2 has alpha score = -2.778 and coordinates [1.377e+01 1.900e+00 2.680e+00 1.710e+01 1.150e+02 3.000e+00 2.790e+00\n",
      " 3.900e-01 1.680e+00 6.300e+00 1.130e+00 2.930e+00 1.375e+03]\n",
      "Starting point 3 has alpha score = -2.431 and coordinates [1.406e+01 2.150e+00 2.610e+00 1.760e+01 1.210e+02 2.600e+00 2.510e+00\n",
      " 3.100e-01 1.250e+00 5.050e+00 1.060e+00 3.580e+00 1.295e+03]\n",
      "Starting point 4 has alpha score = -2.172 and coordinates [1.376e+01 1.530e+00 2.700e+00 1.950e+01 1.320e+02 2.950e+00 2.740e+00\n",
      " 5.000e-01 1.350e+00 5.400e+00 1.250e+00 3.000e+00 1.235e+03]\n",
      "Starting point 5 has alpha score = -1.995 and coordinates [1.339e+01 1.770e+00 2.620e+00 1.610e+01 9.300e+01 2.850e+00 2.940e+00\n",
      " 3.400e-01 1.450e+00 4.800e+00 9.200e-01 3.220e+00 1.195e+03]\n",
      "Starting point 6 has alpha score = -1.715 and coordinates [1.383e+01 1.570e+00 2.620e+00 2.000e+01 1.150e+02 2.950e+00 3.400e+00\n",
      " 4.000e-01 1.720e+00 6.600e+00 1.130e+00 2.570e+00 1.130e+03]\n",
      "Starting point 7 has alpha score = -1.434 and coordinates [1.423e+01 1.710e+00 2.430e+00 1.560e+01 1.270e+02 2.800e+00 3.060e+00\n",
      " 2.800e-01 2.290e+00 5.640e+00 1.040e+00 3.920e+00 1.065e+03]\n",
      "Starting point 8 has alpha score = -1.236 and coordinates [1.307e+01 1.500e+00 2.100e+00 1.550e+01 9.800e+01 2.400e+00 2.640e+00\n",
      " 2.800e-01 1.370e+00 3.700e+00 1.180e+00 2.690e+00 1.020e+03]\n",
      "Starting point 9 has alpha score = -1.088 and coordinates [1.299e+01 1.670e+00 2.600e+00 3.000e+01 1.390e+02 3.300e+00 2.890e+00\n",
      " 2.100e-01 1.960e+00 3.350e+00 1.310e+00 3.500e+00 9.850e+02]\n",
      "Starting point 10 has alpha score = -0.882 and coordinates [1.247e+01 1.520e+00 2.200e+00 1.900e+01 1.620e+02 2.500e+00 2.270e+00\n",
      " 3.200e-01 3.280e+00 2.600e+00 1.160e+00 2.630e+00 9.370e+02]\n",
      "Starting point 11 has alpha score = -0.803 and coordinates [1.348e+01 1.810e+00 2.410e+00 2.050e+01 1.000e+02 2.700e+00 2.980e+00\n",
      " 2.600e-01 1.860e+00 5.100e+00 1.040e+00 3.470e+00 9.200e+02]\n",
      "Starting point 12 has alpha score = -0.586 and coordinates [1.229e+01 1.610e+00 2.210e+00 2.040e+01 1.030e+02 1.100e+00 1.020e+00\n",
      " 3.700e-01 1.460e+00 3.050e+00 9.060e-01 1.820e+00 8.700e+02]\n",
      "Starting point 13 has alpha score = -0.262 and coordinates [1.356e+01 1.710e+00 2.310e+00 1.620e+01 1.170e+02 3.150e+00 3.290e+00\n",
      " 3.400e-01 2.340e+00 6.130e+00 9.500e-01 3.380e+00 7.950e+02]\n",
      "Starting point 14 has alpha score = -0.068 and coordinates [1.233e+01 9.900e-01 1.950e+00 1.480e+01 1.360e+02 1.900e+00 1.850e+00\n",
      " 3.500e-01 2.760e+00 3.400e+00 1.060e+00 2.310e+00 7.500e+02]\n",
      "Starting point 15 has alpha score = 0.044 and coordinates [1.317e+01 5.190e+00 2.320e+00 2.200e+01 9.300e+01 1.740e+00 6.300e-01\n",
      " 6.100e-01 1.550e+00 7.900e+00 6.000e-01 1.480e+00 7.250e+02]\n",
      "Starting point 16 has alpha score = 0.238 and coordinates [1.369e+01 3.260e+00 2.540e+00 2.000e+01 1.070e+02 1.830e+00 5.600e-01\n",
      " 5.000e-01 8.000e-01 5.880e+00 9.600e-01 1.820e+00 6.800e+02]\n",
      "Starting point 17 has alpha score = 0.453 and coordinates [1.286e+01 1.350e+00 2.320e+00 1.800e+01 1.220e+02 1.510e+00 1.250e+00\n",
      " 2.100e-01 9.400e-01 4.100e+00 7.600e-01 1.290e+00 6.300e+02]\n",
      "Starting point 18 has alpha score = 0.479 and coordinates [1.208e+01 1.330e+00 2.300e+00 2.360e+01 7.000e+01 2.200e+00 1.590e+00\n",
      " 4.200e-01 1.380e+00 1.740e+00 1.070e+00 3.210e+00 6.250e+02]\n",
      "Starting point 19 has alpha score = 0.673 and coordinates [1.349e+01 3.590e+00 2.190e+00 1.950e+01 8.800e+01 1.620e+00 4.800e-01\n",
      " 5.800e-01 8.800e-01 5.700e+00 8.100e-01 1.820e+00 5.800e+02]\n",
      "Starting point 20 has alpha score = 0.888 and coordinates [1.288e+01 2.990e+00 2.400e+00 2.000e+01 1.040e+02 1.300e+00 1.220e+00\n",
      " 2.400e-01 8.300e-01 5.400e+00 7.400e-01 1.420e+00 5.300e+02]\n",
      "Starting point 21 has alpha score = 1.072 and coordinates [1.272e+01 1.750e+00 2.280e+00 2.250e+01 8.400e+01 1.380e+00 1.760e+00\n",
      " 4.800e-01 1.630e+00 3.300e+00 8.800e-01 2.420e+00 4.880e+02]\n",
      "Starting point 22 has alpha score = 1.288 and coordinates [1.234e+01 2.450e+00 2.460e+00 2.100e+01 9.800e+01 2.560e+00 2.110e+00\n",
      " 3.400e-01 1.310e+00 2.800e+00 8.000e-01 3.380e+00 4.380e+02]\n",
      "Starting point 23 has alpha score = 1.488 and coordinates [1.303e+01 9.000e-01 1.710e+00 1.600e+01 8.600e+01 1.950e+00 2.030e+00\n",
      " 2.400e-01 1.460e+00 4.600e+00 1.190e+00 2.480e+00 3.920e+02]\n",
      "Starting point 24 has alpha score = 1.691 and coordinates [1.162e+01 1.990e+00 2.280e+00 1.800e+01 9.800e+01 3.020e+00 2.260e+00\n",
      " 1.700e-01 1.350e+00 3.250e+00 1.160e+00 2.960e+00 3.450e+02]\n",
      "Starting point 25 has alpha score = 1.931 and coordinates [1.229e+01 2.830e+00 2.220e+00 1.800e+01 8.800e+01 2.450e+00 2.250e+00\n",
      " 2.500e-01 1.990e+00 2.150e+00 1.150e+00 3.300e+00 2.900e+02]\n"
     ]
    }
   ],
   "source": [
    "classix_distance.explain()"
   ]
  },
  {
   "cell_type": "code",
   "execution_count": 15,
   "metadata": {},
   "outputs": [
    {
     "data": {
      "application/vnd.plotly.v1+json": {
       "config": {
        "plotlyServerURL": "https://plot.ly"
       },
       "data": [
        {
         "dimensions": [
          {
           "axis": {
            "matches": true
           },
           "label": "0",
           "values": [
            13.64,
            14.21,
            12.93,
            13.73,
            12.37,
            14.3,
            12,
            13.4,
            11.61,
            13.36,
            13.5,
            13.5,
            13.41,
            12.77,
            13.63,
            12.52,
            11.41,
            12.08,
            13.86,
            12.08,
            14.19,
            13.11,
            12.33,
            13.4,
            12.77,
            13.78,
            12.42,
            12.37,
            12.08,
            13.56,
            14.02,
            12.37,
            13.16,
            13.58,
            13.75,
            13.88
           ]
          },
          {
           "axis": {
            "matches": true
           },
           "label": "1",
           "values": [
            3.1,
            4.04,
            2.81,
            1.5,
            1.17,
            1.92,
            3.43,
            3.91,
            1.35,
            2.56,
            1.81,
            3.12,
            3.84,
            3.43,
            1.81,
            2.43,
            0.74,
            1.13,
            1.35,
            1.39,
            1.59,
            1.01,
            1.1,
            4.6,
            2.39,
            2.76,
            1.61,
            1.21,
            1.83,
            1.73,
            1.68,
            1.63,
            3.57,
            1.66,
            1.73,
            1.89
           ]
          },
          {
           "axis": {
            "matches": true
           },
           "label": "2",
           "values": [
            2.56,
            2.44,
            2.7,
            2.7,
            1.92,
            2.72,
            2,
            2.48,
            2.7,
            2.35,
            2.61,
            2.62,
            2.12,
            1.98,
            2.7,
            2.17,
            2.5,
            2.51,
            2.27,
            2.5,
            2.48,
            1.7,
            2.28,
            2.86,
            2.28,
            2.3,
            2.19,
            2.56,
            2.32,
            2.46,
            2.21,
            2.3,
            2.15,
            2.36,
            2.41,
            2.59
           ]
          },
          {
           "axis": {
            "matches": true
           },
           "label": "3",
           "values": [
            15.2,
            18.9,
            21,
            22.5,
            19.6,
            20,
            19,
            23,
            20,
            20,
            20,
            24,
            18.8,
            16,
            17.2,
            21,
            21,
            24,
            16,
            22.5,
            16.5,
            15,
            16,
            25,
            19.5,
            22,
            22.5,
            18.1,
            18.5,
            20.5,
            16,
            24.5,
            21,
            19.1,
            16,
            15
           ]
          },
          {
           "axis": {
            "matches": true
           },
           "label": "4",
           "values": [
            116,
            111,
            96,
            101,
            78,
            120,
            87,
            102,
            94,
            89,
            96,
            123,
            90,
            80,
            112,
            88,
            88,
            78,
            98,
            84,
            108,
            78,
            101,
            112,
            86,
            90,
            108,
            98,
            81,
            116,
            96,
            88,
            102,
            106,
            89,
            101
           ]
          },
          {
           "axis": {
            "matches": true
           },
           "label": "5",
           "values": [
            2.7,
            2.85,
            1.54,
            3,
            2.11,
            2.8,
            2,
            1.8,
            2.74,
            1.4,
            2.53,
            1.4,
            2.45,
            1.63,
            2.85,
            2.55,
            2.48,
            2,
            2.98,
            2.56,
            3.3,
            2.98,
            2.05,
            1.98,
            1.39,
            1.35,
            2,
            2.42,
            1.6,
            2.96,
            2.65,
            2.22,
            1.5,
            2.86,
            2.6,
            3.25
           ]
          },
          {
           "axis": {
            "matches": true
           },
           "label": "6",
           "values": [
            3.03,
            2.65,
            0.5,
            3.25,
            2,
            3.14,
            1.64,
            0.75,
            2.92,
            0.5,
            2.61,
            1.57,
            2.68,
            1.25,
            2.91,
            2.27,
            2.01,
            1.58,
            3.15,
            2.29,
            3.93,
            3.18,
            1.09,
            0.96,
            0.51,
            0.68,
            2.09,
            2.65,
            1.5,
            2.78,
            2.33,
            2.45,
            0.55,
            3.19,
            2.76,
            3.56
           ]
          },
          {
           "axis": {
            "matches": true
           },
           "label": "7",
           "values": [
            0.17,
            0.3,
            0.53,
            0.29,
            0.27,
            0.33,
            0.37,
            0.43,
            0.29,
            0.37,
            0.28,
            0.22,
            0.27,
            0.43,
            0.3,
            0.26,
            0.42,
            0.4,
            0.22,
            0.43,
            0.32,
            0.26,
            0.63,
            0.27,
            0.48,
            0.41,
            0.34,
            0.37,
            0.52,
            0.2,
            0.26,
            0.4,
            0.43,
            0.22,
            0.29,
            0.17
           ]
          },
          {
           "axis": {
            "matches": true
           },
           "label": "8",
           "values": [
            1.66,
            1.25,
            0.75,
            2.38,
            1.04,
            1.97,
            1.87,
            1.41,
            2.49,
            0.64,
            1.66,
            1.25,
            1.48,
            0.83,
            1.46,
            1.22,
            1.44,
            1.4,
            1.85,
            1.04,
            1.86,
            2.28,
            0.41,
            1.11,
            0.64,
            1.03,
            1.61,
            2.08,
            1.64,
            2.45,
            1.98,
            1.9,
            1.3,
            1.95,
            1.81,
            1.7
           ]
          },
          {
           "axis": {
            "matches": true
           },
           "label": "9",
           "values": [
            5.1,
            5.24,
            4.6,
            5.7,
            4.68,
            6.2,
            1.28,
            7.3,
            2.65,
            5.6,
            3.52,
            8.6,
            4.28,
            3.4,
            7.3,
            2,
            3.08,
            2.2,
            7.22,
            2.9,
            8.7,
            5.3,
            3.27,
            8.5,
            9.899999,
            9.58,
            2.06,
            4.6,
            2.4,
            6.25,
            4.7,
            2.12,
            4,
            6.9,
            5.6,
            5.43
           ]
          },
          {
           "axis": {
            "matches": true
           },
           "label": "10",
           "values": [
            0.96,
            0.87,
            0.77,
            1.19,
            1.12,
            1.07,
            0.93,
            0.7,
            0.96,
            0.7,
            1.12,
            0.59,
            0.91,
            0.7,
            1.28,
            0.9,
            1.1,
            1.31,
            1.01,
            0.93,
            1.23,
            1.12,
            1.25,
            0.67,
            0.57,
            0.7,
            1.06,
            1.19,
            1.08,
            0.98,
            1.04,
            0.89,
            0.6,
            1.09,
            1.15,
            0.88
           ]
          },
          {
           "axis": {
            "matches": true
           },
           "label": "11",
           "values": [
            3.36,
            3.33,
            2.31,
            2.71,
            3.48,
            2.65,
            3.05,
            1.56,
            3.26,
            2.47,
            3.82,
            1.3,
            3,
            2.12,
            2.88,
            2.78,
            2.31,
            2.72,
            3.55,
            3.19,
            2.82,
            3.18,
            1.67,
            1.92,
            1.63,
            1.68,
            2.96,
            2.3,
            2.27,
            3.03,
            3.59,
            2.78,
            1.68,
            2.88,
            2.9,
            3.56
           ]
          },
          {
           "axis": {
            "matches": true
           },
           "label": "12",
           "values": [
            845,
            1080,
            600,
            1285,
            510,
            1280,
            564,
            750,
            680,
            780,
            845,
            500,
            1035,
            372,
            1310,
            325,
            434,
            630,
            1045,
            385,
            1680,
            502,
            680,
            630,
            470,
            615,
            345,
            678,
            480,
            1120,
            1035,
            342,
            830,
            1515,
            1320,
            1095
           ]
          }
         ],
         "hovertemplate": "%{xaxis.title.text}=%{x}<br>%{yaxis.title.text}=%{y}<br>13=%{marker.color}<extra></extra>",
         "legendgroup": "",
         "marker": {
          "color": [
           0,
           1,
           0,
           1,
           0,
           1,
           0,
           0,
           0,
           0,
           0,
           0,
           1,
           0,
           1,
           0,
           0,
           0,
           1,
           0,
           1,
           0,
           0,
           0,
           0,
           0,
           0,
           0,
           0,
           1,
           1,
           0,
           0,
           1,
           1,
           1
          ],
          "coloraxis": "coloraxis",
          "symbol": "circle"
         },
         "name": "",
         "showlegend": false,
         "type": "splom"
        }
       ],
       "layout": {
        "coloraxis": {
         "colorbar": {
          "title": {
           "text": "13"
          }
         },
         "colorscale": [
          [
           0,
           "#0d0887"
          ],
          [
           0.1111111111111111,
           "#46039f"
          ],
          [
           0.2222222222222222,
           "#7201a8"
          ],
          [
           0.3333333333333333,
           "#9c179e"
          ],
          [
           0.4444444444444444,
           "#bd3786"
          ],
          [
           0.5555555555555556,
           "#d8576b"
          ],
          [
           0.6666666666666666,
           "#ed7953"
          ],
          [
           0.7777777777777778,
           "#fb9f3a"
          ],
          [
           0.8888888888888888,
           "#fdca26"
          ],
          [
           1,
           "#f0f921"
          ]
         ]
        },
        "dragmode": "select",
        "legend": {
         "tracegroupgap": 0
        },
        "margin": {
         "t": 60
        },
        "template": {
         "data": {
          "bar": [
           {
            "error_x": {
             "color": "#2a3f5f"
            },
            "error_y": {
             "color": "#2a3f5f"
            },
            "marker": {
             "line": {
              "color": "#E5ECF6",
              "width": 0.5
             },
             "pattern": {
              "fillmode": "overlay",
              "size": 10,
              "solidity": 0.2
             }
            },
            "type": "bar"
           }
          ],
          "barpolar": [
           {
            "marker": {
             "line": {
              "color": "#E5ECF6",
              "width": 0.5
             },
             "pattern": {
              "fillmode": "overlay",
              "size": 10,
              "solidity": 0.2
             }
            },
            "type": "barpolar"
           }
          ],
          "carpet": [
           {
            "aaxis": {
             "endlinecolor": "#2a3f5f",
             "gridcolor": "white",
             "linecolor": "white",
             "minorgridcolor": "white",
             "startlinecolor": "#2a3f5f"
            },
            "baxis": {
             "endlinecolor": "#2a3f5f",
             "gridcolor": "white",
             "linecolor": "white",
             "minorgridcolor": "white",
             "startlinecolor": "#2a3f5f"
            },
            "type": "carpet"
           }
          ],
          "choropleth": [
           {
            "colorbar": {
             "outlinewidth": 0,
             "ticks": ""
            },
            "type": "choropleth"
           }
          ],
          "contour": [
           {
            "colorbar": {
             "outlinewidth": 0,
             "ticks": ""
            },
            "colorscale": [
             [
              0,
              "#0d0887"
             ],
             [
              0.1111111111111111,
              "#46039f"
             ],
             [
              0.2222222222222222,
              "#7201a8"
             ],
             [
              0.3333333333333333,
              "#9c179e"
             ],
             [
              0.4444444444444444,
              "#bd3786"
             ],
             [
              0.5555555555555556,
              "#d8576b"
             ],
             [
              0.6666666666666666,
              "#ed7953"
             ],
             [
              0.7777777777777778,
              "#fb9f3a"
             ],
             [
              0.8888888888888888,
              "#fdca26"
             ],
             [
              1,
              "#f0f921"
             ]
            ],
            "type": "contour"
           }
          ],
          "contourcarpet": [
           {
            "colorbar": {
             "outlinewidth": 0,
             "ticks": ""
            },
            "type": "contourcarpet"
           }
          ],
          "heatmap": [
           {
            "colorbar": {
             "outlinewidth": 0,
             "ticks": ""
            },
            "colorscale": [
             [
              0,
              "#0d0887"
             ],
             [
              0.1111111111111111,
              "#46039f"
             ],
             [
              0.2222222222222222,
              "#7201a8"
             ],
             [
              0.3333333333333333,
              "#9c179e"
             ],
             [
              0.4444444444444444,
              "#bd3786"
             ],
             [
              0.5555555555555556,
              "#d8576b"
             ],
             [
              0.6666666666666666,
              "#ed7953"
             ],
             [
              0.7777777777777778,
              "#fb9f3a"
             ],
             [
              0.8888888888888888,
              "#fdca26"
             ],
             [
              1,
              "#f0f921"
             ]
            ],
            "type": "heatmap"
           }
          ],
          "heatmapgl": [
           {
            "colorbar": {
             "outlinewidth": 0,
             "ticks": ""
            },
            "colorscale": [
             [
              0,
              "#0d0887"
             ],
             [
              0.1111111111111111,
              "#46039f"
             ],
             [
              0.2222222222222222,
              "#7201a8"
             ],
             [
              0.3333333333333333,
              "#9c179e"
             ],
             [
              0.4444444444444444,
              "#bd3786"
             ],
             [
              0.5555555555555556,
              "#d8576b"
             ],
             [
              0.6666666666666666,
              "#ed7953"
             ],
             [
              0.7777777777777778,
              "#fb9f3a"
             ],
             [
              0.8888888888888888,
              "#fdca26"
             ],
             [
              1,
              "#f0f921"
             ]
            ],
            "type": "heatmapgl"
           }
          ],
          "histogram": [
           {
            "marker": {
             "pattern": {
              "fillmode": "overlay",
              "size": 10,
              "solidity": 0.2
             }
            },
            "type": "histogram"
           }
          ],
          "histogram2d": [
           {
            "colorbar": {
             "outlinewidth": 0,
             "ticks": ""
            },
            "colorscale": [
             [
              0,
              "#0d0887"
             ],
             [
              0.1111111111111111,
              "#46039f"
             ],
             [
              0.2222222222222222,
              "#7201a8"
             ],
             [
              0.3333333333333333,
              "#9c179e"
             ],
             [
              0.4444444444444444,
              "#bd3786"
             ],
             [
              0.5555555555555556,
              "#d8576b"
             ],
             [
              0.6666666666666666,
              "#ed7953"
             ],
             [
              0.7777777777777778,
              "#fb9f3a"
             ],
             [
              0.8888888888888888,
              "#fdca26"
             ],
             [
              1,
              "#f0f921"
             ]
            ],
            "type": "histogram2d"
           }
          ],
          "histogram2dcontour": [
           {
            "colorbar": {
             "outlinewidth": 0,
             "ticks": ""
            },
            "colorscale": [
             [
              0,
              "#0d0887"
             ],
             [
              0.1111111111111111,
              "#46039f"
             ],
             [
              0.2222222222222222,
              "#7201a8"
             ],
             [
              0.3333333333333333,
              "#9c179e"
             ],
             [
              0.4444444444444444,
              "#bd3786"
             ],
             [
              0.5555555555555556,
              "#d8576b"
             ],
             [
              0.6666666666666666,
              "#ed7953"
             ],
             [
              0.7777777777777778,
              "#fb9f3a"
             ],
             [
              0.8888888888888888,
              "#fdca26"
             ],
             [
              1,
              "#f0f921"
             ]
            ],
            "type": "histogram2dcontour"
           }
          ],
          "mesh3d": [
           {
            "colorbar": {
             "outlinewidth": 0,
             "ticks": ""
            },
            "type": "mesh3d"
           }
          ],
          "parcoords": [
           {
            "line": {
             "colorbar": {
              "outlinewidth": 0,
              "ticks": ""
             }
            },
            "type": "parcoords"
           }
          ],
          "pie": [
           {
            "automargin": true,
            "type": "pie"
           }
          ],
          "scatter": [
           {
            "fillpattern": {
             "fillmode": "overlay",
             "size": 10,
             "solidity": 0.2
            },
            "type": "scatter"
           }
          ],
          "scatter3d": [
           {
            "line": {
             "colorbar": {
              "outlinewidth": 0,
              "ticks": ""
             }
            },
            "marker": {
             "colorbar": {
              "outlinewidth": 0,
              "ticks": ""
             }
            },
            "type": "scatter3d"
           }
          ],
          "scattercarpet": [
           {
            "marker": {
             "colorbar": {
              "outlinewidth": 0,
              "ticks": ""
             }
            },
            "type": "scattercarpet"
           }
          ],
          "scattergeo": [
           {
            "marker": {
             "colorbar": {
              "outlinewidth": 0,
              "ticks": ""
             }
            },
            "type": "scattergeo"
           }
          ],
          "scattergl": [
           {
            "marker": {
             "colorbar": {
              "outlinewidth": 0,
              "ticks": ""
             }
            },
            "type": "scattergl"
           }
          ],
          "scattermapbox": [
           {
            "marker": {
             "colorbar": {
              "outlinewidth": 0,
              "ticks": ""
             }
            },
            "type": "scattermapbox"
           }
          ],
          "scatterpolar": [
           {
            "marker": {
             "colorbar": {
              "outlinewidth": 0,
              "ticks": ""
             }
            },
            "type": "scatterpolar"
           }
          ],
          "scatterpolargl": [
           {
            "marker": {
             "colorbar": {
              "outlinewidth": 0,
              "ticks": ""
             }
            },
            "type": "scatterpolargl"
           }
          ],
          "scatterternary": [
           {
            "marker": {
             "colorbar": {
              "outlinewidth": 0,
              "ticks": ""
             }
            },
            "type": "scatterternary"
           }
          ],
          "surface": [
           {
            "colorbar": {
             "outlinewidth": 0,
             "ticks": ""
            },
            "colorscale": [
             [
              0,
              "#0d0887"
             ],
             [
              0.1111111111111111,
              "#46039f"
             ],
             [
              0.2222222222222222,
              "#7201a8"
             ],
             [
              0.3333333333333333,
              "#9c179e"
             ],
             [
              0.4444444444444444,
              "#bd3786"
             ],
             [
              0.5555555555555556,
              "#d8576b"
             ],
             [
              0.6666666666666666,
              "#ed7953"
             ],
             [
              0.7777777777777778,
              "#fb9f3a"
             ],
             [
              0.8888888888888888,
              "#fdca26"
             ],
             [
              1,
              "#f0f921"
             ]
            ],
            "type": "surface"
           }
          ],
          "table": [
           {
            "cells": {
             "fill": {
              "color": "#EBF0F8"
             },
             "line": {
              "color": "white"
             }
            },
            "header": {
             "fill": {
              "color": "#C8D4E3"
             },
             "line": {
              "color": "white"
             }
            },
            "type": "table"
           }
          ]
         },
         "layout": {
          "annotationdefaults": {
           "arrowcolor": "#2a3f5f",
           "arrowhead": 0,
           "arrowwidth": 1
          },
          "autotypenumbers": "strict",
          "coloraxis": {
           "colorbar": {
            "outlinewidth": 0,
            "ticks": ""
           }
          },
          "colorscale": {
           "diverging": [
            [
             0,
             "#8e0152"
            ],
            [
             0.1,
             "#c51b7d"
            ],
            [
             0.2,
             "#de77ae"
            ],
            [
             0.3,
             "#f1b6da"
            ],
            [
             0.4,
             "#fde0ef"
            ],
            [
             0.5,
             "#f7f7f7"
            ],
            [
             0.6,
             "#e6f5d0"
            ],
            [
             0.7,
             "#b8e186"
            ],
            [
             0.8,
             "#7fbc41"
            ],
            [
             0.9,
             "#4d9221"
            ],
            [
             1,
             "#276419"
            ]
           ],
           "sequential": [
            [
             0,
             "#0d0887"
            ],
            [
             0.1111111111111111,
             "#46039f"
            ],
            [
             0.2222222222222222,
             "#7201a8"
            ],
            [
             0.3333333333333333,
             "#9c179e"
            ],
            [
             0.4444444444444444,
             "#bd3786"
            ],
            [
             0.5555555555555556,
             "#d8576b"
            ],
            [
             0.6666666666666666,
             "#ed7953"
            ],
            [
             0.7777777777777778,
             "#fb9f3a"
            ],
            [
             0.8888888888888888,
             "#fdca26"
            ],
            [
             1,
             "#f0f921"
            ]
           ],
           "sequentialminus": [
            [
             0,
             "#0d0887"
            ],
            [
             0.1111111111111111,
             "#46039f"
            ],
            [
             0.2222222222222222,
             "#7201a8"
            ],
            [
             0.3333333333333333,
             "#9c179e"
            ],
            [
             0.4444444444444444,
             "#bd3786"
            ],
            [
             0.5555555555555556,
             "#d8576b"
            ],
            [
             0.6666666666666666,
             "#ed7953"
            ],
            [
             0.7777777777777778,
             "#fb9f3a"
            ],
            [
             0.8888888888888888,
             "#fdca26"
            ],
            [
             1,
             "#f0f921"
            ]
           ]
          },
          "colorway": [
           "#636efa",
           "#EF553B",
           "#00cc96",
           "#ab63fa",
           "#FFA15A",
           "#19d3f3",
           "#FF6692",
           "#B6E880",
           "#FF97FF",
           "#FECB52"
          ],
          "font": {
           "color": "#2a3f5f"
          },
          "geo": {
           "bgcolor": "white",
           "lakecolor": "white",
           "landcolor": "#E5ECF6",
           "showlakes": true,
           "showland": true,
           "subunitcolor": "white"
          },
          "hoverlabel": {
           "align": "left"
          },
          "hovermode": "closest",
          "mapbox": {
           "style": "light"
          },
          "paper_bgcolor": "white",
          "plot_bgcolor": "#E5ECF6",
          "polar": {
           "angularaxis": {
            "gridcolor": "white",
            "linecolor": "white",
            "ticks": ""
           },
           "bgcolor": "#E5ECF6",
           "radialaxis": {
            "gridcolor": "white",
            "linecolor": "white",
            "ticks": ""
           }
          },
          "scene": {
           "xaxis": {
            "backgroundcolor": "#E5ECF6",
            "gridcolor": "white",
            "gridwidth": 2,
            "linecolor": "white",
            "showbackground": true,
            "ticks": "",
            "zerolinecolor": "white"
           },
           "yaxis": {
            "backgroundcolor": "#E5ECF6",
            "gridcolor": "white",
            "gridwidth": 2,
            "linecolor": "white",
            "showbackground": true,
            "ticks": "",
            "zerolinecolor": "white"
           },
           "zaxis": {
            "backgroundcolor": "#E5ECF6",
            "gridcolor": "white",
            "gridwidth": 2,
            "linecolor": "white",
            "showbackground": true,
            "ticks": "",
            "zerolinecolor": "white"
           }
          },
          "shapedefaults": {
           "line": {
            "color": "#2a3f5f"
           }
          },
          "ternary": {
           "aaxis": {
            "gridcolor": "white",
            "linecolor": "white",
            "ticks": ""
           },
           "baxis": {
            "gridcolor": "white",
            "linecolor": "white",
            "ticks": ""
           },
           "bgcolor": "#E5ECF6",
           "caxis": {
            "gridcolor": "white",
            "linecolor": "white",
            "ticks": ""
           }
          },
          "title": {
           "x": 0.05
          },
          "xaxis": {
           "automargin": true,
           "gridcolor": "white",
           "linecolor": "white",
           "ticks": "",
           "title": {
            "standoff": 15
           },
           "zerolinecolor": "white",
           "zerolinewidth": 2
          },
          "yaxis": {
           "automargin": true,
           "gridcolor": "white",
           "linecolor": "white",
           "ticks": "",
           "title": {
            "standoff": 15
           },
           "zerolinecolor": "white",
           "zerolinewidth": 2
          }
         }
        }
       }
      }
     },
     "metadata": {},
     "output_type": "display_data"
    }
   ],
   "source": [
    "classix_density=Extractor.classix(group_merging_mode='density',minPts=minPts_best_density,radius=radius_best_density,scale=scale_best_density)\n",
    "classix_density.fit(X_train)\n",
    "Y_pred_density=classix_density.predict(X_test)\n",
    "\n",
    "df_pred_density=pd.DataFrame(pd.concat([pd.DataFrame(X_test,columns=[0,1,2,3,4,5,6,7,8,9,10,11,12]),pd.DataFrame(Y_pred_density,columns=[13])],axis=1))\n",
    "fig = px.scatter_matrix(df_pred_density,\n",
    "    dimensions=[0,1,2,3,4,5,6,7,8,9,10,11,12],\n",
    "    color=13)\n",
    "fig.show()"
   ]
  },
  {
   "attachments": {},
   "cell_type": "markdown",
   "metadata": {},
   "source": [
    "Rand score on best configuration with merging based on density"
   ]
  },
  {
   "cell_type": "code",
   "execution_count": 16,
   "metadata": {},
   "outputs": [
    {
     "name": "stdout",
     "output_type": "stream",
     "text": [
      "0.7142857142857143\n"
     ]
    }
   ],
   "source": [
    "print(metrics.rand_score(Y_test,Y_pred_density))"
   ]
  },
  {
   "cell_type": "code",
   "execution_count": 17,
   "metadata": {},
   "outputs": [
    {
     "name": "stdout",
     "output_type": "stream",
     "text": [
      "The configuration with aggregation on density has AMI score is:  0.543235279953808  , silhoutte score is:  0.6633553831614185\n",
      "The configuration with aggregation on distance has AMI score is:  0.7611683049109831  , silhoutte score is:  0.622533325445458\n"
     ]
    }
   ],
   "source": [
    "print('The configuration with aggregation on density has AMI score is: ',metrics.adjusted_mutual_info_score(Y_test,Y_pred_density),' , silhoutte score is: ',metrics.silhouette_score(X_test,Y_pred_density))  \n",
    "print('The configuration with aggregation on distance has AMI score is: ',metrics.adjusted_mutual_info_score(Y_test,Y_pred_distance),' , silhoutte score is: ',metrics.silhouette_score(X_test,Y_pred_distance))  "
   ]
  }
 ],
 "metadata": {
  "kernelspec": {
   "display_name": "env1",
   "language": "python",
   "name": "python3"
  },
  "language_info": {
   "codemirror_mode": {
    "name": "ipython",
    "version": 3
   },
   "file_extension": ".py",
   "mimetype": "text/x-python",
   "name": "python",
   "nbconvert_exporter": "python",
   "pygments_lexer": "ipython3",
   "version": "3.9.13"
  },
  "orig_nbformat": 4,
  "vscode": {
   "interpreter": {
    "hash": "417d4e038d642fb16654d8b072fd819f20b95e96faee87233047f8a98e6b253f"
   }
  }
 },
 "nbformat": 4,
 "nbformat_minor": 2
}
