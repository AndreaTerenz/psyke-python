{
 "cells": [
  {
   "cell_type": "markdown",
   "source": [
    "# PSyKE's demo for ExACT and CReEPy\n",
    "\n",
    "Some imports."
   ],
   "metadata": {
    "collapsed": false
   }
  },
  {
   "cell_type": "code",
   "execution_count": 1,
   "id": "6b710e7c",
   "metadata": {},
   "outputs": [],
   "source": [
    "from sklearn.model_selection import train_test_split\n",
    "from sklearn.datasets import load_iris\n",
    "import pandas as pd\n",
    "\n",
    "from sklearn.neighbors import KNeighborsClassifier\n",
    "\n",
    "from psyke import Extractor\n",
    "from psyke.regression.strategy import AdaptiveStrategy\n",
    "from psyke.regression import Grid, FeatureRanker, HyperCubeExtractor\n",
    "from psyke.utils.logic import pretty_theory\n",
    "from psyke.utils import Target"
   ]
  },
  {
   "cell_type": "markdown",
   "source": [
    "Import Iris dataset separating features and class."
   ],
   "metadata": {
    "collapsed": false,
    "pycharm": {
     "name": "#%% md\n"
    }
   }
  },
  {
   "cell_type": "code",
   "execution_count": 2,
   "id": "f8e46c49",
   "metadata": {},
   "outputs": [],
   "source": [
    "x, y = load_iris(return_X_y=True, as_frame=True)"
   ]
  },
  {
   "cell_type": "markdown",
   "source": [
    "Rename of the features."
   ],
   "metadata": {
    "collapsed": false
   }
  },
  {
   "cell_type": "code",
   "execution_count": 3,
   "id": "38d5afb0",
   "metadata": {},
   "outputs": [],
   "source": [
    "x.columns = ['SepalLength', 'SepalWidth', 'PetalLength', 'PetalWidth']"
   ]
  },
  {
   "cell_type": "markdown",
   "source": [
    "Replace integer indices with the corresponding string class."
   ],
   "metadata": {
    "collapsed": false
   }
  },
  {
   "cell_type": "code",
   "execution_count": 4,
   "id": "4f807185",
   "metadata": {},
   "outputs": [
    {
     "data": {
      "text/plain": "        target\n0       setosa\n1       setosa\n2       setosa\n3       setosa\n4       setosa\n..         ...\n145  virginica\n146  virginica\n147  virginica\n148  virginica\n149  virginica\n\n[150 rows x 1 columns]",
      "text/html": "<div>\n<style scoped>\n    .dataframe tbody tr th:only-of-type {\n        vertical-align: middle;\n    }\n\n    .dataframe tbody tr th {\n        vertical-align: top;\n    }\n\n    .dataframe thead th {\n        text-align: right;\n    }\n</style>\n<table border=\"1\" class=\"dataframe\">\n  <thead>\n    <tr style=\"text-align: right;\">\n      <th></th>\n      <th>target</th>\n    </tr>\n  </thead>\n  <tbody>\n    <tr>\n      <th>0</th>\n      <td>setosa</td>\n    </tr>\n    <tr>\n      <th>1</th>\n      <td>setosa</td>\n    </tr>\n    <tr>\n      <th>2</th>\n      <td>setosa</td>\n    </tr>\n    <tr>\n      <th>3</th>\n      <td>setosa</td>\n    </tr>\n    <tr>\n      <th>4</th>\n      <td>setosa</td>\n    </tr>\n    <tr>\n      <th>...</th>\n      <td>...</td>\n    </tr>\n    <tr>\n      <th>145</th>\n      <td>virginica</td>\n    </tr>\n    <tr>\n      <th>146</th>\n      <td>virginica</td>\n    </tr>\n    <tr>\n      <th>147</th>\n      <td>virginica</td>\n    </tr>\n    <tr>\n      <th>148</th>\n      <td>virginica</td>\n    </tr>\n    <tr>\n      <th>149</th>\n      <td>virginica</td>\n    </tr>\n  </tbody>\n</table>\n<p>150 rows × 1 columns</p>\n</div>"
     },
     "execution_count": 4,
     "metadata": {},
     "output_type": "execute_result"
    }
   ],
   "source": [
    "y = pd.DataFrame(y).replace({\"target\": {0: 'setosa', 1: 'versicolor', 2: 'virginica'}})\n",
    "y"
   ]
  },
  {
   "cell_type": "markdown",
   "source": [
    "The final dataset:"
   ],
   "metadata": {
    "collapsed": false
   }
  },
  {
   "cell_type": "code",
   "execution_count": 5,
   "id": "7ac49b4e",
   "metadata": {},
   "outputs": [
    {
     "data": {
      "text/plain": "     SepalLength  SepalWidth  PetalLength  PetalWidth       iris\n0            5.1         3.5          1.4         0.2     setosa\n1            4.9         3.0          1.4         0.2     setosa\n2            4.7         3.2          1.3         0.2     setosa\n3            4.6         3.1          1.5         0.2     setosa\n4            5.0         3.6          1.4         0.2     setosa\n..           ...         ...          ...         ...        ...\n145          6.7         3.0          5.2         2.3  virginica\n146          6.3         2.5          5.0         1.9  virginica\n147          6.5         3.0          5.2         2.0  virginica\n148          6.2         3.4          5.4         2.3  virginica\n149          5.9         3.0          5.1         1.8  virginica\n\n[150 rows x 5 columns]",
      "text/html": "<div>\n<style scoped>\n    .dataframe tbody tr th:only-of-type {\n        vertical-align: middle;\n    }\n\n    .dataframe tbody tr th {\n        vertical-align: top;\n    }\n\n    .dataframe thead th {\n        text-align: right;\n    }\n</style>\n<table border=\"1\" class=\"dataframe\">\n  <thead>\n    <tr style=\"text-align: right;\">\n      <th></th>\n      <th>SepalLength</th>\n      <th>SepalWidth</th>\n      <th>PetalLength</th>\n      <th>PetalWidth</th>\n      <th>iris</th>\n    </tr>\n  </thead>\n  <tbody>\n    <tr>\n      <th>0</th>\n      <td>5.1</td>\n      <td>3.5</td>\n      <td>1.4</td>\n      <td>0.2</td>\n      <td>setosa</td>\n    </tr>\n    <tr>\n      <th>1</th>\n      <td>4.9</td>\n      <td>3.0</td>\n      <td>1.4</td>\n      <td>0.2</td>\n      <td>setosa</td>\n    </tr>\n    <tr>\n      <th>2</th>\n      <td>4.7</td>\n      <td>3.2</td>\n      <td>1.3</td>\n      <td>0.2</td>\n      <td>setosa</td>\n    </tr>\n    <tr>\n      <th>3</th>\n      <td>4.6</td>\n      <td>3.1</td>\n      <td>1.5</td>\n      <td>0.2</td>\n      <td>setosa</td>\n    </tr>\n    <tr>\n      <th>4</th>\n      <td>5.0</td>\n      <td>3.6</td>\n      <td>1.4</td>\n      <td>0.2</td>\n      <td>setosa</td>\n    </tr>\n    <tr>\n      <th>...</th>\n      <td>...</td>\n      <td>...</td>\n      <td>...</td>\n      <td>...</td>\n      <td>...</td>\n    </tr>\n    <tr>\n      <th>145</th>\n      <td>6.7</td>\n      <td>3.0</td>\n      <td>5.2</td>\n      <td>2.3</td>\n      <td>virginica</td>\n    </tr>\n    <tr>\n      <th>146</th>\n      <td>6.3</td>\n      <td>2.5</td>\n      <td>5.0</td>\n      <td>1.9</td>\n      <td>virginica</td>\n    </tr>\n    <tr>\n      <th>147</th>\n      <td>6.5</td>\n      <td>3.0</td>\n      <td>5.2</td>\n      <td>2.0</td>\n      <td>virginica</td>\n    </tr>\n    <tr>\n      <th>148</th>\n      <td>6.2</td>\n      <td>3.4</td>\n      <td>5.4</td>\n      <td>2.3</td>\n      <td>virginica</td>\n    </tr>\n    <tr>\n      <th>149</th>\n      <td>5.9</td>\n      <td>3.0</td>\n      <td>5.1</td>\n      <td>1.8</td>\n      <td>virginica</td>\n    </tr>\n  </tbody>\n</table>\n<p>150 rows × 5 columns</p>\n</div>"
     },
     "execution_count": 5,
     "metadata": {},
     "output_type": "execute_result"
    }
   ],
   "source": [
    "dataset = x.join(y)\n",
    "dataset.columns = [*dataset.columns[:-1], 'iris']\n",
    "dataset"
   ]
  },
  {
   "cell_type": "markdown",
   "source": [
    "Split between train and test set in a reproducible way."
   ],
   "metadata": {
    "collapsed": false
   }
  },
  {
   "cell_type": "code",
   "execution_count": 6,
   "id": "03fc5e2c",
   "metadata": {},
   "outputs": [],
   "source": [
    "train, test = train_test_split(dataset, test_size=0.5, random_state=0)"
   ]
  },
  {
   "cell_type": "markdown",
   "source": [
    "We use ExACT to perform an interpretable clustering on the Iris dataset"
   ],
   "metadata": {
    "collapsed": false,
    "pycharm": {
     "name": "#%% md\n"
    }
   }
  },
  {
   "cell_type": "code",
   "execution_count": 7,
   "outputs": [
    {
     "name": "stdout",
     "output_type": "stream",
     "text": [
      "Output is versicolor if:\n",
      "    SepalLength is in [4.90, 6.70]\n",
      "    SepalWidth is in [2.20, 3.20]\n",
      "    PetalLength is in [3.00, 5.00]\n",
      "    PetalWidth is in [1.00, 1.80]\n",
      "Output is virginica if:\n",
      "    SepalLength is in [4.90, 7.70]\n",
      "    SepalWidth is in [2.20, 3.80]\n",
      "    PetalLength is in [3.00, 6.90]\n",
      "    PetalWidth is in [1.00, 2.50]\n",
      "Output is setosa if:\n",
      "    SepalLength is in [4.40, 7.90]\n",
      "    SepalWidth is in [2.20, 4.10]\n",
      "    PetalLength is in [1.20, 6.90]\n",
      "    PetalWidth is in [0.10, 2.50]\n"
     ]
    }
   ],
   "source": [
    "exact = Extractor.exact(depth=2, error_threshold=0.1, output=Target.CLASSIFICATION)\n",
    "_ = exact.extract(train)\n",
    "exact.print()"
   ],
   "metadata": {
    "collapsed": false,
    "pycharm": {
     "name": "#%%\n"
    }
   }
  },
  {
   "cell_type": "markdown",
   "source": [
    "To perform knowledge extraction via CReEPy, we need a blabk-box classifier.\n",
    "We use a KNN with K = 7 and we train it."
   ],
   "metadata": {
    "collapsed": false
   }
  },
  {
   "cell_type": "code",
   "execution_count": 9,
   "id": "aa8a3128",
   "metadata": {},
   "outputs": [
    {
     "data": {
      "text/plain": "0.96"
     },
     "execution_count": 9,
     "metadata": {},
     "output_type": "execute_result"
    }
   ],
   "source": [
    "predictor = KNeighborsClassifier(n_neighbors=7)\n",
    "predictor.fit(train.iloc[:, :-1], train.iloc[:, -1])\n",
    "predictor.score(test.iloc[:, :-1], test.iloc[:, -1])"
   ]
  },
  {
   "cell_type": "markdown",
   "source": [
    "We use CReEPy to extract Prolog rules out of the KNN.\n",
    "Since CReEPY relies on ExACT, the extracted rules will be built upon the aformenetioned clusters"
   ],
   "metadata": {
    "collapsed": false,
    "pycharm": {
     "name": "#%% md\n"
    }
   }
  },
  {
   "cell_type": "code",
   "execution_count": 14,
   "outputs": [
    {
     "name": "stdout",
     "output_type": "stream",
     "text": [
      "CReEPy performance (3 rules):\n",
      "Accuracy = 0.91\n",
      "Fidelity = 0.96\n",
      "\n",
      "CReEPy extracted rules:\n",
      "\n",
      "iris(PetalLength, PetalWidth, SepalLength, SepalWidth, virginica) :-\n",
      "    SepalLength in [5.69, 7.70], SepalWidth in [2.49, 3.60], PetalLength in [4.79, 6.70], PetalWidth in [1.59, 2.50].\n",
      "iris(PetalLength, PetalWidth, SepalLength, SepalWidth, versicolor) :-\n",
      "    SepalLength in [4.89, 7.70], SepalWidth in [2.19, 3.80], PetalLength in [2.99, 6.90], PetalWidth in [0.99, 2.50].\n",
      "iris(PetalLength, PetalWidth, SepalLength, SepalWidth, setosa) :-\n",
      "    SepalLength in [4.39, 7.90], SepalWidth in [2.19, 4.10], PetalLength in [1.19, 6.90], PetalWidth in [0.09, 2.50].\n"
     ]
    }
   ],
   "source": [
    "creepy = Extractor.creepy(predictor, depth=2, error_threshold=0.1, output=Target.CLASSIFICATION)\n",
    "theory_from_creepy = creepy.extract(train)\n",
    "print('CReEPy performance ({} rules):\\nAccuracy = {:.2f}\\nFidelity = {:.2f}\\n'\n",
    "      .format(creepy.n_rules, creepy.accuracy(test), creepy.accuracy(test, predictor)))\n",
    "print('CReEPy extracted rules:\\n\\n' + pretty_theory(theory_from_creepy))"
   ],
   "metadata": {
    "collapsed": false,
    "pycharm": {
     "name": "#%%\n"
    }
   }
  },
  {
   "cell_type": "markdown",
   "source": [
    "We can refine the output rules of CReEPy by removing from the rules antecedents correponding to non-relevant features.\n",
    "Thus, we use a FeatureRanker to measure feature relevance."
   ],
   "metadata": {
    "collapsed": false,
    "pycharm": {
     "name": "#%% md\n"
    }
   }
  },
  {
   "cell_type": "code",
   "execution_count": 11,
   "outputs": [
    {
     "data": {
      "text/plain": "[('SepalLength', 0.10256657767944181),\n ('SepalWidth', 0.04329335731659775),\n ('PetalLength', 1.0),\n ('PetalWidth', 0.8207964847109807)]"
     },
     "execution_count": 11,
     "metadata": {},
     "output_type": "execute_result"
    }
   ],
   "source": [
    "ranked = FeatureRanker(x.columns).fit(predictor, x).rankings()\n",
    "ranked"
   ],
   "metadata": {
    "collapsed": false,
    "pycharm": {
     "name": "#%%\n"
    }
   }
  },
  {
   "cell_type": "markdown",
   "source": [
    "We choose to consider only the 2 most relevant features (petal width and legth)"
   ],
   "metadata": {
    "collapsed": false,
    "pycharm": {
     "name": "#%% md\n"
    }
   }
  },
  {
   "cell_type": "code",
   "execution_count": 12,
   "outputs": [
    {
     "name": "stdout",
     "output_type": "stream",
     "text": [
      "CReEPy performance (3 rules):\n",
      "Accuracy = 0.93\n",
      "Fidelity = 0.97\n",
      "\n",
      "CReEPy extracted rules:\n",
      "\n",
      "iris(PetalLength, PetalWidth, SepalLength, SepalWidth, virginica) :-\n",
      "    PetalLength in [4.79, 6.70], PetalWidth in [1.59, 2.50].\n",
      "iris(PetalLength, PetalWidth, SepalLength, SepalWidth, versicolor) :-\n",
      "    PetalLength in [2.99, 6.90], PetalWidth in [0.99, 2.50].\n",
      "iris(PetalLength, PetalWidth, SepalLength, SepalWidth, setosa) :-\n",
      "    PetalLength in [1.19, 6.90], PetalWidth in [0.09, 2.50].\n"
     ]
    }
   ],
   "source": [
    "creepy = Extractor.creepy(predictor, depth=2, error_threshold=0.1, output=Target.CLASSIFICATION,\n",
    "                          ranks=ranked, ignore_threshold=.8)\n",
    "theory_from_creepy = creepy.extract(train)\n",
    "print('CReEPy performance ({} rules):\\nAccuracy = {:.2f}\\nFidelity = {:.2f}\\n'\n",
    "      .format(creepy.n_rules, creepy.accuracy(test), creepy.accuracy(test, predictor)))\n",
    "print('CReEPy extracted rules:\\n\\n' + pretty_theory(theory_from_creepy))"
   ],
   "metadata": {
    "collapsed": false,
    "pycharm": {
     "name": "#%%\n"
    }
   }
  },
  {
   "cell_type": "markdown",
   "source": [
    "In the following cell we consider only the most relevant input feature"
   ],
   "metadata": {
    "collapsed": false,
    "pycharm": {
     "name": "#%% md\n"
    }
   }
  },
  {
   "cell_type": "code",
   "execution_count": 13,
   "outputs": [
    {
     "name": "stdout",
     "output_type": "stream",
     "text": [
      "CReEPy performance (3 rules):\n",
      "Accuracy = 0.95\n",
      "Fidelity = 0.96\n",
      "\n",
      "CReEPy extracted rules:\n",
      "\n",
      "iris(PetalLength, PetalWidth, SepalLength, SepalWidth, virginica) :-\n",
      "    PetalLength in [4.79, 6.70].\n",
      "iris(PetalLength, PetalWidth, SepalLength, SepalWidth, versicolor) :-\n",
      "    PetalLength in [2.99, 6.90].\n",
      "iris(PetalLength, PetalWidth, SepalLength, SepalWidth, setosa) :-\n",
      "    PetalLength in [1.19, 6.90].\n"
     ]
    }
   ],
   "source": [
    "creepy = Extractor.creepy(predictor, depth=2, error_threshold=0.1, output=Target.CLASSIFICATION,\n",
    "                          ranks=ranked, ignore_threshold=.99)\n",
    "theory_from_creepy = creepy.extract(train)\n",
    "print('CReEPy performance ({} rules):\\nAccuracy = {:.2f}\\nFidelity = {:.2f}\\n'\n",
    "      .format(creepy.n_rules, creepy.accuracy(test), creepy.accuracy(test, predictor)))\n",
    "print('CReEPy extracted rules:\\n\\n' + pretty_theory(theory_from_creepy))"
   ],
   "metadata": {
    "collapsed": false,
    "pycharm": {
     "name": "#%%\n"
    }
   }
  },
  {
   "cell_type": "code",
   "execution_count": null,
   "outputs": [],
   "source": [],
   "metadata": {
    "collapsed": false,
    "pycharm": {
     "name": "#%%\n"
    }
   }
  },
  {
   "cell_type": "code",
   "execution_count": null,
   "outputs": [],
   "source": [],
   "metadata": {
    "collapsed": false,
    "pycharm": {
     "name": "#%%\n"
    }
   }
  },
  {
   "cell_type": "code",
   "execution_count": null,
   "outputs": [],
   "source": [],
   "metadata": {
    "collapsed": false,
    "pycharm": {
     "name": "#%%\n"
    }
   }
  },
  {
   "cell_type": "code",
   "execution_count": null,
   "outputs": [],
   "source": [],
   "metadata": {
    "collapsed": false,
    "pycharm": {
     "name": "#%%\n"
    }
   }
  },
  {
   "cell_type": "code",
   "execution_count": 8,
   "outputs": [
    {
     "name": "stdout",
     "output_type": "stream",
     "text": [
      "ITER performance (3 rules):\n",
      "Accuracy = 0.89\n",
      "Fidelity = 0.93\n",
      "\n",
      "ITER extracted rules:\n",
      "\n",
      "iris(PetalLength, PetalWidth, SepalLength, SepalWidth, setosa) :-\n",
      "    SepalLength in [4.39, 7.90], SepalWidth in [2.19, 4.10], PetalLength in [1.19, 2.69], PetalWidth in [0.09, 2.50].\n",
      "iris(PetalLength, PetalWidth, SepalLength, SepalWidth, versicolor) :-\n",
      "    SepalLength in [4.39, 7.90], SepalWidth in [2.19, 4.10], PetalLength in [2.69, 5.09], PetalWidth in [0.09, 2.50].\n",
      "iris(PetalLength, PetalWidth, SepalLength, SepalWidth, virginica) :-\n",
      "    SepalLength in [4.39, 7.90], SepalWidth in [2.19, 4.10], PetalLength in [5.09, 6.90], PetalWidth in [0.09, 2.50].\n"
     ]
    }
   ],
   "source": [
    "it = Extractor.iter(predictor, min_update=0.07, min_examples=150, threshold=0.1, max_iterations=600, n_points=1)\n",
    "theory_from_cream = it.extract(train)\n",
    "print('ITER performance ({} rules):\\nAccuracy = {:.2f}\\nFidelity = {:.2f}\\n'\n",
    "      .format(it.n_rules, it.accuracy(test), it.accuracy(test, predictor)))\n",
    "print('ITER extracted rules:\\n\\n' + pretty_theory(theory_from_cream))"
   ],
   "metadata": {
    "collapsed": false,
    "pycharm": {
     "name": "#%%\n"
    }
   }
  },
  {
   "cell_type": "markdown",
   "source": [
    "We create an extractor that uses the CART algorithm and we extract prolog rules from our trained KNN."
   ],
   "metadata": {
    "collapsed": false
   }
  },
  {
   "cell_type": "code",
   "execution_count": 9,
   "outputs": [
    {
     "name": "stdout",
     "output_type": "stream",
     "text": [
      "CART performance (3 rules):\n",
      "Accuracy = 0.95\n",
      "Fidelity = 0.96\n",
      "\n",
      "\n",
      "CART extracted rules:\n",
      "\n",
      "iris(PetalLength, PetalWidth, SepalLength, SepalWidth, setosa) :-\n",
      "    PetalLength =< 2.35.\n",
      "iris(PetalLength, PetalWidth, SepalLength, SepalWidth, versicolor) :-\n",
      "    PetalWidth =< 1.75.\n",
      "iris(PetalLength, PetalWidth, SepalLength, SepalWidth, virginica).\n"
     ]
    }
   ],
   "source": [
    "#DTClassifier = DecisionTreeClassifier(max_leaf_nodes=3).fit(train.iloc[:, :-1], predictor.predict(train.iloc[:, :-1]))\n",
    "#cart = Extractor.cart(CartPredictor(DTClassifier))\n",
    "cart = Extractor.cart(predictor, simplify=True)\n",
    "theory_from_cart = cart.extract(train)\n",
    "print(f'CART performance ({cart.n_rules} rules):')\n",
    "print(f'Accuracy = {cart.accuracy(test):.2f}')\n",
    "print(f'Fidelity = {cart.accuracy(test, predictor):.2f}\\n')\n",
    "print('\\nCART extracted rules:\\n\\n' + pretty_theory(theory_from_cart))"
   ],
   "metadata": {
    "collapsed": false,
    "pycharm": {
     "name": "#%%\n"
    }
   }
  },
  {
   "cell_type": "markdown",
   "source": [
    "We create a GridEx extractor to extract prolog rules from the same KNN."
   ],
   "metadata": {
    "collapsed": false
   }
  },
  {
   "cell_type": "code",
   "execution_count": 10,
   "outputs": [
    {
     "name": "stdout",
     "output_type": "stream",
     "text": [
      "GridEx performance (3 rules):\n",
      "Accuracy = 0.94\n",
      "Accuracy fidelity = 0.96\n",
      "\n",
      "GridEx extracted rules:\n",
      "\n",
      "iris(PetalLength, PetalWidth, SepalLength, SepalWidth, setosa) :-\n",
      "    PetalLength in [1.19, 1.91].\n",
      "iris(PetalLength, PetalWidth, SepalLength, SepalWidth, versicolor) :-\n",
      "    PetalLength in [2.62, 4.76].\n",
      "iris(PetalLength, PetalWidth, SepalLength, SepalWidth, virginica) :-\n",
      "    PetalLength in [4.76, 6.90].\n"
     ]
    }
   ],
   "source": [
    "ranked = FeatureRanker(x.columns).fit(predictor, x).rankings()\n",
    "gridEx = Extractor.gridex(predictor, Grid(1, AdaptiveStrategy(ranked, [(0.85, 8)])), threshold=.1, min_examples=1)\n",
    "theory_from_gridEx = gridEx.extract(train)\n",
    "print('GridEx performance ({} rules):\\nAccuracy = {:.2f}\\nAccuracy fidelity = {:.2f}\\n'\n",
    "      .format(gridEx.n_rules, gridEx.accuracy(test), gridEx.accuracy(test, predictor)))\n",
    "print('GridEx extracted rules:\\n\\n' + pretty_theory(theory_from_gridEx))"
   ],
   "metadata": {
    "collapsed": false,
    "pycharm": {
     "name": "#%%\n"
    }
   }
  },
  {
   "cell_type": "code",
   "execution_count": 11,
   "outputs": [
    {
     "name": "stdout",
     "output_type": "stream",
     "text": [
      "GridEx performance (4 rules):\n",
      "Accuracy = 0.81\n",
      "Accuracy fidelity = 0.83\n",
      "\n",
      "GridEx extracted rules:\n",
      "\n",
      "iris(PetalLength, PetalWidth, SepalLength, SepalWidth, setosa) :-\n",
      "    PetalLength in [1.19, 2.62].\n",
      "iris(PetalLength, PetalWidth, SepalLength, SepalWidth, versicolor) :-\n",
      "    PetalLength in [2.62, 4.05].\n",
      "iris(PetalLength, PetalWidth, SepalLength, SepalWidth, versicolor) :-\n",
      "    PetalLength in [4.05, 5.47].\n",
      "iris(PetalLength, PetalWidth, SepalLength, SepalWidth, virginica) :-\n",
      "    PetalLength in [5.47, 6.90].\n",
      "GridEx performance (8 rules):\n",
      "Accuracy = 0.97\n",
      "Accuracy fidelity = 0.97\n",
      "\n",
      "GridEx extracted rules:\n",
      "\n",
      "iris(PetalLength, PetalWidth, SepalLength, SepalWidth, setosa) :-\n",
      "    PetalLength in [1.19, 2.62], PetalWidth in [0.09, 0.69].\n",
      "iris(PetalLength, PetalWidth, SepalLength, SepalWidth, virginica) :-\n",
      "    PetalLength in [5.47, 6.90], PetalWidth in [1.3, 1.90].\n",
      "iris(PetalLength, PetalWidth, SepalLength, SepalWidth, virginica) :-\n",
      "    PetalLength in [4.05, 6.90], PetalWidth in [1.90, 2.50].\n",
      "iris(PetalLength, PetalWidth, SepalLength, SepalWidth, versicolor) :-\n",
      "    PetalLength in [4.05, 4.76], PetalWidth in [1.0, 1.3].\n",
      "iris(PetalLength, PetalWidth, SepalLength, SepalWidth, versicolor) :-\n",
      "    PetalLength in [4.76, 5.47], PetalWidth in [1.3, 1.60].\n",
      "iris(PetalLength, PetalWidth, SepalLength, SepalWidth, virginica) :-\n",
      "    PetalLength in [4.76, 5.47], PetalWidth in [1.60, 1.90].\n",
      "iris(PetalLength, PetalWidth, SepalLength, SepalWidth, versicolor) :-\n",
      "    PetalLength in [2.62, 4.05], PetalWidth in [1.0, 1.3].\n",
      "iris(PetalLength, PetalWidth, SepalLength, SepalWidth, versicolor) :-\n",
      "    PetalLength in [3.33, 4.76], PetalWidth in [1.3, 1.60].\n"
     ]
    }
   ],
   "source": [
    "gridEx = Extractor.gridex(predictor, Grid(2, AdaptiveStrategy(ranked, [(0.85, 2)])), threshold=.1, min_examples=1)\n",
    "theory_from_gridEx = gridEx.extract(train)\n",
    "print('GridEx performance ({} rules):\\nAccuracy = {:.2f}\\nAccuracy fidelity = {:.2f}\\n'\n",
    "      .format(gridEx.n_rules, gridEx.accuracy(test), gridEx.accuracy(test, predictor)))\n",
    "print('GridEx extracted rules:\\n\\n' + pretty_theory(theory_from_gridEx))\n",
    "\n",
    "gridEx = Extractor.gridex(predictor, Grid(2, AdaptiveStrategy(ranked, [(0.7, 4)])), threshold=.01, min_examples=1)\n",
    "theory_from_gridEx = gridEx.extract(train)\n",
    "print('GridEx performance ({} rules):\\nAccuracy = {:.2f}\\nAccuracy fidelity = {:.2f}\\n'\n",
    "      .format(gridEx.n_rules, gridEx.accuracy(test), gridEx.accuracy(test, predictor)))\n",
    "print('GridEx extracted rules:\\n\\n' + pretty_theory(theory_from_gridEx))"
   ],
   "metadata": {
    "collapsed": false,
    "pycharm": {
     "name": "#%%\n"
    }
   }
  },
  {
   "cell_type": "markdown",
   "source": [
    "We use CReEPy and CREAM cluster-based extractors to perform the extraction."
   ],
   "metadata": {
    "collapsed": false,
    "pycharm": {
     "name": "#%% md\n"
    }
   }
  },
  {
   "cell_type": "code",
   "execution_count": 12,
   "outputs": [
    {
     "name": "stdout",
     "output_type": "stream",
     "text": [
      "CReEPy performance (3 rules):\n",
      "Accuracy = 0.95\n",
      "Fidelity = 0.96\n",
      "\n",
      "CReEPy extracted rules:\n",
      "\n",
      "iris(PetalLength, PetalWidth, SepalLength, SepalWidth, virginica) :-\n",
      "    PetalLength in [4.79, 6.70].\n",
      "iris(PetalLength, PetalWidth, SepalLength, SepalWidth, versicolor) :-\n",
      "    PetalLength in [2.99, 6.90].\n",
      "iris(PetalLength, PetalWidth, SepalLength, SepalWidth, setosa) :-\n",
      "    PetalLength in [1.19, 6.90].\n"
     ]
    }
   ],
   "source": [
    "creepy = Extractor.creepy(predictor, depth=2, error_threshold=0.1, output=Target.CLASSIFICATION,\n",
    "                          ranks=ranked, ignore_threshold=.99)\n",
    "theory_from_creepy = creepy.extract(train)\n",
    "print('CReEPy performance ({} rules):\\nAccuracy = {:.2f}\\nFidelity = {:.2f}\\n'\n",
    "      .format(creepy.n_rules, creepy.accuracy(test), creepy.accuracy(test, predictor)))\n",
    "print('CReEPy extracted rules:\\n\\n' + pretty_theory(theory_from_creepy))"
   ],
   "metadata": {
    "collapsed": false,
    "pycharm": {
     "name": "#%%\n"
    }
   }
  },
  {
   "cell_type": "code",
   "execution_count": 13,
   "outputs": [
    {
     "name": "stdout",
     "output_type": "stream",
     "text": [
      "Output is versicolor if:\n",
      "    SepalLength is in [4.90, 6.70]\n",
      "    SepalWidth is in [2.20, 3.20]\n",
      "    PetalLength is in [3.00, 5.00]\n",
      "    PetalWidth is in [1.00, 1.80]\n",
      "Output is virginica if:\n",
      "    SepalLength is in [4.90, 7.70]\n",
      "    SepalWidth is in [2.20, 3.80]\n",
      "    PetalLength is in [3.00, 6.90]\n",
      "    PetalWidth is in [1.00, 2.50]\n",
      "Output is setosa if:\n",
      "    SepalLength is in [4.40, 7.90]\n",
      "    SepalWidth is in [2.20, 4.10]\n",
      "    PetalLength is in [1.20, 6.90]\n",
      "    PetalWidth is in [0.10, 2.50]\n"
     ]
    }
   ],
   "source": [],
   "metadata": {
    "collapsed": false,
    "pycharm": {
     "name": "#%%\n"
    }
   }
  },
  {
   "cell_type": "code",
   "execution_count": 14,
   "outputs": [
    {
     "name": "stdout",
     "output_type": "stream",
     "text": [
      "CREAM performance (3 rules):\n",
      "Accuracy = 0.91\n",
      "Fidelity = 0.96\n",
      "\n",
      "CREAM extracted rules:\n",
      "\n",
      "iris(PetalLength, PetalWidth, SepalLength, SepalWidth, virginica) :-\n",
      "    SepalLength in [5.69, 7.70], SepalWidth in [2.49, 3.60], PetalLength in [4.79, 6.70], PetalWidth in [1.59, 2.50].\n",
      "iris(PetalLength, PetalWidth, SepalLength, SepalWidth, versicolor) :-\n",
      "    SepalLength in [4.89, 7.70], SepalWidth in [2.19, 3.80], PetalLength in [2.99, 6.90], PetalWidth in [0.99, 2.50].\n",
      "iris(PetalLength, PetalWidth, SepalLength, SepalWidth, setosa) :-\n",
      "    SepalLength in [4.39, 7.90], SepalWidth in [2.19, 4.10], PetalLength in [1.19, 6.90], PetalWidth in [0.09, 2.50].\n"
     ]
    }
   ],
   "source": [
    "cream = Extractor.cream(predictor, depth=2, error_threshold=0.1, output=Target.CLASSIFICATION)\n",
    "theory_from_cream = cream.extract(train)\n",
    "print('CREAM performance ({} rules):\\nAccuracy = {:.2f}\\nFidelity = {:.2f}\\n'\n",
    "      .format(cream.n_rules, cream.accuracy(test), cream.accuracy(test, predictor)))\n",
    "print('CREAM extracted rules:\\n\\n' + pretty_theory(theory_from_cream))"
   ],
   "metadata": {
    "collapsed": false,
    "pycharm": {
     "name": "#%%\n"
    }
   }
  }
 ],
 "metadata": {
  "kernelspec": {
   "display_name": "Python 3 (ipykernel)",
   "language": "python",
   "name": "python3"
  },
  "language_info": {
   "codemirror_mode": {
    "name": "ipython",
    "version": 3
   },
   "file_extension": ".py",
   "mimetype": "text/x-python",
   "name": "python",
   "nbconvert_exporter": "python",
   "pygments_lexer": "ipython3",
   "version": "3.9.7"
  }
 },
 "nbformat": 4,
 "nbformat_minor": 5
}