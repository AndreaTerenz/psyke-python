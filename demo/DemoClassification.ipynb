{
 "cells": [
  {
   "cell_type": "markdown",
   "source": [
    "# PSyKE's demo\n",
    "\n",
    "Some imports."
   ],
   "metadata": {
    "collapsed": false
   }
  },
  {
   "cell_type": "code",
   "execution_count": 16,
   "id": "6b710e7c",
   "metadata": {},
   "outputs": [],
   "source": [
    "from sklearn.model_selection import train_test_split\n",
    "from sklearn.datasets import load_iris\n",
    "import pandas as pd\n",
    "\n",
    "from sklearn.neighbors import KNeighborsClassifier\n",
    "from sklearn.tree import DecisionTreeClassifier\n",
    "from psyke.cart.predictor import CartPredictor\n",
    "\n",
    "from psyke import Extractor\n",
    "from psyke.regression.strategy import AdaptiveStrategy\n",
    "from psyke.regression import Grid, FeatureRanker, HyperCubeExtractor\n",
    "from psyke.utils.logic import pretty_theory"
   ]
  },
  {
   "cell_type": "markdown",
   "source": [
    "Import iris dataset separating features and class."
   ],
   "metadata": {
    "collapsed": false,
    "pycharm": {
     "name": "#%% md\n"
    }
   }
  },
  {
   "cell_type": "code",
   "execution_count": 17,
   "id": "f8e46c49",
   "metadata": {},
   "outputs": [],
   "source": [
    "x, y = load_iris(return_X_y=True, as_frame=True)"
   ]
  },
  {
   "cell_type": "markdown",
   "source": [
    "Rename of the features."
   ],
   "metadata": {
    "collapsed": false
   }
  },
  {
   "cell_type": "code",
   "execution_count": 18,
   "id": "38d5afb0",
   "metadata": {},
   "outputs": [],
   "source": [
    "x.columns = ['SepalLength', 'SepalWidth', 'PetalLength', 'PetalWidth']"
   ]
  },
  {
   "cell_type": "markdown",
   "source": [
    "Replace integer indices with the corresponding string class."
   ],
   "metadata": {
    "collapsed": false
   }
  },
  {
   "cell_type": "code",
   "execution_count": 19,
   "id": "4f807185",
   "metadata": {},
   "outputs": [
    {
     "data": {
      "text/plain": "        target\n0       setosa\n1       setosa\n2       setosa\n3       setosa\n4       setosa\n..         ...\n145  virginica\n146  virginica\n147  virginica\n148  virginica\n149  virginica\n\n[150 rows x 1 columns]",
      "text/html": "<div>\n<style scoped>\n    .dataframe tbody tr th:only-of-type {\n        vertical-align: middle;\n    }\n\n    .dataframe tbody tr th {\n        vertical-align: top;\n    }\n\n    .dataframe thead th {\n        text-align: right;\n    }\n</style>\n<table border=\"1\" class=\"dataframe\">\n  <thead>\n    <tr style=\"text-align: right;\">\n      <th></th>\n      <th>target</th>\n    </tr>\n  </thead>\n  <tbody>\n    <tr>\n      <th>0</th>\n      <td>setosa</td>\n    </tr>\n    <tr>\n      <th>1</th>\n      <td>setosa</td>\n    </tr>\n    <tr>\n      <th>2</th>\n      <td>setosa</td>\n    </tr>\n    <tr>\n      <th>3</th>\n      <td>setosa</td>\n    </tr>\n    <tr>\n      <th>4</th>\n      <td>setosa</td>\n    </tr>\n    <tr>\n      <th>...</th>\n      <td>...</td>\n    </tr>\n    <tr>\n      <th>145</th>\n      <td>virginica</td>\n    </tr>\n    <tr>\n      <th>146</th>\n      <td>virginica</td>\n    </tr>\n    <tr>\n      <th>147</th>\n      <td>virginica</td>\n    </tr>\n    <tr>\n      <th>148</th>\n      <td>virginica</td>\n    </tr>\n    <tr>\n      <th>149</th>\n      <td>virginica</td>\n    </tr>\n  </tbody>\n</table>\n<p>150 rows × 1 columns</p>\n</div>"
     },
     "execution_count": 19,
     "metadata": {},
     "output_type": "execute_result"
    }
   ],
   "source": [
    "y = pd.DataFrame(y).replace({\"target\": {0: 'setosa', 1: 'versicolor', 2: 'virginica'}})\n",
    "y"
   ]
  },
  {
   "cell_type": "markdown",
   "source": [
    "The final dataset:"
   ],
   "metadata": {
    "collapsed": false
   }
  },
  {
   "cell_type": "code",
   "execution_count": 20,
   "id": "7ac49b4e",
   "metadata": {},
   "outputs": [
    {
     "data": {
      "text/plain": "     SepalLength  SepalWidth  PetalLength  PetalWidth       iris\n0            5.1         3.5          1.4         0.2     setosa\n1            4.9         3.0          1.4         0.2     setosa\n2            4.7         3.2          1.3         0.2     setosa\n3            4.6         3.1          1.5         0.2     setosa\n4            5.0         3.6          1.4         0.2     setosa\n..           ...         ...          ...         ...        ...\n145          6.7         3.0          5.2         2.3  virginica\n146          6.3         2.5          5.0         1.9  virginica\n147          6.5         3.0          5.2         2.0  virginica\n148          6.2         3.4          5.4         2.3  virginica\n149          5.9         3.0          5.1         1.8  virginica\n\n[150 rows x 5 columns]",
      "text/html": "<div>\n<style scoped>\n    .dataframe tbody tr th:only-of-type {\n        vertical-align: middle;\n    }\n\n    .dataframe tbody tr th {\n        vertical-align: top;\n    }\n\n    .dataframe thead th {\n        text-align: right;\n    }\n</style>\n<table border=\"1\" class=\"dataframe\">\n  <thead>\n    <tr style=\"text-align: right;\">\n      <th></th>\n      <th>SepalLength</th>\n      <th>SepalWidth</th>\n      <th>PetalLength</th>\n      <th>PetalWidth</th>\n      <th>iris</th>\n    </tr>\n  </thead>\n  <tbody>\n    <tr>\n      <th>0</th>\n      <td>5.1</td>\n      <td>3.5</td>\n      <td>1.4</td>\n      <td>0.2</td>\n      <td>setosa</td>\n    </tr>\n    <tr>\n      <th>1</th>\n      <td>4.9</td>\n      <td>3.0</td>\n      <td>1.4</td>\n      <td>0.2</td>\n      <td>setosa</td>\n    </tr>\n    <tr>\n      <th>2</th>\n      <td>4.7</td>\n      <td>3.2</td>\n      <td>1.3</td>\n      <td>0.2</td>\n      <td>setosa</td>\n    </tr>\n    <tr>\n      <th>3</th>\n      <td>4.6</td>\n      <td>3.1</td>\n      <td>1.5</td>\n      <td>0.2</td>\n      <td>setosa</td>\n    </tr>\n    <tr>\n      <th>4</th>\n      <td>5.0</td>\n      <td>3.6</td>\n      <td>1.4</td>\n      <td>0.2</td>\n      <td>setosa</td>\n    </tr>\n    <tr>\n      <th>...</th>\n      <td>...</td>\n      <td>...</td>\n      <td>...</td>\n      <td>...</td>\n      <td>...</td>\n    </tr>\n    <tr>\n      <th>145</th>\n      <td>6.7</td>\n      <td>3.0</td>\n      <td>5.2</td>\n      <td>2.3</td>\n      <td>virginica</td>\n    </tr>\n    <tr>\n      <th>146</th>\n      <td>6.3</td>\n      <td>2.5</td>\n      <td>5.0</td>\n      <td>1.9</td>\n      <td>virginica</td>\n    </tr>\n    <tr>\n      <th>147</th>\n      <td>6.5</td>\n      <td>3.0</td>\n      <td>5.2</td>\n      <td>2.0</td>\n      <td>virginica</td>\n    </tr>\n    <tr>\n      <th>148</th>\n      <td>6.2</td>\n      <td>3.4</td>\n      <td>5.4</td>\n      <td>2.3</td>\n      <td>virginica</td>\n    </tr>\n    <tr>\n      <th>149</th>\n      <td>5.9</td>\n      <td>3.0</td>\n      <td>5.1</td>\n      <td>1.8</td>\n      <td>virginica</td>\n    </tr>\n  </tbody>\n</table>\n<p>150 rows × 5 columns</p>\n</div>"
     },
     "execution_count": 20,
     "metadata": {},
     "output_type": "execute_result"
    }
   ],
   "source": [
    "dataset = x.join(y)\n",
    "dataset.columns = [*dataset.columns[:-1], 'iris']\n",
    "dataset"
   ]
  },
  {
   "cell_type": "markdown",
   "source": [
    "Split between train and test set in a reproducible way."
   ],
   "metadata": {
    "collapsed": false
   }
  },
  {
   "cell_type": "code",
   "execution_count": 21,
   "id": "03fc5e2c",
   "metadata": {},
   "outputs": [],
   "source": [
    "train, test = train_test_split(dataset, test_size=0.5, random_state=0)"
   ]
  },
  {
   "cell_type": "markdown",
   "source": [
    "We use as predictor a KNN with K = 4 and we train it."
   ],
   "metadata": {
    "collapsed": false
   }
  },
  {
   "cell_type": "code",
   "execution_count": 22,
   "id": "aa8a3128",
   "metadata": {},
   "outputs": [
    {
     "data": {
      "text/plain": "0.96"
     },
     "execution_count": 22,
     "metadata": {},
     "output_type": "execute_result"
    }
   ],
   "source": [
    "predictor = KNeighborsClassifier(n_neighbors=7)\n",
    "predictor.fit(train.iloc[:, :-1], train.iloc[:, -1])\n",
    "predictor.score(test.iloc[:, :-1], test.iloc[:, -1])"
   ]
  },
  {
   "cell_type": "code",
   "execution_count": 23,
   "outputs": [
    {
     "name": "stdout",
     "output_type": "stream",
     "text": [
      "ITER performance (3 rules):\n",
      "Accuracy = 0.89\n",
      "Fidelity = 0.93\n",
      "\n",
      "ITER extracted rules:\n",
      "\n",
      "iris(PetalLength, PetalWidth, SepalLength, SepalWidth, setosa) :-\n",
      "    SepalLength in [4.39, 7.90], SepalWidth in [2.19, 4.10], PetalLength in [1.19, 2.69], PetalWidth in [0.09, 2.50].\n",
      "iris(PetalLength, PetalWidth, SepalLength, SepalWidth, versicolor) :-\n",
      "    SepalLength in [4.39, 7.90], SepalWidth in [2.19, 4.10], PetalLength in [2.69, 5.09], PetalWidth in [0.09, 2.50].\n",
      "iris(PetalLength, PetalWidth, SepalLength, SepalWidth, virginica) :-\n",
      "    SepalLength in [4.39, 7.90], SepalWidth in [2.19, 4.10], PetalLength in [5.09, 6.90], PetalWidth in [0.09, 2.50].\n"
     ]
    }
   ],
   "source": [
    "it = Extractor.iter(predictor, min_update=0.07, min_examples=150, threshold=0.1, max_iterations=600, n_points=1)\n",
    "theory_from_cream = it.extract(train)\n",
    "print('ITER performance ({} rules):\\nAccuracy = {:.2f}\\nFidelity = {:.2f}\\n'\n",
    "      .format(it.n_rules, it.accuracy(test), it.accuracy(test, predictor)))\n",
    "print('ITER extracted rules:\\n\\n' + pretty_theory(theory_from_cream))"
   ],
   "metadata": {
    "collapsed": false,
    "pycharm": {
     "name": "#%%\n"
    }
   }
  },
  {
   "cell_type": "markdown",
   "source": [
    "We create an extractor that uses the CART algorithm and we extract prolog rules from our trained KNN."
   ],
   "metadata": {
    "collapsed": false
   }
  },
  {
   "cell_type": "code",
   "execution_count": 24,
   "outputs": [
    {
     "name": "stdout",
     "output_type": "stream",
     "text": [
      "CART performance (3 rules):\n",
      "Accuracy = 0.40\n",
      "Fidelity = 0.39\n",
      "\n",
      "\n",
      "CART extracted rules:\n",
      "\n",
      "iris(PetalLength, PetalWidth, SepalLength, SepalWidth, virginica) :-\n",
      "    PetalWidth =< 0.45, SepalLength =< 4.65, SepalWidth =< 2.65.\n",
      "iris(PetalLength, PetalWidth, SepalLength, SepalWidth, setosa) :-\n",
      "    PetalWidth =< 0.45, SepalLength =< 4.65, SepalWidth =< 3.15.\n",
      "iris(PetalLength, PetalWidth, SepalLength, SepalWidth, versicolor) :-\n",
      "    PetalWidth =< 0.45, SepalLength =< 4.65, PetalWidth =< 0.25, SepalLength =< 4.5.\n",
      "iris(PetalLength, PetalWidth, SepalLength, SepalWidth, setosa) :-\n",
      "    PetalWidth =< 0.45, SepalLength =< 4.65, PetalWidth =< 0.25.\n",
      "iris(PetalLength, PetalWidth, SepalLength, SepalWidth, versicolor) :-\n",
      "    PetalWidth =< 0.45, SepalLength =< 4.65.\n",
      "iris(PetalLength, PetalWidth, SepalLength, SepalWidth, setosa) :-\n",
      "    PetalWidth =< 0.45, SepalWidth =< 4.05, SepalWidth =< 3.75, PetalWidth =< 0.35, PetalLength =< 1.35.\n",
      "iris(PetalLength, PetalWidth, SepalLength, SepalWidth, setosa) :-\n",
      "    PetalWidth =< 0.45, SepalWidth =< 4.05, SepalWidth =< 3.75, PetalWidth =< 0.35, SepalWidth =< 3.55, SepalWidth =< 3.05, SepalLength =< 4.85.\n",
      "iris(PetalLength, PetalWidth, SepalLength, SepalWidth, virginica) :-\n",
      "    PetalWidth =< 0.45, SepalWidth =< 4.05, SepalWidth =< 3.75, PetalWidth =< 0.35, SepalWidth =< 3.55, SepalWidth =< 3.05, SepalLength =< 4.95.\n",
      "iris(PetalLength, PetalWidth, SepalLength, SepalWidth, setosa) :-\n",
      "    PetalWidth =< 0.45, SepalWidth =< 4.05, SepalWidth =< 3.75, PetalWidth =< 0.35, SepalWidth =< 3.55, SepalWidth =< 3.05.\n",
      "iris(PetalLength, PetalWidth, SepalLength, SepalWidth, virginica) :-\n",
      "    PetalWidth =< 0.45, SepalWidth =< 4.05, SepalWidth =< 3.75, PetalWidth =< 0.35, SepalWidth =< 3.55, SepalWidth =< 3.15, PetalWidth =< 0.15.\n",
      "iris(PetalLength, PetalWidth, SepalLength, SepalWidth, versicolor) :-\n",
      "    PetalWidth =< 0.45, SepalWidth =< 4.05, SepalWidth =< 3.75, PetalWidth =< 0.35, SepalWidth =< 3.55, SepalWidth =< 3.15.\n",
      "iris(PetalLength, PetalWidth, SepalLength, SepalWidth, virginica) :-\n",
      "    PetalWidth =< 0.45, SepalWidth =< 4.05, SepalWidth =< 3.75, PetalWidth =< 0.35, SepalWidth =< 3.55, SepalWidth =< 3.45.\n",
      "iris(PetalLength, PetalWidth, SepalLength, SepalWidth, setosa) :-\n",
      "    PetalWidth =< 0.45, SepalWidth =< 4.05, SepalWidth =< 3.75, PetalWidth =< 0.35, SepalWidth =< 3.55, PetalWidth =< 0.25.\n",
      "iris(PetalLength, PetalWidth, SepalLength, SepalWidth, virginica) :-\n",
      "    PetalWidth =< 0.45, SepalWidth =< 4.05, SepalWidth =< 3.75, PetalWidth =< 0.35, SepalWidth =< 3.55.\n",
      "iris(PetalLength, PetalWidth, SepalLength, SepalWidth, versicolor) :-\n",
      "    PetalWidth =< 0.45, SepalWidth =< 4.05, SepalWidth =< 3.75, PetalWidth =< 0.35.\n",
      "iris(PetalLength, PetalWidth, SepalLength, SepalWidth, setosa) :-\n",
      "    PetalWidth =< 0.45, SepalWidth =< 4.05, SepalWidth =< 3.75.\n",
      "iris(PetalLength, PetalWidth, SepalLength, SepalWidth, virginica) :-\n",
      "    PetalWidth =< 0.45, SepalWidth =< 4.05.\n",
      "iris(PetalLength, PetalWidth, SepalLength, SepalWidth, setosa) :-\n",
      "    PetalWidth =< 0.45.\n",
      "iris(PetalLength, PetalWidth, SepalLength, SepalWidth, versicolor) :-\n",
      "    PetalLength =< 4.2.\n",
      "iris(PetalLength, PetalWidth, SepalLength, SepalWidth, virginica) :-\n",
      "    SepalLength =< 6.5, SepalLength =< 5.8.\n",
      "iris(PetalLength, PetalWidth, SepalLength, SepalWidth, setosa) :-\n",
      "    SepalLength =< 6.5, PetalLength =< 4.85.\n",
      "iris(PetalLength, PetalWidth, SepalLength, SepalWidth, versicolor) :-\n",
      "    SepalLength =< 6.5.\n",
      "iris(PetalLength, PetalWidth, SepalLength, SepalWidth, versicolor).\n"
     ]
    }
   ],
   "source": [
    "DTClassifier = DecisionTreeClassifier(max_leaf_nodes=3).fit(train.iloc[:, :-1], predictor.predict(train.iloc[:, :-1]))\n",
    "cart = Extractor.cart(CartPredictor(DTClassifier))\n",
    "theory_from_cart = cart.extract(train)\n",
    "print(f'CART performance ({cart.n_rules} rules):')\n",
    "print(f'Accuracy = {cart.accuracy(test):.2f}')\n",
    "print(f'Fidelity = {cart.accuracy(test, predictor):.2f}\\n')\n",
    "print('\\nCART extracted rules:\\n\\n' + pretty_theory(theory_from_cart))"
   ],
   "metadata": {
    "collapsed": false,
    "pycharm": {
     "name": "#%%\n"
    }
   }
  },
  {
   "cell_type": "markdown",
   "source": [
    "We create a GridEx extractor to extract prolog rules from the same KNN."
   ],
   "metadata": {
    "collapsed": false
   }
  },
  {
   "cell_type": "code",
   "execution_count": 25,
   "outputs": [
    {
     "name": "stdout",
     "output_type": "stream",
     "text": [
      "GridEx performance (3 rules):\n",
      "Accuracy = 0.94\n",
      "Accuracy fidelity = 0.96\n",
      "\n",
      "GridEx extracted rules:\n",
      "\n",
      "iris(PetalLength, PetalWidth, SepalLength, SepalWidth, setosa) :-\n",
      "    PetalLength in [1.19, 1.91].\n",
      "iris(PetalLength, PetalWidth, SepalLength, SepalWidth, versicolor) :-\n",
      "    PetalLength in [2.62, 4.76].\n",
      "iris(PetalLength, PetalWidth, SepalLength, SepalWidth, virginica) :-\n",
      "    PetalLength in [4.76, 6.90].\n"
     ]
    }
   ],
   "source": [
    "ranked = FeatureRanker(x.columns).fit(predictor, x).rankings()\n",
    "gridEx = Extractor.gridex(predictor, Grid(1, AdaptiveStrategy(ranked, [(0.85, 8)])), threshold=.1, min_examples=1)\n",
    "theory_from_gridEx = gridEx.extract(train)\n",
    "print('GridEx performance ({} rules):\\nAccuracy = {:.2f}\\nAccuracy fidelity = {:.2f}\\n'\n",
    "      .format(gridEx.n_rules, gridEx.accuracy(test), gridEx.accuracy(test, predictor)))\n",
    "print('GridEx extracted rules:\\n\\n' + pretty_theory(theory_from_gridEx))"
   ],
   "metadata": {
    "collapsed": false,
    "pycharm": {
     "name": "#%%\n"
    }
   }
  },
  {
   "cell_type": "code",
   "execution_count": 26,
   "outputs": [
    {
     "name": "stdout",
     "output_type": "stream",
     "text": [
      "GridEx performance (4 rules):\n",
      "Accuracy = 0.81\n",
      "Accuracy fidelity = 0.83\n",
      "\n",
      "GridEx extracted rules:\n",
      "\n",
      "iris(PetalLength, PetalWidth, SepalLength, SepalWidth, setosa) :-\n",
      "    PetalLength in [1.19, 2.62].\n",
      "iris(PetalLength, PetalWidth, SepalLength, SepalWidth, versicolor) :-\n",
      "    PetalLength in [2.62, 4.05].\n",
      "iris(PetalLength, PetalWidth, SepalLength, SepalWidth, versicolor) :-\n",
      "    PetalLength in [4.05, 5.47].\n",
      "iris(PetalLength, PetalWidth, SepalLength, SepalWidth, virginica) :-\n",
      "    PetalLength in [5.47, 6.90].\n",
      "GridEx performance (6 rules):\n",
      "Accuracy = 0.97\n",
      "Accuracy fidelity = 0.97\n",
      "\n",
      "GridEx extracted rules:\n",
      "\n",
      "iris(PetalLength, PetalWidth, SepalLength, SepalWidth, setosa) :-\n",
      "    PetalLength in [1.19, 2.62], PetalWidth in [0.09, 0.7].\n",
      "iris(PetalLength, PetalWidth, SepalLength, SepalWidth, virginica) :-\n",
      "    PetalLength in [5.47, 6.90], PetalWidth in [1.3, 1.9].\n",
      "iris(PetalLength, PetalWidth, SepalLength, SepalWidth, virginica) :-\n",
      "    PetalLength in [4.05, 6.90], PetalWidth in [1.9, 2.50].\n",
      "iris(PetalLength, PetalWidth, SepalLength, SepalWidth, virginica) :-\n",
      "    PetalLength in [4.76, 5.47], PetalWidth in [1.6, 1.9].\n",
      "iris(PetalLength, PetalWidth, SepalLength, SepalWidth, versicolor) :-\n",
      "    PetalLength in [2.62, 4.76], PetalWidth in [1.0, 1.3].\n",
      "iris(PetalLength, PetalWidth, SepalLength, SepalWidth, versicolor) :-\n",
      "    PetalLength in [3.33, 5.47], PetalWidth in [1.3, 1.6].\n"
     ]
    }
   ],
   "source": [
    "gridEx = Extractor.gridex(predictor, Grid(2, AdaptiveStrategy(ranked, [(0.85, 2)])), threshold=.1, min_examples=1)\n",
    "theory_from_gridEx = gridEx.extract(train)\n",
    "print('GridEx performance ({} rules):\\nAccuracy = {:.2f}\\nAccuracy fidelity = {:.2f}\\n'\n",
    "      .format(gridEx.n_rules, gridEx.accuracy(test), gridEx.accuracy(test, predictor)))\n",
    "print('GridEx extracted rules:\\n\\n' + pretty_theory(theory_from_gridEx))\n",
    "\n",
    "gridEx = Extractor.gridex(predictor, Grid(2, AdaptiveStrategy(ranked, [(0.7, 4)])), threshold=.01, min_examples=1)\n",
    "theory_from_gridEx = gridEx.extract(train)\n",
    "print('GridEx performance ({} rules):\\nAccuracy = {:.2f}\\nAccuracy fidelity = {:.2f}\\n'\n",
    "      .format(gridEx.n_rules, gridEx.accuracy(test), gridEx.accuracy(test, predictor)))\n",
    "print('GridEx extracted rules:\\n\\n' + pretty_theory(theory_from_gridEx))"
   ],
   "metadata": {
    "collapsed": false,
    "pycharm": {
     "name": "#%%\n"
    }
   }
  },
  {
   "cell_type": "markdown",
   "source": [
    "We use CReEPy and CREAM cluster-based extractors to perform the extraction."
   ],
   "metadata": {
    "collapsed": false,
    "pycharm": {
     "name": "#%% md\n"
    }
   }
  },
  {
   "cell_type": "code",
   "execution_count": 27,
   "outputs": [
    {
     "name": "stdout",
     "output_type": "stream",
     "text": [
      "CReEPy performance (3 rules):\n",
      "Accuracy = 0.84\n",
      "Fidelity = 0.89\n",
      "\n",
      "CReEPy extracted rules:\n",
      "\n",
      "iris(PetalLength, PetalWidth, SepalLength, SepalWidth, versicolor) :-\n",
      "    SepalLength in [4.89, 6.70], SepalWidth in [2.19, 3.20], PetalLength in [2.99, 5.00], PetalWidth in [0.99, 1.80].\n",
      "iris(PetalLength, PetalWidth, SepalLength, SepalWidth, virginica) :-\n",
      "    SepalLength in [4.89, 7.70], SepalWidth in [2.19, 3.80], PetalLength in [2.99, 6.90], PetalWidth in [0.99, 2.50].\n",
      "iris(PetalLength, PetalWidth, SepalLength, SepalWidth, setosa) :-\n",
      "    SepalLength in [4.39, 7.90], SepalWidth in [2.19, 4.10], PetalLength in [1.19, 6.90], PetalWidth in [0.09, 2.50].\n"
     ]
    }
   ],
   "source": [
    "creepy = Extractor.creepy(predictor, depth=2, error_threshold=0.1, output=HyperCubeExtractor.Target.CLASSIFICATION)\n",
    "theory_from_creepy = creepy.extract(train)\n",
    "print('CReEPy performance ({} rules):\\nAccuracy = {:.2f}\\nFidelity = {:.2f}\\n'\n",
    "      .format(creepy.n_rules, creepy.accuracy(test), creepy.accuracy(test, predictor)))\n",
    "print('CReEPy extracted rules:\\n\\n' + pretty_theory(theory_from_creepy))"
   ],
   "metadata": {
    "collapsed": false,
    "pycharm": {
     "name": "#%%\n"
    }
   }
  },
  {
   "cell_type": "code",
   "execution_count": 28,
   "outputs": [
    {
     "name": "stdout",
     "output_type": "stream",
     "text": [
      "CREAM performance (3 rules):\n",
      "Accuracy = 0.84\n",
      "Fidelity = 0.89\n",
      "\n",
      "CREAM extracted rules:\n",
      "\n",
      "iris(PetalLength, PetalWidth, SepalLength, SepalWidth, versicolor) :-\n",
      "    SepalLength in [4.89, 6.70], SepalWidth in [2.19, 3.20], PetalLength in [2.99, 5.00], PetalWidth in [0.99, 1.80].\n",
      "iris(PetalLength, PetalWidth, SepalLength, SepalWidth, virginica) :-\n",
      "    SepalLength in [4.89, 7.70], SepalWidth in [2.19, 3.80], PetalLength in [2.99, 6.90], PetalWidth in [0.99, 2.50].\n",
      "iris(PetalLength, PetalWidth, SepalLength, SepalWidth, setosa) :-\n",
      "    SepalLength in [4.39, 7.90], SepalWidth in [2.19, 4.10], PetalLength in [1.19, 6.90], PetalWidth in [0.09, 2.50].\n"
     ]
    }
   ],
   "source": [
    "cream = Extractor.cream(predictor, depth=2, error_threshold=0.1, output=HyperCubeExtractor.Target.CLASSIFICATION)\n",
    "theory_from_cream = cream.extract(train)\n",
    "print('CREAM performance ({} rules):\\nAccuracy = {:.2f}\\nFidelity = {:.2f}\\n'\n",
    "      .format(cream.n_rules, cream.accuracy(test), cream.accuracy(test, predictor)))\n",
    "print('CREAM extracted rules:\\n\\n' + pretty_theory(theory_from_cream))"
   ],
   "metadata": {
    "collapsed": false,
    "pycharm": {
     "name": "#%%\n"
    }
   }
  },
  {
   "cell_type": "code",
   "execution_count": 28,
   "outputs": [],
   "source": [],
   "metadata": {
    "collapsed": false,
    "pycharm": {
     "name": "#%%\n"
    }
   }
  }
 ],
 "metadata": {
  "kernelspec": {
   "display_name": "Python 3 (ipykernel)",
   "language": "python",
   "name": "python3"
  },
  "language_info": {
   "codemirror_mode": {
    "name": "ipython",
    "version": 3
   },
   "file_extension": ".py",
   "mimetype": "text/x-python",
   "name": "python",
   "nbconvert_exporter": "python",
   "pygments_lexer": "ipython3",
   "version": "3.9.7"
  }
 },
 "nbformat": 4,
 "nbformat_minor": 5
}