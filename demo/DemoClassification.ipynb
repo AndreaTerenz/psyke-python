{
 "cells": [
  {
   "cell_type": "markdown",
   "metadata": {
    "collapsed": false
   },
   "source": [
    "# PSyKE's demo\n",
    "\n",
    "Some imports."
   ]
  },
  {
   "cell_type": "code",
   "execution_count": 1,
   "id": "6b710e7c",
   "metadata": {},
   "outputs": [],
   "source": [
    "from sklearn.model_selection import train_test_split\n",
    "from sklearn.datasets import load_iris\n",
    "import pandas as pd\n",
    "\n",
    "from sklearn.neighbors import KNeighborsClassifier\n",
    "from sklearn.metrics import accuracy_score, f1_score\n",
    "\n",
    "from psyke import Extractor, Clustering, EvaluableModel\n",
    "from psyke.extraction.hypercubic.strategy import AdaptiveStrategy\n",
    "from psyke.extraction.hypercubic import Grid, FeatureRanker\n",
    "from psyke.tuning.orchid import OrCHiD\n",
    "from psyke.utils.logic import pretty_theory\n",
    "from psyke.utils import Target"
   ]
  },
  {
   "cell_type": "markdown",
   "metadata": {
    "collapsed": false,
    "pycharm": {
     "name": "#%% md\n"
    }
   },
   "source": [
    "Import iris dataset separating features and class."
   ]
  },
  {
   "cell_type": "code",
   "execution_count": 2,
   "id": "f8e46c49",
   "metadata": {},
   "outputs": [],
   "source": [
    "x, y = load_iris(return_X_y=True, as_frame=True)"
   ]
  },
  {
   "cell_type": "markdown",
   "metadata": {
    "collapsed": false
   },
   "source": [
    "Rename of the features."
   ]
  },
  {
   "cell_type": "code",
   "execution_count": 3,
   "id": "38d5afb0",
   "metadata": {},
   "outputs": [],
   "source": [
    "x.columns = ['SepalLength', 'SepalWidth', 'PetalLength', 'PetalWidth']"
   ]
  },
  {
   "cell_type": "markdown",
   "metadata": {
    "collapsed": false
   },
   "source": [
    "Replace integer indices with the corresponding string class."
   ]
  },
  {
   "cell_type": "code",
   "execution_count": 4,
   "id": "4f807185",
   "metadata": {},
   "outputs": [
    {
     "data": {
      "text/plain": "        target\n0       setosa\n1       setosa\n2       setosa\n3       setosa\n4       setosa\n..         ...\n145  virginica\n146  virginica\n147  virginica\n148  virginica\n149  virginica\n\n[150 rows x 1 columns]",
      "text/html": "<div>\n<style scoped>\n    .dataframe tbody tr th:only-of-type {\n        vertical-align: middle;\n    }\n\n    .dataframe tbody tr th {\n        vertical-align: top;\n    }\n\n    .dataframe thead th {\n        text-align: right;\n    }\n</style>\n<table border=\"1\" class=\"dataframe\">\n  <thead>\n    <tr style=\"text-align: right;\">\n      <th></th>\n      <th>target</th>\n    </tr>\n  </thead>\n  <tbody>\n    <tr>\n      <th>0</th>\n      <td>setosa</td>\n    </tr>\n    <tr>\n      <th>1</th>\n      <td>setosa</td>\n    </tr>\n    <tr>\n      <th>2</th>\n      <td>setosa</td>\n    </tr>\n    <tr>\n      <th>3</th>\n      <td>setosa</td>\n    </tr>\n    <tr>\n      <th>4</th>\n      <td>setosa</td>\n    </tr>\n    <tr>\n      <th>...</th>\n      <td>...</td>\n    </tr>\n    <tr>\n      <th>145</th>\n      <td>virginica</td>\n    </tr>\n    <tr>\n      <th>146</th>\n      <td>virginica</td>\n    </tr>\n    <tr>\n      <th>147</th>\n      <td>virginica</td>\n    </tr>\n    <tr>\n      <th>148</th>\n      <td>virginica</td>\n    </tr>\n    <tr>\n      <th>149</th>\n      <td>virginica</td>\n    </tr>\n  </tbody>\n</table>\n<p>150 rows × 1 columns</p>\n</div>"
     },
     "execution_count": 4,
     "metadata": {},
     "output_type": "execute_result"
    }
   ],
   "source": [
    "y = pd.DataFrame(y).replace({\"target\": {0: 'setosa', 1: 'versicolor', 2: 'virginica'}})\n",
    "y"
   ]
  },
  {
   "cell_type": "markdown",
   "metadata": {
    "collapsed": false
   },
   "source": [
    "The final dataset:"
   ]
  },
  {
   "cell_type": "code",
   "execution_count": 5,
   "id": "7ac49b4e",
   "metadata": {},
   "outputs": [
    {
     "data": {
      "text/plain": "     SepalLength  SepalWidth  PetalLength  PetalWidth       iris\n0            5.1         3.5          1.4         0.2     setosa\n1            4.9         3.0          1.4         0.2     setosa\n2            4.7         3.2          1.3         0.2     setosa\n3            4.6         3.1          1.5         0.2     setosa\n4            5.0         3.6          1.4         0.2     setosa\n..           ...         ...          ...         ...        ...\n145          6.7         3.0          5.2         2.3  virginica\n146          6.3         2.5          5.0         1.9  virginica\n147          6.5         3.0          5.2         2.0  virginica\n148          6.2         3.4          5.4         2.3  virginica\n149          5.9         3.0          5.1         1.8  virginica\n\n[150 rows x 5 columns]",
      "text/html": "<div>\n<style scoped>\n    .dataframe tbody tr th:only-of-type {\n        vertical-align: middle;\n    }\n\n    .dataframe tbody tr th {\n        vertical-align: top;\n    }\n\n    .dataframe thead th {\n        text-align: right;\n    }\n</style>\n<table border=\"1\" class=\"dataframe\">\n  <thead>\n    <tr style=\"text-align: right;\">\n      <th></th>\n      <th>SepalLength</th>\n      <th>SepalWidth</th>\n      <th>PetalLength</th>\n      <th>PetalWidth</th>\n      <th>iris</th>\n    </tr>\n  </thead>\n  <tbody>\n    <tr>\n      <th>0</th>\n      <td>5.1</td>\n      <td>3.5</td>\n      <td>1.4</td>\n      <td>0.2</td>\n      <td>setosa</td>\n    </tr>\n    <tr>\n      <th>1</th>\n      <td>4.9</td>\n      <td>3.0</td>\n      <td>1.4</td>\n      <td>0.2</td>\n      <td>setosa</td>\n    </tr>\n    <tr>\n      <th>2</th>\n      <td>4.7</td>\n      <td>3.2</td>\n      <td>1.3</td>\n      <td>0.2</td>\n      <td>setosa</td>\n    </tr>\n    <tr>\n      <th>3</th>\n      <td>4.6</td>\n      <td>3.1</td>\n      <td>1.5</td>\n      <td>0.2</td>\n      <td>setosa</td>\n    </tr>\n    <tr>\n      <th>4</th>\n      <td>5.0</td>\n      <td>3.6</td>\n      <td>1.4</td>\n      <td>0.2</td>\n      <td>setosa</td>\n    </tr>\n    <tr>\n      <th>...</th>\n      <td>...</td>\n      <td>...</td>\n      <td>...</td>\n      <td>...</td>\n      <td>...</td>\n    </tr>\n    <tr>\n      <th>145</th>\n      <td>6.7</td>\n      <td>3.0</td>\n      <td>5.2</td>\n      <td>2.3</td>\n      <td>virginica</td>\n    </tr>\n    <tr>\n      <th>146</th>\n      <td>6.3</td>\n      <td>2.5</td>\n      <td>5.0</td>\n      <td>1.9</td>\n      <td>virginica</td>\n    </tr>\n    <tr>\n      <th>147</th>\n      <td>6.5</td>\n      <td>3.0</td>\n      <td>5.2</td>\n      <td>2.0</td>\n      <td>virginica</td>\n    </tr>\n    <tr>\n      <th>148</th>\n      <td>6.2</td>\n      <td>3.4</td>\n      <td>5.4</td>\n      <td>2.3</td>\n      <td>virginica</td>\n    </tr>\n    <tr>\n      <th>149</th>\n      <td>5.9</td>\n      <td>3.0</td>\n      <td>5.1</td>\n      <td>1.8</td>\n      <td>virginica</td>\n    </tr>\n  </tbody>\n</table>\n<p>150 rows × 5 columns</p>\n</div>"
     },
     "execution_count": 5,
     "metadata": {},
     "output_type": "execute_result"
    }
   ],
   "source": [
    "dataset = x.join(y)\n",
    "dataset.columns = [*dataset.columns[:-1], 'iris']\n",
    "dataset"
   ]
  },
  {
   "cell_type": "markdown",
   "metadata": {
    "collapsed": false
   },
   "source": [
    "Split between train and test set in a reproducible way."
   ]
  },
  {
   "cell_type": "code",
   "execution_count": 6,
   "id": "03fc5e2c",
   "metadata": {},
   "outputs": [],
   "source": [
    "train, test = train_test_split(dataset, test_size=0.25, random_state=1)"
   ]
  },
  {
   "cell_type": "markdown",
   "metadata": {
    "collapsed": false
   },
   "source": [
    "We use as predictor a KNN and we train it."
   ]
  },
  {
   "cell_type": "code",
   "execution_count": 7,
   "id": "aa8a3128",
   "metadata": {},
   "outputs": [
    {
     "name": "stdout",
     "output_type": "stream",
     "text": [
      "Accuracy: 0.97\n",
      "F1: 0.97\n"
     ]
    }
   ],
   "source": [
    "#predictor = MLPClassifier(alpha=1, max_iter=1000)\n",
    "predictor = KNeighborsClassifier(n_neighbors=7)\n",
    "#predictor = DecisionTreeClassifier()\n",
    "predictor.fit(train.iloc[:, :-1], train.iloc[:, -1])\n",
    "print(f'Accuracy: {accuracy_score(predictor.predict(test.iloc[:, :-1]), test.iloc[:, -1]):.2f}')\n",
    "print(f'F1: {f1_score(predictor.predict(test.iloc[:, :-1]), test.iloc[:, -1], average=\"weighted\"):.2f}')"
   ]
  },
  {
   "cell_type": "code",
   "execution_count": 8,
   "outputs": [],
   "source": [
    "def print_scores(scores):\n",
    "    print(f'Classification accuracy = {scores[EvaluableModel.ClassificationScore.ACCURACY][0]:.2f} (data), '\n",
    "          f'{scores[EvaluableModel.ClassificationScore.ACCURACY][1]:.2f} (BB)\\n'\n",
    "          f'F1 = {scores[EvaluableModel.ClassificationScore.F1][0]:.2f} (data), '\n",
    "          f'{scores[EvaluableModel.ClassificationScore.F1][1]:.2f} (BB)')\n",
    "\n",
    "def get_scores(extractor, test, predictor, brute=False, criterion='density', n=2):\n",
    "    return extractor.score(test, predictor, True, True, brute, criterion, n, EvaluableModel.Task.CLASSIFICATION,\n",
    "                           [EvaluableModel.ClassificationScore.ACCURACY, EvaluableModel.ClassificationScore.F1])"
   ],
   "metadata": {
    "collapsed": false,
    "pycharm": {
     "name": "#%%\n"
    }
   }
  },
  {
   "cell_type": "markdown",
   "source": [
    "We create an extractor that uses the CART algorithm and we extract prolog rules from our trained KNN."
   ],
   "metadata": {
    "collapsed": false
   }
  },
  {
   "cell_type": "code",
   "execution_count": 9,
   "outputs": [
    {
     "name": "stdout",
     "output_type": "stream",
     "text": [
      "CART performance (3 rules with 100.00% coverage):\n",
      "Classification accuracy = 0.97 (data), 1.00 (BB)\n",
      "F1 = 0.97 (data), 1.00 (BB)\n",
      "\n",
      "CART extracted rules:\n",
      "\n",
      "iris(PetalLength, PetalWidth, SepalLength, SepalWidth, setosa) :-\n",
      "    PetalLength =< 2.6.\n",
      "iris(PetalLength, PetalWidth, SepalLength, SepalWidth, versicolor) :-\n",
      "    PetalLength =< 4.75.\n",
      "iris(PetalLength, PetalWidth, SepalLength, SepalWidth, virginica).\n"
     ]
    }
   ],
   "source": [
    "cart = Extractor.cart(predictor, simplify=True)\n",
    "theory_from_cart = cart.extract(train)\n",
    "scores, completeness = get_scores(cart, test, predictor)\n",
    "print(f'CART performance ({cart.n_rules} rules with {completeness * 100:.2f}% coverage):')\n",
    "print_scores(scores)\n",
    "print('\\nCART extracted rules:\\n\\n' + pretty_theory(theory_from_cart))"
   ],
   "metadata": {
    "collapsed": false,
    "pycharm": {
     "name": "#%%\n"
    }
   }
  },
  {
   "cell_type": "code",
   "execution_count": 10,
   "outputs": [
    {
     "name": "stdout",
     "output_type": "stream",
     "text": [
      "DiViNE performance (3 rules with 73.68% coverage):\n",
      "Classification accuracy = 0.96 (data), 1.00 (BB)\n",
      "F1 = 0.96 (data), 1.00 (BB)\n",
      "\n",
      "DiViNE brute performance (3 rules with 100.00% coverage):\n",
      "Classification accuracy = 0.97 (data), 1.00 (BB)\n",
      "F1 = 0.97 (data), 1.00 (BB)\n",
      "\n",
      "DiViNE extracted rules:\n",
      "\n",
      "iris(PetalLength, PetalWidth, SepalLength, SepalWidth, versicolor) :-\n",
      "    SepalLength in [4.9, 7.0], SepalWidth in [2.0, 3.2], PetalLength in [3.3, 4.9], PetalWidth in [1.0, 1.5].\n",
      "iris(PetalLength, PetalWidth, SepalLength, SepalWidth, setosa) :-\n",
      "    SepalLength in [4.3, 5.7], SepalWidth in [2.3, 4.4], PetalLength in [1.0, 1.9], PetalWidth in [0.1, 0.6].\n",
      "iris(PetalLength, PetalWidth, SepalLength, SepalWidth, virginica) :-\n",
      "    SepalLength in [5.6, 7.7], SepalWidth in [2.5, 3.8], PetalLength in [4.8, 6.9], PetalWidth in [1.4, 2.5].\n"
     ]
    }
   ],
   "source": [
    "divine = Extractor.divine(predictor, k=5, patience=15, close_to_center=True)\n",
    "theory_from_divine = divine.extract(train)\n",
    "scores, completeness = get_scores(divine, test, predictor)\n",
    "print(f'DiViNE performance ({divine.n_rules} rules with {completeness * 100:.2f}% coverage):')\n",
    "print_scores(scores)\n",
    "\n",
    "scores, completeness = get_scores(divine, test, predictor, True, 'density')\n",
    "print(f'\\nDiViNE brute performance ({divine.n_rules} rules with {completeness * 100:.2f}% coverage):')\n",
    "print_scores(scores)\n",
    "\n",
    "print('\\nDiViNE extracted rules:\\n\\n' + pretty_theory(theory_from_divine))"
   ],
   "metadata": {
    "collapsed": false,
    "pycharm": {
     "name": "#%%\n"
    }
   }
  },
  {
   "cell_type": "code",
   "execution_count": 34,
   "outputs": [
    {
     "name": "stdout",
     "output_type": "stream",
     "text": [
      "DiViNE performance (3 rules with 71.05% coverage):\n",
      "Classification accuracy = 0.96 (data), 1.00 (BB)\n",
      "F1 = 0.96 (data), 1.00 (BB)\n",
      "\n",
      "DiViNE brute performance (3 rules with 100.00% coverage):\n",
      "Classification accuracy = 0.97 (data), 1.00 (BB)\n",
      "F1 = 0.97 (data), 1.00 (BB)\n",
      "\n",
      "DiViNE extracted rules:\n",
      "\n",
      "iris(PetalLength, PetalWidth, SepalLength, SepalWidth, versicolor) :-\n",
      "    SepalLength in [4.9, 7.0], SepalWidth in [2.0, 3.2], PetalLength in [3.3, 4.7], PetalWidth in [1.0, 1.5].\n",
      "iris(PetalLength, PetalWidth, SepalLength, SepalWidth, setosa) :-\n",
      "    SepalLength in [4.3, 5.7], SepalWidth in [2.3, 4.4], PetalLength in [1.0, 1.9], PetalWidth in [0.1, 0.6].\n",
      "iris(PetalLength, PetalWidth, SepalLength, SepalWidth, virginica) :-\n",
      "    SepalLength in [5.6, 7.7], SepalWidth in [2.5, 3.8], PetalLength in [4.8, 6.9], PetalWidth in [1.4, 2.5].\n"
     ]
    }
   ],
   "source": [
    "divine = Extractor.divine(predictor, k=5, patience=15, close_to_center=False)\n",
    "theory_from_divine = divine.extract(train)\n",
    "scores, completeness = get_scores(divine, test, predictor)\n",
    "print(f'DiViNE performance ({divine.n_rules} rules with {completeness * 100:.2f}% coverage):')\n",
    "print_scores(scores)\n",
    "\n",
    "scores, completeness = get_scores(divine, test, predictor, True)\n",
    "print(f'\\nDiViNE brute performance ({divine.n_rules} rules with {completeness * 100:.2f}% coverage):')\n",
    "print_scores(scores)\n",
    "\n",
    "print('\\nDiViNE extracted rules:\\n\\n' + pretty_theory(theory_from_divine))"
   ],
   "metadata": {
    "collapsed": false,
    "pycharm": {
     "name": "#%%\n"
    }
   }
  },
  {
   "cell_type": "code",
   "execution_count": 42,
   "outputs": [
    {
     "name": "stdout",
     "output_type": "stream",
     "text": [
      "ITER performance (3 rules with 97.37% coverage):\n",
      "Classification accuracy = 0.97 (data), 1.00 (BB)\n",
      "F1 = 0.97 (data), 1.00 (BB)\n",
      "\n",
      "ITER brute performance (3 rules with 100.00% coverage):\n",
      "Classification accuracy = 0.97 (data), 1.00 (BB)\n",
      "F1 = 0.97 (data), 1.00 (BB)\n",
      "\n",
      "ITER extracted rules:\n",
      "\n",
      "iris(PetalLength, PetalWidth, SepalLength, SepalWidth, setosa) :-\n",
      "    SepalLength in [4.29, 7.70], SepalWidth in [1.99, 4.40], PetalLength in [0.99, 2.58], PetalWidth in [0.09, 2.50].\n",
      "iris(PetalLength, PetalWidth, SepalLength, SepalWidth, versicolor) :-\n",
      "    SepalLength in [4.29, 7.70], SepalWidth in [1.99, 4.40], PetalLength in [2.58, 4.94], PetalWidth in [0.09, 2.50].\n",
      "iris(PetalLength, PetalWidth, SepalLength, SepalWidth, virginica) :-\n",
      "    SepalLength in [4.29, 7.70], SepalWidth in [1.99, 4.40], PetalLength in [4.94, 6.90], PetalWidth in [0.09, 2.50].\n"
     ]
    }
   ],
   "source": [
    "it = Extractor.iter(predictor, min_update=0.2, min_examples=150, threshold=0.1,\n",
    "                    max_iterations=100, n_points=1, fill_gaps=True)\n",
    "theory_from_iter = it.extract(train)\n",
    "scores, completeness = get_scores(it, test, predictor)\n",
    "print(f'ITER performance ({it.n_rules} rules with {completeness * 100:.2f}% coverage):')\n",
    "print_scores(scores)\n",
    "\n",
    "scores, completeness = get_scores(it, test, predictor, True)\n",
    "print(f'\\nITER brute performance ({it.n_rules} rules with {completeness * 100:.2f}% coverage):')\n",
    "print_scores(scores)\n",
    "\n",
    "print('\\nITER extracted rules:\\n\\n' + pretty_theory(theory_from_iter))"
   ],
   "metadata": {
    "collapsed": false,
    "pycharm": {
     "name": "#%%\n"
    }
   }
  },
  {
   "cell_type": "markdown",
   "source": [
    "We create a GridEx extractor to extract prolog rules from the same KNN."
   ],
   "metadata": {
    "collapsed": false
   }
  },
  {
   "cell_type": "code",
   "execution_count": 40,
   "outputs": [
    {
     "name": "stdout",
     "output_type": "stream",
     "text": [
      "GridEx performance (5 rules with 94.74% coverage):\n",
      "Classification accuracy = 0.94 (data), 0.97 (BB)\n",
      "F1 = 0.95 (data), 0.97 (BB)\n",
      "\n",
      "GridEx brute performance (5 rules with 100.00% coverage):\n",
      "Classification accuracy = 0.95 (data), 0.97 (BB)\n",
      "F1 = 0.95 (data), 0.97 (BB)\n",
      "\n",
      "GridEx extracted rules:\n",
      "\n",
      "iris(PetalLength, PetalWidth, SepalLength, SepalWidth, versicolor) :-\n",
      "    PetalLength in [4.54, 5.72], PetalWidth in [1.06, 1.54].\n",
      "iris(PetalLength, PetalWidth, SepalLength, SepalWidth, setosa) :-\n",
      "    PetalLength in [0.99, 2.17], PetalWidth in [0.09, 1.06].\n",
      "iris(PetalLength, PetalWidth, SepalLength, SepalWidth, versicolor) :-\n",
      "    PetalLength in [2.17, 4.54], PetalWidth in [0.57, 1.06].\n",
      "iris(PetalLength, PetalWidth, SepalLength, SepalWidth, versicolor) :-\n",
      "    PetalLength in [3.36, 4.54], PetalWidth in [1.06, 2.02].\n",
      "iris(PetalLength, PetalWidth, SepalLength, SepalWidth, virginica) :-\n",
      "    PetalLength in [4.54, 6.90], PetalWidth in [1.54, 2.50].\n"
     ]
    }
   ],
   "source": [
    "ranked = FeatureRanker(x.columns).fit(predictor, x).rankings()\n",
    "gridEx = Extractor.gridex(predictor, Grid(1, AdaptiveStrategy(ranked, [(0.7, 5)])), threshold=.1, min_examples=1)\n",
    "theory_from_gridEx = gridEx.extract(train)\n",
    "scores, completeness = get_scores(gridEx, test, predictor)\n",
    "print(f'GridEx performance ({gridEx.n_rules} rules with {completeness * 100:.2f}% coverage):')\n",
    "print_scores(scores)\n",
    "\n",
    "scores, completeness = get_scores(gridEx, test, predictor, True)\n",
    "print(f'\\nGridEx brute performance ({gridEx.n_rules} rules with {completeness * 100:.2f}% coverage):')\n",
    "print_scores(scores)\n",
    "\n",
    "print('\\nGridEx extracted rules:\\n\\n' + pretty_theory(theory_from_gridEx))"
   ],
   "metadata": {
    "collapsed": false,
    "pycharm": {
     "name": "#%%\n"
    }
   }
  },
  {
   "cell_type": "code",
   "execution_count": 41,
   "outputs": [
    {
     "name": "stdout",
     "output_type": "stream",
     "text": [
      "GridEx performance (3 rules with 94.74% coverage):\n",
      "Classification accuracy = 0.92 (data), 0.94 (BB)\n",
      "F1 = 0.92 (data), 0.95 (BB)\n",
      "\n",
      "GridEx brute performance (3 rules with 100.00% coverage):\n",
      "Classification accuracy = 0.92 (data), 0.95 (BB)\n",
      "F1 = 0.92 (data), 0.95 (BB)\n",
      "\n",
      "GridEx extracted rules:\n",
      "\n",
      "iris(PetalLength, PetalWidth, SepalLength, SepalWidth, setosa) :-\n",
      "    PetalLength in [0.99, 2.47].\n",
      "iris(PetalLength, PetalWidth, SepalLength, SepalWidth, versicolor) :-\n",
      "    PetalLength in [3.21, 4.68].\n",
      "iris(PetalLength, PetalWidth, SepalLength, SepalWidth, virginica) :-\n",
      "    PetalLength in [4.68, 6.90].\n"
     ]
    }
   ],
   "source": [
    "ranked = FeatureRanker(x.columns).fit(predictor, x).rankings()\n",
    "gridEx = Extractor.gridex(predictor, Grid(1, AdaptiveStrategy(ranked, [(0.85, 8)])), threshold=.1, min_examples=1)\n",
    "theory_from_gridEx = gridEx.extract(train)\n",
    "scores, completeness = get_scores(gridEx, test, predictor)\n",
    "print(f'GridEx performance ({gridEx.n_rules} rules with {completeness * 100:.2f}% coverage):')\n",
    "print_scores(scores)\n",
    "\n",
    "scores, completeness = get_scores(gridEx, test, predictor, True)\n",
    "print(f'\\nGridEx brute performance ({gridEx.n_rules} rules with {completeness * 100:.2f}% coverage):')\n",
    "print_scores(scores)\n",
    "\n",
    "print('\\nGridEx extracted rules:\\n\\n' + pretty_theory(theory_from_gridEx))"
   ],
   "metadata": {
    "collapsed": false,
    "pycharm": {
     "name": "#%%\n"
    }
   }
  },
  {
   "cell_type": "markdown",
   "metadata": {
    "collapsed": false,
    "pycharm": {
     "name": "#%% md\n"
    }
   },
   "source": [
    "We use the CReEPy clustering-based extractor to perform the extraction."
   ]
  },
  {
   "cell_type": "code",
   "execution_count": null,
   "outputs": [],
   "source": [
    "def print_clustering_scores(scores):\n",
    "    print(f'ARI = {scores[EvaluableModel.ClusteringScore.ARI][0]:.2f}\\n'\n",
    "          f'AMI = {scores[EvaluableModel.ClusteringScore.AMI][0]:.2f}\\n'\n",
    "          f'V-measure = {scores[EvaluableModel.ClusteringScore.V][0]:.2f}\\n'\n",
    "          f'FMI = {scores[EvaluableModel.ClusteringScore.FMI][0]:.2f}')\n",
    "\n",
    "def get_clustering_scores(clustering, test):\n",
    "    return clustering.score(test, None, False, True, EvaluableModel.Task.CLASSIFICATION,\n",
    "                           [EvaluableModel.ClusteringScore.ARI, EvaluableModel.ClusteringScore.AMI,\n",
    "                            EvaluableModel.ClusteringScore.V, EvaluableModel.ClusteringScore.FMI])\n",
    "\n",
    "def print_scores_short(scores):\n",
    "    print(f'Classification accuracy = {scores[EvaluableModel.ClassificationScore.ACCURACY][0]:.2f}')\n",
    "\n",
    "def get_scores_short(extractor, test):\n",
    "    return extractor.score(test, None, False, True, EvaluableModel.Task.CLASSIFICATION,\n",
    "                           [EvaluableModel.ClassificationScore.ACCURACY, EvaluableModel.ClassificationScore.F1])"
   ],
   "metadata": {
    "collapsed": false,
    "pycharm": {
     "name": "#%%\n"
    }
   }
  },
  {
   "cell_type": "code",
   "execution_count": null,
   "outputs": [],
   "source": [
    "orchid = OrCHiD(dataframe=train, algorithm=OrCHiD.Algorithm.ExACT, output=Target.CLASSIFICATION,\n",
    "                max_mae_increase=1.2, min_rule_decrease=0.9, readability_tradeoff=0.1, patience=5, max_depth=3)\n",
    "orchid.search()\n",
    "(_, _, depth, threshold) = orchid.get_best()[0]"
   ],
   "metadata": {
    "collapsed": false,
    "pycharm": {
     "name": "#%%\n"
    }
   }
  },
  {
   "cell_type": "code",
   "execution_count": null,
   "metadata": {
    "collapsed": false,
    "pycharm": {
     "name": "#%%\n"
    }
   },
   "outputs": [],
   "source": [
    "exact = Clustering.exact(depth=depth, error_threshold=threshold, output=Target.CLASSIFICATION)\n",
    "exact.fit(train)\n",
    "scores, completeness = get_clustering_scores(exact, test)\n",
    "print(f'ExACT performance ({exact.n_rules} clusters with {completeness * 100:.2f}% coverage):')\n",
    "print_clustering_scores(scores)\n",
    "scores, _ = get_scores_short(exact, test)\n",
    "print_scores_short(scores)\n",
    "print()\n",
    "exact.explain()"
   ]
  },
  {
   "cell_type": "code",
   "execution_count": null,
   "metadata": {
    "collapsed": false,
    "pycharm": {
     "name": "#%%\n"
    }
   },
   "outputs": [],
   "source": [
    "creepy = Extractor.creepy(predictor, depth=2, error_threshold=0.1, output=Target.CLASSIFICATION,\n",
    "                          ranks=ranked, ignore_threshold=.99, clustering=Clustering.exact)\n",
    "theory_from_creepy = creepy.extract(train)\n",
    "scores, completeness = get_scores(creepy, test, predictor)\n",
    "print(f'CReEPy performance ({creepy.n_rules} rules with {completeness * 100:.2f}% coverage):')\n",
    "print_scores(scores)\n",
    "print('\\nCReEPy extracted rules:\\n\\n' + pretty_theory(theory_from_creepy))"
   ]
  },
  {
   "cell_type": "code",
   "execution_count": null,
   "outputs": [],
   "source": [
    "orchid = OrCHiD(dataframe=train, algorithm=OrCHiD.Algorithm.CREAM, output=Target.CLASSIFICATION,\n",
    "                max_mae_increase=1.2, min_rule_decrease=0.9, readability_tradeoff=0.1, patience=5, max_depth=3)\n",
    "orchid.search()\n",
    "(_, _, depth, threshold) = orchid.get_best()[0]"
   ],
   "metadata": {
    "collapsed": false,
    "pycharm": {
     "name": "#%%\n"
    }
   }
  },
  {
   "cell_type": "code",
   "execution_count": null,
   "metadata": {
    "collapsed": false,
    "pycharm": {
     "name": "#%%\n"
    }
   },
   "outputs": [],
   "source": [
    "cream = Clustering.cream(depth=depth, error_threshold=threshold, output=Target.CLASSIFICATION)\n",
    "cream.fit(train)\n",
    "scores, completeness = get_clustering_scores(cream, test)\n",
    "print(f'CREAM performance ({cream.n_rules} clusters with {completeness * 100:.2f}% coverage):')\n",
    "print_clustering_scores(scores)\n",
    "scores, _ = get_scores_short(cream, test)\n",
    "print_scores_short(scores)\n",
    "print()\n",
    "cream.explain()"
   ]
  },
  {
   "cell_type": "code",
   "execution_count": null,
   "metadata": {
    "collapsed": false,
    "pycharm": {
     "name": "#%%\n"
    }
   },
   "outputs": [],
   "source": [
    "creepy = Extractor.creepy(predictor, depth=2, error_threshold=0.1, output=Target.CLASSIFICATION,\n",
    "                          ranks=ranked, ignore_threshold=.99, clustering=Clustering.cream)\n",
    "theory_from_creepy = creepy.extract(train)\n",
    "scores, completeness = get_scores(creepy, test, predictor)\n",
    "print(f'CReEPy performance ({creepy.n_rules} rules with {completeness * 100:.2f}% coverage):')\n",
    "print_scores(scores)\n",
    "print('\\nCReEPy extracted rules:\\n\\n' + pretty_theory(theory_from_creepy))"
   ]
  }
 ],
 "metadata": {
  "kernelspec": {
   "display_name": "Python 3 (ipykernel)",
   "language": "python",
   "name": "python3"
  },
  "language_info": {
   "codemirror_mode": {
    "name": "ipython",
    "version": 3
   },
   "file_extension": ".py",
   "mimetype": "text/x-python",
   "name": "python",
   "nbconvert_exporter": "python",
   "pygments_lexer": "ipython3",
   "version": "3.9.7"
  }
 },
 "nbformat": 4,
 "nbformat_minor": 5
}