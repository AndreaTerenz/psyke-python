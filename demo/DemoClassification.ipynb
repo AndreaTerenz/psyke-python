{
 "cells": [
  {
   "cell_type": "markdown",
   "metadata": {
    "collapsed": false
   },
   "source": [
    "# PSyKE's demo\n",
    "\n",
    "Some imports."
   ]
  },
  {
   "cell_type": "code",
   "execution_count": 17,
   "id": "6b710e7c",
   "metadata": {},
   "outputs": [],
   "source": [
    "from sklearn.model_selection import train_test_split\n",
    "from sklearn.datasets import load_iris\n",
    "import pandas as pd\n",
    "\n",
    "from sklearn.neighbors import KNeighborsClassifier\n",
    "from sklearn.tree import DecisionTreeClassifier\n",
    "from sklearn.neural_network import MLPClassifier\n",
    "from sklearn.metrics import accuracy_score, f1_score\n",
    "\n",
    "from psyke import Extractor\n",
    "from psyke.extraction.hypercubic.strategy import AdaptiveStrategy\n",
    "from psyke.extraction.hypercubic import Grid, FeatureRanker\n",
    "from psyke.utils.logic import pretty_theory\n",
    "from psyke.utils import Target"
   ]
  },
  {
   "cell_type": "markdown",
   "metadata": {
    "collapsed": false,
    "pycharm": {
     "name": "#%% md\n"
    }
   },
   "source": [
    "Import iris dataset separating features and class."
   ]
  },
  {
   "cell_type": "code",
   "execution_count": 18,
   "id": "f8e46c49",
   "metadata": {},
   "outputs": [],
   "source": [
    "x, y = load_iris(return_X_y=True, as_frame=True)"
   ]
  },
  {
   "cell_type": "markdown",
   "metadata": {
    "collapsed": false
   },
   "source": [
    "Rename of the features."
   ]
  },
  {
   "cell_type": "code",
   "execution_count": 19,
   "id": "38d5afb0",
   "metadata": {},
   "outputs": [],
   "source": [
    "x.columns = ['SepalLength', 'SepalWidth', 'PetalLength', 'PetalWidth']"
   ]
  },
  {
   "cell_type": "markdown",
   "metadata": {
    "collapsed": false
   },
   "source": [
    "Replace integer indices with the corresponding string class."
   ]
  },
  {
   "cell_type": "code",
   "execution_count": 20,
   "id": "4f807185",
   "metadata": {},
   "outputs": [
    {
     "data": {
      "text/html": [
       "<div>\n",
       "<style scoped>\n",
       "    .dataframe tbody tr th:only-of-type {\n",
       "        vertical-align: middle;\n",
       "    }\n",
       "\n",
       "    .dataframe tbody tr th {\n",
       "        vertical-align: top;\n",
       "    }\n",
       "\n",
       "    .dataframe thead th {\n",
       "        text-align: right;\n",
       "    }\n",
       "</style>\n",
       "<table border=\"1\" class=\"dataframe\">\n",
       "  <thead>\n",
       "    <tr style=\"text-align: right;\">\n",
       "      <th></th>\n",
       "      <th>target</th>\n",
       "    </tr>\n",
       "  </thead>\n",
       "  <tbody>\n",
       "    <tr>\n",
       "      <th>0</th>\n",
       "      <td>setosa</td>\n",
       "    </tr>\n",
       "    <tr>\n",
       "      <th>1</th>\n",
       "      <td>setosa</td>\n",
       "    </tr>\n",
       "    <tr>\n",
       "      <th>2</th>\n",
       "      <td>setosa</td>\n",
       "    </tr>\n",
       "    <tr>\n",
       "      <th>3</th>\n",
       "      <td>setosa</td>\n",
       "    </tr>\n",
       "    <tr>\n",
       "      <th>4</th>\n",
       "      <td>setosa</td>\n",
       "    </tr>\n",
       "    <tr>\n",
       "      <th>...</th>\n",
       "      <td>...</td>\n",
       "    </tr>\n",
       "    <tr>\n",
       "      <th>145</th>\n",
       "      <td>virginica</td>\n",
       "    </tr>\n",
       "    <tr>\n",
       "      <th>146</th>\n",
       "      <td>virginica</td>\n",
       "    </tr>\n",
       "    <tr>\n",
       "      <th>147</th>\n",
       "      <td>virginica</td>\n",
       "    </tr>\n",
       "    <tr>\n",
       "      <th>148</th>\n",
       "      <td>virginica</td>\n",
       "    </tr>\n",
       "    <tr>\n",
       "      <th>149</th>\n",
       "      <td>virginica</td>\n",
       "    </tr>\n",
       "  </tbody>\n",
       "</table>\n",
       "<p>150 rows × 1 columns</p>\n",
       "</div>"
      ],
      "text/plain": [
       "        target\n",
       "0       setosa\n",
       "1       setosa\n",
       "2       setosa\n",
       "3       setosa\n",
       "4       setosa\n",
       "..         ...\n",
       "145  virginica\n",
       "146  virginica\n",
       "147  virginica\n",
       "148  virginica\n",
       "149  virginica\n",
       "\n",
       "[150 rows x 1 columns]"
      ]
     },
     "execution_count": 20,
     "metadata": {},
     "output_type": "execute_result"
    }
   ],
   "source": [
    "y = pd.DataFrame(y).replace({\"target\": {0: 'setosa', 1: 'versicolor', 2: 'virginica'}})\n",
    "y"
   ]
  },
  {
   "cell_type": "markdown",
   "metadata": {
    "collapsed": false
   },
   "source": [
    "The final dataset:"
   ]
  },
  {
   "cell_type": "code",
   "execution_count": 21,
   "id": "7ac49b4e",
   "metadata": {},
   "outputs": [
    {
     "data": {
      "text/html": [
       "<div>\n",
       "<style scoped>\n",
       "    .dataframe tbody tr th:only-of-type {\n",
       "        vertical-align: middle;\n",
       "    }\n",
       "\n",
       "    .dataframe tbody tr th {\n",
       "        vertical-align: top;\n",
       "    }\n",
       "\n",
       "    .dataframe thead th {\n",
       "        text-align: right;\n",
       "    }\n",
       "</style>\n",
       "<table border=\"1\" class=\"dataframe\">\n",
       "  <thead>\n",
       "    <tr style=\"text-align: right;\">\n",
       "      <th></th>\n",
       "      <th>SepalLength</th>\n",
       "      <th>SepalWidth</th>\n",
       "      <th>PetalLength</th>\n",
       "      <th>PetalWidth</th>\n",
       "      <th>iris</th>\n",
       "    </tr>\n",
       "  </thead>\n",
       "  <tbody>\n",
       "    <tr>\n",
       "      <th>0</th>\n",
       "      <td>5.1</td>\n",
       "      <td>3.5</td>\n",
       "      <td>1.4</td>\n",
       "      <td>0.2</td>\n",
       "      <td>setosa</td>\n",
       "    </tr>\n",
       "    <tr>\n",
       "      <th>1</th>\n",
       "      <td>4.9</td>\n",
       "      <td>3.0</td>\n",
       "      <td>1.4</td>\n",
       "      <td>0.2</td>\n",
       "      <td>setosa</td>\n",
       "    </tr>\n",
       "    <tr>\n",
       "      <th>2</th>\n",
       "      <td>4.7</td>\n",
       "      <td>3.2</td>\n",
       "      <td>1.3</td>\n",
       "      <td>0.2</td>\n",
       "      <td>setosa</td>\n",
       "    </tr>\n",
       "    <tr>\n",
       "      <th>3</th>\n",
       "      <td>4.6</td>\n",
       "      <td>3.1</td>\n",
       "      <td>1.5</td>\n",
       "      <td>0.2</td>\n",
       "      <td>setosa</td>\n",
       "    </tr>\n",
       "    <tr>\n",
       "      <th>4</th>\n",
       "      <td>5.0</td>\n",
       "      <td>3.6</td>\n",
       "      <td>1.4</td>\n",
       "      <td>0.2</td>\n",
       "      <td>setosa</td>\n",
       "    </tr>\n",
       "    <tr>\n",
       "      <th>...</th>\n",
       "      <td>...</td>\n",
       "      <td>...</td>\n",
       "      <td>...</td>\n",
       "      <td>...</td>\n",
       "      <td>...</td>\n",
       "    </tr>\n",
       "    <tr>\n",
       "      <th>145</th>\n",
       "      <td>6.7</td>\n",
       "      <td>3.0</td>\n",
       "      <td>5.2</td>\n",
       "      <td>2.3</td>\n",
       "      <td>virginica</td>\n",
       "    </tr>\n",
       "    <tr>\n",
       "      <th>146</th>\n",
       "      <td>6.3</td>\n",
       "      <td>2.5</td>\n",
       "      <td>5.0</td>\n",
       "      <td>1.9</td>\n",
       "      <td>virginica</td>\n",
       "    </tr>\n",
       "    <tr>\n",
       "      <th>147</th>\n",
       "      <td>6.5</td>\n",
       "      <td>3.0</td>\n",
       "      <td>5.2</td>\n",
       "      <td>2.0</td>\n",
       "      <td>virginica</td>\n",
       "    </tr>\n",
       "    <tr>\n",
       "      <th>148</th>\n",
       "      <td>6.2</td>\n",
       "      <td>3.4</td>\n",
       "      <td>5.4</td>\n",
       "      <td>2.3</td>\n",
       "      <td>virginica</td>\n",
       "    </tr>\n",
       "    <tr>\n",
       "      <th>149</th>\n",
       "      <td>5.9</td>\n",
       "      <td>3.0</td>\n",
       "      <td>5.1</td>\n",
       "      <td>1.8</td>\n",
       "      <td>virginica</td>\n",
       "    </tr>\n",
       "  </tbody>\n",
       "</table>\n",
       "<p>150 rows × 5 columns</p>\n",
       "</div>"
      ],
      "text/plain": [
       "     SepalLength  SepalWidth  PetalLength  PetalWidth       iris\n",
       "0            5.1         3.5          1.4         0.2     setosa\n",
       "1            4.9         3.0          1.4         0.2     setosa\n",
       "2            4.7         3.2          1.3         0.2     setosa\n",
       "3            4.6         3.1          1.5         0.2     setosa\n",
       "4            5.0         3.6          1.4         0.2     setosa\n",
       "..           ...         ...          ...         ...        ...\n",
       "145          6.7         3.0          5.2         2.3  virginica\n",
       "146          6.3         2.5          5.0         1.9  virginica\n",
       "147          6.5         3.0          5.2         2.0  virginica\n",
       "148          6.2         3.4          5.4         2.3  virginica\n",
       "149          5.9         3.0          5.1         1.8  virginica\n",
       "\n",
       "[150 rows x 5 columns]"
      ]
     },
     "execution_count": 21,
     "metadata": {},
     "output_type": "execute_result"
    }
   ],
   "source": [
    "dataset = x.join(y)\n",
    "dataset.columns = [*dataset.columns[:-1], 'iris']\n",
    "dataset"
   ]
  },
  {
   "cell_type": "markdown",
   "metadata": {
    "collapsed": false
   },
   "source": [
    "Split between train and test set in a reproducible way."
   ]
  },
  {
   "cell_type": "code",
   "execution_count": 22,
   "id": "03fc5e2c",
   "metadata": {},
   "outputs": [],
   "source": [
    "train, test = train_test_split(dataset, test_size=0.5, random_state=0)"
   ]
  },
  {
   "cell_type": "markdown",
   "metadata": {
    "collapsed": false
   },
   "source": [
    "We use as predictor a KNN and we train it."
   ]
  },
  {
   "cell_type": "code",
   "execution_count": 23,
   "id": "aa8a3128",
   "metadata": {},
   "outputs": [
    {
     "name": "stdout",
     "output_type": "stream",
     "text": [
      "Accuracy: 0.96\n",
      "F1: 0.96\n"
     ]
    }
   ],
   "source": [
    "#predictor = MLPClassifier(alpha=1, max_iter=1000)\n",
    "predictor = KNeighborsClassifier(n_neighbors=5)\n",
    "#predictor = DecisionTreeClassifier()\n",
    "predictor.fit(train.iloc[:, :-1], train.iloc[:, -1])\n",
    "print(f'Accuracy: {accuracy_score(predictor.predict(test.iloc[:, :-1]), test.iloc[:, -1]):.2f}')\n",
    "print(f'F1: {f1_score(predictor.predict(test.iloc[:, :-1]), test.iloc[:, -1], average=\"weighted\"):.2f}')"
   ]
  },
  {
   "cell_type": "code",
   "execution_count": 24,
   "metadata": {
    "collapsed": false,
    "pycharm": {
     "name": "#%%\n"
    }
   },
   "outputs": [
    {
     "name": "stdout",
     "output_type": "stream",
     "text": [
      "ITER performance (3 rules):\n",
      "Accuracy = 0.91\n",
      "Fidelity = 0.93\n",
      "F1 = 0.91\n",
      "F1 = 0.93\n",
      "\n",
      "ITER extracted rules:\n",
      "\n",
      "iris(PetalLength, PetalWidth, SepalLength, SepalWidth, setosa) :-\n",
      "    SepalLength in [4.39, 7.90], SepalWidth in [2.19, 4.10], PetalLength in [1.19, 2.35], PetalWidth in [0.09, 2.50].\n",
      "iris(PetalLength, PetalWidth, SepalLength, SepalWidth, versicolor) :-\n",
      "    SepalLength in [4.39, 7.90], SepalWidth in [2.19, 4.10], PetalLength in [2.35, 4.92], PetalWidth in [0.09, 2.50].\n",
      "iris(PetalLength, PetalWidth, SepalLength, SepalWidth, virginica) :-\n",
      "    SepalLength in [4.39, 7.90], SepalWidth in [2.19, 4.10], PetalLength in [4.92, 6.90], PetalWidth in [0.09, 2.50].\n"
     ]
    }
   ],
   "source": [
    "it = Extractor.iter(predictor, min_update=0.15, min_examples=150, threshold=0.1, max_iterations=600, n_points=1)\n",
    "theory_from_iter = it.extract(train)\n",
    "print('ITER performance ({} rules):\\nAccuracy = {:.2f}\\nFidelity = {:.2f}\\nF1 = {:.2f}\\nF1 = {:.2f}\\n'\n",
    "      .format(it.n_rules, it.accuracy(test), it.accuracy(test, predictor), it.f1(test), it.f1(test, predictor)))\n",
    "print('ITER extracted rules:\\n\\n' + pretty_theory(theory_from_iter))"
   ]
  },
  {
   "cell_type": "markdown",
   "metadata": {
    "collapsed": false
   },
   "source": [
    "We create a GridEx extractor to extract prolog rules from the same KNN."
   ]
  },
  {
   "cell_type": "code",
   "execution_count": 25,
   "metadata": {
    "collapsed": false,
    "pycharm": {
     "name": "#%%\n"
    }
   },
   "outputs": [
    {
     "name": "stdout",
     "output_type": "stream",
     "text": [
      "GridEx performance (3 rules):\n",
      "Accuracy = 0.94\n",
      "Accuracy fidelity = 0.96\n",
      "F1 = 0.94\n",
      "F1 = 0.96\n",
      "\n",
      "GridEx extracted rules:\n",
      "\n",
      "iris(PetalLength, PetalWidth, SepalLength, SepalWidth, setosa) :-\n",
      "    PetalLength in [1.19, 1.91].\n",
      "iris(PetalLength, PetalWidth, SepalLength, SepalWidth, versicolor) :-\n",
      "    PetalLength in [2.62, 4.76].\n",
      "iris(PetalLength, PetalWidth, SepalLength, SepalWidth, virginica) :-\n",
      "    PetalLength in [4.76, 6.90].\n"
     ]
    }
   ],
   "source": [
    "ranked = FeatureRanker(x.columns).fit(predictor, x).rankings()\n",
    "gridEx = Extractor.gridex(predictor, Grid(1, AdaptiveStrategy(ranked, [(0.85, 8)])), threshold=.1, min_examples=1)\n",
    "theory_from_gridEx = gridEx.extract(train)\n",
    "print('GridEx performance ({} rules):\\nAccuracy = {:.2f}\\nAccuracy fidelity = {:.2f}\\nF1 = {:.2f}\\nF1 = {:.2f}\\n'\n",
    "      .format(gridEx.n_rules, gridEx.accuracy(test), gridEx.accuracy(test, predictor),\n",
    "              gridEx.f1(test), gridEx.f1(test, predictor)))\n",
    "print('GridEx extracted rules:\\n\\n' + pretty_theory(theory_from_gridEx))"
   ]
  },
  {
   "cell_type": "markdown",
   "metadata": {
    "collapsed": false
   },
   "source": [
    "We create an extractor that uses the CART algorithm and we extract prolog rules from our trained KNN."
   ]
  },
  {
   "cell_type": "code",
   "execution_count": 26,
   "metadata": {
    "collapsed": false,
    "pycharm": {
     "name": "#%%\n"
    }
   },
   "outputs": [
    {
     "name": "stdout",
     "output_type": "stream",
     "text": [
      "CART performance (3 rules):\n",
      "Accuracy = 0.92\n",
      "Fidelity = 0.93\n",
      "F1 = 0.92\n",
      "F1 = 0.93\n",
      "\n",
      "\n",
      "CART extracted rules:\n",
      "\n",
      "iris(PetalLength, PetalWidth, SepalLength, SepalWidth, setosa) :-\n",
      "    PetalLength =< 2.35.\n",
      "iris(PetalLength, PetalWidth, SepalLength, SepalWidth, versicolor) :-\n",
      "    PetalWidth =< 1.55.\n",
      "iris(PetalLength, PetalWidth, SepalLength, SepalWidth, virginica).\n"
     ]
    }
   ],
   "source": [
    "cart = Extractor.cart(predictor, simplify=True)\n",
    "theory_from_cart = cart.extract(train)\n",
    "print('CART performance ({} rules):\\nAccuracy = {:.2f}\\nFidelity = {:.2f}\\nF1 = {:.2f}\\nF1 = {:.2f}\\n'\n",
    "      .format(cart.n_rules, cart.accuracy(test), cart.accuracy(test, predictor),\n",
    "              cart.f1(test), cart.f1(test, predictor)))\n",
    "print('\\nCART extracted rules:\\n\\n' + pretty_theory(theory_from_cart))"
   ]
  },
  {
   "cell_type": "code",
   "execution_count": 27,
   "metadata": {
    "collapsed": false,
    "pycharm": {
     "name": "#%%\n"
    }
   },
   "outputs": [],
   "source": [
    "from matplotlib.lines import Line2D\n",
    "import matplotlib as mpl\n",
    "from matplotlib import pyplot as plt\n",
    "from matplotlib import colors\n",
    "\n",
    "size = (4, 3)\n",
    "cmap = colors.ListedColormap(['b', 'r', 'g'])\n",
    "bounds=[0,2,4,6]\n",
    "norm = colors.BoundaryNorm(bounds, cmap.N)\n",
    "\n",
    "def init():\n",
    "    plt.figure(figsize = size)\n",
    "    plt.gca().set_xlabel(\"Petal length (cm)\")\n",
    "    plt.gca().set_ylabel(\"Petal witdh (cm)\")\n",
    "    plt.xlim(train.PetalLength.min(), train.PetalLength.max())\n",
    "    plt.ylim(train.PetalWidth.min(), train.PetalWidth.max())\n",
    "    plt.gca().set_rasterized(True)\n",
    "\n",
    "def plotSamples(df, name=None, marker=None):\n",
    "    marks = [\n",
    "        Line2D([0], [0], color = \"b\", marker = \"x\", lw = \"0\"),\n",
    "        Line2D([0], [0], color = \"r\", marker = \"*\", lw = \"0\"),\n",
    "        Line2D([0], [0], color = \"g\", marker = \"+\", lw = \"0\")\n",
    "    ]\n",
    "\n",
    "    df1 = df[df.iris == \"setosa\"]\n",
    "    plot(df1[\"PetalLength\"], df1[\"PetalWidth\"], \"b\", \"x\" if marker is None else marker)\n",
    "\n",
    "    df1 = df[df.iris == \"versicolor\"]\n",
    "    plot(df1[\"PetalLength\"], df1[\"PetalWidth\"], \"r\", \"*\" if marker is None else marker)\n",
    "\n",
    "    df1 = df[df.iris == \"virginica\"]\n",
    "    plot(df1[\"PetalLength\"], df1[\"PetalWidth\"], \"g\", \"+\" if marker is None else marker)\n",
    "\n",
    "    plt.gca().legend(marks, ['Setosa', 'Versicolor', 'Virginica'], loc = 4)\n",
    "    if name is not None:\n",
    "        plt.savefig(\"classification-{}.pdf\".format(name), dpi = 500, bbox_inches = 'tight')\n",
    "        plt.show()\n",
    "\n",
    "def plotCube(X, y1, y2, c, cmap, A=.5):\n",
    "    plt.gca().fill_between(X, y1, y2, color=cmap(norm(c)), ec=cmap(norm(c)), fc='none', alpha=A, hatch='//////////')\n",
    "\n",
    "def plot(x, y, color, marker, A=.5):\n",
    "    if marker == 's':\n",
    "        plt.scatter(x, y, c=color, edgecolors=color, marker=marker, hatch='////', alpha=.5, s=9, lw=0)\n",
    "    else:\n",
    "        plt.scatter(x, y, c=color, marker=marker)\n",
    "\n",
    "class_dict = {\n",
    "    'setosa': 1,\n",
    "    'versicolor': 3,\n",
    "    'virginica': 5\n",
    "}"
   ]
  },
  {
   "cell_type": "code",
   "execution_count": 28,
   "metadata": {
    "collapsed": false,
    "pycharm": {
     "name": "#%%\n"
    }
   },
   "outputs": [
    {
     "data": {
      "image/png": "[encoded data removed]",
      "text/plain": [
       "<Figure size 288x216 with 1 Axes>"
      ]
     },
     "metadata": {
      "needs_background": "light"
     },
     "output_type": "display_data"
    },
    {
     "data": {
      "image/png": "[encoded data removed]",
      "text/plain": [
       "<Figure size 288x216 with 1 Axes>"
      ]
     },
     "metadata": {
      "needs_background": "light"
     },
     "output_type": "display_data"
    },
    {
     "data": {
      "image/png": "[encoded data removed]",
      "text/plain": [
       "<Figure size 288x216 with 1 Axes>"
      ]
     },
     "metadata": {
      "needs_background": "light"
     },
     "output_type": "display_data"
    },
    {
     "data": {
      "image/png": "[encoded data removed]",
      "text/plain": [
       "<Figure size 288x216 with 1 Axes>"
      ]
     },
     "metadata": {
      "needs_background": "light"
     },
     "output_type": "display_data"
    }
   ],
   "source": [
    "import numpy as np\n",
    "\n",
    "model = 'knn'\n",
    "\n",
    "n = 2\n",
    "m = 70\n",
    "x = np.linspace(train.SepalLength.min(), train.SepalLength.max(), n)\n",
    "y = np.linspace(train.SepalWidth.min(), train.SepalWidth.max(), n)\n",
    "w = np.linspace(1.2, 6.9, 76)\n",
    "z = np.linspace(0.027, 2.5, 57)\n",
    "\n",
    "xx, yy, ww, zz = np.meshgrid(x[0:2].mean(), y[0:2].mean(), w, z)\n",
    "grid = pd.DataFrame(np.c_[xx.ravel(), yy.ravel(), ww.ravel(), zz.ravel()], columns=dataset.columns[:-1])\n",
    "\n",
    "pred = gridEx.predict(grid)\n",
    "idx = [p is not None for p in pred]\n",
    "\n",
    "init()\n",
    "plotSamples(pd.concat([grid, pd.DataFrame(predictor.predict(grid), columns=['iris'])], axis=1), marker='s')\n",
    "plotSamples(dataset, f'{model}')\n",
    "\n",
    "init()\n",
    "plotSamples(pd.concat([grid, pd.DataFrame(gridEx.predict(grid), columns=['iris'])], axis=1), marker='s')\n",
    "plotSamples(dataset, f'{model}-gridex')\n",
    "\n",
    "init()\n",
    "plotSamples(pd.concat([grid, pd.DataFrame(cart.predict(grid), columns=['iris'])], axis=1), marker='s')\n",
    "plotSamples(dataset, f'{model}-cart')\n",
    "\n",
    "init()\n",
    "plotSamples(pd.concat([grid, pd.DataFrame(it.predict(grid), columns=['iris'])], axis=1), marker='s')\n",
    "plotSamples(dataset, f'{model}-iter')"
   ]
  },
  {
   "cell_type": "code",
   "execution_count": 28,
   "metadata": {
    "collapsed": false,
    "pycharm": {
     "name": "#%%\n"
    }
   },
   "outputs": [],
   "source": []
  },
  {
   "cell_type": "markdown",
   "metadata": {
    "collapsed": false,
    "pycharm": {
     "name": "#%% md\n"
    }
   },
   "source": [
    "We use CReEPy and ORCHiD clustering-based extractors to perform the extraction."
   ]
  },
  {
   "cell_type": "code",
   "execution_count": 29,
   "metadata": {
    "collapsed": false,
    "pycharm": {
     "name": "#%%\n"
    }
   },
   "outputs": [
    {
     "name": "stdout",
     "output_type": "stream",
     "text": [
      "Output is virginica if:\n",
      "    SepalLength is in [5.70, 7.90]\n",
      "    SepalWidth is in [2.50, 3.80]\n",
      "    PetalLength is in [4.80, 6.90]\n",
      "    PetalWidth is in [1.60, 2.50]\n",
      "Output is versicolor if:\n",
      "    SepalLength is in [4.90, 7.90]\n",
      "    SepalWidth is in [2.20, 3.80]\n",
      "    PetalLength is in [3.00, 6.90]\n",
      "    PetalWidth is in [1.00, 2.50]\n",
      "Output is setosa if:\n",
      "    SepalLength is in [4.40, 7.90]\n",
      "    SepalWidth is in [2.20, 4.10]\n",
      "    PetalLength is in [1.20, 6.90]\n",
      "    PetalWidth is in [0.10, 2.50]\n"
     ]
    }
   ],
   "source": [
    "exact = Extractor.exact(depth=2, error_threshold=0.1, output=Target.CLASSIFICATION)\n",
    "_ = exact.extract(train)\n",
    "exact.print()"
   ]
  },
  {
   "cell_type": "code",
   "execution_count": 30,
   "metadata": {
    "collapsed": false,
    "pycharm": {
     "name": "#%%\n"
    }
   },
   "outputs": [
    {
     "name": "stdout",
     "output_type": "stream",
     "text": [
      "CReEPy performance (3 rules):\n",
      "Accuracy = 0.95\n",
      "Fidelity = 0.96\n",
      "\n",
      "CReEPy extracted rules:\n",
      "\n",
      "iris(PetalLength, PetalWidth, SepalLength, SepalWidth, virginica) :-\n",
      "    PetalLength in [4.79, 6.90].\n",
      "iris(PetalLength, PetalWidth, SepalLength, SepalWidth, versicolor) :-\n",
      "    PetalLength in [2.99, 6.90].\n",
      "iris(PetalLength, PetalWidth, SepalLength, SepalWidth, setosa) :-\n",
      "    PetalLength in [1.19, 6.90].\n"
     ]
    }
   ],
   "source": [
    "creepy = Extractor.creepy(predictor, depth=2, error_threshold=0.1, output=Target.CLASSIFICATION,\n",
    "                          ranks=ranked, ignore_threshold=.99)\n",
    "theory_from_creepy = creepy.extract(train)\n",
    "print('CReEPy performance ({} rules):\\nAccuracy = {:.2f}\\nFidelity = {:.2f}\\n'\n",
    "      .format(creepy.n_rules, creepy.accuracy(test), creepy.accuracy(test, predictor)))\n",
    "print('CReEPy extracted rules:\\n\\n' + pretty_theory(theory_from_creepy))"
   ]
  },
  {
   "cell_type": "code",
   "execution_count": 31,
   "metadata": {
    "collapsed": false,
    "pycharm": {
     "name": "#%%\n"
    }
   },
   "outputs": [
    {
     "name": "stdout",
     "output_type": "stream",
     "text": [
      "Output is setosa if:\n",
      "    SepalLength is in [4.40, 5.80]\n",
      "    SepalWidth is in [2.30, 4.10]\n",
      "    PetalLength is in [1.20, 1.70]\n",
      "    PetalWidth is in [0.10, 0.50]\n",
      "Output is versicolor if:\n",
      "    SepalLength is in [4.90, 6.70]\n",
      "    SepalWidth is in [2.20, 3.20]\n",
      "    PetalLength is in [3.00, 5.00]\n",
      "    PetalWidth is in [1.00, 1.80]\n",
      "Output is virginica if:\n",
      "    SepalLength is in [4.40, 7.90]\n",
      "    SepalWidth is in [2.20, 4.10]\n",
      "    PetalLength is in [1.20, 6.90]\n",
      "    PetalWidth is in [0.10, 2.50]\n"
     ]
    }
   ],
   "source": [
    "cream = Extractor.cream(depth=2, error_threshold=0.1, output=Target.CLASSIFICATION)\n",
    "_ = cream.extract(train)\n",
    "cream.print()"
   ]
  },
  {
   "cell_type": "code",
   "execution_count": 32,
   "metadata": {
    "collapsed": false,
    "pycharm": {
     "name": "#%%\n"
    }
   },
   "outputs": [
    {
     "name": "stdout",
     "output_type": "stream",
     "text": [
      "ORCHiD performance (3 rules):\n",
      "Accuracy = 0.89\n",
      "Fidelity = 0.90\n",
      "\n",
      "ORCHiD extracted rules:\n",
      "\n",
      "iris(PetalLength, PetalWidth, SepalLength, SepalWidth, setosa) :-\n",
      "    PetalLength in [1.19, 1.70].\n",
      "iris(PetalLength, PetalWidth, SepalLength, SepalWidth, versicolor) :-\n",
      "    PetalLength in [2.99, 4.90].\n",
      "iris(PetalLength, PetalWidth, SepalLength, SepalWidth, virginica) :-\n",
      "    PetalLength in [1.19, 6.90].\n"
     ]
    }
   ],
   "source": [
    "orchid = Extractor.orchid(predictor, depth=2, error_threshold=0.1, output=Target.CLASSIFICATION,\n",
    "                          ranks=ranked, ignore_threshold=.99)\n",
    "theory_from_orchid = orchid.extract(train)\n",
    "print('ORCHiD performance ({} rules):\\nAccuracy = {:.2f}\\nFidelity = {:.2f}\\n'\n",
    "      .format(orchid.n_rules, orchid.accuracy(test), orchid.accuracy(test, predictor)))\n",
    "print('ORCHiD extracted rules:\\n\\n' + pretty_theory(theory_from_orchid))"
   ]
  }
 ],
 "metadata": {
  "kernelspec": {
   "display_name": "Python 3 (ipykernel)",
   "language": "python",
   "name": "python3"
  },
  "language_info": {
   "codemirror_mode": {
    "name": "ipython",
    "version": 3
   },
   "file_extension": ".py",
   "mimetype": "text/x-python",
   "name": "python",
   "nbconvert_exporter": "python",
   "pygments_lexer": "ipython3",
   "version": "3.9.7"
  }
 },
 "nbformat": 4,
 "nbformat_minor": 5
}