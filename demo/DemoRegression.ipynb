{
 "cells": [
  {
   "cell_type": "markdown",
   "id": "f52126f3",
   "metadata": {},
   "source": [
    "# PSyKE's demo for regression tasks\n",
    "\n",
    "Some imports."
   ]
  },
  {
   "cell_type": "code",
   "execution_count": 1,
   "id": "6b710e7c",
   "metadata": {},
   "outputs": [],
   "source": [
    "from psyke import Extractor\n",
    "from psyke.tuning.pedro import PEDRO\n",
    "from psyke.tuning import Objective\n",
    "from psyke.tuning.crash import CRASH\n",
    "from sklearn.tree import DecisionTreeRegressor\n",
    "from psyke.utils.logic import pretty_theory\n",
    "from psyke.utils.metrics import mae, mse, r2\n",
    "from sklearn.model_selection import train_test_split\n",
    "from psyke.utils import Target\n",
    "from matplotlib import pyplot as plt\n",
    "import pandas as pd"
   ]
  },
  {
   "cell_type": "markdown",
   "id": "d7c90ed2",
   "metadata": {
    "pycharm": {
     "name": "#%% md\n"
    }
   },
   "source": [
    "Import a dataset."
   ]
  },
  {
   "cell_type": "code",
   "execution_count": 6,
   "id": "f8e46c49",
   "metadata": {},
   "outputs": [],
   "source": [
    "#dataset = pd.read_csv(\"../test/resources/datasets/df.csv\")\n",
    "#dataset = dataset[[\"X\", \"Y\", \"Z4\"]].dropna()\n",
    "dataset = pd.read_csv(\"../test/resources/datasets/CCPP.csv\", sep=\";\", decimal=\",\")\n",
    "#dataset"
   ]
  },
  {
   "cell_type": "markdown",
   "id": "d673b766",
   "metadata": {},
   "source": [
    "Split between train and test set in a reproducible way."
   ]
  },
  {
   "cell_type": "code",
   "execution_count": 7,
   "id": "03fc5e2c",
   "metadata": {},
   "outputs": [],
   "source": [
    "train, test = train_test_split(dataset, test_size=0.5, random_state=10)"
   ]
  },
  {
   "cell_type": "markdown",
   "id": "fa6754a0",
   "metadata": {},
   "source": [
    "We use as predictor a KNN and we train it."
   ]
  },
  {
   "cell_type": "code",
   "execution_count": 8,
   "id": "bed764ca",
   "metadata": {},
   "outputs": [
    {
     "name": "stdout",
     "output_type": "stream",
     "text": [
      "MAE = 3.38\n",
      "MSE = 24.33\n",
      "R2 = 0.92\n"
     ]
    }
   ],
   "source": [
    "#predictor = KNeighborsRegressor(n_neighbors=3).fit(train.iloc[:, :-1], train.iloc[:, -1])\n",
    "predictor = DecisionTreeRegressor().fit(train.iloc[:, :-1], train.iloc[:, -1])\n",
    "#predictor = LinearRegression().fit(train.iloc[:, :-1], train.iloc[:, -1])\n",
    "\n",
    "predicted = predictor.predict(test.iloc[:, :-1]).flatten()\n",
    "true = test.iloc[:, -1]\n",
    "\n",
    "print(f'MAE = {mae(true, predicted):.2f}')\n",
    "print(f'MSE = {mse(true, predicted):.2f}')\n",
    "print(f'R2 = {r2(true, predicted):.2f}')"
   ]
  },
  {
   "cell_type": "markdown",
   "metadata": {
    "collapsed": false,
    "pycharm": {
     "name": "#%% md\n"
    }
   },
   "source": [
    "We define a function to print the extractors' evaluation"
   ]
  },
  {
   "cell_type": "code",
   "execution_count": 9,
   "metadata": {
    "collapsed": false,
    "pycharm": {
     "name": "#%%\n"
    }
   },
   "outputs": [],
   "source": [
    "def evaluate(name, extractor, true, predicted):\n",
    "    extracted = extractor.predict(test.iloc[:, :-1])\n",
    "    print(f'{name} performance ({extractor.n_rules} rules):\\n'\n",
    "          f'MAE = {mae(true, extracted):.2f}\\nMAE fidelity = {mae(predicted, extracted):.2f}\\n'\n",
    "          f'R2 = {r2(true, extracted):.2f}\\nR2 fidelity = {r2(predicted, extracted):.2f}\\n')"
   ]
  },
  {
   "cell_type": "markdown",
   "id": "96835867",
   "metadata": {},
   "source": [
    "We create several extractors that use ITER, GridEx and GridREx algorithms to extract prolog rules from the predictor."
   ]
  },
  {
   "cell_type": "code",
   "execution_count": 11,
   "metadata": {
    "collapsed": false,
    "pycharm": {
     "name": "#%%\n"
    }
   },
   "outputs": [
    {
     "name": "stdout",
     "output_type": "stream",
     "text": [
      "CReEPy performance (4 rules):\n",
      "MAE = 3.37\n",
      "MAE fidelity = 3.49\n",
      "R2 = 0.94\n",
      "R2 fidelity = 0.93\n",
      "\n",
      "CReEPy extracted rules (ExACT):\n",
      "\n",
      "'PE'(AP, AT, RH, V, PE) :-\n",
      "    AT in [6.21, 32.45], V in [35.39, 50.16], AP in [998.07, 1026.40], RH in [35.63, 100.10], PE is 499.89 - 2.16 * AP - 0.27 * AT + 0.01 * RH - 0.11 * V.\n",
      "'PE'(AP, AT, RH, V, PE) :-\n",
      "    AT in [6.21, 32.45], V in [34.02, 50.16], AP in [997.90, 1026.41], RH in [35.63, 100.10], PE is 697.90 - 1.74 * AP - 2.04 * AT - 0.17 * RH + 0.61 * V.\n",
      "'PE'(AP, AT, RH, V, PE) :-\n",
      "    AT in [6.21, 35.77], V in [25.35, 81.56], AP in [997.84, 1026.45], RH in [25.55, 100.12], PE is 234.73 - 1.42 * AP - 0.29 * AT + 0.26 * RH - 0.12 * V.\n",
      "'PE'(AP, AT, RH, V, PE) :-\n",
      "    V in [25.35, 81.56], AP in [992.88, 1033.25], RH in [25.55, 100.15], PE is 628.20 - 2.19 * AP - 0.50 * AT - 0.09 * RH - 0.17 * V.\n"
     ]
    }
   ],
   "source": [
    "creepy = Extractor.creepy(predictor, depth=3, error_threshold=0.02, output=Target.REGRESSION,\n",
    "                          clustering=Extractor.exact)\n",
    "theory_from_creepy = creepy.extract(train)\n",
    "evaluate('CReEPy', creepy, true, predicted)\n",
    "print('CReEPy extracted rules (ExACT):\\n\\n' + pretty_theory(theory_from_creepy))"
   ]
  },
  {
   "cell_type": "code",
   "execution_count": 12,
   "metadata": {
    "collapsed": false,
    "pycharm": {
     "name": "#%%\n"
    }
   },
   "outputs": [
    {
     "name": "stdout",
     "output_type": "stream",
     "text": [
      "CReEPy performance (4 rules):\n",
      "MAE = 3.37\n",
      "MAE fidelity = 3.50\n",
      "R2 = 0.94\n",
      "R2 fidelity = 0.93\n",
      "\n",
      "CReEPy extracted rules (CREAM):\n",
      "\n",
      "'PE'(AP, AT, RH, V, PE) :-\n",
      "    AT in [6.21, 32.45], V in [34.02, 50.16], AP in [997.90, 1026.41], RH in [35.63, 100.10], PE is 502.53 - 2.16 * AP - 0.26 * AT + 0.01 * RH - 0.11 * V.\n",
      "'PE'(AP, AT, RH, V, PE) :-\n",
      "    AT in [6.21, 35.77], V in [25.35, 81.56], AP in [997.84, 1026.45], RH in [25.55, 100.12], PE is 234.73 - 1.42 * AP - 0.29 * AT + 0.26 * RH - 0.12 * V.\n",
      "'PE'(AP, AT, RH, V, PE) :-\n",
      "    AT in [3.30, 14.60], V in [34.68, 44.47], AP in [1011.31, 1033.25], RH in [58.98, 98.68], PE is 720.26 - 2.20 * AP - 0.47 * AT - 0.18 * RH - 0.22 * V.\n",
      "'PE'(AP, AT, RH, V, PE) :-\n",
      "    V in [25.35, 81.56], AP in [992.88, 1033.25], RH in [25.55, 100.15], PE is 579.01 - 2.05 * AP - 0.60 * AT - 0.05 * RH + 0.00 * V.\n"
     ]
    }
   ],
   "source": [
    "creepy = Extractor.creepy(predictor, depth=2, error_threshold=0.02, output=Target.REGRESSION,\n",
    "                          clustering=Extractor.cream)\n",
    "theory_from_creepy = creepy.extract(train)\n",
    "evaluate('CReEPy', creepy, true, predicted)\n",
    "print('CReEPy extracted rules (CREAM):\\n\\n' + pretty_theory(theory_from_creepy))"
   ]
  },
  {
   "cell_type": "code",
   "execution_count": 13,
   "metadata": {
    "collapsed": false,
    "pycharm": {
     "name": "#%%\n"
    }
   },
   "outputs": [
    {
     "name": "stdout",
     "output_type": "stream",
     "text": [
      "Algorithm.ExACT. Depth: 1. Threshold = 0.00. MAE = 3.50, 2 rules\n",
      "Algorithm.ExACT. Depth: 1. Threshold = 0.00. MAE = 3.50, 2 rules\n",
      "\n",
      "Algorithm.ExACT. Depth: 2. Threshold = 0.00. MAE = 3.44, 3 rules\n",
      "Algorithm.ExACT. Depth: 2. Threshold = 0.00. MAE = 3.55, 3 rules\n",
      "\n",
      "Algorithm.ExACT. Depth: 3. Threshold = 0.00. MAE = 3.44, 4 rules\n",
      "Algorithm.ExACT. Depth: 3. Threshold = 0.00. MAE = 3.56, 4 rules\n",
      "\n",
      "**********************\n",
      "Best Algorithm.ExACT\n",
      "**********************\n",
      "MAE = 3.44, 4 rules\n",
      "Threshold = 0.00\n",
      "Depth = 3\n",
      "\n",
      "**********************\n",
      "Best   MAE  \n",
      "**********************\n",
      "MAE = 3.44, 4 rules\n",
      "Threshold = 0.00\n",
      "Depth = 3\n",
      "\n",
      "**********************\n",
      "Best N rules\n",
      "**********************\n",
      "MAE = 3.50, 2 rules\n",
      "Threshold = 0.00\n",
      "Depth = 1\n",
      "\n",
      "CReEPy performance (4 rules):\n",
      "MAE = 3.37\n",
      "MAE fidelity = 3.49\n",
      "R2 = 0.94\n",
      "R2 fidelity = 0.93\n",
      "\n",
      "CReEPy extracted rules:\n",
      "\n",
      "'PE'(AP, AT, RH, V, PE) :-\n",
      "    AT in [6.21, 32.45], V in [35.39, 50.16], AP in [998.07, 1026.40], RH in [35.63, 100.10], PE is 499.89 - 2.16 * AP - 0.27 * AT + 0.01 * RH - 0.11 * V.\n",
      "'PE'(AP, AT, RH, V, PE) :-\n",
      "    AT in [6.21, 32.45], V in [34.02, 50.16], AP in [997.90, 1026.41], RH in [35.63, 100.10], PE is 697.90 - 1.74 * AP - 2.04 * AT - 0.17 * RH + 0.61 * V.\n",
      "'PE'(AP, AT, RH, V, PE) :-\n",
      "    AT in [6.21, 35.77], V in [25.35, 81.56], AP in [997.84, 1026.45], RH in [25.55, 100.12], PE is 234.73 - 1.42 * AP - 0.29 * AT + 0.26 * RH - 0.12 * V.\n",
      "'PE'(AP, AT, RH, V, PE) :-\n",
      "    V in [25.35, 81.56], AP in [992.88, 1033.25], RH in [25.55, 100.15], PE is 628.20 - 2.19 * AP - 0.50 * AT - 0.09 * RH - 0.17 * V.\n"
     ]
    }
   ],
   "source": [
    "crash = CRASH(predictor, train, max_depth=3, patience=1, readability_tradeoff=.5,\n",
    "              algorithm=CRASH.Algorithm.ExACT, output=Target.REGRESSION)\n",
    "crash.search()\n",
    "(_, _, depth, threshold) = crash.get_best()[0]\n",
    "\n",
    "creepy = Extractor.creepy(predictor, depth=depth, error_threshold=threshold, output=Target.REGRESSION,\n",
    "                          clustering=Extractor.exact)\n",
    "theory_from_creepy = creepy.extract(train)\n",
    "evaluate('CReEPy', creepy, true, predicted)\n",
    "print('CReEPy extracted rules:\\n\\n' + pretty_theory(theory_from_creepy))"
   ]
  },
  {
   "cell_type": "code",
   "execution_count": 14,
   "metadata": {
    "collapsed": false,
    "pycharm": {
     "name": "#%%\n"
    }
   },
   "outputs": [
    {
     "name": "stdout",
     "output_type": "stream",
     "text": [
      "Algorithm.CREAM. Depth: 1. Threshold = 0.00. MAE = 10.29, 2 rules\n",
      "Algorithm.CREAM. Depth: 1. Threshold = 0.00. MAE = 10.29, 2 rules\n",
      "\n",
      "Algorithm.CREAM. Depth: 2. Threshold = 0.00. MAE = 6.42, 4 rules\n",
      "Algorithm.CREAM. Depth: 2. Threshold = 0.00. MAE = 7.46, 4 rules\n",
      "\n",
      "**********************\n",
      "Best Algorithm.CREAM\n",
      "**********************\n",
      "MAE = 6.42, 4 rules\n",
      "Threshold = 0.00\n",
      "Depth = 2\n",
      "\n",
      "**********************\n",
      "Best   MAE  \n",
      "**********************\n",
      "MAE = 6.42, 4 rules\n",
      "Threshold = 0.00\n",
      "Depth = 2\n",
      "\n",
      "**********************\n",
      "Best N rules\n",
      "**********************\n",
      "MAE = 10.29, 2 rules\n",
      "Threshold = 0.00\n",
      "Depth = 1\n",
      "\n",
      "CReEPy performance (4 rules):\n",
      "MAE = 3.37\n",
      "MAE fidelity = 3.50\n",
      "R2 = 0.94\n",
      "R2 fidelity = 0.93\n",
      "\n",
      "CReEPy extracted rules:\n",
      "\n",
      "'PE'(AP, AT, RH, V, PE) :-\n",
      "    AT in [6.21, 32.45], V in [34.02, 50.16], AP in [997.90, 1026.41], RH in [35.63, 100.10], PE is 502.53 - 2.16 * AP - 0.26 * AT + 0.01 * RH - 0.11 * V.\n",
      "'PE'(AP, AT, RH, V, PE) :-\n",
      "    AT in [6.21, 35.77], V in [25.35, 81.56], AP in [997.84, 1026.45], RH in [25.55, 100.12], PE is 234.73 - 1.42 * AP - 0.29 * AT + 0.26 * RH - 0.12 * V.\n",
      "'PE'(AP, AT, RH, V, PE) :-\n",
      "    AT in [3.30, 14.60], V in [34.68, 44.47], AP in [1011.31, 1033.25], RH in [58.98, 98.68], PE is 720.26 - 2.20 * AP - 0.47 * AT - 0.18 * RH - 0.22 * V.\n",
      "'PE'(AP, AT, RH, V, PE) :-\n",
      "    V in [25.35, 81.56], AP in [992.88, 1033.25], RH in [25.55, 100.15], PE is 579.01 - 2.05 * AP - 0.60 * AT - 0.05 * RH + 0.00 * V.\n"
     ]
    }
   ],
   "source": [
    "crash = CRASH(predictor, train, max_depth=3, patience=1, readability_tradeoff=.75, algorithm=CRASH.Algorithm.CREAM)\n",
    "crash.search()\n",
    "(_, _, depth, threshold) = crash.get_best()[0]\n",
    "\n",
    "creepy = Extractor.creepy(predictor, depth=depth, error_threshold=threshold, output=Target.REGRESSION,\n",
    "                          clustering=Extractor.cream)\n",
    "theory_from_creepy = creepy.extract(train)\n",
    "evaluate('CReEPy', creepy, true, predicted)\n",
    "print('CReEPy extracted rules:\\n\\n' + pretty_theory(theory_from_creepy))"
   ]
  },
  {
   "cell_type": "code",
   "execution_count": 15,
   "metadata": {
    "collapsed": false,
    "pycharm": {
     "name": "#%%\n"
    }
   },
   "outputs": [
    {
     "name": "stdout",
     "output_type": "stream",
     "text": [
      "ITER performance (15 rules):\n",
      "MAE = 4.26\n",
      "MAE fidelity = 4.35\n",
      "R2 = 0.90\n",
      "R2 fidelity = 0.89\n",
      "\n",
      "ITER extracted rules:\n",
      "\n",
      "'PE'(AP, AT, RH, V, 430.92) :-\n",
      "    AT in [29.21, 35.77], V in [62.52, 81.56], AP in [992.88, 1033.25], RH in [25.55, 100.15].\n",
      "'PE'(AP, AT, RH, V, 435.94) :-\n",
      "    AT in [22.53, 29.21], V in [62.52, 81.56], AP in [992.88, 1033.25], RH in [25.55, 100.15].\n",
      "'PE'(AP, AT, RH, V, 441.11) :-\n",
      "    AT in [29.21, 35.77], V in [25.35, 62.52], AP in [992.88, 1033.25], RH in [25.55, 100.15].\n",
      "'PE'(AP, AT, RH, V, 446.76) :-\n",
      "    AT in [15.84, 22.53], V in [62.52, 81.56], AP in [992.88, 1033.25], RH in [25.55, 100.15].\n",
      "'PE'(AP, AT, RH, V, 463.15) :-\n",
      "    AT in [12.50, 15.84], V in [62.52, 81.56], AP in [992.88, 1033.25], RH in [25.55, 100.15].\n",
      "'PE'(AP, AT, RH, V, 470.15) :-\n",
      "    AT in [9.15, 12.50], V in [62.52, 81.56], AP in [992.88, 1033.25], RH in [25.55, 100.15].\n",
      "'PE'(AP, AT, RH, V, 478.35) :-\n",
      "    AT in [5.81, 9.15], V in [62.52, 81.56], AP in [992.88, 1033.25], RH in [25.55, 100.15].\n",
      "'PE'(AP, AT, RH, V, 483.54) :-\n",
      "    AT in [2.33, 5.81], V in [62.52, 81.56], AP in [992.88, 1033.25], RH in [25.55, 100.15].\n",
      "'PE'(AP, AT, RH, V, 484.25) :-\n",
      "    AT in [2.33, 8.87], V in [25.35, 62.52], AP in [992.88, 1033.25], RH in [25.55, 100.15].\n",
      "'PE'(AP, AT, RH, V, 475.17) :-\n",
      "    AT in [8.87, 12.21], V in [25.35, 62.52], AP in [992.88, 1033.25], RH in [25.55, 100.15].\n",
      "'PE'(AP, AT, RH, V, 467.31) :-\n",
      "    AT in [12.21, 15.55], V in [25.35, 62.52], AP in [992.88, 1033.25], RH in [25.55, 100.15].\n",
      "'PE'(AP, AT, RH, V, 459.49) :-\n",
      "    AT in [15.55, 18.90], V in [25.35, 62.52], AP in [992.88, 1033.25], RH in [25.55, 100.15].\n",
      "'PE'(AP, AT, RH, V, 451.51) :-\n",
      "    AT in [18.90, 22.24], V in [25.35, 62.52], AP in [992.88, 1033.25], RH in [25.55, 100.15].\n",
      "'PE'(AP, AT, RH, V, 445.42) :-\n",
      "    AT in [22.24, 28.93], V in [25.35, 62.52], AP in [992.88, 1033.25], RH in [25.55, 100.15].\n",
      "'PE'(AP, AT, RH, V, 440.25) :-\n",
      "    AT in [28.93, 29.21], V in [25.35, 62.52], AP in [992.88, 1033.25], RH in [25.55, 100.15].\n"
     ]
    }
   ],
   "source": [
    "it = Extractor.iter(predictor, min_update=1.0 / 10, n_points=1, max_iterations=600,\n",
    "                    min_examples=100, threshold=5)\n",
    "theory_from_iter = it.extract(train)\n",
    "evaluate('ITER', it, true, predicted)\n",
    "print('ITER extracted rules:\\n\\n' + pretty_theory(theory_from_iter))"
   ]
  },
  {
   "cell_type": "code",
   "execution_count": 16,
   "metadata": {
    "collapsed": false,
    "pycharm": {
     "name": "#%%\n"
    }
   },
   "outputs": [
    {
     "name": "stdout",
     "output_type": "stream",
     "text": [
      "Algorithm.GRIDEX. Grid (1). Fixed (2). Threshold = 0.00. MAE = 6.45, 15 rules\n",
      "Algorithm.GRIDEX. Grid (1). Fixed (2). Threshold = 0.00. MAE = 6.45, 15 rules\n",
      "\n",
      "Algorithm.GRIDEX. Grid (1). Fixed (3). Threshold = 0.00. MAE = 5.08, 56 rules\n",
      "Algorithm.GRIDEX. Grid (1). Fixed (3). Threshold = 0.00. MAE = 5.08, 56 rules\n",
      "\n",
      "Algorithm.GRIDEX. Grid (1). Adaptive ([(0.99, 2)]). Threshold = 0.00. MAE = 7.37, 2 rules\n",
      "Algorithm.GRIDEX. Grid (1). Adaptive ([(0.99, 2)]). Threshold = 0.00. MAE = 7.37, 2 rules\n",
      "\n",
      "Algorithm.GRIDEX. Grid (1). Adaptive ([(0.3, 2)]). Threshold = 0.00. MAE = 6.79, 4 rules\n",
      "Algorithm.GRIDEX. Grid (1). Adaptive ([(0.3, 2)]). Threshold = 0.00. MAE = 6.79, 4 rules\n",
      "\n",
      "Algorithm.GRIDEX. Grid (1). Adaptive ([(0.99, 3)]). Threshold = 0.00. MAE = 6.62, 3 rules\n",
      "Algorithm.GRIDEX. Grid (1). Adaptive ([(0.99, 3)]). Threshold = 0.00. MAE = 6.62, 3 rules\n",
      "\n",
      "Algorithm.GRIDEX. Grid (1). Adaptive ([(0.3, 3)]). Threshold = 0.00. MAE = 5.12, 9 rules\n",
      "Algorithm.GRIDEX. Grid (1). Adaptive ([(0.3, 3)]). Threshold = 0.00. MAE = 5.12, 9 rules\n",
      "\n",
      "Algorithm.GRIDEX. Grid (1). Adaptive ([(0.99, 5)]). Threshold = 0.00. MAE = 5.03, 5 rules\n",
      "Algorithm.GRIDEX. Grid (1). Adaptive ([(0.99, 5)]). Threshold = 0.00. MAE = 5.03, 5 rules\n",
      "\n",
      "Algorithm.GRIDEX. Grid (1). Adaptive ([(0.3, 5)]). Threshold = 0.00. MAE = 4.38, 21 rules\n",
      "Algorithm.GRIDEX. Grid (1). Adaptive ([(0.3, 5)]). Threshold = 0.00. MAE = 4.38, 21 rules\n",
      "\n",
      "Algorithm.GRIDEX. Grid (1). Adaptive ([(0.99, 10)]). Threshold = 0.00. MAE = 4.29, 10 rules\n",
      "Algorithm.GRIDEX. Grid (1). Adaptive ([(0.99, 10)]). Threshold = 0.00. MAE = 4.29, 10 rules\n",
      "\n",
      "Algorithm.GRIDEX. Grid (1). Adaptive ([(0.33, 2), (0.67, 3)]). Threshold = 0.00. MAE = 5.51, 6 rules\n",
      "Algorithm.GRIDEX. Grid (1). Adaptive ([(0.33, 2), (0.67, 3)]). Threshold = 0.00. MAE = 5.51, 6 rules\n",
      "\n",
      "**********************\n",
      "Best Algorithm.GRIDEX\n",
      "**********************\n",
      "MAE = 5.03, 5 rules\n",
      "Threshold = 0.00\n",
      "Iterations = 1\n",
      "Strategy = Adaptive ([(0.99, 5)])\n",
      "\n",
      "**********************\n",
      "Best   MAE  \n",
      "**********************\n",
      "MAE = 4.29, 10 rules\n",
      "Threshold = 0.00\n",
      "Iterations = 1\n",
      "Strategy = Adaptive ([(0.99, 10)])\n",
      "\n",
      "**********************\n",
      "Best N rules\n",
      "**********************\n",
      "MAE = 7.37, 2 rules\n",
      "Threshold = 0.00\n",
      "Iterations = 1\n",
      "Strategy = Adaptive ([(0.99, 2)])\n",
      "\n",
      "GridEx performance (5 rules):\n",
      "MAE = 5.02\n",
      "MAE fidelity = 5.11\n",
      "R2 = 0.87\n",
      "R2 fidelity = 0.85\n",
      "\n",
      "GridEx extracted rules:\n",
      "\n",
      "'PE'(AP, AT, RH, V, 483.28) :-\n",
      "    AT in [2.33, 9.02].\n",
      "'PE'(AP, AT, RH, V, 470.58) :-\n",
      "    AT in [9.02, 15.71].\n",
      "'PE'(AP, AT, RH, V, 453.90) :-\n",
      "    AT in [15.71, 22.39].\n",
      "'PE'(AP, AT, RH, V, 440.37) :-\n",
      "    AT in [22.39, 29.08].\n",
      "'PE'(AP, AT, RH, V, 433.51) :-\n",
      "    AT in [29.08, 35.77].\n"
     ]
    }
   ],
   "source": [
    "pedro = PEDRO(predictor, train, max_mae_increase=1.2, min_rule_decrease=0.9, readability_tradeoff=0.1,\n",
    "              max_depth=1, patience=1, algorithm=PEDRO.Algorithm.GRIDEX, objective=Objective.MODEL)\n",
    "pedro.search()\n",
    "(_, _, threshold, grid) = pedro.get_best()[0]\n",
    "\n",
    "gridEx = Extractor.gridex(predictor, grid, threshold=threshold)\n",
    "theory_from_gridEx = gridEx.extract(train)\n",
    "evaluate('GridEx', gridEx, true, predicted)\n",
    "print('GridEx extracted rules:\\n\\n' + pretty_theory(theory_from_gridEx))"
   ]
  },
  {
   "cell_type": "code",
   "execution_count": 17,
   "metadata": {
    "collapsed": false,
    "pycharm": {
     "name": "#%%\n"
    }
   },
   "outputs": [
    {
     "name": "stdout",
     "output_type": "stream",
     "text": [
      "**********************\n",
      "Best Algorithm.GRIDEX\n",
      "**********************\n",
      "MAE = 5.03, 5 rules\n",
      "Threshold = 0.00\n",
      "Iterations = 1\n",
      "Strategy = Adaptive ([(0.99, 5)])\n",
      "\n",
      "**********************\n",
      "Best   MAE  \n",
      "**********************\n",
      "MAE = 4.29, 10 rules\n",
      "Threshold = 0.00\n",
      "Iterations = 1\n",
      "Strategy = Adaptive ([(0.99, 10)])\n",
      "\n",
      "**********************\n",
      "Best N rules\n",
      "**********************\n",
      "MAE = 7.37, 2 rules\n",
      "Threshold = 0.00\n",
      "Iterations = 1\n",
      "Strategy = Adaptive ([(0.99, 2)])\n",
      "\n",
      "GridREx performance (5 rules):\n",
      "MAE = 3.24\n",
      "MAE fidelity = 3.41\n",
      "R2 = 0.94\n",
      "R2 fidelity = 0.93\n",
      "\n",
      "GridREx extracted rules:\n",
      "\n",
      "'PE'(AP, AT, RH, V, PE) :-\n",
      "    AT in [2.33, 9.02], PE is 589.17 - 1.73 * AP - 0.13 * AT - 0.07 * RH - 0.12 * V.\n",
      "'PE'(AP, AT, RH, V, PE) :-\n",
      "    AT in [9.02, 15.71], PE is 581.61 - 2.33 * AP - 0.23 * AT - 0.06 * RH - 0.07 * V.\n",
      "'PE'(AP, AT, RH, V, PE) :-\n",
      "    AT in [15.71, 22.39], PE is 341.48 - 1.74 * AP - 0.29 * AT + 0.16 * RH - 0.13 * V.\n",
      "'PE'(AP, AT, RH, V, PE) :-\n",
      "    AT in [22.39, 29.08], PE is 124.41 - 1.28 * AP - 0.27 * AT + 0.37 * RH - 0.10 * V.\n",
      "'PE'(AP, AT, RH, V, PE) :-\n",
      "    AT in [29.08, 35.77], PE is 299.39 - 0.76 * AP - 0.17 * AT + 0.17 * RH - 0.02 * V.\n"
     ]
    }
   ],
   "source": [
    "#pedro = PEDRO(predictor, train, max_mae_increase=1.2, min_rule_decrease=0.9, readability_tradeoff=0.1,\n",
    "#              max_depth=2, patience=1, algorithm=PEDRO.Algorithm.GRIDREX, objective=Objective.MODEL)\n",
    "#pedro.search()\n",
    "(_, _, threshold, grid) = pedro.get_best()[0]\n",
    "\n",
    "gridREx = Extractor.gridrex(predictor, grid, threshold=threshold)\n",
    "theory_from_gridREx = gridREx.extract(train)\n",
    "evaluate('GridREx', gridREx, true, predicted)\n",
    "print('GridREx extracted rules:\\n\\n' + pretty_theory(theory_from_gridREx))"
   ]
  },
  {
   "cell_type": "code",
   "execution_count": 18,
   "metadata": {
    "collapsed": false,
    "pycharm": {
     "name": "#%%\n"
    }
   },
   "outputs": [
    {
     "name": "stdout",
     "output_type": "stream",
     "text": [
      "CART performance (6 rules):\n",
      "MAE = 4.46\n",
      "MAE fidelity = 4.53\n",
      "R2 = 0.89\n",
      "R2 fidelity = 0.88\n",
      "\n",
      "CART extracted rules:\n",
      "\n",
      "'PE'(AP, AT, RH, V, 479.15) :-\n",
      "    AT =< 18.25, AT =< 11.90.\n",
      "'PE'(AP, AT, RH, V, 435.66) :-\n",
      "    AT > 18.25, V > 66.20.\n",
      "'PE'(AP, AT, RH, V, 451.33) :-\n",
      "    AT > 18.25, V =< 66.20, AT =< 22.89.\n",
      "'PE'(AP, AT, RH, V, 443.00) :-\n",
      "    AT > 18.25, V =< 66.20, AT > 22.89.\n",
      "'PE'(AP, AT, RH, V, 467.45) :-\n",
      "    AT > 11.90, AT =< 15.64.\n",
      "'PE'(AP, AT, RH, V, 459.70) :-\n",
      "    AT > 15.64.\n"
     ]
    }
   ],
   "source": [
    "cart = Extractor.cart(predictor, max_depth=5, max_leaves=6, simplify=True)\n",
    "theory_from_cart = cart.extract(train)\n",
    "evaluate('CART', cart, true, predicted)\n",
    "print('CART extracted rules:\\n\\n' + pretty_theory(theory_from_cart))"
   ]
  }
 ],
 "metadata": {
  "kernelspec": {
   "display_name": "Python 3",
   "language": "python",
   "name": "python3"
  },
  "language_info": {
   "codemirror_mode": {
    "name": "ipython",
    "version": 3
   },
   "file_extension": ".py",
   "mimetype": "text/x-python",
   "name": "python",
   "nbconvert_exporter": "python",
   "pygments_lexer": "ipython3",
   "version": "3.9.7"
  }
 },
 "nbformat": 4,
 "nbformat_minor": 5
}