{
 "cells": [
  {
   "cell_type": "markdown",
   "id": "f52126f3",
   "metadata": {},
   "source": [
    "# PSyKE's demo for regression tasks\n",
    "\n",
    "Some imports."
   ]
  },
  {
   "cell_type": "code",
   "execution_count": 1,
   "id": "6b710e7c",
   "metadata": {},
   "outputs": [],
   "source": [
    "from psyke import Extractor\n",
    "from psyke.optimizer.pedro import PEDRO\n",
    "from psyke.optimizer import Objective\n",
    "from psyke.optimizer.crash import CRASH\n",
    "from psyke.regression import HyperCubeExtractor\n",
    "from sklearn.neighbors import KNeighborsRegressor\n",
    "from psyke.utils.logic import pretty_theory\n",
    "from sklearn.model_selection import train_test_split\n",
    "from matplotlib import pyplot as plt\n",
    "import pandas as pd"
   ]
  },
  {
   "cell_type": "markdown",
   "id": "d7c90ed2",
   "metadata": {
    "pycharm": {
     "name": "#%% md\n"
    }
   },
   "source": [
    "Import an artificial dataset."
   ]
  },
  {
   "cell_type": "code",
   "execution_count": 7,
   "id": "f8e46c49",
   "metadata": {},
   "outputs": [],
   "source": [
    "dataset = pd.read_csv(\"test/resources/datasets/df.csv\")\n",
    "#dataset = pd.read_csv(\"test/resources/datasets/CCPP.csv\", sep=\";\", decimal=\",\")\n",
    "#dataset"
   ]
  },
  {
   "cell_type": "markdown",
   "id": "d673b766",
   "metadata": {},
   "source": [
    "Split between train and test set in a reproducible way."
   ]
  },
  {
   "cell_type": "code",
   "execution_count": 8,
   "id": "03fc5e2c",
   "metadata": {},
   "outputs": [],
   "source": [
    "dataset = dataset[[\"X\", \"Y\", \"Z4\"]].dropna()\n",
    "train, test = train_test_split(dataset, test_size=0.5, random_state=10)"
   ]
  },
  {
   "cell_type": "markdown",
   "id": "fa6754a0",
   "metadata": {},
   "source": [
    "We use as predictor a KNN and we train it."
   ]
  },
  {
   "cell_type": "code",
   "execution_count": 9,
   "id": "bed764ca",
   "metadata": {},
   "outputs": [
    {
     "name": "stdout",
     "output_type": "stream",
     "text": [
      "0.03688944007870007\n"
     ]
    }
   ],
   "source": [
    "predictor = KNeighborsRegressor(n_neighbors=3).fit(train.iloc[:, :-1], train.iloc[:, -1])\n",
    "\n",
    "print((abs(predictor.predict(test.iloc[:, :-1]).flatten() - test.iloc[:, -1])).mean())"
   ]
  },
  {
   "cell_type": "markdown",
   "id": "96835867",
   "metadata": {},
   "source": [
    "We create several extractors that use ITER, GridEx and GridREx algorithms to extract prolog rules from the predictor."
   ]
  },
  {
   "cell_type": "code",
   "execution_count": 10,
   "outputs": [
    {
     "name": "stdout",
     "output_type": "stream",
     "text": [
      "CReEPy performance (4 rules):\n",
      "MAE = 0.00\n",
      "MAE fidelity = 0.04\n",
      "\n",
      "CReEPy extracted rules:\n",
      "\n",
      "'Z4'(X, Y, Z4) :-\n",
      "    X in [0.402684, 0.543625], Y in [0.416106, 0.597316], Z4 is -6.805486 + 54.455317 * X + -24.861292 * Y.\n",
      "'Z4'(X, Y, Z4) :-\n",
      "    X in [0.402684, 0.597316], Y in [0.402684, 0.597316], Z4 is -6.6031 + 54.353719 * X + -25.132222 * Y.\n",
      "'Z4'(X, Y, Z4) :-\n",
      "    X in [0.154361, 0.845639], Y in [0.154361, 0.845639], Z4 is 9.003897 + -11.99489 * X + 14.988029 * Y.\n",
      "'Z4'(X, Y, Z4) :-\n",
      "    X in [-0.000001, 1.000001], Y in [-0.000001, 1.000001], Z4 is 1.999564 + 3.999876 * X + -2.999378 * Y.\n"
     ]
    }
   ],
   "source": [
    "creepy = Extractor.creepy(predictor, depth=3, error_threshold=0.02, output=HyperCubeExtractor.Target.REGRESSION)\n",
    "theory_from_creepy = creepy.extract(train)\n",
    "print('CReEPy performance ({} rules):\\nMAE = {:.2f}\\nMAE fidelity = {:.2f}\\n'\n",
    "      .format(creepy.n_rules, creepy.mae(test), creepy.mae(test, predictor)))\n",
    "print('CReEPy extracted rules:\\n\\n' + pretty_theory(theory_from_creepy))"
   ],
   "metadata": {
    "collapsed": false,
    "pycharm": {
     "name": "#%%\n"
    }
   }
  },
  {
   "cell_type": "code",
   "execution_count": 11,
   "outputs": [
    {
     "name": "stdout",
     "output_type": "stream",
     "text": [
      "CREAM performance (4 rules):\n",
      "MAE = 2.39\n",
      "MAE fidelity = 2.38\n",
      "\n",
      "CREAM extracted rules:\n",
      "\n",
      "'Z4'(X, Y, 8.051474) :-\n",
      "    X in [0.402684, 0.597316], Y in [0.402684, 0.597316].\n",
      "'Z4'(X, Y, 10.458814) :-\n",
      "    X in [0.154361, 0.845639], Y in [0.154361, 0.845639].\n",
      "'Z4'(X, Y, 0.931622) :-\n",
      "    X in [-0.000001, 0.496645], Y in [-0.000001, 1.000001].\n",
      "'Z4'(X, Y, 4.024491) :-\n",
      "    X in [-0.000001, 1.000001], Y in [-0.000001, 1.000001].\n"
     ]
    }
   ],
   "source": [
    "cream = Extractor.cream(predictor, depth=2, error_threshold=0.02, output=HyperCubeExtractor.Target.CONSTANT)\n",
    "theory_from_cream = cream.extract(train)\n",
    "print('CREAM performance ({} rules):\\nMAE = {:.2f}\\nMAE fidelity = {:.2f}\\n'\n",
    "      .format(cream.n_rules, cream.mae(test), cream.mae(test, predictor)))\n",
    "print('CREAM extracted rules:\\n\\n' + pretty_theory(theory_from_cream))"
   ],
   "metadata": {
    "collapsed": false,
    "pycharm": {
     "name": "#%%\n"
    }
   }
  },
  {
   "cell_type": "code",
   "execution_count": null,
   "outputs": [],
   "source": [
    "#f, (ax1, ax2) = plt.subplots(1, 2, sharey=True)\n",
    "#plt.ylim((0, 1))\n",
    "#ax1.scatter(test.X, test.Y, c=test.iloc[:, -1], s = 0.5, cmap=plt.cm.get_cmap('gist_rainbow'))\n",
    "#ax1.set_xlim((0, 1))\n",
    "#ax1.set_aspect(\"equal\")\n",
    "#ax2.scatter(test.X, test.Y, c=predictor.predict(test.iloc[:, :-1]), s = 0.5, cmap=plt.cm.get_cmap('gist_rainbow'))\n",
    "#ax2.set_xlim((0, 1))\n",
    "#ax2.set_aspect(\"equal\")\n",
    "#plt.show()\n",
    "\n",
    "crash = CRASH(predictor, train, max_depth=5, patience=2, readability_tradeoff=.5, algorithm=CRASH.Algorithm.CReEPy)\n",
    "crash.search()\n",
    "(_, _, depth, threshold) = crash.get_best()[0]\n",
    "\n",
    "creepy = Extractor.creepy(predictor, depth=depth, error_threshold=threshold, output=HyperCubeExtractor.Target.CONSTANT)\n",
    "theory_from_creepy = creepy.extract(train)\n",
    "print('CReEPy performance ({} rules):\\nMAE = {:.2f}\\nMAE fidelity = {:.2f}\\n'\n",
    "      .format(creepy.n_rules, creepy.mae(test), creepy.mae(test, predictor)))\n",
    "#print('CReEPy extracted rules:\\n\\n' + pretty_theory(theory_from_cream))\n",
    "\n",
    "plt.scatter(test.X, test.Y, c=creepy.predict(test.iloc[:, :-1]), s=0.5, cmap=plt.cm.get_cmap('gist_rainbow'))\n",
    "plt.xlim((0, 1))\n",
    "plt.ylim((0, 1))\n",
    "plt.gca().set_aspect(\"equal\")\n",
    "plt.show()"
   ],
   "metadata": {
    "collapsed": false,
    "pycharm": {
     "name": "#%%\n"
    }
   }
  },
  {
   "cell_type": "code",
   "execution_count": null,
   "outputs": [],
   "source": [
    "#f, (ax1, ax2) = plt.subplots(1, 2, sharey=True)\n",
    "#plt.ylim((0, 1))\n",
    "#ax1.scatter(test.X, test.Y, c=test.iloc[:, -1], s = 0.5, cmap=plt.cm.get_cmap('gist_rainbow'))\n",
    "#ax1.set_xlim((0, 1))\n",
    "#ax1.set_aspect(\"equal\")\n",
    "#ax2.scatter(test.X, test.Y, c=predictor.predict(test.iloc[:, :-1]), s = 0.5, cmap=plt.cm.get_cmap('gist_rainbow'))\n",
    "#ax2.set_xlim((0, 1))\n",
    "#ax2.set_aspect(\"equal\")\n",
    "#plt.show()\n",
    "\n",
    "crash = CRASH(predictor, train, max_depth=5, patience=2, readability_tradeoff=.75, algorithm=CRASH.Algorithm.CREAM)\n",
    "crash.search()\n",
    "(_, _, depth, threshold) = crash.get_best()[0]\n",
    "\n",
    "cream = Extractor.cream(predictor, depth=depth, error_threshold=threshold, output=HyperCubeExtractor.Target.CONSTANT)\n",
    "theory_from_cream = cream.extract(train)\n",
    "print('CREAM performance ({} rules):\\nMAE = {:.2f}\\nMAE fidelity = {:.2f}\\n'\n",
    "      .format(cream.n_rules, cream.mae(test), cream.mae(test, predictor)))\n",
    "#print('CREAM extracted rules:\\n\\n' + pretty_theory(theory_from_cream))\n",
    "\n",
    "plt.scatter(test.X, test.Y, c = cream.predict(test.iloc[:, :-1]), s = 0.5, cmap=plt.cm.get_cmap('gist_rainbow'))\n",
    "plt.xlim((0, 1))\n",
    "plt.ylim((0, 1))\n",
    "plt.gca().set_aspect(\"equal\")\n",
    "plt.show()"
   ],
   "metadata": {
    "collapsed": false,
    "pycharm": {
     "name": "#%%\n"
    }
   }
  },
  {
   "cell_type": "code",
   "execution_count": null,
   "outputs": [],
   "source": [
    "it = Extractor.iter(predictor, min_update=1.0 / 20, n_points=1, max_iterations=600,\n",
    "                    min_examples=100, threshold=1.5)\n",
    "theory_from_iter = it.extract(train)\n",
    "print('ITER performance ({} rules):\\nMAE = {:.2f}\\nMAE fidelity = {:.2f}\\n'\n",
    "      .format(it.n_rules, it.mae(test), it.mae(test, predictor)))\n",
    "print('ITER extracted rules:\\n\\n' + pretty_theory(theory_from_iter))"
   ],
   "metadata": {
    "collapsed": false,
    "pycharm": {
     "name": "#%%\n"
    }
   }
  },
  {
   "cell_type": "code",
   "execution_count": null,
   "outputs": [],
   "source": [
    "pedro = PEDRO(predictor, train, max_mae_increase=1.2, min_rule_decrease=0.9, readability_tradeoff=0.1,\n",
    "              max_depth=5, patience=3, algorithm=PEDRO.Algorithm.GRIDEX, objective=Objective.MODEL)\n",
    "pedro.search()\n",
    "(_, _, threshold, grid) = pedro.get_best()[0]\n",
    "\n",
    "gridEx = Extractor.gridex(predictor, grid, threshold=threshold)\n",
    "theory_from_gridEx = gridEx.extract(train)\n",
    "print('GridEx performance ({} rules):\\nMAE = {:.2f}\\nMAE fidelity = {:.2f}\\n'\n",
    "      .format(gridEx.n_rules, gridEx.mae(test), gridEx.mae(test, predictor)))\n",
    "print('GridEx extracted rules:\\n\\n' + pretty_theory(theory_from_gridEx))"
   ],
   "metadata": {
    "collapsed": false,
    "pycharm": {
     "name": "#%%\n"
    }
   }
  },
  {
   "cell_type": "code",
   "execution_count": null,
   "outputs": [],
   "source": [
    "pedro = PEDRO(predictor, train, max_mae_increase=1.2, min_rule_decrease=0.9, readability_tradeoff=0.1,\n",
    "              max_depth=5, patience=3, algorithm=PEDRO.Algorithm.GRIDREX, objective=Objective.MODEL)\n",
    "pedro.search()\n",
    "(_, _, threshold, grid) = pedro.get_best()[0]\n",
    "\n",
    "gridREx = Extractor.gridrex(predictor, grid, threshold=threshold)\n",
    "theory_from_gridREx = gridREx.extract(train)\n",
    "print('GridREx performance ({} rules):\\nMAE = {:.2f}\\nMAE fidelity = {:.2f}\\n'\n",
    "      .format(gridREx.n_rules, gridREx.mae(test), gridREx.mae(test, predictor)))\n",
    "print('GridREx extracted rules:\\n\\n' + pretty_theory(theory_from_gridREx))"
   ],
   "metadata": {
    "collapsed": false,
    "pycharm": {
     "name": "#%%\n"
    }
   }
  }
 ],
 "metadata": {
  "kernelspec": {
   "display_name": "Python 3",
   "language": "python",
   "name": "python3"
  },
  "language_info": {
   "codemirror_mode": {
    "name": "ipython",
    "version": 3
   },
   "file_extension": ".py",
   "mimetype": "text/x-python",
   "name": "python",
   "nbconvert_exporter": "python",
   "pygments_lexer": "ipython3",
   "version": "3.9.7"
  }
 },
 "nbformat": 4,
 "nbformat_minor": 5
}