{
 "cells": [
  {
   "cell_type": "code",
   "execution_count": 1,
   "id": "6b710e7c",
   "metadata": {},
   "outputs": [],
   "source": [
    "from sklearn.neighbors import KNeighborsRegressor as KNN\n",
    "from sklearn.preprocessing import StandardScaler\n",
    "\n",
    "from joblib import dump, load\n",
    "import pandas as pd\n",
    "import numpy as np\n",
    "\n",
    "from psyke import Extractor, Clustering, Target\n",
    "from psyke.extraction.hypercubic.strategy import AdaptiveStrategy\n",
    "from psyke.extraction.hypercubic import Grid, FeatureRanker\n",
    "from psyke.utils.logic import pretty_theory"
   ]
  },
  {
   "cell_type": "code",
   "execution_count": 2,
   "outputs": [],
   "source": [
    "def getTrainTest(data, testB):\n",
    "    b = bartels[bartels.n==testB]\n",
    "    t0, t1 = b.t0.values[0], b.t1.values[0]\n",
    "    idx = (data.index >= t0) & (data.index < t1)\n",
    "    return data[~idx], data[idx]\n",
    "\n",
    "def getScaler(train, name):\n",
    "    scaler = StandardScaler().fit(train)\n",
    "    dump(scaler, f\"scalers/scalerV{name}.joblib\")\n",
    "    normalization = {key: (m, s) for key, m, s in zip(train.columns, scaler.mean_, scaler.scale_)}\n",
    "    return scaler, pd.DataFrame(scaler.transform(train), columns=train.columns), normalization"
   ],
   "metadata": {
    "collapsed": false,
    "pycharm": {
     "name": "#%%\n"
    }
   }
  },
  {
   "cell_type": "code",
   "execution_count": 3,
   "outputs": [],
   "source": [
    "def gridex(model, train, test, normalization):\n",
    "    ranked = FeatureRanker(train.columns).fit(model, train.iloc[:, :-1]).rankings()\n",
    "    gridEx = Extractor.gridex(model, Grid(1, AdaptiveStrategy(ranked, [(0.6, 3), (0.75, 4)])),\n",
    "                              threshold=5, min_examples=1, normalization=normalization)\n",
    "    gridEx.extract(train)\n",
    "    return gridEx.brute_predict(test), gridEx.n_rules, sum([p is None for p in gridEx.predict(test)])\n",
    "    \n",
    "def gridrex(model, train, test, normalization):\n",
    "    ranked = FeatureRanker(train.columns).fit(model, train.iloc[:, :-1]).rankings()\n",
    "    gridREx = Extractor.gridrex(model, Grid(1, AdaptiveStrategy(ranked, [(0.5, 3)])),\n",
    "                                threshold=5, min_examples=1, normalization=normalization)\n",
    "    gridREx.extract(train)\n",
    "    return gridREx.brute_predict(test), gridREx.n_rules, sum([p is None for p in gridREx.predict(test)])\n",
    "\n",
    "def cart(model, train, test, normalization):\n",
    "    CART = Extractor.cart(model, max_depth=5, max_leaves=7, normalization=normalization)\n",
    "    CART.extract(train)\n",
    "    return CART.predict(test), CART.n_rules, sum([p is None for p in CART.predict(test)])\n",
    "\n",
    "def cosmik(model, train, test, normalization):\n",
    "    COSMiK = Extractor.cosmik(model, max_components=10, k=100, patience=10, close_to_center=True,\n",
    "                              output=Target.CONSTANT, normalization=normalization)\n",
    "    COSMiK.extract(train)\n",
    "    return COSMiK.brute_predict(test), COSMiK.n_rules, sum([p is None for p in COSMiK.predict(test)])\n",
    "\n",
    "def creepy(model, train, test, normalization):\n",
    "    CReEPy = Extractor.creepy(model, clustering=Clustering.cream, depth=5, error_threshold=5, gauss_components=10,\n",
    "                              output=Target.REGRESSION, normalization=normalization)\n",
    "    CReEPy.extract(train)\n",
    "    return CReEPy.brute_predict(test), CReEPy.n_rules, sum([p is None for p in CReEPy.predict(test)])"
   ],
   "metadata": {
    "collapsed": false,
    "pycharm": {
     "name": "#%%\n"
    }
   }
  },
  {
   "cell_type": "code",
   "execution_count": 4,
   "outputs": [
    {
     "name": "stdout",
     "output_type": "stream",
     "text": [
      "2491\n"
     ]
    }
   ],
   "source": [
    "bartels = pd.read_csv(\"data/bartels.csv\", parse_dates = [1, 2])\n",
    "\n",
    "extractors = ['GridEx', 'GridREx', 'CART', 'COSMiK', 'CReEPy']\n",
    "\n",
    "TESTB = [i for i in range(2491, 2509)]\n",
    "\n",
    "predicted = {name: [] for name in ['index', 'V', 'model'] + extractors}\n",
    "\n",
    "rules = {name: [] for name in ['BR'] + extractors}\n",
    "\n",
    "missed = {name: [] for name in ['BR'] + extractors}\n",
    "\n",
    "for testB in TESTB:\n",
    "    rules['BR'].append(testB)\n",
    "    missed['BR'].append(testB)\n",
    "    print(testB)\n",
    "\n",
    "    data = pd.read_csv(f'data/halffuzzycoefs2B.csv', parse_dates=[0], index_col=0)\n",
    "    train, test = getTrainTest(data, testB)\n",
    "\n",
    "    predicted['index'] += list(test.index.values)\n",
    "    predicted['V'] += list(test.V.values)\n",
    "\n",
    "    scaler, scaledTrain, normalization = getScaler(train, f\"test{testB}\")\n",
    "    scaledTest = pd.DataFrame(scaler.transform(test), columns=test.columns).iloc[:, :-1]\n",
    "    m, s = normalization[test.columns[-1]]\n",
    "\n",
    "    model = KNN(200, weights='distance', p=1).fit(scaledTrain.iloc[:, :-1], scaledTrain.iloc[:, -1])\n",
    "    #dump(model, f\"models/RF/{k}_{name}_{testB}.joblib\")\n",
    "    predicted['model'] += list(model.predict(scaledTest) * s + m)\n",
    "    break\n",
    "    for name, fun in zip(extractors, [gridex, gridrex, cart, cosmik, creepy]):\n",
    "        print(name)\n",
    "        #if name in ['GridREx', 'CART', 'COSMiK']:\n",
    "        #    continue\n",
    "        pred, n, miss = fun(model, scaledTrain, scaledTest, normalization)\n",
    "        predicted[name] += list(pred)\n",
    "        rules[name].append(n)\n",
    "        missed[name].append(miss)\n",
    "    break"
   ],
   "metadata": {
    "collapsed": false,
    "pycharm": {
     "name": "#%%\n"
    }
   }
  },
  {
   "cell_type": "code",
   "execution_count": 13,
   "outputs": [
    {
     "ename": "KeyboardInterrupt",
     "evalue": "",
     "output_type": "error",
     "traceback": [
      "\u001B[1;31m---------------------------------------------------------------------------\u001B[0m",
      "\u001B[1;31mKeyboardInterrupt\u001B[0m                         Traceback (most recent call last)",
      "\u001B[1;32m~\\AppData\\Local\\Temp/ipykernel_11724/3287760623.py\u001B[0m in \u001B[0;36m<module>\u001B[1;34m\u001B[0m\n\u001B[0;32m      1\u001B[0m \u001B[0mCART\u001B[0m \u001B[1;33m=\u001B[0m \u001B[0mExtractor\u001B[0m\u001B[1;33m.\u001B[0m\u001B[0mcart\u001B[0m\u001B[1;33m(\u001B[0m\u001B[0mmodel\u001B[0m\u001B[1;33m,\u001B[0m \u001B[0mnormalization\u001B[0m\u001B[1;33m=\u001B[0m\u001B[0mnormalization\u001B[0m\u001B[1;33m)\u001B[0m\u001B[1;33m\u001B[0m\u001B[1;33m\u001B[0m\u001B[0m\n\u001B[0;32m      2\u001B[0m \u001B[0mCART\u001B[0m\u001B[1;33m.\u001B[0m\u001B[0mextract\u001B[0m\u001B[1;33m(\u001B[0m\u001B[0mscaledTrain\u001B[0m\u001B[1;33m)\u001B[0m\u001B[1;33m\u001B[0m\u001B[1;33m\u001B[0m\u001B[0m\n\u001B[1;32m----> 3\u001B[1;33m \u001B[0mp\u001B[0m \u001B[1;33m=\u001B[0m \u001B[0mCART\u001B[0m\u001B[1;33m.\u001B[0m\u001B[0mpredict\u001B[0m\u001B[1;33m(\u001B[0m\u001B[0mscaledTest\u001B[0m\u001B[1;33m)\u001B[0m\u001B[1;33m\u001B[0m\u001B[1;33m\u001B[0m\u001B[0m\n\u001B[0m",
      "\u001B[1;32m~\\Desktop\\psyke\\psyke-python\\psyke\\__init__.py\u001B[0m in \u001B[0;36mpredict\u001B[1;34m(self, dataframe, mapping)\u001B[0m\n\u001B[0;32m     57\u001B[0m         \u001B[1;33m:\u001B[0m\u001B[1;32mreturn\u001B[0m\u001B[1;33m:\u001B[0m \u001B[0ma\u001B[0m \u001B[0mlist\u001B[0m \u001B[0mof\u001B[0m \u001B[0mpredictions\u001B[0m\u001B[1;33m.\u001B[0m\u001B[1;33m\u001B[0m\u001B[1;33m\u001B[0m\u001B[0m\n\u001B[0;32m     58\u001B[0m         \"\"\"\n\u001B[1;32m---> 59\u001B[1;33m         \u001B[1;32mreturn\u001B[0m \u001B[0mself\u001B[0m\u001B[1;33m.\u001B[0m\u001B[0m__convert\u001B[0m\u001B[1;33m(\u001B[0m\u001B[0mself\u001B[0m\u001B[1;33m.\u001B[0m\u001B[0m_predict\u001B[0m\u001B[1;33m(\u001B[0m\u001B[0mdataframe\u001B[0m\u001B[1;33m)\u001B[0m\u001B[1;33m,\u001B[0m \u001B[0mmapping\u001B[0m\u001B[1;33m)\u001B[0m\u001B[1;33m\u001B[0m\u001B[1;33m\u001B[0m\u001B[0m\n\u001B[0m\u001B[0;32m     60\u001B[0m \u001B[1;33m\u001B[0m\u001B[0m\n\u001B[0;32m     61\u001B[0m     \u001B[1;32mdef\u001B[0m \u001B[0m_predict\u001B[0m\u001B[1;33m(\u001B[0m\u001B[0mself\u001B[0m\u001B[1;33m,\u001B[0m \u001B[0mdataframe\u001B[0m\u001B[1;33m:\u001B[0m \u001B[0mpd\u001B[0m\u001B[1;33m.\u001B[0m\u001B[0mDataFrame\u001B[0m\u001B[1;33m)\u001B[0m \u001B[1;33m->\u001B[0m \u001B[0mIterable\u001B[0m\u001B[1;33m:\u001B[0m\u001B[1;33m\u001B[0m\u001B[1;33m\u001B[0m\u001B[0m\n",
      "\u001B[1;32m~\\Desktop\\psyke\\psyke-python\\psyke\\__init__.py\u001B[0m in \u001B[0;36m__convert\u001B[1;34m(self, ys, mapping)\u001B[0m\n\u001B[0;32m     68\u001B[0m         \u001B[1;32mif\u001B[0m \u001B[0mself\u001B[0m\u001B[1;33m.\u001B[0m\u001B[0mnormalization\u001B[0m \u001B[1;32mis\u001B[0m \u001B[1;32mnot\u001B[0m \u001B[1;32mNone\u001B[0m\u001B[1;33m:\u001B[0m\u001B[1;33m\u001B[0m\u001B[1;33m\u001B[0m\u001B[0m\n\u001B[0;32m     69\u001B[0m             \u001B[0mm\u001B[0m\u001B[1;33m,\u001B[0m \u001B[0ms\u001B[0m \u001B[1;33m=\u001B[0m \u001B[0mself\u001B[0m\u001B[1;33m.\u001B[0m\u001B[0mnormalization\u001B[0m\u001B[1;33m[\u001B[0m\u001B[0mlist\u001B[0m\u001B[1;33m(\u001B[0m\u001B[0mself\u001B[0m\u001B[1;33m.\u001B[0m\u001B[0mnormalization\u001B[0m\u001B[1;33m.\u001B[0m\u001B[0mkeys\u001B[0m\u001B[1;33m(\u001B[0m\u001B[1;33m)\u001B[0m\u001B[1;33m)\u001B[0m\u001B[1;33m[\u001B[0m\u001B[1;33m-\u001B[0m\u001B[1;36m1\u001B[0m\u001B[1;33m]\u001B[0m\u001B[1;33m]\u001B[0m\u001B[1;33m\u001B[0m\u001B[1;33m\u001B[0m\u001B[0m\n\u001B[1;32m---> 70\u001B[1;33m             \u001B[0mys\u001B[0m \u001B[1;33m=\u001B[0m \u001B[1;33m[\u001B[0m\u001B[0mprediction\u001B[0m \u001B[1;32mif\u001B[0m \u001B[0mprediction\u001B[0m \u001B[1;32mis\u001B[0m \u001B[1;32mNone\u001B[0m \u001B[1;32melse\u001B[0m \u001B[0mys\u001B[0m \u001B[1;33m*\u001B[0m \u001B[0ms\u001B[0m \u001B[1;33m+\u001B[0m \u001B[0mm\u001B[0m \u001B[1;32mfor\u001B[0m \u001B[0mprediction\u001B[0m \u001B[1;32min\u001B[0m \u001B[0mys\u001B[0m\u001B[1;33m]\u001B[0m\u001B[1;33m\u001B[0m\u001B[1;33m\u001B[0m\u001B[0m\n\u001B[0m\u001B[0;32m     71\u001B[0m         \u001B[1;32mreturn\u001B[0m \u001B[0mys\u001B[0m\u001B[1;33m\u001B[0m\u001B[1;33m\u001B[0m\u001B[0m\n\u001B[0;32m     72\u001B[0m \u001B[1;33m\u001B[0m\u001B[0m\n",
      "\u001B[1;32m~\\Desktop\\psyke\\psyke-python\\psyke\\__init__.py\u001B[0m in \u001B[0;36m__convert\u001B[1;34m(self, ys, mapping)\u001B[0m\n\u001B[0;32m     68\u001B[0m         \u001B[1;32mif\u001B[0m \u001B[0mself\u001B[0m\u001B[1;33m.\u001B[0m\u001B[0mnormalization\u001B[0m \u001B[1;32mis\u001B[0m \u001B[1;32mnot\u001B[0m \u001B[1;32mNone\u001B[0m\u001B[1;33m:\u001B[0m\u001B[1;33m\u001B[0m\u001B[1;33m\u001B[0m\u001B[0m\n\u001B[0;32m     69\u001B[0m             \u001B[0mm\u001B[0m\u001B[1;33m,\u001B[0m \u001B[0ms\u001B[0m \u001B[1;33m=\u001B[0m \u001B[0mself\u001B[0m\u001B[1;33m.\u001B[0m\u001B[0mnormalization\u001B[0m\u001B[1;33m[\u001B[0m\u001B[0mlist\u001B[0m\u001B[1;33m(\u001B[0m\u001B[0mself\u001B[0m\u001B[1;33m.\u001B[0m\u001B[0mnormalization\u001B[0m\u001B[1;33m.\u001B[0m\u001B[0mkeys\u001B[0m\u001B[1;33m(\u001B[0m\u001B[1;33m)\u001B[0m\u001B[1;33m)\u001B[0m\u001B[1;33m[\u001B[0m\u001B[1;33m-\u001B[0m\u001B[1;36m1\u001B[0m\u001B[1;33m]\u001B[0m\u001B[1;33m]\u001B[0m\u001B[1;33m\u001B[0m\u001B[1;33m\u001B[0m\u001B[0m\n\u001B[1;32m---> 70\u001B[1;33m             \u001B[0mys\u001B[0m \u001B[1;33m=\u001B[0m \u001B[1;33m[\u001B[0m\u001B[0mprediction\u001B[0m \u001B[1;32mif\u001B[0m \u001B[0mprediction\u001B[0m \u001B[1;32mis\u001B[0m \u001B[1;32mNone\u001B[0m \u001B[1;32melse\u001B[0m \u001B[0mys\u001B[0m \u001B[1;33m*\u001B[0m \u001B[0ms\u001B[0m \u001B[1;33m+\u001B[0m \u001B[0mm\u001B[0m \u001B[1;32mfor\u001B[0m \u001B[0mprediction\u001B[0m \u001B[1;32min\u001B[0m \u001B[0mys\u001B[0m\u001B[1;33m]\u001B[0m\u001B[1;33m\u001B[0m\u001B[1;33m\u001B[0m\u001B[0m\n\u001B[0m\u001B[0;32m     71\u001B[0m         \u001B[1;32mreturn\u001B[0m \u001B[0mys\u001B[0m\u001B[1;33m\u001B[0m\u001B[1;33m\u001B[0m\u001B[0m\n\u001B[0;32m     72\u001B[0m \u001B[1;33m\u001B[0m\u001B[0m\n",
      "\u001B[1;32m_pydevd_bundle\\pydevd_cython_win32_39_64.pyx\u001B[0m in \u001B[0;36m_pydevd_bundle.pydevd_cython_win32_39_64.SafeCallWrapper.__call__\u001B[1;34m()\u001B[0m\n",
      "\u001B[1;32m_pydevd_bundle\\pydevd_cython_win32_39_64.pyx\u001B[0m in \u001B[0;36m_pydevd_bundle.pydevd_cython_win32_39_64.PyDBFrame.trace_dispatch\u001B[1;34m()\u001B[0m\n",
      "\u001B[1;32m_pydevd_bundle\\pydevd_cython_win32_39_64.pyx\u001B[0m in \u001B[0;36m_pydevd_bundle.pydevd_cython_win32_39_64.PyDBFrame.trace_dispatch\u001B[1;34m()\u001B[0m\n",
      "\u001B[1;32m_pydevd_bundle\\pydevd_cython_win32_39_64.pyx\u001B[0m in \u001B[0;36m_pydevd_bundle.pydevd_cython_win32_39_64.PyDBFrame.trace_dispatch\u001B[1;34m()\u001B[0m\n",
      "\u001B[1;32m_pydevd_bundle\\pydevd_cython_win32_39_64.pyx\u001B[0m in \u001B[0;36m_pydevd_bundle.pydevd_cython_win32_39_64.PyDBFrame.do_wait_suspend\u001B[1;34m()\u001B[0m\n",
      "\u001B[1;32mC:\\Program Files\\JetBrains\\PyCharm 2021.3\\plugins\\python\\helpers\\pydev\\pydevd.py\u001B[0m in \u001B[0;36mdo_wait_suspend\u001B[1;34m(self, thread, frame, event, arg, send_suspend_message, is_unhandled_exception)\u001B[0m\n\u001B[0;32m   1145\u001B[0m \u001B[1;33m\u001B[0m\u001B[0m\n\u001B[0;32m   1146\u001B[0m         \u001B[1;32mwith\u001B[0m \u001B[0mself\u001B[0m\u001B[1;33m.\u001B[0m\u001B[0m_threads_suspended_single_notification\u001B[0m\u001B[1;33m.\u001B[0m\u001B[0mnotify_thread_suspended\u001B[0m\u001B[1;33m(\u001B[0m\u001B[0mthread_id\u001B[0m\u001B[1;33m,\u001B[0m \u001B[0mstop_reason\u001B[0m\u001B[1;33m)\u001B[0m\u001B[1;33m:\u001B[0m\u001B[1;33m\u001B[0m\u001B[1;33m\u001B[0m\u001B[0m\n\u001B[1;32m-> 1147\u001B[1;33m             \u001B[0mself\u001B[0m\u001B[1;33m.\u001B[0m\u001B[0m_do_wait_suspend\u001B[0m\u001B[1;33m(\u001B[0m\u001B[0mthread\u001B[0m\u001B[1;33m,\u001B[0m \u001B[0mframe\u001B[0m\u001B[1;33m,\u001B[0m \u001B[0mevent\u001B[0m\u001B[1;33m,\u001B[0m \u001B[0marg\u001B[0m\u001B[1;33m,\u001B[0m \u001B[0msuspend_type\u001B[0m\u001B[1;33m,\u001B[0m \u001B[0mfrom_this_thread\u001B[0m\u001B[1;33m)\u001B[0m\u001B[1;33m\u001B[0m\u001B[1;33m\u001B[0m\u001B[0m\n\u001B[0m\u001B[0;32m   1148\u001B[0m \u001B[1;33m\u001B[0m\u001B[0m\n\u001B[0;32m   1149\u001B[0m     \u001B[1;32mdef\u001B[0m \u001B[0m_do_wait_suspend\u001B[0m\u001B[1;33m(\u001B[0m\u001B[0mself\u001B[0m\u001B[1;33m,\u001B[0m \u001B[0mthread\u001B[0m\u001B[1;33m,\u001B[0m \u001B[0mframe\u001B[0m\u001B[1;33m,\u001B[0m \u001B[0mevent\u001B[0m\u001B[1;33m,\u001B[0m \u001B[0marg\u001B[0m\u001B[1;33m,\u001B[0m \u001B[0msuspend_type\u001B[0m\u001B[1;33m,\u001B[0m \u001B[0mfrom_this_thread\u001B[0m\u001B[1;33m)\u001B[0m\u001B[1;33m:\u001B[0m\u001B[1;33m\u001B[0m\u001B[1;33m\u001B[0m\u001B[0m\n",
      "\u001B[1;32mC:\\Program Files\\JetBrains\\PyCharm 2021.3\\plugins\\python\\helpers\\pydev\\pydevd.py\u001B[0m in \u001B[0;36m_do_wait_suspend\u001B[1;34m(self, thread, frame, event, arg, suspend_type, from_this_thread)\u001B[0m\n\u001B[0;32m   1160\u001B[0m \u001B[1;33m\u001B[0m\u001B[0m\n\u001B[0;32m   1161\u001B[0m                 \u001B[0mself\u001B[0m\u001B[1;33m.\u001B[0m\u001B[0mprocess_internal_commands\u001B[0m\u001B[1;33m(\u001B[0m\u001B[1;33m)\u001B[0m\u001B[1;33m\u001B[0m\u001B[1;33m\u001B[0m\u001B[0m\n\u001B[1;32m-> 1162\u001B[1;33m                 \u001B[0mtime\u001B[0m\u001B[1;33m.\u001B[0m\u001B[0msleep\u001B[0m\u001B[1;33m(\u001B[0m\u001B[1;36m0.01\u001B[0m\u001B[1;33m)\u001B[0m\u001B[1;33m\u001B[0m\u001B[1;33m\u001B[0m\u001B[0m\n\u001B[0m\u001B[0;32m   1163\u001B[0m \u001B[1;33m\u001B[0m\u001B[0m\n\u001B[0;32m   1164\u001B[0m         \u001B[0mself\u001B[0m\u001B[1;33m.\u001B[0m\u001B[0mcancel_async_evaluation\u001B[0m\u001B[1;33m(\u001B[0m\u001B[0mget_current_thread_id\u001B[0m\u001B[1;33m(\u001B[0m\u001B[0mthread\u001B[0m\u001B[1;33m)\u001B[0m\u001B[1;33m,\u001B[0m \u001B[0mstr\u001B[0m\u001B[1;33m(\u001B[0m\u001B[0mid\u001B[0m\u001B[1;33m(\u001B[0m\u001B[0mframe\u001B[0m\u001B[1;33m)\u001B[0m\u001B[1;33m)\u001B[0m\u001B[1;33m)\u001B[0m\u001B[1;33m\u001B[0m\u001B[1;33m\u001B[0m\u001B[0m\n",
      "\u001B[1;31mKeyboardInterrupt\u001B[0m: "
     ]
    }
   ],
   "source": [
    "CART = Extractor.cart(model, normalization=normalization)\n",
    "CART.extract(scaledTrain)\n",
    "p = CART.predict(scaledTest)"
   ],
   "metadata": {
    "collapsed": false,
    "pycharm": {
     "name": "#%%\n"
    }
   }
  },
  {
   "cell_type": "code",
   "execution_count": 9,
   "outputs": [
    {
     "data": {
      "text/plain": "(648, 648)"
     },
     "execution_count": 9,
     "metadata": {},
     "output_type": "execute_result"
    }
   ],
   "source": [
    "np.array(p).shape"
   ],
   "metadata": {
    "collapsed": false,
    "pycharm": {
     "name": "#%%\n"
    }
   }
  },
  {
   "cell_type": "code",
   "execution_count": 11,
   "outputs": [
    {
     "data": {
      "text/plain": "(648,)"
     },
     "execution_count": 11,
     "metadata": {},
     "output_type": "execute_result"
    }
   ],
   "source": [
    "model.predict(scaledTest).shape"
   ],
   "metadata": {
    "collapsed": false,
    "pycharm": {
     "name": "#%%\n"
    }
   }
  },
  {
   "cell_type": "code",
   "execution_count": 8,
   "outputs": [
    {
     "data": {
      "text/plain": "                  index      V       model  GridEx   GridREx  \\\n0   2016-03-04 00:00:00  410.0  518.750997     0.0 -0.381030   \n1   2016-03-04 01:00:00  400.0  522.352090     0.0 -0.407892   \n2   2016-03-04 02:00:00  395.0  525.129143     0.0 -0.433331   \n3   2016-03-04 03:00:00  408.0  528.767307     0.0 -0.461158   \n4   2016-03-04 04:00:00  406.0  528.091871     0.0 -0.477063   \n..                  ...    ...         ...     ...       ...   \n643 2016-03-30 19:00:00  497.0  487.521085     0.0 -0.294504   \n644 2016-03-30 20:00:00  501.0  489.614882     0.0 -0.278289   \n645 2016-03-30 21:00:00  518.0  490.609540     0.0 -0.267642   \n646 2016-03-30 22:00:00  510.0  491.321955     0.0 -0.251590   \n647 2016-03-30 23:00:00  511.0  491.970557     0.0 -0.229831   \n\n                                                  CART  \\\n0    [441.86581920903956, 441.86581920903956, 441.8...   \n1    [441.86581920903956, 441.86581920903956, 441.8...   \n2    [441.86581920903956, 441.86581920903956, 441.8...   \n3    [441.86581920903956, 441.86581920903956, 441.8...   \n4    [441.86581920903956, 441.86581920903956, 441.8...   \n..                                                 ...   \n643  [441.86581920903956, 441.86581920903956, 441.8...   \n644  [441.86581920903956, 441.86581920903956, 441.8...   \n645  [441.86581920903956, 441.86581920903956, 441.8...   \n646  [441.86581920903956, 441.86581920903956, 441.8...   \n647  [441.86581920903956, 441.86581920903956, 441.8...   \n\n                                                COSMiK  \\\n0    [340.3877551020408, 340.3877551020408, 340.387...   \n1    [340.3877551020408, 340.3877551020408, 340.387...   \n2    [340.3877551020408, 340.3877551020408, 340.387...   \n3    [340.3877551020408, 340.3877551020408, 340.387...   \n4    [340.3877551020408, 340.3877551020408, 340.387...   \n..                                                 ...   \n643  [340.3877551020408, 340.3877551020408, 340.387...   \n644  [340.3877551020408, 340.3877551020408, 340.387...   \n645  [340.3877551020408, 340.3877551020408, 340.387...   \n646  [340.3877551020408, 340.3877551020408, 340.387...   \n647  [340.3877551020408, 340.3877551020408, 340.387...   \n\n                                                CReEPy  \n0    [464.19181456754364, 462.0928005366921, 459.64...  \n1    [464.19181456754364, 462.0928005366921, 459.64...  \n2    [464.19181456754364, 462.0928005366921, 459.64...  \n3    [464.19181456754364, 462.0928005366921, 459.64...  \n4    [464.19181456754364, 462.0928005366921, 459.64...  \n..                                                 ...  \n643  [464.19181456754364, 462.0928005366921, 459.64...  \n644  [464.19181456754364, 462.0928005366921, 459.64...  \n645  [464.19181456754364, 462.0928005366921, 459.64...  \n646  [464.19181456754364, 462.0928005366921, 459.64...  \n647  [464.19181456754364, 462.0928005366921, 459.64...  \n\n[648 rows x 8 columns]",
      "text/html": "<div>\n<style scoped>\n    .dataframe tbody tr th:only-of-type {\n        vertical-align: middle;\n    }\n\n    .dataframe tbody tr th {\n        vertical-align: top;\n    }\n\n    .dataframe thead th {\n        text-align: right;\n    }\n</style>\n<table border=\"1\" class=\"dataframe\">\n  <thead>\n    <tr style=\"text-align: right;\">\n      <th></th>\n      <th>index</th>\n      <th>V</th>\n      <th>model</th>\n      <th>GridEx</th>\n      <th>GridREx</th>\n      <th>CART</th>\n      <th>COSMiK</th>\n      <th>CReEPy</th>\n    </tr>\n  </thead>\n  <tbody>\n    <tr>\n      <th>0</th>\n      <td>2016-03-04 00:00:00</td>\n      <td>410.0</td>\n      <td>518.750997</td>\n      <td>0.0</td>\n      <td>-0.381030</td>\n      <td>[441.86581920903956, 441.86581920903956, 441.8...</td>\n      <td>[340.3877551020408, 340.3877551020408, 340.387...</td>\n      <td>[464.19181456754364, 462.0928005366921, 459.64...</td>\n    </tr>\n    <tr>\n      <th>1</th>\n      <td>2016-03-04 01:00:00</td>\n      <td>400.0</td>\n      <td>522.352090</td>\n      <td>0.0</td>\n      <td>-0.407892</td>\n      <td>[441.86581920903956, 441.86581920903956, 441.8...</td>\n      <td>[340.3877551020408, 340.3877551020408, 340.387...</td>\n      <td>[464.19181456754364, 462.0928005366921, 459.64...</td>\n    </tr>\n    <tr>\n      <th>2</th>\n      <td>2016-03-04 02:00:00</td>\n      <td>395.0</td>\n      <td>525.129143</td>\n      <td>0.0</td>\n      <td>-0.433331</td>\n      <td>[441.86581920903956, 441.86581920903956, 441.8...</td>\n      <td>[340.3877551020408, 340.3877551020408, 340.387...</td>\n      <td>[464.19181456754364, 462.0928005366921, 459.64...</td>\n    </tr>\n    <tr>\n      <th>3</th>\n      <td>2016-03-04 03:00:00</td>\n      <td>408.0</td>\n      <td>528.767307</td>\n      <td>0.0</td>\n      <td>-0.461158</td>\n      <td>[441.86581920903956, 441.86581920903956, 441.8...</td>\n      <td>[340.3877551020408, 340.3877551020408, 340.387...</td>\n      <td>[464.19181456754364, 462.0928005366921, 459.64...</td>\n    </tr>\n    <tr>\n      <th>4</th>\n      <td>2016-03-04 04:00:00</td>\n      <td>406.0</td>\n      <td>528.091871</td>\n      <td>0.0</td>\n      <td>-0.477063</td>\n      <td>[441.86581920903956, 441.86581920903956, 441.8...</td>\n      <td>[340.3877551020408, 340.3877551020408, 340.387...</td>\n      <td>[464.19181456754364, 462.0928005366921, 459.64...</td>\n    </tr>\n    <tr>\n      <th>...</th>\n      <td>...</td>\n      <td>...</td>\n      <td>...</td>\n      <td>...</td>\n      <td>...</td>\n      <td>...</td>\n      <td>...</td>\n      <td>...</td>\n    </tr>\n    <tr>\n      <th>643</th>\n      <td>2016-03-30 19:00:00</td>\n      <td>497.0</td>\n      <td>487.521085</td>\n      <td>0.0</td>\n      <td>-0.294504</td>\n      <td>[441.86581920903956, 441.86581920903956, 441.8...</td>\n      <td>[340.3877551020408, 340.3877551020408, 340.387...</td>\n      <td>[464.19181456754364, 462.0928005366921, 459.64...</td>\n    </tr>\n    <tr>\n      <th>644</th>\n      <td>2016-03-30 20:00:00</td>\n      <td>501.0</td>\n      <td>489.614882</td>\n      <td>0.0</td>\n      <td>-0.278289</td>\n      <td>[441.86581920903956, 441.86581920903956, 441.8...</td>\n      <td>[340.3877551020408, 340.3877551020408, 340.387...</td>\n      <td>[464.19181456754364, 462.0928005366921, 459.64...</td>\n    </tr>\n    <tr>\n      <th>645</th>\n      <td>2016-03-30 21:00:00</td>\n      <td>518.0</td>\n      <td>490.609540</td>\n      <td>0.0</td>\n      <td>-0.267642</td>\n      <td>[441.86581920903956, 441.86581920903956, 441.8...</td>\n      <td>[340.3877551020408, 340.3877551020408, 340.387...</td>\n      <td>[464.19181456754364, 462.0928005366921, 459.64...</td>\n    </tr>\n    <tr>\n      <th>646</th>\n      <td>2016-03-30 22:00:00</td>\n      <td>510.0</td>\n      <td>491.321955</td>\n      <td>0.0</td>\n      <td>-0.251590</td>\n      <td>[441.86581920903956, 441.86581920903956, 441.8...</td>\n      <td>[340.3877551020408, 340.3877551020408, 340.387...</td>\n      <td>[464.19181456754364, 462.0928005366921, 459.64...</td>\n    </tr>\n    <tr>\n      <th>647</th>\n      <td>2016-03-30 23:00:00</td>\n      <td>511.0</td>\n      <td>491.970557</td>\n      <td>0.0</td>\n      <td>-0.229831</td>\n      <td>[441.86581920903956, 441.86581920903956, 441.8...</td>\n      <td>[340.3877551020408, 340.3877551020408, 340.387...</td>\n      <td>[464.19181456754364, 462.0928005366921, 459.64...</td>\n    </tr>\n  </tbody>\n</table>\n<p>648 rows × 8 columns</p>\n</div>"
     },
     "execution_count": 8,
     "metadata": {},
     "output_type": "execute_result"
    }
   ],
   "source": [
    "pd.DataFrame(predicted)"
   ],
   "metadata": {
    "collapsed": false,
    "pycharm": {
     "name": "#%%\n"
    }
   }
  },
  {
   "cell_type": "code",
   "execution_count": null,
   "outputs": [],
   "source": [
    "sdsfgd"
   ],
   "metadata": {
    "collapsed": false,
    "pycharm": {
     "name": "#%%\n"
    }
   }
  },
  {
   "cell_type": "code",
   "execution_count": null,
   "outputs": [],
   "source": [
    "pd.DataFrame(predicted).to_csv(\"pred.csv\")"
   ],
   "metadata": {
    "collapsed": false,
    "pycharm": {
     "name": "#%%\n"
    }
   }
  },
  {
   "cell_type": "code",
   "execution_count": null,
   "outputs": [],
   "source": [
    "pd.DataFrame(rules).to_csv('rules.csv')\n",
    "pd.DataFrame(missed).to_csv('missed.csv')"
   ],
   "metadata": {
    "collapsed": false,
    "pycharm": {
     "name": "#%%\n"
    }
   }
  },
  {
   "cell_type": "code",
   "execution_count": null,
   "outputs": [],
   "source": [
    "p = pd.DataFrame(predicted)"
   ],
   "metadata": {
    "collapsed": false,
    "pycharm": {
     "name": "#%%\n"
    }
   }
  },
  {
   "cell_type": "code",
   "execution_count": null,
   "outputs": [],
   "source": [
    "abs(p.COSMiK - p.model).mean()"
   ],
   "metadata": {
    "collapsed": false,
    "pycharm": {
     "name": "#%%\n"
    }
   }
  },
  {
   "cell_type": "code",
   "execution_count": null,
   "outputs": [],
   "source": [
    "p.describe()"
   ],
   "metadata": {
    "collapsed": false,
    "pycharm": {
     "name": "#%%\n"
    }
   }
  },
  {
   "cell_type": "code",
   "execution_count": null,
   "outputs": [],
   "source": [],
   "metadata": {
    "collapsed": false,
    "pycharm": {
     "name": "#%%\n"
    }
   }
  }
 ],
 "metadata": {
  "kernelspec": {
   "display_name": "Python 3",
   "language": "python",
   "name": "python3"
  },
  "language_info": {
   "codemirror_mode": {
    "name": "ipython",
    "version": 3
   },
   "file_extension": ".py",
   "mimetype": "text/x-python",
   "name": "python",
   "nbconvert_exporter": "python",
   "pygments_lexer": "ipython3",
   "version": "3.9.7"
  }
 },
 "nbformat": 4,
 "nbformat_minor": 5
}