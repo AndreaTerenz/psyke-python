{
 "cells": [
  {
   "cell_type": "code",
   "execution_count": 1,
   "id": "6b710e7c",
   "metadata": {},
   "outputs": [],
   "source": [
    "from sklearn.neighbors import KNeighborsRegressor as KNN\n",
    "from sklearn.preprocessing import StandardScaler\n",
    "\n",
    "from joblib import dump, load\n",
    "import pandas as pd\n",
    "import numpy as np\n",
    "\n",
    "from psyke import Extractor, Clustering, Target\n",
    "from psyke.extraction.hypercubic.strategy import AdaptiveStrategy\n",
    "from psyke.extraction.hypercubic import Grid, FeatureRanker\n",
    "from psyke.utils.logic import pretty_theory"
   ]
  },
  {
   "cell_type": "code",
   "execution_count": 2,
   "outputs": [],
   "source": [
    "def getTrainTest(data, testB):\n",
    "    b = bartels[bartels.n==testB]\n",
    "    t0, t1 = b.t0.values[0], b.t1.values[0]\n",
    "    idx = (data.index >= t0) & (data.index < t1)\n",
    "    return data[~idx], data[idx]\n",
    "\n",
    "def getScaler(train, name):\n",
    "    scaler = StandardScaler().fit(train)\n",
    "    dump(scaler, f\"scalers/scalerV{name}.joblib\")\n",
    "    normalization = {key: (m, s) for key, m, s in zip(train.columns, scaler.mean_, scaler.scale_)}\n",
    "    return scaler, pd.DataFrame(scaler.transform(train), columns=train.columns), normalization"
   ],
   "metadata": {
    "collapsed": false,
    "pycharm": {
     "name": "#%%\n"
    }
   }
  },
  {
   "cell_type": "code",
   "execution_count": 3,
   "outputs": [],
   "source": [
    "def gridex(model, train, test, normalization, s, m):\n",
    "    ranked = FeatureRanker(train.columns).fit(model, train.iloc[:, :-1]).rankings()\n",
    "    gridEx = Extractor.gridex(model, Grid(1, AdaptiveStrategy(ranked, [(0.6, 3), (0.75, 4)])),\n",
    "                              threshold=5, min_examples=1, normalization=normalization)\n",
    "    gridEx.extract(train)\n",
    "    return gridEx.brute_predict(test), gridEx.n_rules, sum([p is None for p in gridEx.predict(test)])\n",
    "    \n",
    "def gridrex(model, train, test, normalization, s, m):\n",
    "    ranked = FeatureRanker(train.columns).fit(model, train.iloc[:, :-1]).rankings()\n",
    "    gridREx = Extractor.gridrex(model, Grid(1, AdaptiveStrategy(ranked, [(0.5, 3)])),\n",
    "                                threshold=5, min_examples=1, normalization=normalization)\n",
    "    gridREx.extract(train)\n",
    "    return gridREx.brute_predict(test), gridREx.n_rules, sum([p is None for p in gridREx.predict(test)])\n",
    "\n",
    "def cart(model, train, test, normalization, s, m):\n",
    "    CART = Extractor.cart(model, max_depth=5, max_leaves=7, normalization=normalization)\n",
    "    CART.extract(train)\n",
    "    return CART.predict(test) * s + m, CART.n_rules, sum([p is None for p in CART.predict(test)])\n",
    "\n",
    "def cosmik(model, train, test, normalization, s, m):\n",
    "    COSMiK = Extractor.cosmik(model, max_components=10, k=100, patience=10, close_to_center=True,\n",
    "                              output=Target.CONSTANT, normalization=normalization)\n",
    "    COSMiK.extract(train)\n",
    "    return COSMiK.brute_predict(test), COSMiK.n_rules, sum([p is None for p in COSMiK.predict(test)])\n",
    "\n",
    "def creepy(model, train, test, normalization, s, m):\n",
    "    CReEPy = Extractor.creepy(model, clustering=Clustering.cream, depth=5, error_threshold=5, gauss_components=10,\n",
    "                              output=Target.REGRESSION, normalization=normalization)\n",
    "    CReEPy.extract(train)\n",
    "    return CReEPy.brute_predict(test), CReEPy.n_rules, sum([p is None for p in CReEPy.predict(test)])"
   ],
   "metadata": {
    "collapsed": false,
    "pycharm": {
     "name": "#%%\n"
    }
   }
  },
  {
   "cell_type": "code",
   "execution_count": 4,
   "outputs": [
    {
     "name": "stdout",
     "output_type": "stream",
     "text": [
      "2491\n",
      "GridREx\n",
      "CART\n",
      "COSMiK\n",
      "CReEPy\n",
      "2492\n",
      "GridREx\n",
      "CART\n",
      "COSMiK\n",
      "CReEPy\n",
      "2493\n",
      "GridREx\n",
      "CART\n",
      "COSMiK\n",
      "CReEPy\n",
      "2494\n",
      "GridREx\n",
      "CART\n",
      "COSMiK\n",
      "CReEPy\n",
      "2495\n",
      "GridREx\n",
      "CART\n",
      "COSMiK\n",
      "CReEPy\n",
      "2496\n",
      "GridREx\n",
      "CART\n",
      "COSMiK\n",
      "CReEPy\n",
      "2497\n",
      "GridREx\n",
      "CART\n",
      "COSMiK\n",
      "CReEPy\n",
      "2498\n",
      "GridREx\n",
      "CART\n",
      "COSMiK\n",
      "CReEPy\n",
      "2499\n",
      "GridREx\n",
      "CART\n",
      "COSMiK\n",
      "CReEPy\n",
      "2500\n",
      "GridREx\n",
      "CART\n",
      "COSMiK\n",
      "CReEPy\n",
      "2501\n",
      "GridREx\n",
      "CART\n",
      "COSMiK\n",
      "CReEPy\n",
      "2502\n",
      "GridREx\n",
      "CART\n",
      "COSMiK\n",
      "CReEPy\n",
      "2503\n",
      "GridREx\n",
      "CART\n",
      "COSMiK\n",
      "CReEPy\n",
      "2504\n",
      "GridREx\n",
      "CART\n",
      "COSMiK\n",
      "CReEPy\n",
      "2505\n",
      "GridREx\n",
      "CART\n",
      "COSMiK\n",
      "CReEPy\n",
      "2506\n",
      "GridREx\n",
      "CART\n",
      "COSMiK\n",
      "CReEPy\n",
      "2507\n",
      "GridREx\n",
      "CART\n",
      "COSMiK\n",
      "CReEPy\n",
      "2508\n",
      "GridREx\n",
      "CART\n",
      "COSMiK\n",
      "CReEPy\n"
     ]
    }
   ],
   "source": [
    "bartels = pd.read_csv(\"data/bartels.csv\", parse_dates = [1, 2])\n",
    "\n",
    "TESTB = [i for i in range(2491, 2509)]\n",
    "\n",
    "predicted = {'index': [], 'V': [], 'model': [], 'GridREx': [], 'CART': [], 'COSMiK': [], 'CReEPy': []}\n",
    "\n",
    "rules = {'BR': [], 'GridREx': [], 'CART': [], 'COSMiK': [], 'CReEPy': []}\n",
    "\n",
    "missed = {'BR': [], 'GridREx': [], 'CART': [], 'COSMiK': [], 'CReEPy': []}\n",
    "\n",
    "for testB in TESTB:\n",
    "    rules['BR'].append(testB)\n",
    "    missed['BR'].append(testB)\n",
    "    print(testB)\n",
    "\n",
    "    data = pd.read_csv(f'data/halffuzzycoefs2B.csv', parse_dates=[0], index_col=0)\n",
    "    train, test = getTrainTest(data, testB)\n",
    "\n",
    "    predicted['index'] += list(test.index.values)\n",
    "    predicted['V'] += list(test.V.values)\n",
    "\n",
    "    scaler, scaledTrain, normalization = getScaler(train, f\"test{testB}\")\n",
    "    scaledTest = pd.DataFrame(scaler.transform(test), columns=test.columns).iloc[:, :-1]\n",
    "    m, s = normalization[test.columns[-1]]\n",
    "\n",
    "    model = KNN(200, weights='distance', p=1).fit(scaledTrain.iloc[:, :-1], scaledTrain.iloc[:, -1])\n",
    "    #dump(model, f\"models/RF/{k}_{name}_{testB}.joblib\")\n",
    "    predicted['model'] += list(model.predict(scaledTest) * s + m)\n",
    "\n",
    "    for name, fun in zip(['GridREx', 'CART', 'COSMiK', 'CReEPy'], [gridrex, cart, cosmik, creepy]):\n",
    "        print(name)\n",
    "        #if name in ['GridREx', 'CART', 'COSMiK']:\n",
    "        #    continue\n",
    "        pred, n, miss = fun(model, scaledTrain, scaledTest, normalization, s, m)\n",
    "        predicted[name] += list(pred)\n",
    "        rules[name].append(n)\n",
    "        missed[name].append(miss)"
   ],
   "metadata": {
    "collapsed": false,
    "pycharm": {
     "name": "#%%\n"
    }
   }
  },
  {
   "cell_type": "code",
   "execution_count": 8,
   "outputs": [],
   "source": [
    "pd.DataFrame(predicted).to_csv(\"pred.csv\")"
   ],
   "metadata": {
    "collapsed": false,
    "pycharm": {
     "name": "#%%\n"
    }
   }
  },
  {
   "cell_type": "code",
   "execution_count": 10,
   "outputs": [],
   "source": [
    "pd.DataFrame(rules).to_csv('rules.csv')\n",
    "pd.DataFrame(missed).to_csv('missed.csv')"
   ],
   "metadata": {
    "collapsed": false,
    "pycharm": {
     "name": "#%%\n"
    }
   }
  },
  {
   "cell_type": "code",
   "execution_count": 13,
   "outputs": [],
   "source": [
    "p = pd.DataFrame(predicted)"
   ],
   "metadata": {
    "collapsed": false,
    "pycharm": {
     "name": "#%%\n"
    }
   }
  },
  {
   "cell_type": "code",
   "execution_count": 22,
   "outputs": [
    {
     "data": {
      "text/plain": "492505987326.38666"
     },
     "execution_count": 22,
     "metadata": {},
     "output_type": "execute_result"
    }
   ],
   "source": [
    "abs(p.COSMiK - p.model).mean()"
   ],
   "metadata": {
    "collapsed": false,
    "pycharm": {
     "name": "#%%\n"
    }
   }
  },
  {
   "cell_type": "code",
   "execution_count": 23,
   "outputs": [
    {
     "data": {
      "text/plain": "                     index             V         model       GridREx  \\\ncount                11664  11664.000000  11664.000000  1.166400e+04   \nmean   2016-11-01 23:30:00    454.232082    451.424130  9.016708e+09   \nmin    2016-03-04 00:00:00    263.000000    329.304591 -5.506639e+12   \n25%    2016-07-03 11:45:00    368.000000    392.160427 -5.776123e-01   \n50%    2016-11-01 23:30:00    431.000000    442.197565 -1.053650e-01   \n75%    2017-03-03 11:15:00    525.000000    507.905235  5.485643e-01   \nmax    2017-07-02 23:00:00    761.000000    639.798655  5.516910e+12   \nstd                    NaN    107.353337     70.294346  2.476474e+11   \n\n               CART        COSMiK        CReEPy  \ncount  11664.000000  1.166400e+04  11664.000000  \nmean       0.012740  2.897577e+11    455.121051  \nmin       -0.890021 -3.547506e+13    284.408661  \n25%       -0.757964  3.301165e+02    395.736008  \n50%       -0.006947  4.555268e+02    448.432503  \n75%        0.810958  6.599621e+02    510.909673  \nmax        1.196391  1.997025e+14    716.249401  \nstd        0.668172  8.476597e+12     76.059168  ",
      "text/html": "<div>\n<style scoped>\n    .dataframe tbody tr th:only-of-type {\n        vertical-align: middle;\n    }\n\n    .dataframe tbody tr th {\n        vertical-align: top;\n    }\n\n    .dataframe thead th {\n        text-align: right;\n    }\n</style>\n<table border=\"1\" class=\"dataframe\">\n  <thead>\n    <tr style=\"text-align: right;\">\n      <th></th>\n      <th>index</th>\n      <th>V</th>\n      <th>model</th>\n      <th>GridREx</th>\n      <th>CART</th>\n      <th>COSMiK</th>\n      <th>CReEPy</th>\n    </tr>\n  </thead>\n  <tbody>\n    <tr>\n      <th>count</th>\n      <td>11664</td>\n      <td>11664.000000</td>\n      <td>11664.000000</td>\n      <td>1.166400e+04</td>\n      <td>11664.000000</td>\n      <td>1.166400e+04</td>\n      <td>11664.000000</td>\n    </tr>\n    <tr>\n      <th>mean</th>\n      <td>2016-11-01 23:30:00</td>\n      <td>454.232082</td>\n      <td>451.424130</td>\n      <td>9.016708e+09</td>\n      <td>0.012740</td>\n      <td>2.897577e+11</td>\n      <td>455.121051</td>\n    </tr>\n    <tr>\n      <th>min</th>\n      <td>2016-03-04 00:00:00</td>\n      <td>263.000000</td>\n      <td>329.304591</td>\n      <td>-5.506639e+12</td>\n      <td>-0.890021</td>\n      <td>-3.547506e+13</td>\n      <td>284.408661</td>\n    </tr>\n    <tr>\n      <th>25%</th>\n      <td>2016-07-03 11:45:00</td>\n      <td>368.000000</td>\n      <td>392.160427</td>\n      <td>-5.776123e-01</td>\n      <td>-0.757964</td>\n      <td>3.301165e+02</td>\n      <td>395.736008</td>\n    </tr>\n    <tr>\n      <th>50%</th>\n      <td>2016-11-01 23:30:00</td>\n      <td>431.000000</td>\n      <td>442.197565</td>\n      <td>-1.053650e-01</td>\n      <td>-0.006947</td>\n      <td>4.555268e+02</td>\n      <td>448.432503</td>\n    </tr>\n    <tr>\n      <th>75%</th>\n      <td>2017-03-03 11:15:00</td>\n      <td>525.000000</td>\n      <td>507.905235</td>\n      <td>5.485643e-01</td>\n      <td>0.810958</td>\n      <td>6.599621e+02</td>\n      <td>510.909673</td>\n    </tr>\n    <tr>\n      <th>max</th>\n      <td>2017-07-02 23:00:00</td>\n      <td>761.000000</td>\n      <td>639.798655</td>\n      <td>5.516910e+12</td>\n      <td>1.196391</td>\n      <td>1.997025e+14</td>\n      <td>716.249401</td>\n    </tr>\n    <tr>\n      <th>std</th>\n      <td>NaN</td>\n      <td>107.353337</td>\n      <td>70.294346</td>\n      <td>2.476474e+11</td>\n      <td>0.668172</td>\n      <td>8.476597e+12</td>\n      <td>76.059168</td>\n    </tr>\n  </tbody>\n</table>\n</div>"
     },
     "execution_count": 23,
     "metadata": {},
     "output_type": "execute_result"
    }
   ],
   "source": [
    "p.describe()"
   ],
   "metadata": {
    "collapsed": false,
    "pycharm": {
     "name": "#%%\n"
    }
   }
  },
  {
   "cell_type": "code",
   "execution_count": null,
   "outputs": [],
   "source": [],
   "metadata": {
    "collapsed": false,
    "pycharm": {
     "name": "#%%\n"
    }
   }
  }
 ],
 "metadata": {
  "kernelspec": {
   "display_name": "Python 3",
   "language": "python",
   "name": "python3"
  },
  "language_info": {
   "codemirror_mode": {
    "name": "ipython",
    "version": 3
   },
   "file_extension": ".py",
   "mimetype": "text/x-python",
   "name": "python",
   "nbconvert_exporter": "python",
   "pygments_lexer": "ipython3",
   "version": "3.9.7"
  }
 },
 "nbformat": 4,
 "nbformat_minor": 5
}