{
 "cells": [
  {
   "cell_type": "code",
   "execution_count": 38,
   "id": "6b710e7c",
   "metadata": {},
   "outputs": [],
   "source": [
    "from sklearn.neighbors import KNeighborsRegressor as KNN\n",
    "from sklearn.preprocessing import StandardScaler\n",
    "\n",
    "from joblib import dump, load\n",
    "import pandas as pd\n",
    "import numpy as np\n",
    "\n",
    "from psyke import Extractor, Clustering, Target\n",
    "from psyke.extraction.hypercubic.strategy import AdaptiveStrategy\n",
    "from psyke.extraction.hypercubic import Grid, FeatureRanker\n",
    "from psyke.utils.logic import pretty_theory\n",
    "\n",
    "from plot import *"
   ]
  },
  {
   "cell_type": "code",
   "execution_count": 39,
   "outputs": [],
   "source": [
    "def plot(testB, x, pred, extracted):\n",
    "    missing = pd.read_csv(\"data/missing.csv\", parse_dates = [0], index_col = 0)\n",
    "    df = pd.read_csv(\"data/averaged1.csv\", parse_dates = [0], index_col = 0)\n",
    "    df.LPFnorm[missing.index] = np.nan\n",
    "\n",
    "    for i, b in bartels.iterrows():\n",
    "        if b.n != testB:\n",
    "            continue\n",
    "        xminmax = [b.t0, b.t1]\n",
    "\n",
    "        f, axes = plt.subplots(3, figsize=(10, 8)) # l x h\n",
    "\n",
    "        myplot(axes[0], [3, 1], \"LPF\", df.index, df.LPFnorm, xminmax)\n",
    "        myplot(axes[0], [3, 1], \"\", missing.index, missing.LPF0, xminmax, color='r', marker='*', lw=0, size=10)\n",
    "        myplot(axes[1], [3, 2], \"V\", df.index, df.V, xminmax)\n",
    "        myplot(axes[1], [3, 2], \"\", x, pred, xminmax, color='b', marker='.', lw=0)\n",
    "        myplot(axes[1], [3, 2], \"\", x, extracted, xminmax, color='r', marker='.', lw=0)\n",
    "        myplot(axes[2], [3, 3], \"B\", df.index, df.B, xminmax)\n",
    "        plt.subplots_adjust(hspace=0.6)\n",
    "        plt.savefig(f\"plot/{b.n}.jpg\", dpi=96 * 2)\n",
    "        plt.show()"
   ],
   "metadata": {
    "collapsed": false,
    "pycharm": {
     "name": "#%%\n"
    }
   }
  },
  {
   "cell_type": "code",
   "execution_count": 75,
   "outputs": [],
   "source": [
    "def splitTest(data):\n",
    "    b = bartels[(bartels.n == 2490)]\n",
    "    data = data[(data.index >= b.t1.values[0])]\n",
    "\n",
    "    b = bartels[(bartels.n == 2495) | (bartels.n == 2501) | (bartels.n == 2506)]\n",
    "    idx = np.zeros_like(data.index, dtype='bool')\n",
    "    for _, row in b.iterrows():\n",
    "        t0, t1 = row.t0, row.t1\n",
    "        idx = idx | (data.index >= t0) & (data.index < t1)\n",
    "    return data[~idx], data[idx]\n",
    "\n",
    "bartels = pd.read_csv(\"data/bartels.csv\", parse_dates = [1, 2])\n",
    "data = pd.read_csv(f'data/halffuzzycoefs4B3.csv', parse_dates=[0], index_col=0)\n",
    "train, test = splitTest(data)\n",
    "train.to_csv('data/alltrain.csv')\n",
    "test.to_csv('data/alltest.csv')\n",
    "\n",
    "data = pd.read_csv(f'data/pruned.csv', parse_dates=[0], index_col=0)\n",
    "train, test = splitTest(data)\n",
    "train.to_csv('data/prunedtrain.csv')\n",
    "test.to_csv('data/prunedtest.csv')"
   ],
   "metadata": {
    "collapsed": false,
    "pycharm": {
     "name": "#%%\n"
    }
   }
  },
  {
   "cell_type": "code",
   "execution_count": 73,
   "outputs": [
    {
     "data": {
      "text/plain": "                     Bmin  Bmedian  Bmax    Btrend    Bhalf1    Bhalf2  \\\n2016-03-04 00:00:00   4.0      7.5  12.3 -0.080751  0.009474 -0.106862   \n2016-03-04 01:00:00   4.0      7.5  12.3 -0.086067 -0.012065 -0.101174   \n2016-03-04 02:00:00   4.0      7.5  12.3 -0.090328 -0.029534 -0.094717   \n2016-03-04 03:00:00   4.0      7.5  12.3 -0.094527 -0.046781 -0.089474   \n2016-03-04 04:00:00   4.0      7.5  12.3 -0.098312 -0.062166 -0.087105   \n...                   ...      ...   ...       ...       ...       ...   \n2017-07-02 19:00:00   1.6      8.0  18.2  0.168533  0.139028  0.004049   \n2017-07-02 20:00:00   1.6      8.3  18.2  0.165550  0.157085 -0.019089   \n2017-07-02 21:00:00   1.6      8.3  18.2  0.161067  0.174393 -0.041862   \n2017-07-02 22:00:00   1.6      8.5  18.2  0.156652  0.188077 -0.061781   \n2017-07-02 23:00:00   1.6      8.5  18.2  0.151061  0.198158 -0.086761   \n\n                      Bthird1   Bthird2   Bthird3    GCRmin  ...  GCRhalf1  \\\n2016-03-04 00:00:00 -0.001462 -0.016066 -0.068720 -3.883201  ... -0.034045   \n2016-03-04 01:00:00 -0.004731 -0.012913 -0.074356 -3.883201  ... -0.035872   \n2016-03-04 02:00:00 -0.007107 -0.008399 -0.080310 -3.883201  ... -0.038517   \n2016-03-04 03:00:00 -0.010202 -0.001853 -0.085397 -3.883201  ... -0.040322   \n2016-03-04 04:00:00 -0.012979  0.006375 -0.089585 -3.883201  ... -0.042501   \n...                       ...       ...       ...       ...  ...       ...   \n2017-07-02 19:00:00 -0.032341  0.005700  0.162350 -4.670171  ... -0.059403   \n2017-07-02 20:00:00 -0.032566  0.005048  0.159932 -4.670171  ... -0.058878   \n2017-07-02 21:00:00 -0.033405  0.002897  0.157075 -4.670171  ... -0.058062   \n2017-07-02 22:00:00 -0.033445  0.001775  0.153994 -4.670171  ... -0.057460   \n2017-07-02 23:00:00 -0.033619  0.001199  0.149502 -4.670171  ... -0.056252   \n\n                     GCRhalf2  GCRthird1  GCRthird2  GCRthird3  GCRfourth1  \\\n2016-03-04 00:00:00  0.060357   0.002682  -0.072897   0.065471    0.007162   \n2016-03-04 01:00:00  0.061504   0.000701  -0.070397   0.064501    0.006544   \n2016-03-04 02:00:00  0.062143  -0.002516  -0.066904   0.064396    0.004833   \n2016-03-04 03:00:00  0.063626  -0.002422  -0.062109   0.066305    0.004309   \n2016-03-04 04:00:00  0.064246  -0.005347  -0.056971   0.065904    0.002981   \n...                       ...        ...        ...        ...         ...   \n2017-07-02 19:00:00  0.016938  -0.075540   0.018295  -0.025042   -0.074034   \n2017-07-02 20:00:00  0.015490  -0.076592   0.020250  -0.027076   -0.076765   \n2017-07-02 21:00:00  0.014373  -0.076522   0.022473  -0.028479   -0.079294   \n2017-07-02 22:00:00  0.013574  -0.077431   0.025158  -0.029432   -0.080745   \n2017-07-02 23:00:00  0.012860  -0.077216   0.027493  -0.031331   -0.082300   \n\n                     GCRfourth2  GCRfourth3  GCRfourth4      V  \n2016-03-04 00:00:00   -0.092158    0.046471    0.069499  410.0  \n2016-03-04 01:00:00   -0.095190    0.049612    0.069178  400.0  \n2016-03-04 02:00:00   -0.098934    0.049670    0.071374  395.0  \n2016-03-04 03:00:00   -0.102389    0.052382    0.072217  408.0  \n2016-03-04 04:00:00   -0.105296    0.052220    0.070273  406.0  \n...                         ...         ...         ...    ...  \n2017-07-02 19:00:00   -0.027912    0.071203   -0.054068  477.0  \n2017-07-02 20:00:00   -0.026023    0.071905   -0.053493  442.0  \n2017-07-02 21:00:00   -0.022508    0.073575   -0.054818  437.0  \n2017-07-02 22:00:00   -0.020645    0.074790   -0.054839  436.0  \n2017-07-02 23:00:00   -0.017545    0.074579   -0.054656  430.0  \n\n[9720 rows x 23 columns]",
      "text/html": "<div>\n<style scoped>\n    .dataframe tbody tr th:only-of-type {\n        vertical-align: middle;\n    }\n\n    .dataframe tbody tr th {\n        vertical-align: top;\n    }\n\n    .dataframe thead th {\n        text-align: right;\n    }\n</style>\n<table border=\"1\" class=\"dataframe\">\n  <thead>\n    <tr style=\"text-align: right;\">\n      <th></th>\n      <th>Bmin</th>\n      <th>Bmedian</th>\n      <th>Bmax</th>\n      <th>Btrend</th>\n      <th>Bhalf1</th>\n      <th>Bhalf2</th>\n      <th>Bthird1</th>\n      <th>Bthird2</th>\n      <th>Bthird3</th>\n      <th>GCRmin</th>\n      <th>...</th>\n      <th>GCRhalf1</th>\n      <th>GCRhalf2</th>\n      <th>GCRthird1</th>\n      <th>GCRthird2</th>\n      <th>GCRthird3</th>\n      <th>GCRfourth1</th>\n      <th>GCRfourth2</th>\n      <th>GCRfourth3</th>\n      <th>GCRfourth4</th>\n      <th>V</th>\n    </tr>\n  </thead>\n  <tbody>\n    <tr>\n      <th>2016-03-04 00:00:00</th>\n      <td>4.0</td>\n      <td>7.5</td>\n      <td>12.3</td>\n      <td>-0.080751</td>\n      <td>0.009474</td>\n      <td>-0.106862</td>\n      <td>-0.001462</td>\n      <td>-0.016066</td>\n      <td>-0.068720</td>\n      <td>-3.883201</td>\n      <td>...</td>\n      <td>-0.034045</td>\n      <td>0.060357</td>\n      <td>0.002682</td>\n      <td>-0.072897</td>\n      <td>0.065471</td>\n      <td>0.007162</td>\n      <td>-0.092158</td>\n      <td>0.046471</td>\n      <td>0.069499</td>\n      <td>410.0</td>\n    </tr>\n    <tr>\n      <th>2016-03-04 01:00:00</th>\n      <td>4.0</td>\n      <td>7.5</td>\n      <td>12.3</td>\n      <td>-0.086067</td>\n      <td>-0.012065</td>\n      <td>-0.101174</td>\n      <td>-0.004731</td>\n      <td>-0.012913</td>\n      <td>-0.074356</td>\n      <td>-3.883201</td>\n      <td>...</td>\n      <td>-0.035872</td>\n      <td>0.061504</td>\n      <td>0.000701</td>\n      <td>-0.070397</td>\n      <td>0.064501</td>\n      <td>0.006544</td>\n      <td>-0.095190</td>\n      <td>0.049612</td>\n      <td>0.069178</td>\n      <td>400.0</td>\n    </tr>\n    <tr>\n      <th>2016-03-04 02:00:00</th>\n      <td>4.0</td>\n      <td>7.5</td>\n      <td>12.3</td>\n      <td>-0.090328</td>\n      <td>-0.029534</td>\n      <td>-0.094717</td>\n      <td>-0.007107</td>\n      <td>-0.008399</td>\n      <td>-0.080310</td>\n      <td>-3.883201</td>\n      <td>...</td>\n      <td>-0.038517</td>\n      <td>0.062143</td>\n      <td>-0.002516</td>\n      <td>-0.066904</td>\n      <td>0.064396</td>\n      <td>0.004833</td>\n      <td>-0.098934</td>\n      <td>0.049670</td>\n      <td>0.071374</td>\n      <td>395.0</td>\n    </tr>\n    <tr>\n      <th>2016-03-04 03:00:00</th>\n      <td>4.0</td>\n      <td>7.5</td>\n      <td>12.3</td>\n      <td>-0.094527</td>\n      <td>-0.046781</td>\n      <td>-0.089474</td>\n      <td>-0.010202</td>\n      <td>-0.001853</td>\n      <td>-0.085397</td>\n      <td>-3.883201</td>\n      <td>...</td>\n      <td>-0.040322</td>\n      <td>0.063626</td>\n      <td>-0.002422</td>\n      <td>-0.062109</td>\n      <td>0.066305</td>\n      <td>0.004309</td>\n      <td>-0.102389</td>\n      <td>0.052382</td>\n      <td>0.072217</td>\n      <td>408.0</td>\n    </tr>\n    <tr>\n      <th>2016-03-04 04:00:00</th>\n      <td>4.0</td>\n      <td>7.5</td>\n      <td>12.3</td>\n      <td>-0.098312</td>\n      <td>-0.062166</td>\n      <td>-0.087105</td>\n      <td>-0.012979</td>\n      <td>0.006375</td>\n      <td>-0.089585</td>\n      <td>-3.883201</td>\n      <td>...</td>\n      <td>-0.042501</td>\n      <td>0.064246</td>\n      <td>-0.005347</td>\n      <td>-0.056971</td>\n      <td>0.065904</td>\n      <td>0.002981</td>\n      <td>-0.105296</td>\n      <td>0.052220</td>\n      <td>0.070273</td>\n      <td>406.0</td>\n    </tr>\n    <tr>\n      <th>...</th>\n      <td>...</td>\n      <td>...</td>\n      <td>...</td>\n      <td>...</td>\n      <td>...</td>\n      <td>...</td>\n      <td>...</td>\n      <td>...</td>\n      <td>...</td>\n      <td>...</td>\n      <td>...</td>\n      <td>...</td>\n      <td>...</td>\n      <td>...</td>\n      <td>...</td>\n      <td>...</td>\n      <td>...</td>\n      <td>...</td>\n      <td>...</td>\n      <td>...</td>\n      <td>...</td>\n    </tr>\n    <tr>\n      <th>2017-07-02 19:00:00</th>\n      <td>1.6</td>\n      <td>8.0</td>\n      <td>18.2</td>\n      <td>0.168533</td>\n      <td>0.139028</td>\n      <td>0.004049</td>\n      <td>-0.032341</td>\n      <td>0.005700</td>\n      <td>0.162350</td>\n      <td>-4.670171</td>\n      <td>...</td>\n      <td>-0.059403</td>\n      <td>0.016938</td>\n      <td>-0.075540</td>\n      <td>0.018295</td>\n      <td>-0.025042</td>\n      <td>-0.074034</td>\n      <td>-0.027912</td>\n      <td>0.071203</td>\n      <td>-0.054068</td>\n      <td>477.0</td>\n    </tr>\n    <tr>\n      <th>2017-07-02 20:00:00</th>\n      <td>1.6</td>\n      <td>8.3</td>\n      <td>18.2</td>\n      <td>0.165550</td>\n      <td>0.157085</td>\n      <td>-0.019089</td>\n      <td>-0.032566</td>\n      <td>0.005048</td>\n      <td>0.159932</td>\n      <td>-4.670171</td>\n      <td>...</td>\n      <td>-0.058878</td>\n      <td>0.015490</td>\n      <td>-0.076592</td>\n      <td>0.020250</td>\n      <td>-0.027076</td>\n      <td>-0.076765</td>\n      <td>-0.026023</td>\n      <td>0.071905</td>\n      <td>-0.053493</td>\n      <td>442.0</td>\n    </tr>\n    <tr>\n      <th>2017-07-02 21:00:00</th>\n      <td>1.6</td>\n      <td>8.3</td>\n      <td>18.2</td>\n      <td>0.161067</td>\n      <td>0.174393</td>\n      <td>-0.041862</td>\n      <td>-0.033405</td>\n      <td>0.002897</td>\n      <td>0.157075</td>\n      <td>-4.670171</td>\n      <td>...</td>\n      <td>-0.058062</td>\n      <td>0.014373</td>\n      <td>-0.076522</td>\n      <td>0.022473</td>\n      <td>-0.028479</td>\n      <td>-0.079294</td>\n      <td>-0.022508</td>\n      <td>0.073575</td>\n      <td>-0.054818</td>\n      <td>437.0</td>\n    </tr>\n    <tr>\n      <th>2017-07-02 22:00:00</th>\n      <td>1.6</td>\n      <td>8.5</td>\n      <td>18.2</td>\n      <td>0.156652</td>\n      <td>0.188077</td>\n      <td>-0.061781</td>\n      <td>-0.033445</td>\n      <td>0.001775</td>\n      <td>0.153994</td>\n      <td>-4.670171</td>\n      <td>...</td>\n      <td>-0.057460</td>\n      <td>0.013574</td>\n      <td>-0.077431</td>\n      <td>0.025158</td>\n      <td>-0.029432</td>\n      <td>-0.080745</td>\n      <td>-0.020645</td>\n      <td>0.074790</td>\n      <td>-0.054839</td>\n      <td>436.0</td>\n    </tr>\n    <tr>\n      <th>2017-07-02 23:00:00</th>\n      <td>1.6</td>\n      <td>8.5</td>\n      <td>18.2</td>\n      <td>0.151061</td>\n      <td>0.198158</td>\n      <td>-0.086761</td>\n      <td>-0.033619</td>\n      <td>0.001199</td>\n      <td>0.149502</td>\n      <td>-4.670171</td>\n      <td>...</td>\n      <td>-0.056252</td>\n      <td>0.012860</td>\n      <td>-0.077216</td>\n      <td>0.027493</td>\n      <td>-0.031331</td>\n      <td>-0.082300</td>\n      <td>-0.017545</td>\n      <td>0.074579</td>\n      <td>-0.054656</td>\n      <td>430.0</td>\n    </tr>\n  </tbody>\n</table>\n<p>9720 rows × 23 columns</p>\n</div>"
     },
     "execution_count": 73,
     "metadata": {},
     "output_type": "execute_result"
    }
   ],
   "source": [
    "pd.read_csv('data/alltrain.csv', parse_dates=[0], index_col=[0])"
   ],
   "metadata": {
    "collapsed": false,
    "pycharm": {
     "name": "#%%\n"
    }
   }
  },
  {
   "cell_type": "code",
   "execution_count": 3,
   "outputs": [],
   "source": [
    "def getTrainTest(data, testB):\n",
    "    b = bartels[bartels.n==testB]\n",
    "    t0, t1 = b.t0.values[0], b.t1.values[0]\n",
    "    idx = (data.index >= t0) & (data.index < t1)\n",
    "    return data[~idx], data[idx]\n",
    "\n",
    "def getScaler(train, name):\n",
    "    scaler = StandardScaler().fit(train)\n",
    "    dump(scaler, f\"scalers/scalerV{name}.joblib\")\n",
    "    normalization = {key: (m, s) for key, m, s in zip(train.columns, scaler.mean_, scaler.scale_)}\n",
    "    return scaler, pd.DataFrame(scaler.transform(train), columns=train.columns), normalization"
   ],
   "metadata": {
    "collapsed": false,
    "pycharm": {
     "name": "#%%\n"
    }
   }
  },
  {
   "cell_type": "code",
   "execution_count": 4,
   "outputs": [],
   "source": [
    "def gridex(model, train, test, normalization):\n",
    "    ranked = FeatureRanker(train.columns).fit(model, train.iloc[:, :-1]).rankings()\n",
    "    gridEx = Extractor.gridex(model, Grid(1, AdaptiveStrategy(ranked, [(0.6, 3), (0.75, 4)])),\n",
    "                              threshold=.5, min_examples=1, normalization=normalization)\n",
    "    gridEx.extract(train)\n",
    "    return gridEx.brute_predict(test), gridEx.n_rules, sum([p is None for p in gridEx.predict(test)])\n",
    "    \n",
    "def gridrex(model, train, test, normalization):\n",
    "    ranked = FeatureRanker(train.columns).fit(model, train.iloc[:, :-1]).rankings()\n",
    "    gridREx = Extractor.gridrex(model, Grid(1, AdaptiveStrategy(ranked, [(0.5, 3)])),\n",
    "                                threshold=.5, min_examples=1, normalization=normalization)\n",
    "    gridREx.extract(train)\n",
    "    return gridREx.brute_predict(test, 'default'), gridREx.n_rules, sum([p is None for p in gridREx.predict(test)])\n",
    "\n",
    "def cart(model, train, test, normalization):\n",
    "    CART = Extractor.cart(model, max_depth=10, max_leaves=10, normalization=normalization)\n",
    "    CART.extract(train)\n",
    "    return CART.predict(test), CART.n_rules, sum([p is None for p in CART.predict(test)])\n",
    "\n",
    "def cosmik(model, train, test, normalization):\n",
    "    COSMiK = Extractor.cosmik(model, max_components=10, k=125, patience=12, close_to_center=True,\n",
    "                              output=Target.REGRESSION, normalization=normalization)\n",
    "    COSMiK.extract(train)\n",
    "    return COSMiK.brute_predict(test, 'default'), COSMiK.n_rules, sum([p is None for p in COSMiK.predict(test)])\n",
    "\n",
    "def cream(model, train, test, normalization):\n",
    "    CReEPy = Extractor.creepy(model, clustering=Clustering.cream, depth=5, error_threshold=.5, gauss_components=10,\n",
    "                              output=Target.REGRESSION, normalization=normalization)\n",
    "    CReEPy.extract(train)\n",
    "    return CReEPy.brute_predict(test), CReEPy.n_rules, sum([p is None for p in CReEPy.predict(test)])\n",
    "\n",
    "def exact(model, train, test, normalization):\n",
    "    CReEPy = Extractor.creepy(model, clustering=Clustering.exact, depth=5, error_threshold=.5, gauss_components=10,\n",
    "                              output=Target.REGRESSION, normalization=normalization)\n",
    "    CReEPy.extract(train)\n",
    "    return CReEPy.brute_predict(test), CReEPy.n_rules, sum([p is None for p in CReEPy.predict(test)])"
   ],
   "metadata": {
    "collapsed": false,
    "pycharm": {
     "name": "#%%\n"
    }
   }
  },
  {
   "cell_type": "code",
   "execution_count": 7,
   "outputs": [
    {
     "name": "stdout",
     "output_type": "stream",
     "text": [
      "2491\n",
      "GridEx\n",
      "GridREx\n",
      "CART\n",
      "COSMiK\n",
      "ExACT\n",
      "CREAM\n",
      "2492\n",
      "GridEx\n",
      "GridREx\n",
      "CART\n",
      "COSMiK\n",
      "ExACT\n",
      "CREAM\n",
      "2493\n",
      "GridEx\n",
      "GridREx\n",
      "CART\n",
      "COSMiK\n",
      "ExACT\n",
      "CREAM\n"
     ]
    }
   ],
   "source": [
    "bartels = pd.read_csv(\"data/bartels.csv\", parse_dates = [1, 2])\n",
    "\n",
    "extractors = ['GridEx', 'GridREx', 'CART', 'COSMiK', 'ExACT', 'CREAM']\n",
    "\n",
    "TESTB = [i for i in range(2491, 2509)]\n",
    "\n",
    "predicted = {name: [] for name in ['index', 'V', 'model'] + extractors}\n",
    "\n",
    "rules = {name: [] for name in ['BR'] + extractors}\n",
    "\n",
    "missed = {name: [] for name in ['BR'] + extractors}\n",
    "\n",
    "for testB in TESTB[:3]:\n",
    "    rules['BR'].append(testB)\n",
    "    missed['BR'].append(testB)\n",
    "    print(testB)\n",
    "\n",
    "    data = pd.read_csv(f'data/pruned.csv', parse_dates=[0], index_col=0)\n",
    "    train, test = getTrainTest(data, testB)\n",
    "\n",
    "    predicted['index'] += list(test.index.values)\n",
    "    predicted['V'] += list(test.V.values)\n",
    "\n",
    "    scaler, scaledTrain, normalization = getScaler(train, f\"test{testB}\")\n",
    "    scaledTest = pd.DataFrame(scaler.transform(test), columns=test.columns).iloc[:, :-1]\n",
    "    m, s = normalization[test.columns[-1]]\n",
    "\n",
    "    model = KNN(200, weights='distance', p=1).fit(scaledTrain.iloc[:, :-1], scaledTrain.iloc[:, -1])\n",
    "    #dump(model, f\"models/RF/{k}_{name}_{testB}.joblib\")\n",
    "    predicted['model'] += list(model.predict(scaledTest) * s + m)\n",
    "\n",
    "    for name, fun in zip(extractors, [cart, cart, cart, cosmik, exact, cream]):\n",
    "        print(name)\n",
    "        #if name in ['GridREx', 'CART', 'COSMiK']:\n",
    "        #    continue\n",
    "        pred, n, miss = fun(model, scaledTrain, scaledTest, normalization)\n",
    "        predicted[name] += list(pred)\n",
    "        rules[name].append(n)\n",
    "        missed[name].append(miss)"
   ],
   "metadata": {
    "collapsed": false,
    "pycharm": {
     "name": "#%%\n"
    }
   }
  },
  {
   "cell_type": "code",
   "execution_count": 15,
   "outputs": [
    {
     "name": "stdout",
     "output_type": "stream",
     "text": [
      "90.20644923758856 47.26039351140736\n",
      "90.20644923758856 47.26039351140736\n",
      "90.20644923758856 47.26039351140736\n",
      "73.38650661174208 31.857409982273143\n",
      "71.27591988138312 36.1748132343631\n",
      "70.26005494494277 33.783890819165826\n"
     ]
    },
    {
     "data": {
      "text/plain": "     BR  GridEx  GridREx  CART  COSMiK  ExACT  CREAM\n0  2491      10       10    10       4      6      6\n1  2492      10       10    10       8      6      6\n2  2493      10       10    10       9      6      7",
      "text/html": "<div>\n<style scoped>\n    .dataframe tbody tr th:only-of-type {\n        vertical-align: middle;\n    }\n\n    .dataframe tbody tr th {\n        vertical-align: top;\n    }\n\n    .dataframe thead th {\n        text-align: right;\n    }\n</style>\n<table border=\"1\" class=\"dataframe\">\n  <thead>\n    <tr style=\"text-align: right;\">\n      <th></th>\n      <th>BR</th>\n      <th>GridEx</th>\n      <th>GridREx</th>\n      <th>CART</th>\n      <th>COSMiK</th>\n      <th>ExACT</th>\n      <th>CREAM</th>\n    </tr>\n  </thead>\n  <tbody>\n    <tr>\n      <th>0</th>\n      <td>2491</td>\n      <td>10</td>\n      <td>10</td>\n      <td>10</td>\n      <td>4</td>\n      <td>6</td>\n      <td>6</td>\n    </tr>\n    <tr>\n      <th>1</th>\n      <td>2492</td>\n      <td>10</td>\n      <td>10</td>\n      <td>10</td>\n      <td>8</td>\n      <td>6</td>\n      <td>6</td>\n    </tr>\n    <tr>\n      <th>2</th>\n      <td>2493</td>\n      <td>10</td>\n      <td>10</td>\n      <td>10</td>\n      <td>9</td>\n      <td>6</td>\n      <td>7</td>\n    </tr>\n  </tbody>\n</table>\n</div>"
     },
     "execution_count": 15,
     "metadata": {},
     "output_type": "execute_result"
    }
   ],
   "source": [
    "p = pd.DataFrame(predicted)\n",
    "for e in extractors:\n",
    "    print(abs(p.V - p[e]).mean(), abs(p.model - p[e]).mean())\n",
    "\n",
    "b = 2493\n",
    "#plot(b, p['index'], p.model, p.COSMiK)\n",
    "#plot(b, p['index'], p.model, p.ExACT)\n",
    "#plot(b, p['index'], p.model, p.CREAM)\n",
    "\n",
    "pd.DataFrame(rules)"
   ],
   "metadata": {
    "collapsed": false,
    "pycharm": {
     "name": "#%%\n"
    }
   }
  },
  {
   "cell_type": "code",
   "execution_count": null,
   "outputs": [],
   "source": [
    "pd.DataFrame(predicted).to_csv(\"results/pred1.csv\")\n",
    "pd.DataFrame(rules).to_csv('results/rules1.csv')\n",
    "pd.DataFrame(missed).to_csv('results/missed1.csv')"
   ],
   "metadata": {
    "collapsed": false,
    "pycharm": {
     "name": "#%%\n"
    }
   }
  },
  {
   "cell_type": "code",
   "execution_count": null,
   "outputs": [],
   "source": [],
   "metadata": {
    "collapsed": false,
    "pycharm": {
     "name": "#%%\n"
    }
   }
  },
  {
   "cell_type": "code",
   "execution_count": null,
   "outputs": [],
   "source": [
    "[\n",
    "    ('half2', 1.0),\n",
    "    ('Bmin', 0.9014926374248455),\n",
    "    ('Bmedian', 0.5931779258652916),\n",
    "    ('Bmax', 0.5580664110760513),\n",
    "\n",
    "    ('trend', 0.441328536097858),\n",
    "    ('max', 0.19391808653199277),\n",
    "    ('median', 0.16157357528452515),\n",
    "\n",
    "    ('halfB2', 0.06672545822303622),\n",
    "    ('min', 0.042323799412967836),\n",
    "    ('B', 0.014457395044254808),\n",
    "    ('halfB1', 0.005159557201584083),\n",
    "    ('half1', 0.0023286124765232786),\n",
    "]"
   ],
   "metadata": {
    "collapsed": false,
    "pycharm": {
     "name": "#%%\n"
    }
   }
  },
  {
   "cell_type": "code",
   "execution_count": null,
   "outputs": [],
   "source": [
    "import pandas as pd\n",
    "\n",
    "p = pd.read_csv('results/cartpredpruned.csv')\n",
    "p = p[p.columns[2:]]\n",
    "for c in p.columns[2:]:\n",
    "    p[c] = abs(p[c] - p.model)\n",
    "p.describe().loc['mean']"
   ],
   "metadata": {
    "collapsed": false,
    "pycharm": {
     "name": "#%%\n"
    }
   }
  },
  {
   "cell_type": "code",
   "execution_count": null,
   "outputs": [],
   "source": [],
   "metadata": {
    "collapsed": false,
    "pycharm": {
     "name": "#%%\n"
    }
   }
  }
 ],
 "metadata": {
  "kernelspec": {
   "display_name": "Python 3",
   "language": "python",
   "name": "python3"
  },
  "language_info": {
   "codemirror_mode": {
    "name": "ipython",
    "version": 3
   },
   "file_extension": ".py",
   "mimetype": "text/x-python",
   "name": "python",
   "nbconvert_exporter": "python",
   "pygments_lexer": "ipython3",
   "version": "3.9.7"
  }
 },
 "nbformat": 4,
 "nbformat_minor": 5
}