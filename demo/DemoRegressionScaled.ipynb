{
 "cells": [
  {
   "cell_type": "code",
   "execution_count": 1,
   "id": "6b710e7c",
   "metadata": {},
   "outputs": [],
   "source": [
    "from sklearn.neighbors import KNeighborsRegressor as KNN\n",
    "from sklearn.preprocessing import StandardScaler\n",
    "\n",
    "from joblib import dump, load\n",
    "import pandas as pd\n",
    "import numpy as np\n",
    "\n",
    "from psyke import Extractor, Clustering, Target\n",
    "from psyke.extraction.hypercubic.strategy import AdaptiveStrategy\n",
    "from psyke.extraction.hypercubic import Grid, FeatureRanker\n",
    "from psyke.utils.logic import pretty_theory"
   ]
  },
  {
   "cell_type": "code",
   "execution_count": 2,
   "outputs": [],
   "source": [
    "def getTrainTest(data, testB):\n",
    "    b = bartels[bartels.n==testB]\n",
    "    t0, t1 = b.t0.values[0], b.t1.values[0]\n",
    "    idx = (data.index >= t0) & (data.index < t1)\n",
    "    return data[~idx], data[idx]\n",
    "\n",
    "def getScaler(train, name):\n",
    "    scaler = StandardScaler().fit(train)\n",
    "    dump(scaler, f\"scalers/scalerV{name}.joblib\")\n",
    "    normalization = {key: (m, s) for key, m, s in zip(train.columns, scaler.mean_, scaler.scale_)}\n",
    "    return scaler, pd.DataFrame(scaler.transform(train), columns=train.columns), normalization"
   ],
   "metadata": {
    "collapsed": false,
    "pycharm": {
     "name": "#%%\n"
    }
   }
  },
  {
   "cell_type": "code",
   "execution_count": 3,
   "outputs": [],
   "source": [
    "def gridex(model, train, test, normalization):\n",
    "    ranked = FeatureRanker(train.columns).fit(model, train.iloc[:, :-1]).rankings()\n",
    "    gridEx = Extractor.gridex(model, Grid(1, AdaptiveStrategy(ranked, [(0.6, 3), (0.75, 4)])),\n",
    "                              threshold=5, min_examples=1, normalization=normalization)\n",
    "    gridEx.extract(train)\n",
    "    return gridEx.brute_predict(test), gridEx.n_rules, sum([p is None for p in gridEx.predict(test)])\n",
    "    \n",
    "def gridrex(model, train, test, normalization):\n",
    "    ranked = FeatureRanker(train.columns).fit(model, train.iloc[:, :-1]).rankings()\n",
    "    gridREx = Extractor.gridrex(model, Grid(1, AdaptiveStrategy(ranked, [(0.5, 3)])),\n",
    "                                threshold=5, min_examples=1, normalization=normalization)\n",
    "    gridREx.extract(train)\n",
    "    return gridREx.brute_predict(test), gridREx.n_rules, sum([p is None for p in gridREx.predict(test)])\n",
    "\n",
    "def cart(model, train, test, normalization):\n",
    "    CART = Extractor.cart(model, max_depth=5, max_leaves=7, normalization=normalization)\n",
    "    CART.extract(train)\n",
    "    return CART.predict(test), CART.n_rules, sum([p is None for p in CART.predict(test)])\n",
    "\n",
    "def cosmik(model, train, test, normalization):\n",
    "    COSMiK = Extractor.cosmik(model, max_components=10, k=100, patience=10, close_to_center=True,\n",
    "                              output=Target.CONSTANT, normalization=normalization)\n",
    "    COSMiK.extract(train)\n",
    "    return COSMiK.brute_predict(test), COSMiK.n_rules, sum([p is None for p in COSMiK.predict(test)])\n",
    "\n",
    "def creepy(model, train, test, normalization):\n",
    "    CReEPy = Extractor.creepy(model, clustering=Clustering.cream, depth=5, error_threshold=5, gauss_components=10,\n",
    "                              output=Target.REGRESSION, normalization=normalization)\n",
    "    CReEPy.extract(train)\n",
    "    return CReEPy.brute_predict(test), CReEPy.n_rules, sum([p is None for p in CReEPy.predict(test)])"
   ],
   "metadata": {
    "collapsed": false,
    "pycharm": {
     "name": "#%%\n"
    }
   }
  },
  {
   "cell_type": "code",
   "execution_count": 4,
   "outputs": [
    {
     "name": "stdout",
     "output_type": "stream",
     "text": [
      "2491\n"
     ]
    }
   ],
   "source": [
    "bartels = pd.read_csv(\"data/bartels.csv\", parse_dates = [1, 2])\n",
    "\n",
    "extractors = ['GridEx', 'GridREx', 'CART', 'COSMiK', 'CReEPy']\n",
    "\n",
    "TESTB = [i for i in range(2491, 2509)]\n",
    "\n",
    "predicted = {name: [] for name in ['index', 'V', 'model'] + extractors}\n",
    "\n",
    "rules = {name: [] for name in ['BR'] + extractors}\n",
    "\n",
    "missed = {name: [] for name in ['BR'] + extractors}\n",
    "\n",
    "for testB in TESTB:\n",
    "    rules['BR'].append(testB)\n",
    "    missed['BR'].append(testB)\n",
    "    print(testB)\n",
    "\n",
    "    data = pd.read_csv(f'data/halffuzzycoefs2B.csv', parse_dates=[0], index_col=0)\n",
    "    train, test = getTrainTest(data, testB)\n",
    "\n",
    "    predicted['index'] += list(test.index.values)\n",
    "    predicted['V'] += list(test.V.values)\n",
    "\n",
    "    scaler, scaledTrain, normalization = getScaler(train, f\"test{testB}\")\n",
    "    scaledTest = pd.DataFrame(scaler.transform(test), columns=test.columns).iloc[:, :-1]\n",
    "    m, s = normalization[test.columns[-1]]\n",
    "\n",
    "    model = KNN(200, weights='distance', p=1).fit(scaledTrain.iloc[:, :-1], scaledTrain.iloc[:, -1])\n",
    "    #dump(model, f\"models/RF/{k}_{name}_{testB}.joblib\")\n",
    "    predicted['model'] += list(model.predict(scaledTest) * s + m)\n",
    "    break\n",
    "    for name, fun in zip(extractors, [gridex, gridrex, cart, cosmik, creepy]):\n",
    "        print(name)\n",
    "        #if name in ['GridREx', 'CART', 'COSMiK']:\n",
    "        #    continue\n",
    "        pred, n, miss = fun(model, scaledTrain, scaledTest, normalization)\n",
    "        predicted[name] += list(pred)\n",
    "        rules[name].append(n)\n",
    "        missed[name].append(miss)\n",
    "    break"
   ],
   "metadata": {
    "collapsed": false,
    "pycharm": {
     "name": "#%%\n"
    }
   }
  },
  {
   "cell_type": "code",
   "execution_count": 19,
   "outputs": [
    {
     "ename": "KeyboardInterrupt",
     "evalue": "",
     "output_type": "error",
     "traceback": [
      "\u001B[1;31m---------------------------------------------------------------------------\u001B[0m",
      "\u001B[1;31mKeyboardInterrupt\u001B[0m                         Traceback (most recent call last)",
      "\u001B[1;32m~\\AppData\\Local\\Temp/ipykernel_7300/1366764375.py\u001B[0m in \u001B[0;36m<module>\u001B[1;34m\u001B[0m\n\u001B[0;32m      1\u001B[0m \u001B[0mranked\u001B[0m \u001B[1;33m=\u001B[0m \u001B[0mFeatureRanker\u001B[0m\u001B[1;33m(\u001B[0m\u001B[0mtrain\u001B[0m\u001B[1;33m.\u001B[0m\u001B[0mcolumns\u001B[0m\u001B[1;33m)\u001B[0m\u001B[1;33m.\u001B[0m\u001B[0mfit\u001B[0m\u001B[1;33m(\u001B[0m\u001B[0mmodel\u001B[0m\u001B[1;33m,\u001B[0m \u001B[0mtrain\u001B[0m\u001B[1;33m.\u001B[0m\u001B[0miloc\u001B[0m\u001B[1;33m[\u001B[0m\u001B[1;33m:\u001B[0m\u001B[1;33m,\u001B[0m \u001B[1;33m:\u001B[0m\u001B[1;33m-\u001B[0m\u001B[1;36m1\u001B[0m\u001B[1;33m]\u001B[0m\u001B[1;33m)\u001B[0m\u001B[1;33m.\u001B[0m\u001B[0mrankings\u001B[0m\u001B[1;33m(\u001B[0m\u001B[1;33m)\u001B[0m\u001B[1;33m\u001B[0m\u001B[1;33m\u001B[0m\u001B[0m\n\u001B[1;32m----> 2\u001B[1;33m CART = Extractor.gridex(model, Grid(1, AdaptiveStrategy(ranked, [(0.6, 1)])),\n\u001B[0m\u001B[0;32m      3\u001B[0m                               threshold=5, min_examples=1, normalization=normalization)\n\u001B[0;32m      4\u001B[0m \u001B[0mCART\u001B[0m\u001B[1;33m.\u001B[0m\u001B[0mextract\u001B[0m\u001B[1;33m(\u001B[0m\u001B[0mscaledTrain\u001B[0m\u001B[1;33m)\u001B[0m\u001B[1;33m\u001B[0m\u001B[1;33m\u001B[0m\u001B[0m\n\u001B[0;32m      5\u001B[0m \u001B[0mp\u001B[0m \u001B[1;33m=\u001B[0m \u001B[0mCART\u001B[0m\u001B[1;33m.\u001B[0m\u001B[0mpredict\u001B[0m\u001B[1;33m(\u001B[0m\u001B[0mscaledTest\u001B[0m\u001B[1;33m)\u001B[0m\u001B[1;33m\u001B[0m\u001B[1;33m\u001B[0m\u001B[0m\n",
      "\u001B[1;32m~\\Desktop\\psyke\\psyke-python\\psyke\\__init__.py\u001B[0m in \u001B[0;36mgridex\u001B[1;34m(predictor, grid, min_examples, threshold, normalization, seed)\u001B[0m\n\u001B[0;32m    298\u001B[0m         \"\"\"\n\u001B[0;32m    299\u001B[0m         \u001B[1;32mfrom\u001B[0m \u001B[0mpsyke\u001B[0m\u001B[1;33m.\u001B[0m\u001B[0mextraction\u001B[0m\u001B[1;33m.\u001B[0m\u001B[0mhypercubic\u001B[0m\u001B[1;33m.\u001B[0m\u001B[0mgridex\u001B[0m \u001B[1;32mimport\u001B[0m \u001B[0mGridEx\u001B[0m\u001B[1;33m\u001B[0m\u001B[1;33m\u001B[0m\u001B[0m\n\u001B[1;32m--> 300\u001B[1;33m         \u001B[1;32mreturn\u001B[0m \u001B[0mGridEx\u001B[0m\u001B[1;33m(\u001B[0m\u001B[0mpredictor\u001B[0m\u001B[1;33m,\u001B[0m \u001B[0mgrid\u001B[0m\u001B[1;33m,\u001B[0m \u001B[0mmin_examples\u001B[0m\u001B[1;33m,\u001B[0m \u001B[0mthreshold\u001B[0m\u001B[1;33m,\u001B[0m \u001B[0mnormalization\u001B[0m\u001B[1;33m,\u001B[0m \u001B[0mseed\u001B[0m\u001B[1;33m)\u001B[0m\u001B[1;33m\u001B[0m\u001B[1;33m\u001B[0m\u001B[0m\n\u001B[0m\u001B[0;32m    301\u001B[0m \u001B[1;33m\u001B[0m\u001B[0m\n\u001B[0;32m    302\u001B[0m     \u001B[1;33m@\u001B[0m\u001B[0mstaticmethod\u001B[0m\u001B[1;33m\u001B[0m\u001B[1;33m\u001B[0m\u001B[0m\n",
      "\u001B[1;32m~\\Desktop\\psyke\\psyke-python\\psyke\\extraction\\hypercubic\\gridex\\__init__.py\u001B[0m in \u001B[0;36m__init__\u001B[1;34m(self, predictor, grid, min_examples, threshold, normalization, seed)\u001B[0m\n\u001B[0;32m     18\u001B[0m     def __init__(self, predictor, grid: Grid, min_examples: int, threshold: float, normalization=None,\n\u001B[0;32m     19\u001B[0m                  seed=get_default_random_seed()):\n\u001B[1;32m---> 20\u001B[1;33m         \u001B[0msuper\u001B[0m\u001B[1;33m(\u001B[0m\u001B[1;33m)\u001B[0m\u001B[1;33m.\u001B[0m\u001B[0m__init__\u001B[0m\u001B[1;33m(\u001B[0m\u001B[0mpredictor\u001B[0m\u001B[1;33m,\u001B[0m \u001B[0mTarget\u001B[0m\u001B[1;33m.\u001B[0m\u001B[0mCONSTANT\u001B[0m\u001B[1;33m,\u001B[0m \u001B[0mnormalization\u001B[0m\u001B[1;33m)\u001B[0m\u001B[1;33m\u001B[0m\u001B[1;33m\u001B[0m\u001B[0m\n\u001B[0m\u001B[0;32m     21\u001B[0m         \u001B[0mself\u001B[0m\u001B[1;33m.\u001B[0m\u001B[0mgrid\u001B[0m \u001B[1;33m=\u001B[0m \u001B[0mgrid\u001B[0m\u001B[1;33m\u001B[0m\u001B[1;33m\u001B[0m\u001B[0m\n\u001B[0;32m     22\u001B[0m         \u001B[0mself\u001B[0m\u001B[1;33m.\u001B[0m\u001B[0mmin_examples\u001B[0m \u001B[1;33m=\u001B[0m \u001B[0mmin_examples\u001B[0m\u001B[1;33m\u001B[0m\u001B[1;33m\u001B[0m\u001B[0m\n",
      "\u001B[1;32m~\\Desktop\\psyke\\psyke-python\\psyke\\extraction\\hypercubic\\__init__.py\u001B[0m in \u001B[0;36m__init__\u001B[1;34m(self, predictor, output, discretization, normalization)\u001B[0m\n\u001B[0;32m     86\u001B[0m \u001B[1;32mclass\u001B[0m \u001B[0mHyperCubeExtractor\u001B[0m\u001B[1;33m(\u001B[0m\u001B[0mHyperCubePredictor\u001B[0m\u001B[1;33m,\u001B[0m \u001B[0mPedagogicalExtractor\u001B[0m\u001B[1;33m,\u001B[0m \u001B[0mABC\u001B[0m\u001B[1;33m)\u001B[0m\u001B[1;33m:\u001B[0m\u001B[1;33m\u001B[0m\u001B[1;33m\u001B[0m\u001B[0m\n\u001B[0;32m     87\u001B[0m     \u001B[1;32mdef\u001B[0m \u001B[0m__init__\u001B[0m\u001B[1;33m(\u001B[0m\u001B[0mself\u001B[0m\u001B[1;33m,\u001B[0m \u001B[0mpredictor\u001B[0m\u001B[1;33m,\u001B[0m \u001B[0moutput\u001B[0m\u001B[1;33m,\u001B[0m \u001B[0mdiscretization\u001B[0m\u001B[1;33m=\u001B[0m\u001B[1;32mNone\u001B[0m\u001B[1;33m,\u001B[0m \u001B[0mnormalization\u001B[0m\u001B[1;33m=\u001B[0m\u001B[1;32mNone\u001B[0m\u001B[1;33m)\u001B[0m\u001B[1;33m:\u001B[0m\u001B[1;33m\u001B[0m\u001B[1;33m\u001B[0m\u001B[0m\n\u001B[1;32m---> 88\u001B[1;33m         \u001B[0mHyperCubePredictor\u001B[0m\u001B[1;33m.\u001B[0m\u001B[0m__init__\u001B[0m\u001B[1;33m(\u001B[0m\u001B[0mself\u001B[0m\u001B[1;33m,\u001B[0m \u001B[0moutput\u001B[0m\u001B[1;33m=\u001B[0m\u001B[0moutput\u001B[0m\u001B[1;33m,\u001B[0m \u001B[0mnormalization\u001B[0m\u001B[1;33m=\u001B[0m\u001B[0mnormalization\u001B[0m\u001B[1;33m)\u001B[0m\u001B[1;33m\u001B[0m\u001B[1;33m\u001B[0m\u001B[0m\n\u001B[0m\u001B[0;32m     89\u001B[0m         \u001B[0mPedagogicalExtractor\u001B[0m\u001B[1;33m.\u001B[0m\u001B[0m__init__\u001B[0m\u001B[1;33m(\u001B[0m\u001B[0mself\u001B[0m\u001B[1;33m,\u001B[0m \u001B[0mpredictor\u001B[0m\u001B[1;33m,\u001B[0m \u001B[0mdiscretization\u001B[0m\u001B[1;33m=\u001B[0m\u001B[0mdiscretization\u001B[0m\u001B[1;33m,\u001B[0m \u001B[0mnormalization\u001B[0m\u001B[1;33m=\u001B[0m\u001B[0mnormalization\u001B[0m\u001B[1;33m)\u001B[0m\u001B[1;33m\u001B[0m\u001B[1;33m\u001B[0m\u001B[0m\n\u001B[0;32m     90\u001B[0m \u001B[1;33m\u001B[0m\u001B[0m\n",
      "\u001B[1;32m~\\Desktop\\psyke\\psyke-python\\psyke\\extraction\\hypercubic\\__init__.py\u001B[0m in \u001B[0;36m__init__\u001B[1;34m(self, predictor, output, discretization, normalization)\u001B[0m\n\u001B[0;32m     86\u001B[0m \u001B[1;32mclass\u001B[0m \u001B[0mHyperCubeExtractor\u001B[0m\u001B[1;33m(\u001B[0m\u001B[0mHyperCubePredictor\u001B[0m\u001B[1;33m,\u001B[0m \u001B[0mPedagogicalExtractor\u001B[0m\u001B[1;33m,\u001B[0m \u001B[0mABC\u001B[0m\u001B[1;33m)\u001B[0m\u001B[1;33m:\u001B[0m\u001B[1;33m\u001B[0m\u001B[1;33m\u001B[0m\u001B[0m\n\u001B[0;32m     87\u001B[0m     \u001B[1;32mdef\u001B[0m \u001B[0m__init__\u001B[0m\u001B[1;33m(\u001B[0m\u001B[0mself\u001B[0m\u001B[1;33m,\u001B[0m \u001B[0mpredictor\u001B[0m\u001B[1;33m,\u001B[0m \u001B[0moutput\u001B[0m\u001B[1;33m,\u001B[0m \u001B[0mdiscretization\u001B[0m\u001B[1;33m=\u001B[0m\u001B[1;32mNone\u001B[0m\u001B[1;33m,\u001B[0m \u001B[0mnormalization\u001B[0m\u001B[1;33m=\u001B[0m\u001B[1;32mNone\u001B[0m\u001B[1;33m)\u001B[0m\u001B[1;33m:\u001B[0m\u001B[1;33m\u001B[0m\u001B[1;33m\u001B[0m\u001B[0m\n\u001B[1;32m---> 88\u001B[1;33m         \u001B[0mHyperCubePredictor\u001B[0m\u001B[1;33m.\u001B[0m\u001B[0m__init__\u001B[0m\u001B[1;33m(\u001B[0m\u001B[0mself\u001B[0m\u001B[1;33m,\u001B[0m \u001B[0moutput\u001B[0m\u001B[1;33m=\u001B[0m\u001B[0moutput\u001B[0m\u001B[1;33m,\u001B[0m \u001B[0mnormalization\u001B[0m\u001B[1;33m=\u001B[0m\u001B[0mnormalization\u001B[0m\u001B[1;33m)\u001B[0m\u001B[1;33m\u001B[0m\u001B[1;33m\u001B[0m\u001B[0m\n\u001B[0m\u001B[0;32m     89\u001B[0m         \u001B[0mPedagogicalExtractor\u001B[0m\u001B[1;33m.\u001B[0m\u001B[0m__init__\u001B[0m\u001B[1;33m(\u001B[0m\u001B[0mself\u001B[0m\u001B[1;33m,\u001B[0m \u001B[0mpredictor\u001B[0m\u001B[1;33m,\u001B[0m \u001B[0mdiscretization\u001B[0m\u001B[1;33m=\u001B[0m\u001B[0mdiscretization\u001B[0m\u001B[1;33m,\u001B[0m \u001B[0mnormalization\u001B[0m\u001B[1;33m=\u001B[0m\u001B[0mnormalization\u001B[0m\u001B[1;33m)\u001B[0m\u001B[1;33m\u001B[0m\u001B[1;33m\u001B[0m\u001B[0m\n\u001B[0;32m     90\u001B[0m \u001B[1;33m\u001B[0m\u001B[0m\n",
      "\u001B[1;32m_pydevd_bundle\\pydevd_cython_win32_39_64.pyx\u001B[0m in \u001B[0;36m_pydevd_bundle.pydevd_cython_win32_39_64.SafeCallWrapper.__call__\u001B[1;34m()\u001B[0m\n",
      "\u001B[1;32m_pydevd_bundle\\pydevd_cython_win32_39_64.pyx\u001B[0m in \u001B[0;36m_pydevd_bundle.pydevd_cython_win32_39_64.PyDBFrame.trace_dispatch\u001B[1;34m()\u001B[0m\n",
      "\u001B[1;32m_pydevd_bundle\\pydevd_cython_win32_39_64.pyx\u001B[0m in \u001B[0;36m_pydevd_bundle.pydevd_cython_win32_39_64.PyDBFrame.trace_dispatch\u001B[1;34m()\u001B[0m\n",
      "\u001B[1;32m_pydevd_bundle\\pydevd_cython_win32_39_64.pyx\u001B[0m in \u001B[0;36m_pydevd_bundle.pydevd_cython_win32_39_64.PyDBFrame.trace_dispatch\u001B[1;34m()\u001B[0m\n",
      "\u001B[1;32m_pydevd_bundle\\pydevd_cython_win32_39_64.pyx\u001B[0m in \u001B[0;36m_pydevd_bundle.pydevd_cython_win32_39_64.PyDBFrame.do_wait_suspend\u001B[1;34m()\u001B[0m\n",
      "\u001B[1;32mC:\\Program Files\\JetBrains\\PyCharm 2021.3\\plugins\\python\\helpers\\pydev\\pydevd.py\u001B[0m in \u001B[0;36mdo_wait_suspend\u001B[1;34m(self, thread, frame, event, arg, send_suspend_message, is_unhandled_exception)\u001B[0m\n\u001B[0;32m   1145\u001B[0m \u001B[1;33m\u001B[0m\u001B[0m\n\u001B[0;32m   1146\u001B[0m         \u001B[1;32mwith\u001B[0m \u001B[0mself\u001B[0m\u001B[1;33m.\u001B[0m\u001B[0m_threads_suspended_single_notification\u001B[0m\u001B[1;33m.\u001B[0m\u001B[0mnotify_thread_suspended\u001B[0m\u001B[1;33m(\u001B[0m\u001B[0mthread_id\u001B[0m\u001B[1;33m,\u001B[0m \u001B[0mstop_reason\u001B[0m\u001B[1;33m)\u001B[0m\u001B[1;33m:\u001B[0m\u001B[1;33m\u001B[0m\u001B[1;33m\u001B[0m\u001B[0m\n\u001B[1;32m-> 1147\u001B[1;33m             \u001B[0mself\u001B[0m\u001B[1;33m.\u001B[0m\u001B[0m_do_wait_suspend\u001B[0m\u001B[1;33m(\u001B[0m\u001B[0mthread\u001B[0m\u001B[1;33m,\u001B[0m \u001B[0mframe\u001B[0m\u001B[1;33m,\u001B[0m \u001B[0mevent\u001B[0m\u001B[1;33m,\u001B[0m \u001B[0marg\u001B[0m\u001B[1;33m,\u001B[0m \u001B[0msuspend_type\u001B[0m\u001B[1;33m,\u001B[0m \u001B[0mfrom_this_thread\u001B[0m\u001B[1;33m)\u001B[0m\u001B[1;33m\u001B[0m\u001B[1;33m\u001B[0m\u001B[0m\n\u001B[0m\u001B[0;32m   1148\u001B[0m \u001B[1;33m\u001B[0m\u001B[0m\n\u001B[0;32m   1149\u001B[0m     \u001B[1;32mdef\u001B[0m \u001B[0m_do_wait_suspend\u001B[0m\u001B[1;33m(\u001B[0m\u001B[0mself\u001B[0m\u001B[1;33m,\u001B[0m \u001B[0mthread\u001B[0m\u001B[1;33m,\u001B[0m \u001B[0mframe\u001B[0m\u001B[1;33m,\u001B[0m \u001B[0mevent\u001B[0m\u001B[1;33m,\u001B[0m \u001B[0marg\u001B[0m\u001B[1;33m,\u001B[0m \u001B[0msuspend_type\u001B[0m\u001B[1;33m,\u001B[0m \u001B[0mfrom_this_thread\u001B[0m\u001B[1;33m)\u001B[0m\u001B[1;33m:\u001B[0m\u001B[1;33m\u001B[0m\u001B[1;33m\u001B[0m\u001B[0m\n",
      "\u001B[1;32mC:\\Program Files\\JetBrains\\PyCharm 2021.3\\plugins\\python\\helpers\\pydev\\pydevd.py\u001B[0m in \u001B[0;36m_do_wait_suspend\u001B[1;34m(self, thread, frame, event, arg, suspend_type, from_this_thread)\u001B[0m\n\u001B[0;32m   1160\u001B[0m \u001B[1;33m\u001B[0m\u001B[0m\n\u001B[0;32m   1161\u001B[0m                 \u001B[0mself\u001B[0m\u001B[1;33m.\u001B[0m\u001B[0mprocess_internal_commands\u001B[0m\u001B[1;33m(\u001B[0m\u001B[1;33m)\u001B[0m\u001B[1;33m\u001B[0m\u001B[1;33m\u001B[0m\u001B[0m\n\u001B[1;32m-> 1162\u001B[1;33m                 \u001B[0mtime\u001B[0m\u001B[1;33m.\u001B[0m\u001B[0msleep\u001B[0m\u001B[1;33m(\u001B[0m\u001B[1;36m0.01\u001B[0m\u001B[1;33m)\u001B[0m\u001B[1;33m\u001B[0m\u001B[1;33m\u001B[0m\u001B[0m\n\u001B[0m\u001B[0;32m   1163\u001B[0m \u001B[1;33m\u001B[0m\u001B[0m\n\u001B[0;32m   1164\u001B[0m         \u001B[0mself\u001B[0m\u001B[1;33m.\u001B[0m\u001B[0mcancel_async_evaluation\u001B[0m\u001B[1;33m(\u001B[0m\u001B[0mget_current_thread_id\u001B[0m\u001B[1;33m(\u001B[0m\u001B[0mthread\u001B[0m\u001B[1;33m)\u001B[0m\u001B[1;33m,\u001B[0m \u001B[0mstr\u001B[0m\u001B[1;33m(\u001B[0m\u001B[0mid\u001B[0m\u001B[1;33m(\u001B[0m\u001B[0mframe\u001B[0m\u001B[1;33m)\u001B[0m\u001B[1;33m)\u001B[0m\u001B[1;33m)\u001B[0m\u001B[1;33m\u001B[0m\u001B[1;33m\u001B[0m\u001B[0m\n",
      "\u001B[1;31mKeyboardInterrupt\u001B[0m: "
     ]
    }
   ],
   "source": [
    "ranked = FeatureRanker(train.columns).fit(model, train.iloc[:, :-1]).rankings()\n",
    "CART = Extractor.gridex(model, Grid(1, AdaptiveStrategy(ranked, [(0.6, 1)])),\n",
    "                              threshold=5, min_examples=1, normalization=normalization)\n",
    "CART.extract(scaledTrain)\n",
    "p = CART.predict(scaledTest)"
   ],
   "metadata": {
    "collapsed": false,
    "pycharm": {
     "name": "#%%\n"
    }
   }
  },
  {
   "cell_type": "code",
   "execution_count": 17,
   "outputs": [],
   "source": [
    "CART.normalization"
   ],
   "metadata": {
    "collapsed": false,
    "pycharm": {
     "name": "#%%\n"
    }
   }
  },
  {
   "cell_type": "code",
   "execution_count": 15,
   "outputs": [
    {
     "data": {
      "text/plain": "(648,)"
     },
     "execution_count": 15,
     "metadata": {},
     "output_type": "execute_result"
    }
   ],
   "source": [
    "np.array(p).shape"
   ],
   "metadata": {
    "collapsed": false,
    "pycharm": {
     "name": "#%%\n"
    }
   }
  },
  {
   "cell_type": "code",
   "execution_count": 16,
   "outputs": [
    {
     "data": {
      "text/plain": "array([ 5.94787596e-01,  6.27852580e-01,  6.53351288e-01,  6.86756656e-01,\n        6.80554845e-01,  6.56268596e-01,  6.41509728e-01,  6.23215360e-01,\n        5.06968206e-01,  4.49547691e-01,  4.50112948e-01,  3.89409986e-01,\n        4.17987119e-01,  4.47363530e-01,  4.73589506e-01,  5.27920839e-01,\n        5.65069947e-01,  6.30275078e-01,  6.50014692e-01,  6.25667786e-01,\n        5.32084121e-01,  5.11315913e-01,  4.66818875e-01,  3.79488214e-01,\n        3.49910991e-01,  2.21345403e-01,  1.93290286e-01,  1.29067767e-01,\n        1.29278790e-01,  9.70285114e-02,  1.16471507e-01,  1.20058101e-01,\n        1.10625154e-01,  9.43989669e-02,  4.62561519e-02,  1.54927422e-02,\n       -3.67243793e-02, -9.73570606e-02, -8.82136957e-02, -8.59049356e-02,\n       -1.88867848e-01, -1.98258070e-01, -2.14678123e-01, -2.25880942e-01,\n       -2.73753227e-01, -2.86873033e-01, -3.36773813e-01, -3.41153580e-01,\n       -2.72939657e-01, -2.60564106e-01, -2.22866189e-01, -3.16103250e-01,\n       -4.57077669e-01, -5.69617624e-01, -4.85024701e-01, -4.38443662e-01,\n       -1.81425306e-01,  3.16564715e-02,  2.01502725e-01,  3.30505305e-01,\n        4.34886887e-01,  4.88884946e-01,  4.81334210e-01,  4.72318295e-01,\n        4.49382717e-01,  3.71368779e-01,  3.10463488e-01,  2.27584909e-01,\n        1.96014710e-01,  1.21620524e-01,  8.96840584e-02,  9.66028209e-02,\n        5.56857290e-02,  9.76252433e-02,  1.16906912e-01,  9.32035580e-02,\n        1.61667957e-01,  2.43306894e-01,  4.00764438e-01,  4.08452018e-01,\n        5.04550610e-01,  6.33769305e-01,  7.70897913e-01,  8.66805211e-01,\n        9.64611914e-01,  9.24679976e-01,  9.83779612e-01,  9.57014376e-01,\n        1.18224046e+00,  1.18196180e+00,  1.25001824e+00,  1.26741209e+00,\n        1.31358148e+00,  1.30732589e+00,  1.27459292e+00,  1.28298857e+00,\n        1.30996624e+00,  1.33409461e+00,  1.34064098e+00,  1.33456069e+00,\n        1.26926162e+00,  1.23751719e+00,  1.21728041e+00,  1.18781088e+00,\n        1.07904111e+00,  9.78348868e-01,  8.94449891e-01,  8.02642930e-01,\n        7.67312190e-01,  7.79881638e-01,  7.56459980e-01,  6.39844731e-01,\n        5.59816075e-01,  5.07320578e-01,  3.96137907e-01,  3.08059300e-01,\n        3.49538875e-01,  4.37822132e-01,  5.19863709e-01,  4.83896648e-01,\n        5.49159005e-01,  6.51009546e-01,  6.66199773e-01,  6.75533692e-01,\n        7.14284944e-01,  7.49667837e-01,  7.27343955e-01,  7.50315379e-01,\n        7.35121200e-01,  7.11411018e-01,  6.50371738e-01,  6.57852210e-01,\n        6.88303646e-01,  6.88771323e-01,  6.53846882e-01,  6.39351067e-01,\n        6.42534572e-01,  6.11897413e-01,  5.48695256e-01,  5.36093577e-01,\n        4.68813273e-01,  4.81517348e-01,  4.16924579e-01,  2.27269556e-01,\n        6.95082620e-02,  4.73304329e-02,  4.31446914e-02,  1.51598952e-03,\n       -1.63872715e-01, -2.66752323e-01, -3.04611850e-01, -3.09940192e-01,\n       -3.80448778e-01, -5.20578055e-01, -5.58929636e-01, -5.66185437e-01,\n       -5.50515452e-01, -4.97476048e-01, -4.69612472e-01, -4.37668499e-01,\n       -4.08758754e-01, -4.70707072e-01, -5.20063597e-01, -5.77177092e-01,\n       -6.33710168e-01, -6.80554694e-01, -7.54318656e-01, -7.98758101e-01,\n       -8.44280781e-01, -8.98363509e-01, -8.95358460e-01, -8.86503609e-01,\n       -8.85599683e-01, -8.82890386e-01, -8.53614367e-01, -8.31532738e-01,\n       -8.33123651e-01, -6.27513729e-01, -1.37548268e-01,  1.58522033e-01,\n        3.43769358e-01,  3.53969327e-01,  3.30450997e-01,  3.16298042e-01,\n        3.07723557e-01,  2.50430376e-01,  1.79257019e-01,  1.48908911e-01,\n        1.94124475e-01,  2.96394183e-01,  3.65626353e-01,  4.03952940e-01,\n        4.89904130e-01,  5.43864115e-01,  5.70022845e-01,  5.78188313e-01,\n        6.02378943e-01,  5.53382870e-01,  5.76370663e-01,  4.53366033e-01,\n        5.46894816e-01,  6.22814657e-01,  6.98452824e-01,  8.43786807e-01,\n        9.03241794e-01,  9.80655929e-01,  1.00069167e+00,  1.03552441e+00,\n        1.05781862e+00,  1.03407151e+00,  1.01060741e+00,  9.95349018e-01,\n        9.83748339e-01,  9.77971820e-01,  9.59232606e-01,  9.75587590e-01,\n        9.86886799e-01,  9.89016229e-01,  1.01371718e+00,  1.02127174e+00,\n        1.01666168e+00,  1.06380858e+00,  1.04014026e+00,  9.68632461e-01,\n        8.50561688e-01,  7.88313619e-01,  8.60332530e-01,  8.39510615e-01,\n        8.19082407e-01,  8.41616540e-01,  8.45556255e-01,  8.78204007e-01,\n        9.01526215e-01,  8.99408318e-01,  9.75302328e-01,  1.07239590e+00,\n        1.12769248e+00,  1.10865204e+00,  1.16262617e+00,  1.19097896e+00,\n        1.18783719e+00,  1.13230601e+00,  1.14472708e+00,  1.16748934e+00,\n        1.15556360e+00,  1.15497319e+00,  1.14661413e+00,  1.12722389e+00,\n        1.11759420e+00,  1.11397318e+00,  1.12588339e+00,  1.10233146e+00,\n        1.06748597e+00,  9.94411455e-01,  9.34246345e-01,  9.26761867e-01,\n        8.79439448e-01,  8.34147761e-01,  7.88468961e-01,  2.63101924e-01,\n        2.58441893e-01,  2.75837911e-01,  3.73833340e-01,  4.06661808e-01,\n        4.50858947e-01,  4.25019531e-01,  3.93777296e-01,  4.25283768e-01,\n        4.50114669e-01,  4.32118982e-01,  4.26723712e-01,  4.25086302e-01,\n        4.12253850e-01,  4.20772144e-01,  3.73951452e-01,  3.84730496e-01,\n        4.15677813e-01,  4.70782896e-01,  5.18673694e-01,  6.28786146e-01,\n        7.11168389e-01,  8.38840673e-01,  9.24391393e-01,  1.00049266e+00,\n        1.02386999e+00,  1.07021416e+00,  1.09681443e+00,  1.14425776e+00,\n        1.35203664e+00,  1.36045510e+00,  1.41445129e+00,  1.42926777e+00,\n        1.48989705e+00,  1.48908458e+00,  1.52517735e+00,  1.55774308e+00,\n        1.53297116e+00,  1.48283249e+00,  1.45336878e+00,  1.43025635e+00,\n        1.42162708e+00,  1.39982454e+00,  1.38697364e+00,  1.40470142e+00,\n        1.41465673e+00,  1.41616546e+00,  1.39234617e+00,  1.39974420e+00,\n        1.37379750e+00,  1.31108897e+00,  1.29610318e+00,  1.26624619e+00,\n        1.21507803e+00,  1.18620871e+00,  1.16431475e+00,  1.08350728e+00,\n        1.04351910e+00,  8.14857616e-01,  9.19351580e-01,  9.92161799e-01,\n        1.05183656e+00,  1.06302057e+00,  1.15394942e+00,  1.26940951e+00,\n        1.28522890e+00,  1.44338788e+00,  1.36122698e+00,  1.22730775e+00,\n        1.26271454e+00,  1.25683022e+00,  1.26641669e+00,  1.35523754e+00,\n        1.35363264e+00,  1.19374746e+00,  8.84222340e-01,  8.45086765e-01,\n        8.26652842e-01,  7.78535822e-01,  7.91430635e-01,  7.51209328e-01,\n        7.16570137e-01,  7.12982315e-01,  6.71535968e-01,  6.59427982e-01,\n        6.61309295e-01,  6.00194599e-01,  5.46063131e-01,  5.06583233e-01,\n        4.60146040e-01,  4.13683133e-01,  3.27972661e-01,  2.84937524e-01,\n        2.45562643e-01,  2.77127619e-01,  2.53966681e-01,  2.33893354e-01,\n        2.36568447e-01,  2.28037916e-01,  2.49038569e-01,  2.64400726e-01,\n        2.94056569e-01,  2.90707304e-01,  2.83857999e-01,  3.01860592e-01,\n        3.14841571e-01,  3.39277627e-01,  3.01466072e-01,  2.93500775e-01,\n        2.87430279e-01,  2.70941481e-01,  3.06142458e-01,  3.36453506e-01,\n        3.49177875e-01,  3.60445946e-01,  3.73710668e-01,  4.04441898e-01,\n        3.94960073e-01,  3.99827257e-01,  3.77291659e-01,  3.30380384e-01,\n        3.37732723e-01,  3.47186442e-01,  3.52084474e-01,  3.77269993e-01,\n        3.77988341e-01,  3.80380920e-01,  3.69822861e-01,  3.58249184e-01,\n        3.64697520e-01,  3.33135345e-01,  3.09091741e-01,  3.80991398e-01,\n        3.61867705e-01,  3.19234148e-01,  3.21624558e-01,  2.17452675e-01,\n        1.92589914e-01,  1.79242718e-01,  1.53009476e-01,  9.77992145e-02,\n        3.23604394e-02, -2.94612149e-02, -1.14045668e-01, -1.55128381e-01,\n       -1.57616220e-01, -1.71918305e-01, -1.50894217e-01, -1.67564490e-01,\n       -1.88622273e-01, -2.07652581e-01, -2.58115218e-01, -2.93005352e-01,\n       -3.38270047e-01, -1.49019196e-01, -3.44280222e-01, -3.28079666e-01,\n       -3.26221855e-01, -2.34694433e-01, -2.19842775e-01, -2.43728538e-01,\n       -2.38287675e-01, -2.07637015e-01, -2.99053400e-01, -3.51944773e-01,\n       -2.98335213e-01, -2.75216185e-01, -2.52291688e-01, -5.92295676e-01,\n       -6.29698629e-01, -6.37034248e-01, -6.67193507e-01, -6.61285775e-01,\n       -6.59767960e-01, -6.55582862e-01, -6.60398712e-01, -6.48089994e-01,\n       -6.30606033e-01, -6.13985068e-01, -5.94299126e-01, -5.51793470e-01,\n       -5.21829072e-01, -5.33152444e-01, -5.58533647e-01, -5.30664797e-01,\n       -4.96012827e-01, -4.81793417e-01, -4.94722300e-01, -5.05906482e-01,\n       -5.84771524e-01, -6.21891793e-01, -6.57652629e-01, -6.74505274e-01,\n       -6.77925168e-01, -6.63411854e-01, -6.70761225e-01, -6.71313501e-01,\n       -6.78285438e-01, -6.88366243e-01, -6.75084854e-01, -6.86645949e-01,\n       -6.86878877e-01, -7.03152004e-01, -7.11550530e-01, -7.06169968e-01,\n       -7.06030613e-01, -7.11075855e-01, -6.80750629e-01, -6.72296413e-01,\n       -6.65302849e-01, -6.74474185e-01, -6.70617066e-01, -6.70406918e-01,\n       -6.31489293e-01, -5.41195959e-01, -5.06100680e-01, -4.73968482e-01,\n       -4.80026300e-01, -4.66280906e-01, -4.94750733e-01, -4.66159421e-01,\n       -4.53704671e-01, -4.65426691e-01, -4.67830842e-01, -4.48499002e-01,\n       -4.37999267e-01, -4.06635710e-01, -4.36565611e-01, -4.87644475e-01,\n       -5.10015971e-01, -5.26553795e-01, -5.24534882e-01, -5.17204913e-01,\n       -5.18734726e-01, -4.88314619e-01, -4.81448198e-01, -4.49654115e-01,\n       -3.59544883e-01, -2.89470852e-01, -2.52844742e-01, -1.92796426e-01,\n        3.61641165e-02,  2.67556715e-01,  2.88468372e-01,  2.69765539e-01,\n        3.03003617e-01,  1.56430282e-01,  8.94392059e-02,  8.35489348e-02,\n        9.53608325e-02,  1.06359033e-01,  4.85854783e-02,  5.95200015e-02,\n        8.92134085e-02,  1.71655377e-01, -1.62529760e-01, -9.18029145e-02,\n       -7.00795871e-03,  3.55558744e-02,  7.13713389e-02,  8.51286206e-02,\n        8.85206272e-02,  9.03776601e-02,  7.80484532e-02,  7.76571930e-02,\n        7.06369278e-02,  5.61746134e-02,  7.89197268e-02,  8.51250688e-02,\n        1.11657860e-01,  8.77699810e-02,  1.40152096e-01,  1.41833281e-01,\n        1.40840041e-01,  1.85234816e-01,  1.53057074e-01,  1.61289830e-01,\n        1.60056307e-01,  1.47913238e-01,  1.59117011e-01,  1.24454678e-01,\n        8.40377871e-02,  9.25309859e-02,  8.57329210e-02,  7.57535730e-02,\n        6.16577201e-02,  1.06938161e-01,  1.02192008e-01,  1.71101839e-01,\n        2.19090649e-01,  1.94452383e-01,  1.52915395e-01,  1.42999064e-01,\n        2.34941176e-02, -1.69292889e-02, -4.84760026e-02, -8.84035972e-02,\n       -1.06477491e-01, -1.46097303e-01, -1.68977796e-01, -1.69546328e-01,\n       -3.06123179e-01, -2.86830814e-01, -3.27339805e-01, -3.04824309e-01,\n       -3.08424522e-01, -3.13009099e-01, -3.08204615e-01, -3.30643627e-01,\n       -3.47108546e-01, -3.71663036e-01, -3.69800392e-01, -3.81838621e-01,\n       -4.11920074e-01, -4.26296448e-01, -4.33323503e-01, -4.32084854e-01,\n       -4.26418566e-01, -3.99080526e-01, -3.43601617e-01, -3.32431572e-01,\n       -3.17056043e-01, -2.77115852e-01, -2.52202840e-01, -2.14129148e-01,\n       -2.00518462e-01, -1.46597547e-01,  2.36017486e-01,  2.72685842e-01,\n        3.48128210e-01,  2.84062462e-01,  2.81911796e-01,  2.71269801e-01,\n        2.17936171e-01,  1.81334194e-01,  1.55982915e-01,  1.36845118e-01,\n        8.53148103e-02,  5.47081435e-02, -1.14402861e-02, -5.94431312e-02,\n       -9.09789281e-02, -1.44687840e-01, -1.67931366e-01, -1.76196230e-01,\n       -1.84964598e-01, -1.80156999e-01, -1.82591858e-01, -2.04167736e-01,\n       -2.17966566e-01, -1.25904259e-01, -1.53099147e-01, -1.62306106e-01,\n       -2.16528907e-01, -2.69388887e-01, -3.25151001e-01, -5.16529016e-02,\n        2.34635280e-01,  2.86861522e-01,  2.49274427e-01,  1.65100897e-01,\n        1.31739752e-01,  1.38150405e-01,  1.26449068e-01,  1.62529445e-01,\n        1.71290348e-01,  1.77941660e-01,  1.68343103e-01,  1.21794429e-01,\n        7.66499527e-02,  9.79244195e-02,  1.13147159e-01,  1.19400540e-01,\n        1.31218961e-01,  1.32184095e-01,  1.21069556e-01,  1.14229094e-01,\n        1.29832401e-01,  1.24523142e-01,  1.39992356e-01,  1.42168147e-01,\n        2.48498740e-01,  2.74234518e-01,  3.09358436e-01,  3.08036727e-01,\n        3.27261828e-01,  3.36394705e-01,  3.42936055e-01,  3.48891465e-01])"
     },
     "execution_count": 16,
     "metadata": {},
     "output_type": "execute_result"
    }
   ],
   "source": [
    "model.predict(scaledTest)"
   ],
   "metadata": {
    "collapsed": false,
    "pycharm": {
     "name": "#%%\n"
    }
   }
  },
  {
   "cell_type": "code",
   "execution_count": 8,
   "outputs": [
    {
     "data": {
      "text/plain": "                  index      V       model  GridEx   GridREx  \\\n0   2016-03-04 00:00:00  410.0  518.750997     0.0 -0.381030   \n1   2016-03-04 01:00:00  400.0  522.352090     0.0 -0.407892   \n2   2016-03-04 02:00:00  395.0  525.129143     0.0 -0.433331   \n3   2016-03-04 03:00:00  408.0  528.767307     0.0 -0.461158   \n4   2016-03-04 04:00:00  406.0  528.091871     0.0 -0.477063   \n..                  ...    ...         ...     ...       ...   \n643 2016-03-30 19:00:00  497.0  487.521085     0.0 -0.294504   \n644 2016-03-30 20:00:00  501.0  489.614882     0.0 -0.278289   \n645 2016-03-30 21:00:00  518.0  490.609540     0.0 -0.267642   \n646 2016-03-30 22:00:00  510.0  491.321955     0.0 -0.251590   \n647 2016-03-30 23:00:00  511.0  491.970557     0.0 -0.229831   \n\n                                                  CART  \\\n0    [441.86581920903956, 441.86581920903956, 441.8...   \n1    [441.86581920903956, 441.86581920903956, 441.8...   \n2    [441.86581920903956, 441.86581920903956, 441.8...   \n3    [441.86581920903956, 441.86581920903956, 441.8...   \n4    [441.86581920903956, 441.86581920903956, 441.8...   \n..                                                 ...   \n643  [441.86581920903956, 441.86581920903956, 441.8...   \n644  [441.86581920903956, 441.86581920903956, 441.8...   \n645  [441.86581920903956, 441.86581920903956, 441.8...   \n646  [441.86581920903956, 441.86581920903956, 441.8...   \n647  [441.86581920903956, 441.86581920903956, 441.8...   \n\n                                                COSMiK  \\\n0    [340.3877551020408, 340.3877551020408, 340.387...   \n1    [340.3877551020408, 340.3877551020408, 340.387...   \n2    [340.3877551020408, 340.3877551020408, 340.387...   \n3    [340.3877551020408, 340.3877551020408, 340.387...   \n4    [340.3877551020408, 340.3877551020408, 340.387...   \n..                                                 ...   \n643  [340.3877551020408, 340.3877551020408, 340.387...   \n644  [340.3877551020408, 340.3877551020408, 340.387...   \n645  [340.3877551020408, 340.3877551020408, 340.387...   \n646  [340.3877551020408, 340.3877551020408, 340.387...   \n647  [340.3877551020408, 340.3877551020408, 340.387...   \n\n                                                CReEPy  \n0    [464.19181456754364, 462.0928005366921, 459.64...  \n1    [464.19181456754364, 462.0928005366921, 459.64...  \n2    [464.19181456754364, 462.0928005366921, 459.64...  \n3    [464.19181456754364, 462.0928005366921, 459.64...  \n4    [464.19181456754364, 462.0928005366921, 459.64...  \n..                                                 ...  \n643  [464.19181456754364, 462.0928005366921, 459.64...  \n644  [464.19181456754364, 462.0928005366921, 459.64...  \n645  [464.19181456754364, 462.0928005366921, 459.64...  \n646  [464.19181456754364, 462.0928005366921, 459.64...  \n647  [464.19181456754364, 462.0928005366921, 459.64...  \n\n[648 rows x 8 columns]",
      "text/html": "<div>\n<style scoped>\n    .dataframe tbody tr th:only-of-type {\n        vertical-align: middle;\n    }\n\n    .dataframe tbody tr th {\n        vertical-align: top;\n    }\n\n    .dataframe thead th {\n        text-align: right;\n    }\n</style>\n<table border=\"1\" class=\"dataframe\">\n  <thead>\n    <tr style=\"text-align: right;\">\n      <th></th>\n      <th>index</th>\n      <th>V</th>\n      <th>model</th>\n      <th>GridEx</th>\n      <th>GridREx</th>\n      <th>CART</th>\n      <th>COSMiK</th>\n      <th>CReEPy</th>\n    </tr>\n  </thead>\n  <tbody>\n    <tr>\n      <th>0</th>\n      <td>2016-03-04 00:00:00</td>\n      <td>410.0</td>\n      <td>518.750997</td>\n      <td>0.0</td>\n      <td>-0.381030</td>\n      <td>[441.86581920903956, 441.86581920903956, 441.8...</td>\n      <td>[340.3877551020408, 340.3877551020408, 340.387...</td>\n      <td>[464.19181456754364, 462.0928005366921, 459.64...</td>\n    </tr>\n    <tr>\n      <th>1</th>\n      <td>2016-03-04 01:00:00</td>\n      <td>400.0</td>\n      <td>522.352090</td>\n      <td>0.0</td>\n      <td>-0.407892</td>\n      <td>[441.86581920903956, 441.86581920903956, 441.8...</td>\n      <td>[340.3877551020408, 340.3877551020408, 340.387...</td>\n      <td>[464.19181456754364, 462.0928005366921, 459.64...</td>\n    </tr>\n    <tr>\n      <th>2</th>\n      <td>2016-03-04 02:00:00</td>\n      <td>395.0</td>\n      <td>525.129143</td>\n      <td>0.0</td>\n      <td>-0.433331</td>\n      <td>[441.86581920903956, 441.86581920903956, 441.8...</td>\n      <td>[340.3877551020408, 340.3877551020408, 340.387...</td>\n      <td>[464.19181456754364, 462.0928005366921, 459.64...</td>\n    </tr>\n    <tr>\n      <th>3</th>\n      <td>2016-03-04 03:00:00</td>\n      <td>408.0</td>\n      <td>528.767307</td>\n      <td>0.0</td>\n      <td>-0.461158</td>\n      <td>[441.86581920903956, 441.86581920903956, 441.8...</td>\n      <td>[340.3877551020408, 340.3877551020408, 340.387...</td>\n      <td>[464.19181456754364, 462.0928005366921, 459.64...</td>\n    </tr>\n    <tr>\n      <th>4</th>\n      <td>2016-03-04 04:00:00</td>\n      <td>406.0</td>\n      <td>528.091871</td>\n      <td>0.0</td>\n      <td>-0.477063</td>\n      <td>[441.86581920903956, 441.86581920903956, 441.8...</td>\n      <td>[340.3877551020408, 340.3877551020408, 340.387...</td>\n      <td>[464.19181456754364, 462.0928005366921, 459.64...</td>\n    </tr>\n    <tr>\n      <th>...</th>\n      <td>...</td>\n      <td>...</td>\n      <td>...</td>\n      <td>...</td>\n      <td>...</td>\n      <td>...</td>\n      <td>...</td>\n      <td>...</td>\n    </tr>\n    <tr>\n      <th>643</th>\n      <td>2016-03-30 19:00:00</td>\n      <td>497.0</td>\n      <td>487.521085</td>\n      <td>0.0</td>\n      <td>-0.294504</td>\n      <td>[441.86581920903956, 441.86581920903956, 441.8...</td>\n      <td>[340.3877551020408, 340.3877551020408, 340.387...</td>\n      <td>[464.19181456754364, 462.0928005366921, 459.64...</td>\n    </tr>\n    <tr>\n      <th>644</th>\n      <td>2016-03-30 20:00:00</td>\n      <td>501.0</td>\n      <td>489.614882</td>\n      <td>0.0</td>\n      <td>-0.278289</td>\n      <td>[441.86581920903956, 441.86581920903956, 441.8...</td>\n      <td>[340.3877551020408, 340.3877551020408, 340.387...</td>\n      <td>[464.19181456754364, 462.0928005366921, 459.64...</td>\n    </tr>\n    <tr>\n      <th>645</th>\n      <td>2016-03-30 21:00:00</td>\n      <td>518.0</td>\n      <td>490.609540</td>\n      <td>0.0</td>\n      <td>-0.267642</td>\n      <td>[441.86581920903956, 441.86581920903956, 441.8...</td>\n      <td>[340.3877551020408, 340.3877551020408, 340.387...</td>\n      <td>[464.19181456754364, 462.0928005366921, 459.64...</td>\n    </tr>\n    <tr>\n      <th>646</th>\n      <td>2016-03-30 22:00:00</td>\n      <td>510.0</td>\n      <td>491.321955</td>\n      <td>0.0</td>\n      <td>-0.251590</td>\n      <td>[441.86581920903956, 441.86581920903956, 441.8...</td>\n      <td>[340.3877551020408, 340.3877551020408, 340.387...</td>\n      <td>[464.19181456754364, 462.0928005366921, 459.64...</td>\n    </tr>\n    <tr>\n      <th>647</th>\n      <td>2016-03-30 23:00:00</td>\n      <td>511.0</td>\n      <td>491.970557</td>\n      <td>0.0</td>\n      <td>-0.229831</td>\n      <td>[441.86581920903956, 441.86581920903956, 441.8...</td>\n      <td>[340.3877551020408, 340.3877551020408, 340.387...</td>\n      <td>[464.19181456754364, 462.0928005366921, 459.64...</td>\n    </tr>\n  </tbody>\n</table>\n<p>648 rows × 8 columns</p>\n</div>"
     },
     "execution_count": 8,
     "metadata": {},
     "output_type": "execute_result"
    }
   ],
   "source": [
    "pd.DataFrame(predicted)"
   ],
   "metadata": {
    "collapsed": false,
    "pycharm": {
     "name": "#%%\n"
    }
   }
  },
  {
   "cell_type": "code",
   "execution_count": null,
   "outputs": [],
   "source": [
    "sdsfgd"
   ],
   "metadata": {
    "collapsed": false,
    "pycharm": {
     "name": "#%%\n"
    }
   }
  },
  {
   "cell_type": "code",
   "execution_count": null,
   "outputs": [],
   "source": [
    "pd.DataFrame(predicted).to_csv(\"pred.csv\")"
   ],
   "metadata": {
    "collapsed": false,
    "pycharm": {
     "name": "#%%\n"
    }
   }
  },
  {
   "cell_type": "code",
   "execution_count": null,
   "outputs": [],
   "source": [
    "pd.DataFrame(rules).to_csv('rules.csv')\n",
    "pd.DataFrame(missed).to_csv('missed.csv')"
   ],
   "metadata": {
    "collapsed": false,
    "pycharm": {
     "name": "#%%\n"
    }
   }
  },
  {
   "cell_type": "code",
   "execution_count": null,
   "outputs": [],
   "source": [
    "p = pd.DataFrame(predicted)"
   ],
   "metadata": {
    "collapsed": false,
    "pycharm": {
     "name": "#%%\n"
    }
   }
  },
  {
   "cell_type": "code",
   "execution_count": null,
   "outputs": [],
   "source": [
    "abs(p.COSMiK - p.model).mean()"
   ],
   "metadata": {
    "collapsed": false,
    "pycharm": {
     "name": "#%%\n"
    }
   }
  },
  {
   "cell_type": "code",
   "execution_count": null,
   "outputs": [],
   "source": [
    "p.describe()"
   ],
   "metadata": {
    "collapsed": false,
    "pycharm": {
     "name": "#%%\n"
    }
   }
  },
  {
   "cell_type": "code",
   "execution_count": null,
   "outputs": [],
   "source": [],
   "metadata": {
    "collapsed": false,
    "pycharm": {
     "name": "#%%\n"
    }
   }
  }
 ],
 "metadata": {
  "kernelspec": {
   "display_name": "Python 3",
   "language": "python",
   "name": "python3"
  },
  "language_info": {
   "codemirror_mode": {
    "name": "ipython",
    "version": 3
   },
   "file_extension": ".py",
   "mimetype": "text/x-python",
   "name": "python",
   "nbconvert_exporter": "python",
   "pygments_lexer": "ipython3",
   "version": "3.9.7"
  }
 },
 "nbformat": 4,
 "nbformat_minor": 5
}