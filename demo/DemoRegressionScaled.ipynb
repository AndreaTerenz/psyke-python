{
 "cells": [
  {
   "cell_type": "markdown",
   "id": "f52126f3",
   "metadata": {},
   "source": [
    "# PSyKE's demo for regression tasks\n",
    "\n",
    "Some imports."
   ]
  },
  {
   "cell_type": "code",
   "execution_count": 1,
   "id": "6b710e7c",
   "metadata": {},
   "outputs": [],
   "source": [
    "from psyke import Extractor, Clustering\n",
    "from psyke.tuning.pedro import PEDRO\n",
    "from psyke.tuning import Objective\n",
    "from psyke.tuning.crash import CRASH\n",
    "from sklearn.tree import DecisionTreeRegressor\n",
    "from psyke.utils.logic import pretty_theory\n",
    "from psyke.utils.metrics import mae, mse, r2\n",
    "from sklearn.model_selection import train_test_split\n",
    "from sklearn.preprocessing import StandardScaler\n",
    "from psyke.utils import Target\n",
    "import pandas as pd"
   ]
  },
  {
   "cell_type": "markdown",
   "id": "d7c90ed2",
   "metadata": {
    "pycharm": {
     "name": "#%% md\n"
    }
   },
   "source": [
    "Import an artificial dataset."
   ]
  },
  {
   "cell_type": "code",
   "execution_count": 2,
   "id": "f8e46c49",
   "metadata": {},
   "outputs": [],
   "source": [
    "#dataset = pd.read_csv(\"../test/resources/datasets/df.csv\")\n",
    "#dataset = dataset[[\"X\", \"Y\", \"Z4\"]].dropna()\n",
    "#dataset = pd.read_csv(\"../test/resources/datasets/CCPP.csv\", sep=\";\", decimal=\",\")\n",
    "dataset = pd.read_csv(\"../test/resources/datasets/arti.csv\")"
   ]
  },
  {
   "cell_type": "markdown",
   "id": "d673b766",
   "metadata": {},
   "source": [
    "Split between train and test set in a reproducible way."
   ]
  },
  {
   "cell_type": "code",
   "execution_count": 3,
   "id": "03fc5e2c",
   "metadata": {},
   "outputs": [],
   "source": [
    "train, test = train_test_split(dataset, test_size=0.5, random_state=10)\n",
    "\n",
    "scaler = StandardScaler().fit(train)\n",
    "train = pd.DataFrame(scaler.transform(train), columns=train.columns, index=train.index)\n",
    "test = pd.DataFrame(scaler.transform(test), columns=test.columns, index=test.index)\n",
    "\n",
    "normalization = {key: (m, s) for key, m, s in zip(train.columns, scaler.mean_, scaler.scale_)}"
   ]
  },
  {
   "cell_type": "markdown",
   "id": "fa6754a0",
   "metadata": {},
   "source": [
    "We select and train a predictor."
   ]
  },
  {
   "cell_type": "code",
   "execution_count": 4,
   "id": "bed764ca",
   "metadata": {},
   "outputs": [
    {
     "name": "stdout",
     "output_type": "stream",
     "text": [
      "MAE = 0.00\n",
      "MSE = 0.00\n",
      "R2 = 1.00\n"
     ]
    }
   ],
   "source": [
    "#predictor = KNeighborsRegressor(n_neighbors=3).fit(train.iloc[:, :-1], train.iloc[:, -1])\n",
    "predictor = DecisionTreeRegressor().fit(train.iloc[:, :-1], train.iloc[:, -1])\n",
    "#predictor = LinearRegression().fit(train.iloc[:, :-1], train.iloc[:, -1])\n",
    "\n",
    "m, s = normalization[test.columns[-1]]\n",
    "\n",
    "predicted = predictor.predict(test.iloc[:, :-1]).flatten() * s + m\n",
    "true = test.iloc[:, -1] * s + m\n",
    "\n",
    "print(f'MAE = {mae(true, predicted):.2f}')\n",
    "print(f'MSE = {mse(true, predicted):.2f}')\n",
    "print(f'R2 = {r2(true, predicted):.2f}')"
   ]
  },
  {
   "cell_type": "markdown",
   "metadata": {
    "collapsed": false,
    "pycharm": {
     "name": "#%% md\n"
    }
   },
   "source": [
    "We define a function to print the extractors’ evaluation"
   ]
  },
  {
   "cell_type": "code",
   "execution_count": 5,
   "metadata": {
    "collapsed": false,
    "pycharm": {
     "name": "#%%\n"
    }
   },
   "outputs": [],
   "source": [
    "def evaluate(name, extractor, true, predicted):\n",
    "    extracted = extractor.unscale(extractor.predict(test.iloc[:, :-1]), test.columns[-1])\n",
    "    print(f'{name} performance ({extractor.n_rules} rules):\\n'\n",
    "          f'MAE = {mae(true, extracted):.2f}\\nMAE fidelity = {mae(predicted, extracted):.2f}\\n'\n",
    "          f'R2 = {r2(true, extracted):.2f}\\nR2 fidelity = {r2(predicted, extracted):.2f}\\n')"
   ]
  },
  {
   "cell_type": "markdown",
   "id": "96835867",
   "metadata": {},
   "source": [
    "We create several extractors that use ITER, GridEx and GridREx algorithms to extract prolog rules from the predictor."
   ]
  },
  {
   "cell_type": "code",
   "execution_count": 6,
   "metadata": {
    "collapsed": false,
    "pycharm": {
     "name": "#%%\n"
    }
   },
   "outputs": [
    {
     "name": "stdout",
     "output_type": "stream",
     "text": [
      "ITER performance (4 rules):\n",
      "MAE = 0.55\n",
      "MAE fidelity = 0.55\n",
      "R2 = -6.34\n",
      "R2 fidelity = -6.34\n",
      "\n",
      "ITER extracted rules:\n",
      "\n",
      "z(X, Y, 1.11) :-\n",
      "    X in [-1.70, -0.00], Y in [-1.69, 0.22].\n",
      "z(X, Y, 0.19) :-\n",
      "    X in [-1.70, -0.00], Y in [0.22, 1.75].\n",
      "z(X, Y, -0.11) :-\n",
      "    X in [-0.00, 1.75], Y in [-1.69, 0.22].\n",
      "z(X, Y, -1.29) :-\n",
      "    X in [-0.00, 1.75], Y in [0.22, 1.75].\n"
     ]
    }
   ],
   "source": [
    "it = Extractor.iter(predictor, min_update=1.0 / 10, n_points=1, max_iterations=600,\n",
    "                    min_examples=100, threshold=.4, normalization=normalization)\n",
    "theory_from_iter = it.extract(train)\n",
    "evaluate('ITER', it, true, predicted)\n",
    "print('ITER extracted rules:\\n\\n' + pretty_theory(theory_from_iter))"
   ]
  },
  {
   "cell_type": "code",
   "execution_count": 7,
   "metadata": {
    "collapsed": false,
    "pycharm": {
     "name": "#%%\n"
    }
   },
   "outputs": [
    {
     "name": "stdout",
     "output_type": "stream",
     "text": [
      "CReEPy performance (3 rules):\n",
      "MAE = 0.08\n",
      "MAE fidelity = 0.08\n",
      "R2 = 0.81\n",
      "R2 fidelity = 0.81\n",
      "\n",
      "CReEPy extracted rules:\n",
      "\n",
      "z(X, Y, 0.7) :-\n",
      "    X in [0.00, 0.49], Y in [0.00, 0.49].\n",
      "z(X, Y, 0.4) :-\n",
      "    X in [0.00, 0.49], Y in [0.00, 0.99].\n",
      "z(X, Y, 0.145238).\n"
     ]
    }
   ],
   "source": [
    "creepy = Extractor.creepy(predictor, depth=3, error_threshold=0.02, output=Target.CONSTANT,\n",
    "                          normalization=normalization, clustering=Clustering.exact)\n",
    "theory_from_creepy = creepy.extract(train)\n",
    "evaluate('CReEPy', creepy, true, predicted)\n",
    "print('CReEPy extracted rules:\\n\\n' + pretty_theory(theory_from_creepy))"
   ]
  },
  {
   "cell_type": "code",
   "execution_count": 8,
   "metadata": {
    "collapsed": false,
    "pycharm": {
     "name": "#%%\n"
    }
   },
   "outputs": [
    {
     "name": "stdout",
     "output_type": "stream",
     "text": [
      "CReEPy performance (3 rules):\n",
      "MAE = 0.03\n",
      "MAE fidelity = 0.03\n",
      "R2 = 0.94\n",
      "R2 fidelity = 0.94\n",
      "\n",
      "CReEPy extracted rules:\n",
      "\n",
      "z(X, Y, Z) :-\n",
      "    X in [0.00, 0.49], Y in [0.00, 0.49], Z is 0.7.\n",
      "z(X, Y, Z) :-\n",
      "    X in [0.00, 0.49], Y in [0.00, 0.99], Z is 0.4.\n",
      "z(X, Y, Z) :-\n",
      "    Y in [0.00, 0.99], Z is 0.38 - 0.09 * X - 1.73 * Y.\n"
     ]
    }
   ],
   "source": [
    "creepy = Extractor.creepy(predictor, depth=3, error_threshold=0.02, output=Target.REGRESSION,\n",
    "                          normalization=normalization, clustering=Clustering.exact)\n",
    "theory_from_creepy = creepy.extract(train)\n",
    "evaluate('CReEPy', creepy, true, predicted)\n",
    "print('CReEPy extracted rules:\\n\\n' + pretty_theory(theory_from_creepy))"
   ]
  },
  {
   "cell_type": "code",
   "execution_count": 9,
   "metadata": {
    "collapsed": false,
    "pycharm": {
     "name": "#%%\n"
    }
   },
   "outputs": [
    {
     "name": "stdout",
     "output_type": "stream",
     "text": [
      "CReEPy performance (4 rules):\n",
      "MAE = 0.01\n",
      "MAE fidelity = 0.01\n",
      "R2 = 0.94\n",
      "R2 fidelity = 0.94\n",
      "\n",
      "CReEPy extracted rules:\n",
      "\n",
      "z(X, Y, Z) :-\n",
      "    X in [0.51, 0.99], Y in [0.00, 0.49], Z is 0.3.\n",
      "z(X, Y, Z) :-\n",
      "    X in [0.50, 0.99], Y in [0.00, 0.98], Z is 0.0.\n",
      "z(X, Y, Z) :-\n",
      "    X in [0.00, 0.49], Y in [0.50, 0.99], Z is 0.4.\n",
      "z(X, Y, Z) :-\n",
      "    Y in [0.00, 0.99], Z is 0.7.\n"
     ]
    }
   ],
   "source": [
    "creepy = Extractor.creepy(predictor, depth=2, error_threshold=0.02, output=Target.REGRESSION,\n",
    "                          normalization=normalization, clustering=Clustering.cream)\n",
    "theory_from_creepy = creepy.extract(train)\n",
    "evaluate('CReEPy', creepy, true, predicted)\n",
    "print('CReEPy extracted rules:\\n\\n' + pretty_theory(theory_from_creepy))"
   ]
  },
  {
   "cell_type": "code",
   "execution_count": 10,
   "metadata": {
    "collapsed": false,
    "pycharm": {
     "name": "#%%\n"
    }
   },
   "outputs": [
    {
     "name": "stdout",
     "output_type": "stream",
     "text": [
      "Algorithm.ExACT. Depth: 1. Threshold = 0.00. MAE = 0.06, 2 rules\n",
      "Algorithm.ExACT. Depth: 1. Threshold = 0.00. MAE = 0.06, 2 rules\n",
      "\n",
      "Algorithm.ExACT. Depth: 2. Threshold = 0.00. MAE = 0.06, 2 rules\n",
      "Algorithm.ExACT. Depth: 2. Threshold = 0.00. MAE = 0.06, 2 rules\n",
      "\n",
      "**********************\n",
      "Best Algorithm.ExACT\n",
      "**********************\n",
      "MAE = 0.06, 2 rules\n",
      "Threshold = 0.00\n",
      "Depth = 2\n",
      "\n",
      "**********************\n",
      "Best   MAE  \n",
      "**********************\n",
      "MAE = 0.06, 2 rules\n",
      "Threshold = 0.00\n",
      "Depth = 2\n",
      "\n",
      "**********************\n",
      "Best N rules\n",
      "**********************\n",
      "MAE = 0.06, 2 rules\n",
      "Threshold = 0.00\n",
      "Depth = 2\n",
      "\n",
      "CReEPy performance (3 rules):\n",
      "MAE = 0.69\n",
      "MAE fidelity = 0.69\n",
      "R2 = -8.82\n",
      "R2 fidelity = -8.82\n",
      "\n",
      "CReEPy extracted rules:\n",
      "\n",
      "z(X, Y, Z) :-\n",
      "    X in [-1.70, 0.01], Y in [-1.69, 0.02], Z is 1.37.\n",
      "z(X, Y, Z) :-\n",
      "    X in [-1.70, 0.01], Y in [-1.69, 1.75], Z is 0.19.\n",
      "z(X, Y, Z) :-\n",
      "    Y in [-1.69, 1.75], Z is -0.76 - 0.02 * X - 0.50 * Y.\n"
     ]
    }
   ],
   "source": [
    "crash = CRASH(predictor, train, max_depth=3, patience=1, readability_tradeoff=.5,\n",
    "              algorithm=CRASH.Algorithm.ExACT, output=Target.REGRESSION, normalization=normalization)\n",
    "crash.search()\n",
    "(_, _, depth, threshold) = crash.get_best()[0]\n",
    "\n",
    "creepy = Extractor.creepy(predictor, depth=depth, error_threshold=threshold, output=Target.REGRESSION,\n",
    "                          clustering=Clustering.exact)\n",
    "theory_from_creepy = creepy.extract(train)\n",
    "evaluate('CReEPy', creepy, true, predicted)\n",
    "print('CReEPy extracted rules:\\n\\n' + pretty_theory(theory_from_creepy))"
   ]
  },
  {
   "cell_type": "code",
   "execution_count": 11,
   "metadata": {
    "collapsed": false,
    "pycharm": {
     "name": "#%%\n"
    }
   },
   "outputs": [
    {
     "name": "stdout",
     "output_type": "stream",
     "text": [
      "Algorithm.CREAM. Depth: 1. Threshold = 0.00. MAE = 0.12, 2 rules\n",
      "Algorithm.CREAM. Depth: 1. Threshold = 0.00. MAE = 0.12, 2 rules\n",
      "\n",
      "Algorithm.CREAM. Depth: 2. Threshold = 0.00. MAE = 0.02, 3 rules\n",
      "Algorithm.CREAM. Depth: 2. Threshold = 0.00. MAE = 0.02, 3 rules\n",
      "\n",
      "**********************\n",
      "Best Algorithm.CREAM\n",
      "**********************\n",
      "MAE = 0.02, 3 rules\n",
      "Threshold = 0.00\n",
      "Depth = 2\n",
      "\n",
      "**********************\n",
      "Best   MAE  \n",
      "**********************\n",
      "MAE = 0.02, 3 rules\n",
      "Threshold = 0.00\n",
      "Depth = 2\n",
      "\n",
      "**********************\n",
      "Best N rules\n",
      "**********************\n",
      "MAE = 0.12, 2 rules\n",
      "Threshold = 0.00\n",
      "Depth = 1\n",
      "\n",
      "CReEPy performance (4 rules):\n",
      "MAE = 0.69\n",
      "MAE fidelity = 0.69\n",
      "R2 = -9.40\n",
      "R2 fidelity = -9.40\n",
      "\n",
      "CReEPy extracted rules:\n",
      "\n",
      "z(X, Y, Z) :-\n",
      "    X in [0.07, 1.75], Y in [-1.69, 0.00], Z is -0.19.\n",
      "z(X, Y, Z) :-\n",
      "    X in [0.02, 1.75], Y in [-1.69, 1.71], Z is -1.37.\n",
      "z(X, Y, Z) :-\n",
      "    X in [-1.69, 0.01], Y in [0.03, 1.75], Z is 0.19.\n",
      "z(X, Y, Z) :-\n",
      "    Y in [-1.69, 1.75], Z is 1.37.\n"
     ]
    }
   ],
   "source": [
    "crash = CRASH(predictor, train, max_depth=3, patience=1, readability_tradeoff=.75, algorithm=CRASH.Algorithm.CREAM,\n",
    "              normalization=normalization)\n",
    "crash.search()\n",
    "(_, _, depth, threshold) = crash.get_best()[0]\n",
    "\n",
    "creepy = Extractor.creepy(predictor, depth=depth, error_threshold=threshold, output=Target.REGRESSION,\n",
    "                          clustering=Clustering.cream)\n",
    "theory_from_creepy = creepy.extract(train)\n",
    "evaluate('CReEPy', creepy, true, predicted)\n",
    "print('CReEPy extracted rules:\\n\\n' + pretty_theory(theory_from_creepy))"
   ]
  },
  {
   "cell_type": "code",
   "execution_count": 12,
   "metadata": {
    "collapsed": false,
    "pycharm": {
     "name": "#%%\n"
    }
   },
   "outputs": [
    {
     "name": "stdout",
     "output_type": "stream",
     "text": [
      "Algorithm.GRIDEX. Grid (1). Fixed (2). Threshold = 0.00. MAE = 0.00, 4 rules\n",
      "Algorithm.GRIDEX. Grid (1). Fixed (2). Threshold = 0.00. MAE = 0.00, 8 rules\n",
      "\n",
      "Algorithm.GRIDEX. Grid (1). Fixed (3). Threshold = 0.00. MAE = 0.00, 17 rules\n",
      "Algorithm.GRIDEX. Grid (1). Fixed (3). Threshold = 0.00. MAE = 0.00, 26 rules\n",
      "\n",
      "Algorithm.GRIDEX. Grid (1). Adaptive ([(0.99, 2)]). Threshold = 0.00. MAE = 0.00, 28 rules\n",
      "Algorithm.GRIDEX. Grid (1). Adaptive ([(0.99, 2)]). Threshold = 0.00. MAE = 0.00, 30 rules\n",
      "\n",
      "Algorithm.GRIDEX. Grid (1). Adaptive ([(0.99, 3)]). Threshold = 0.00. MAE = 0.00, 33 rules\n",
      "Algorithm.GRIDEX. Grid (1). Adaptive ([(0.99, 3)]). Threshold = 0.00. MAE = 0.00, 36 rules\n",
      "\n",
      "Algorithm.GRIDEX. Grid (1). Adaptive ([(0.99, 5)]). Threshold = 0.00. MAE = 0.00, 41 rules\n",
      "Algorithm.GRIDEX. Grid (1). Adaptive ([(0.99, 5)]). Threshold = 0.00. MAE = 0.00, 46 rules\n",
      "\n",
      "Algorithm.GRIDEX. Grid (1). Adaptive ([(0.99, 10)]). Threshold = 0.00. MAE = 0.00, 56 rules\n",
      "Algorithm.GRIDEX. Grid (1). Adaptive ([(0.99, 10)]). Threshold = 0.00. MAE = 0.00, 66 rules\n",
      "\n",
      "Algorithm.GRIDEX. Grid (1). Adaptive ([(0.33, 2), (0.67, 3)]). Threshold = 0.00. MAE = 0.00, 72 rules\n",
      "Algorithm.GRIDEX. Grid (1). Adaptive ([(0.33, 2), (0.67, 3)]). Threshold = 0.00. MAE = 0.00, 78 rules\n",
      "\n",
      "**********************\n",
      "Best Algorithm.GRIDEX\n",
      "**********************\n",
      "MAE = 0.00, 4 rules\n",
      "Threshold = 0.00\n",
      "Iterations = 1\n",
      "Strategy = Fixed (2)\n",
      "\n",
      "**********************\n",
      "Best   MAE  \n",
      "**********************\n",
      "MAE = 0.00, 72 rules\n",
      "Threshold = 0.00\n",
      "Iterations = 1\n",
      "Strategy = Adaptive ([(0.33, 2), (0.67, 3)])\n",
      "\n",
      "**********************\n",
      "Best N rules\n",
      "**********************\n",
      "MAE = 0.00, 4 rules\n",
      "Threshold = 0.00\n",
      "Iterations = 1\n",
      "Strategy = Fixed (2)\n",
      "\n",
      "GridEx performance (82 rules):\n",
      "MAE = 0.00\n",
      "MAE fidelity = 0.00\n",
      "R2 = 0.99\n",
      "R2 fidelity = 0.99\n",
      "\n",
      "GridEx extracted rules:\n",
      "\n",
      "z(X, Y, 0.7) :-\n",
      "    X in [0.00, 0.50], Y in [0.00, 0.49].\n",
      "z(X, Y, 0.39) :-\n",
      "    X in [0.00, 0.50], Y in [0.49, 0.99].\n",
      "z(X, Y, 0.3) :-\n",
      "    X in [0.50, 0.99], Y in [0.00, 0.49].\n",
      "z(X, Y, 0.0) :-\n",
      "    X in [0.50, 0.99], Y in [0.49, 0.99].\n",
      "z(X, Y, 0.7) :-\n",
      "    X in [0.00, 0.50], Y in [0.00, 0.49].\n",
      "z(X, Y, 0.39) :-\n",
      "    X in [0.00, 0.50], Y in [0.49, 0.99].\n",
      "z(X, Y, 0.3) :-\n",
      "    X in [0.50, 0.99], Y in [0.00, 0.49].\n",
      "z(X, Y, 0.0) :-\n",
      "    X in [0.50, 0.99], Y in [0.49, 0.99].\n",
      "z(X, Y, 0.7) :-\n",
      "    X in [0.00, 0.33], Y in [0.00, 0.33].\n",
      "z(X, Y, 0.54) :-\n",
      "    X in [0.00, 0.33], Y in [0.33, 0.66].\n",
      "z(X, Y, 0.4) :-\n",
      "    X in [0.00, 0.33], Y in [0.66, 0.99].\n",
      "z(X, Y, 0.48) :-\n",
      "    X in [0.33, 0.66], Y in [0.00, 0.33].\n",
      "z(X, Y, 0.37) :-\n",
      "    X in [0.33, 0.66], Y in [0.33, 0.66].\n",
      "z(X, Y, 0.17) :-\n",
      "    X in [0.33, 0.66], Y in [0.66, 0.99].\n",
      "z(X, Y, 0.3) :-\n",
      "    X in [0.66, 0.99], Y in [0.00, 0.33].\n",
      "z(X, Y, 0.14) :-\n",
      "    X in [0.66, 0.99], Y in [0.33, 0.66].\n",
      "z(X, Y, 0.0) :-\n",
      "    X in [0.66, 0.99], Y in [0.66, 0.99].\n",
      "z(X, Y, 0.7) :-\n",
      "    X in [0.00, 0.33], Y in [0.00, 0.33].\n",
      "z(X, Y, 0.54) :-\n",
      "    X in [0.00, 0.33], Y in [0.33, 0.66].\n",
      "z(X, Y, 0.4) :-\n",
      "    X in [0.00, 0.33], Y in [0.66, 0.99].\n",
      "z(X, Y, 0.48) :-\n",
      "    X in [0.33, 0.66], Y in [0.00, 0.33].\n",
      "z(X, Y, 0.37) :-\n",
      "    X in [0.33, 0.66], Y in [0.33, 0.66].\n",
      "z(X, Y, 0.17) :-\n",
      "    X in [0.33, 0.66], Y in [0.66, 0.99].\n",
      "z(X, Y, 0.3) :-\n",
      "    X in [0.66, 0.99], Y in [0.00, 0.33].\n",
      "z(X, Y, 0.14) :-\n",
      "    X in [0.66, 0.99], Y in [0.33, 0.66].\n",
      "z(X, Y, 0.0) :-\n",
      "    X in [0.66, 0.99], Y in [0.66, 0.99].\n",
      "z(X, Y, 0.55) :-\n",
      "    X in [0.00, 0.50], Y in [0.00, 0.99].\n",
      "z(X, Y, 0.14) :-\n",
      "    X in [0.50, 0.99], Y in [0.00, 0.99].\n",
      "z(X, Y, 0.55) :-\n",
      "    X in [0.00, 0.50], Y in [0.00, 0.99].\n",
      "z(X, Y, 0.14) :-\n",
      "    X in [0.50, 0.99], Y in [0.00, 0.99].\n",
      "z(X, Y, 0.55) :-\n",
      "    X in [0.00, 0.33], Y in [0.00, 0.99].\n",
      "z(X, Y, 0.35) :-\n",
      "    X in [0.33, 0.66], Y in [0.00, 0.99].\n",
      "z(X, Y, 0.14) :-\n",
      "    X in [0.66, 0.99], Y in [0.00, 0.99].\n",
      "z(X, Y, 0.55) :-\n",
      "    X in [0.00, 0.33], Y in [0.00, 0.99].\n",
      "z(X, Y, 0.35) :-\n",
      "    X in [0.33, 0.66], Y in [0.00, 0.99].\n",
      "z(X, Y, 0.14) :-\n",
      "    X in [0.66, 0.99], Y in [0.00, 0.99].\n",
      "z(X, Y, 0.56) :-\n",
      "    X in [0.00, 0.20], Y in [0.00, 0.99].\n",
      "z(X, Y, 0.55) :-\n",
      "    X in [0.20, 0.40], Y in [0.00, 0.99].\n",
      "z(X, Y, 0.37) :-\n",
      "    X in [0.40, 0.60], Y in [0.00, 0.99].\n",
      "z(X, Y, 0.14) :-\n",
      "    X in [0.60, 0.80], Y in [0.00, 0.99].\n",
      "z(X, Y, 0.14) :-\n",
      "    X in [0.80, 0.99], Y in [0.00, 0.99].\n",
      "z(X, Y, 0.56) :-\n",
      "    X in [0.00, 0.20], Y in [0.00, 0.99].\n",
      "z(X, Y, 0.55) :-\n",
      "    X in [0.20, 0.40], Y in [0.00, 0.99].\n",
      "z(X, Y, 0.37) :-\n",
      "    X in [0.40, 0.60], Y in [0.00, 0.99].\n",
      "z(X, Y, 0.14) :-\n",
      "    X in [0.60, 0.80], Y in [0.00, 0.99].\n",
      "z(X, Y, 0.14) :-\n",
      "    X in [0.80, 0.99], Y in [0.00, 0.99].\n",
      "z(X, Y, 0.56) :-\n",
      "    X in [0.00, 0.10], Y in [0.00, 0.99].\n",
      "z(X, Y, 0.54) :-\n",
      "    X in [0.10, 0.20], Y in [0.00, 0.99].\n",
      "z(X, Y, 0.54) :-\n",
      "    X in [0.20, 0.30], Y in [0.00, 0.99].\n",
      "z(X, Y, 0.55) :-\n",
      "    X in [0.30, 0.40], Y in [0.00, 0.99].\n",
      "z(X, Y, 0.55) :-\n",
      "    X in [0.40, 0.50], Y in [0.00, 0.99].\n",
      "z(X, Y, 0.15) :-\n",
      "    X in [0.50, 0.60], Y in [0.00, 0.99].\n",
      "z(X, Y, 0.15) :-\n",
      "    X in [0.60, 0.70], Y in [0.00, 0.99].\n",
      "z(X, Y, 0.13) :-\n",
      "    X in [0.70, 0.80], Y in [0.00, 0.99].\n",
      "z(X, Y, 0.14) :-\n",
      "    X in [0.80, 0.89], Y in [0.00, 0.99].\n",
      "z(X, Y, 0.14) :-\n",
      "    X in [0.89, 0.99], Y in [0.00, 0.99].\n",
      "z(X, Y, 0.56) :-\n",
      "    X in [0.00, 0.10], Y in [0.00, 0.99].\n",
      "z(X, Y, 0.54) :-\n",
      "    X in [0.10, 0.20], Y in [0.00, 0.99].\n",
      "z(X, Y, 0.54) :-\n",
      "    X in [0.20, 0.30], Y in [0.00, 0.99].\n",
      "z(X, Y, 0.55) :-\n",
      "    X in [0.30, 0.40], Y in [0.00, 0.99].\n",
      "z(X, Y, 0.55) :-\n",
      "    X in [0.40, 0.50], Y in [0.00, 0.99].\n",
      "z(X, Y, 0.15) :-\n",
      "    X in [0.50, 0.60], Y in [0.00, 0.99].\n",
      "z(X, Y, 0.15) :-\n",
      "    X in [0.60, 0.70], Y in [0.00, 0.99].\n",
      "z(X, Y, 0.13) :-\n",
      "    X in [0.70, 0.80], Y in [0.00, 0.99].\n",
      "z(X, Y, 0.14) :-\n",
      "    X in [0.80, 0.89], Y in [0.00, 0.99].\n",
      "z(X, Y, 0.14) :-\n",
      "    X in [0.89, 0.99], Y in [0.00, 0.99].\n",
      "z(X, Y, 0.7) :-\n",
      "    X in [0.00, 0.33], Y in [0.00, 0.49].\n",
      "z(X, Y, 0.4) :-\n",
      "    X in [0.00, 0.33], Y in [0.49, 0.99].\n",
      "z(X, Y, 0.52) :-\n",
      "    X in [0.33, 0.66], Y in [0.00, 0.49].\n",
      "z(X, Y, 0.17) :-\n",
      "    X in [0.33, 0.66], Y in [0.49, 0.99].\n",
      "z(X, Y, 0.29) :-\n",
      "    X in [0.66, 0.99], Y in [0.00, 0.49].\n",
      "z(X, Y, 0.0) :-\n",
      "    X in [0.66, 0.99], Y in [0.49, 0.99].\n",
      "z(X, Y, 0.7) :-\n",
      "    X in [0.00, 0.33], Y in [0.00, 0.49].\n",
      "z(X, Y, 0.4) :-\n",
      "    X in [0.00, 0.33], Y in [0.49, 0.99].\n",
      "z(X, Y, 0.52) :-\n",
      "    X in [0.33, 0.66], Y in [0.00, 0.49].\n",
      "z(X, Y, 0.17) :-\n",
      "    X in [0.33, 0.66], Y in [0.49, 0.99].\n",
      "z(X, Y, 0.29) :-\n",
      "    X in [0.66, 0.99], Y in [0.00, 0.49].\n",
      "z(X, Y, 0.0) :-\n",
      "    X in [0.66, 0.99], Y in [0.49, 0.99].\n",
      "z(X, Y, 0.7) :-\n",
      "    X in [0.00, 0.50], Y in [0.00, 0.49].\n",
      "z(X, Y, 0.39) :-\n",
      "    X in [0.00, 0.50], Y in [0.49, 0.99].\n",
      "z(X, Y, 0.3) :-\n",
      "    X in [0.50, 0.99], Y in [0.00, 0.49].\n",
      "z(X, Y, 0.0) :-\n",
      "    X in [0.50, 0.99], Y in [0.49, 0.99].\n"
     ]
    }
   ],
   "source": [
    "pedro = PEDRO(predictor, train, max_mae_increase=1.2, min_rule_decrease=0.9, readability_tradeoff=0.1,\n",
    "              max_depth=1, patience=1, algorithm=PEDRO.Algorithm.GRIDEX, objective=Objective.MODEL,\n",
    "              normalization=normalization)\n",
    "pedro.search()\n",
    "(_, _, threshold, grid) = pedro.get_best()[0]\n",
    "\n",
    "gridEx = Extractor.gridex(predictor, grid, threshold=threshold, normalization=normalization)\n",
    "theory_from_gridEx = gridEx.extract(train)\n",
    "evaluate('GridEx', gridEx, true, predicted)\n",
    "print('GridEx extracted rules:\\n\\n' + pretty_theory(theory_from_gridEx))"
   ]
  },
  {
   "cell_type": "code",
   "execution_count": 13,
   "metadata": {
    "collapsed": false,
    "pycharm": {
     "name": "#%%\n"
    }
   },
   "outputs": [
    {
     "name": "stdout",
     "output_type": "stream",
     "text": [
      "**********************\n",
      "Best Algorithm.GRIDEX\n",
      "**********************\n",
      "MAE = 0.00, 4 rules\n",
      "Threshold = 0.00\n",
      "Iterations = 1\n",
      "Strategy = Fixed (2)\n",
      "\n",
      "**********************\n",
      "Best   MAE  \n",
      "**********************\n",
      "MAE = 0.00, 72 rules\n",
      "Threshold = 0.00\n",
      "Iterations = 1\n",
      "Strategy = Adaptive ([(0.33, 2), (0.67, 3)])\n",
      "\n",
      "**********************\n",
      "Best N rules\n",
      "**********************\n",
      "MAE = 0.00, 4 rules\n",
      "Threshold = 0.00\n",
      "Iterations = 1\n",
      "Strategy = Fixed (2)\n",
      "\n",
      "GridREx performance (86 rules):\n",
      "MAE = 0.00\n",
      "MAE fidelity = 0.00\n",
      "R2 = 0.99\n",
      "R2 fidelity = 0.99\n",
      "\n",
      "GridREx extracted rules:\n",
      "\n",
      "z(X, Y, 0.7) :-\n",
      "    X in [0.00, 0.50], Y in [0.00, 0.49].\n",
      "z(X, Y, 0.39) :-\n",
      "    X in [0.00, 0.50], Y in [0.49, 0.99].\n",
      "z(X, Y, 0.3) :-\n",
      "    X in [0.50, 0.99], Y in [0.00, 0.49].\n",
      "z(X, Y, 0.0) :-\n",
      "    X in [0.50, 0.99], Y in [0.49, 0.99].\n",
      "z(X, Y, 0.7) :-\n",
      "    X in [0.00, 0.50], Y in [0.00, 0.49].\n",
      "z(X, Y, 0.39) :-\n",
      "    X in [0.00, 0.50], Y in [0.49, 0.99].\n",
      "z(X, Y, 0.3) :-\n",
      "    X in [0.50, 0.99], Y in [0.00, 0.49].\n",
      "z(X, Y, 0.0) :-\n",
      "    X in [0.50, 0.99], Y in [0.49, 0.99].\n",
      "z(X, Y, 0.7) :-\n",
      "    X in [0.00, 0.33], Y in [0.00, 0.33].\n",
      "z(X, Y, 0.54) :-\n",
      "    X in [0.00, 0.33], Y in [0.33, 0.66].\n",
      "z(X, Y, 0.4) :-\n",
      "    X in [0.00, 0.33], Y in [0.66, 0.99].\n",
      "z(X, Y, 0.48) :-\n",
      "    X in [0.33, 0.66], Y in [0.00, 0.33].\n",
      "z(X, Y, 0.37) :-\n",
      "    X in [0.33, 0.66], Y in [0.33, 0.66].\n",
      "z(X, Y, 0.17) :-\n",
      "    X in [0.33, 0.66], Y in [0.66, 0.99].\n",
      "z(X, Y, 0.3) :-\n",
      "    X in [0.66, 0.99], Y in [0.00, 0.33].\n",
      "z(X, Y, 0.14) :-\n",
      "    X in [0.66, 0.99], Y in [0.33, 0.66].\n",
      "z(X, Y, 0.0) :-\n",
      "    X in [0.66, 0.99], Y in [0.66, 0.99].\n",
      "z(X, Y, 0.7) :-\n",
      "    X in [0.00, 0.33], Y in [0.00, 0.33].\n",
      "z(X, Y, 0.54) :-\n",
      "    X in [0.00, 0.33], Y in [0.33, 0.66].\n",
      "z(X, Y, 0.4) :-\n",
      "    X in [0.00, 0.33], Y in [0.66, 0.99].\n",
      "z(X, Y, 0.48) :-\n",
      "    X in [0.33, 0.66], Y in [0.00, 0.33].\n",
      "z(X, Y, 0.37) :-\n",
      "    X in [0.33, 0.66], Y in [0.33, 0.66].\n",
      "z(X, Y, 0.17) :-\n",
      "    X in [0.33, 0.66], Y in [0.66, 0.99].\n",
      "z(X, Y, 0.3) :-\n",
      "    X in [0.66, 0.99], Y in [0.00, 0.33].\n",
      "z(X, Y, 0.14) :-\n",
      "    X in [0.66, 0.99], Y in [0.33, 0.66].\n",
      "z(X, Y, 0.0) :-\n",
      "    X in [0.66, 0.99], Y in [0.66, 0.99].\n",
      "z(X, Y, 0.55) :-\n",
      "    X in [0.00, 0.50], Y in [0.00, 0.99].\n",
      "z(X, Y, 0.14) :-\n",
      "    X in [0.50, 0.99], Y in [0.00, 0.99].\n",
      "z(X, Y, 0.55) :-\n",
      "    X in [0.00, 0.50], Y in [0.00, 0.99].\n",
      "z(X, Y, 0.14) :-\n",
      "    X in [0.50, 0.99], Y in [0.00, 0.99].\n",
      "z(X, Y, 0.55) :-\n",
      "    X in [0.00, 0.33], Y in [0.00, 0.99].\n",
      "z(X, Y, 0.35) :-\n",
      "    X in [0.33, 0.66], Y in [0.00, 0.99].\n",
      "z(X, Y, 0.14) :-\n",
      "    X in [0.66, 0.99], Y in [0.00, 0.99].\n",
      "z(X, Y, 0.55) :-\n",
      "    X in [0.00, 0.33], Y in [0.00, 0.99].\n",
      "z(X, Y, 0.35) :-\n",
      "    X in [0.33, 0.66], Y in [0.00, 0.99].\n",
      "z(X, Y, 0.14) :-\n",
      "    X in [0.66, 0.99], Y in [0.00, 0.99].\n",
      "z(X, Y, 0.56) :-\n",
      "    X in [0.00, 0.20], Y in [0.00, 0.99].\n",
      "z(X, Y, 0.55) :-\n",
      "    X in [0.20, 0.40], Y in [0.00, 0.99].\n",
      "z(X, Y, 0.37) :-\n",
      "    X in [0.40, 0.60], Y in [0.00, 0.99].\n",
      "z(X, Y, 0.14) :-\n",
      "    X in [0.60, 0.80], Y in [0.00, 0.99].\n",
      "z(X, Y, 0.14) :-\n",
      "    X in [0.80, 0.99], Y in [0.00, 0.99].\n",
      "z(X, Y, 0.56) :-\n",
      "    X in [0.00, 0.20], Y in [0.00, 0.99].\n",
      "z(X, Y, 0.55) :-\n",
      "    X in [0.20, 0.40], Y in [0.00, 0.99].\n",
      "z(X, Y, 0.37) :-\n",
      "    X in [0.40, 0.60], Y in [0.00, 0.99].\n",
      "z(X, Y, 0.14) :-\n",
      "    X in [0.60, 0.80], Y in [0.00, 0.99].\n",
      "z(X, Y, 0.14) :-\n",
      "    X in [0.80, 0.99], Y in [0.00, 0.99].\n",
      "z(X, Y, 0.56) :-\n",
      "    X in [0.00, 0.10], Y in [0.00, 0.99].\n",
      "z(X, Y, 0.54) :-\n",
      "    X in [0.10, 0.20], Y in [0.00, 0.99].\n",
      "z(X, Y, 0.54) :-\n",
      "    X in [0.20, 0.30], Y in [0.00, 0.99].\n",
      "z(X, Y, 0.55) :-\n",
      "    X in [0.30, 0.40], Y in [0.00, 0.99].\n",
      "z(X, Y, 0.55) :-\n",
      "    X in [0.40, 0.50], Y in [0.00, 0.99].\n",
      "z(X, Y, 0.15) :-\n",
      "    X in [0.50, 0.60], Y in [0.00, 0.99].\n",
      "z(X, Y, 0.15) :-\n",
      "    X in [0.60, 0.70], Y in [0.00, 0.99].\n",
      "z(X, Y, 0.13) :-\n",
      "    X in [0.70, 0.80], Y in [0.00, 0.99].\n",
      "z(X, Y, 0.14) :-\n",
      "    X in [0.80, 0.89], Y in [0.00, 0.99].\n",
      "z(X, Y, 0.14) :-\n",
      "    X in [0.89, 0.99], Y in [0.00, 0.99].\n",
      "z(X, Y, 0.56) :-\n",
      "    X in [0.00, 0.10], Y in [0.00, 0.99].\n",
      "z(X, Y, 0.54) :-\n",
      "    X in [0.10, 0.20], Y in [0.00, 0.99].\n",
      "z(X, Y, 0.54) :-\n",
      "    X in [0.20, 0.30], Y in [0.00, 0.99].\n",
      "z(X, Y, 0.55) :-\n",
      "    X in [0.30, 0.40], Y in [0.00, 0.99].\n",
      "z(X, Y, 0.55) :-\n",
      "    X in [0.40, 0.50], Y in [0.00, 0.99].\n",
      "z(X, Y, 0.15) :-\n",
      "    X in [0.50, 0.60], Y in [0.00, 0.99].\n",
      "z(X, Y, 0.15) :-\n",
      "    X in [0.60, 0.70], Y in [0.00, 0.99].\n",
      "z(X, Y, 0.13) :-\n",
      "    X in [0.70, 0.80], Y in [0.00, 0.99].\n",
      "z(X, Y, 0.14) :-\n",
      "    X in [0.80, 0.89], Y in [0.00, 0.99].\n",
      "z(X, Y, 0.14) :-\n",
      "    X in [0.89, 0.99], Y in [0.00, 0.99].\n",
      "z(X, Y, 0.7) :-\n",
      "    X in [0.00, 0.33], Y in [0.00, 0.49].\n",
      "z(X, Y, 0.4) :-\n",
      "    X in [0.00, 0.33], Y in [0.49, 0.99].\n",
      "z(X, Y, 0.52) :-\n",
      "    X in [0.33, 0.66], Y in [0.00, 0.49].\n",
      "z(X, Y, 0.17) :-\n",
      "    X in [0.33, 0.66], Y in [0.49, 0.99].\n",
      "z(X, Y, 0.29) :-\n",
      "    X in [0.66, 0.99], Y in [0.00, 0.49].\n",
      "z(X, Y, 0.0) :-\n",
      "    X in [0.66, 0.99], Y in [0.49, 0.99].\n",
      "z(X, Y, 0.7) :-\n",
      "    X in [0.00, 0.33], Y in [0.00, 0.49].\n",
      "z(X, Y, 0.4) :-\n",
      "    X in [0.00, 0.33], Y in [0.49, 0.99].\n",
      "z(X, Y, 0.52) :-\n",
      "    X in [0.33, 0.66], Y in [0.00, 0.49].\n",
      "z(X, Y, 0.17) :-\n",
      "    X in [0.33, 0.66], Y in [0.49, 0.99].\n",
      "z(X, Y, 0.29) :-\n",
      "    X in [0.66, 0.99], Y in [0.00, 0.49].\n",
      "z(X, Y, 0.0) :-\n",
      "    X in [0.66, 0.99], Y in [0.49, 0.99].\n",
      "z(X, Y, 0.7) :-\n",
      "    X in [0.00, 0.50], Y in [0.00, 0.49].\n",
      "z(X, Y, 0.39) :-\n",
      "    X in [0.00, 0.50], Y in [0.49, 0.99].\n",
      "z(X, Y, 0.3) :-\n",
      "    X in [0.50, 0.99], Y in [0.00, 0.49].\n",
      "z(X, Y, 0.0) :-\n",
      "    X in [0.50, 0.99], Y in [0.49, 0.99].\n",
      "z(X, Y, Z) :-\n",
      "    X in [0.00, 0.50], Y in [0.00, 0.49], Z is 0.7.\n",
      "z(X, Y, Z) :-\n",
      "    X in [0.00, 0.50], Y in [0.49, 0.99], Z is 0.40 - 0.07 * X + 0.00 * Y.\n",
      "z(X, Y, Z) :-\n",
      "    X in [0.50, 0.99], Y in [0.00, 0.49], Z is 0.3.\n",
      "z(X, Y, Z) :-\n",
      "    X in [0.50, 0.99], Y in [0.49, 0.99], Z is 0.0.\n"
     ]
    }
   ],
   "source": [
    "#pedro = PEDRO(predictor, train, max_mae_increase=1.2, min_rule_decrease=0.9, readability_tradeoff=0.1,\n",
    "#              max_depth=2, patience=1, algorithm=PEDRO.Algorithm.GRIDREX, objective=Objective.MODEL)\n",
    "#pedro.search()\n",
    "(_, _, threshold, grid) = pedro.get_best()[0]\n",
    "\n",
    "gridREx = Extractor.gridrex(predictor, grid, threshold=threshold, normalization=normalization)\n",
    "theory_from_gridREx = gridREx.extract(train)\n",
    "evaluate('GridREx', gridREx, true, predicted)\n",
    "print('GridREx extracted rules:\\n\\n' + pretty_theory(theory_from_gridREx))"
   ]
  },
  {
   "cell_type": "code",
   "execution_count": 14,
   "metadata": {
    "collapsed": false,
    "pycharm": {
     "name": "#%%\n"
    }
   },
   "outputs": [
    {
     "name": "stdout",
     "output_type": "stream",
     "text": [
      "CART performance (4 rules):\n",
      "MAE = 0.00\n",
      "MAE fidelity = 0.00\n",
      "R2 = 1.00\n",
      "R2 fidelity = 1.00\n",
      "\n",
      "CART extracted rules:\n",
      "\n",
      "z(X, Y, 0.3) :-\n",
      "    X > 0.50, Y =< 0.49.\n",
      "z(X, Y, 0.0) :-\n",
      "    X > 0.50, Y > 0.49.\n",
      "z(X, Y, 0.7) :-\n",
      "    Y =< 0.50.\n",
      "z(X, Y, 0.4).\n"
     ]
    }
   ],
   "source": [
    "cart = Extractor.cart(predictor, max_depth=4, max_leaves=4, simplify=True, normalization=normalization)\n",
    "theory_from_cart = cart.extract(train)\n",
    "evaluate('CART', cart, true, predicted)\n",
    "print('CART extracted rules:\\n\\n' + pretty_theory(theory_from_cart))"
   ]
  }
 ],
 "metadata": {
  "kernelspec": {
   "display_name": "Python 3",
   "language": "python",
   "name": "python3"
  },
  "language_info": {
   "codemirror_mode": {
    "name": "ipython",
    "version": 3
   },
   "file_extension": ".py",
   "mimetype": "text/x-python",
   "name": "python",
   "nbconvert_exporter": "python",
   "pygments_lexer": "ipython3",
   "version": "3.9.7"
  }
 },
 "nbformat": 4,
 "nbformat_minor": 5
}