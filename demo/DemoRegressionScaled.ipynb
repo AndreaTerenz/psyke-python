{
 "cells": [
  {
   "cell_type": "code",
   "execution_count": 12,
   "id": "6b710e7c",
   "metadata": {},
   "outputs": [],
   "source": [
    "from sklearn.neighbors import KNeighborsRegressor as KNN\n",
    "from sklearn.preprocessing import StandardScaler\n",
    "\n",
    "from joblib import dump, load\n",
    "import pandas as pd\n",
    "import numpy as np\n",
    "\n",
    "from psyke import Extractor, Clustering, Target\n",
    "from psyke.extraction.hypercubic.strategy import AdaptiveStrategy\n",
    "from psyke.extraction.hypercubic import Grid, FeatureRanker\n",
    "from psyke.utils.logic import pretty_theory\n",
    "\n",
    "from plot import *"
   ]
  },
  {
   "cell_type": "code",
   "execution_count": 2,
   "outputs": [],
   "source": [
    "def getTrainTest(data, testB):\n",
    "    b = bartels[bartels.n==testB]\n",
    "    t0, t1 = b.t0.values[0], b.t1.values[0]\n",
    "    idx = (data.index >= t0) & (data.index < t1)\n",
    "    return data[~idx], data[idx]\n",
    "\n",
    "def getScaler(train, name):\n",
    "    scaler = StandardScaler().fit(train)\n",
    "    dump(scaler, f\"scalers/scalerV{name}.joblib\")\n",
    "    normalization = {key: (m, s) for key, m, s in zip(train.columns, scaler.mean_, scaler.scale_)}\n",
    "    return scaler, pd.DataFrame(scaler.transform(train), columns=train.columns), normalization"
   ],
   "metadata": {
    "collapsed": false,
    "pycharm": {
     "name": "#%%\n"
    }
   }
  },
  {
   "cell_type": "code",
   "execution_count": 3,
   "outputs": [],
   "source": [
    "def gridex(model, train, test, normalization):\n",
    "    ranked = FeatureRanker(train.columns).fit(model, train.iloc[:, :-1]).rankings()\n",
    "    gridEx = Extractor.gridex(model, Grid(1, AdaptiveStrategy(ranked, [(0.6, 3), (0.75, 4)])),\n",
    "                              threshold=5, min_examples=1, normalization=normalization)\n",
    "    gridEx.extract(train)\n",
    "    return gridEx.brute_predict(test), gridEx.n_rules, sum([p is None for p in gridEx.predict(test)])\n",
    "    \n",
    "def gridrex(model, train, test, normalization):\n",
    "    ranked = FeatureRanker(train.columns).fit(model, train.iloc[:, :-1]).rankings()\n",
    "    gridREx = Extractor.gridrex(model, Grid(1, AdaptiveStrategy(ranked, [(0.5, 3)])),\n",
    "                                threshold=5, min_examples=1, normalization=normalization)\n",
    "    gridREx.extract(train)\n",
    "    return gridREx.brute_predict(test), gridREx.n_rules, sum([p is None for p in gridREx.predict(test)])\n",
    "\n",
    "def cart(model, train, test, normalization):\n",
    "    CART = Extractor.cart(model, max_depth=5, max_leaves=7, normalization=normalization)\n",
    "    CART.extract(train)\n",
    "    return CART.predict(test), CART.n_rules, sum([p is None for p in CART.predict(test)])\n",
    "\n",
    "def cosmik(model, train, test, normalization):\n",
    "    COSMiK = Extractor.cosmik(model, max_components=10, k=100, patience=10, close_to_center=True,\n",
    "                              output=Target.CONSTANT, normalization=normalization)\n",
    "    COSMiK.extract(train)\n",
    "    return COSMiK.brute_predict(test), COSMiK.n_rules, sum([p is None for p in COSMiK.predict(test)])\n",
    "\n",
    "def creepy(model, train, test, normalization):\n",
    "    CReEPy = Extractor.creepy(model, clustering=Clustering.cream, depth=5, error_threshold=5, gauss_components=10,\n",
    "                              output=Target.REGRESSION, normalization=normalization)\n",
    "    CReEPy.extract(train)\n",
    "    return CReEPy.brute_predict(test), CReEPy.n_rules, sum([p is None for p in CReEPy.predict(test)])"
   ],
   "metadata": {
    "collapsed": false,
    "pycharm": {
     "name": "#%%\n"
    }
   }
  },
  {
   "cell_type": "code",
   "execution_count": 4,
   "outputs": [
    {
     "name": "stdout",
     "output_type": "stream",
     "text": [
      "2491\n",
      "GridEx\n",
      "GridREx\n",
      "CART\n",
      "COSMiK\n",
      "CReEPy\n",
      "2492\n",
      "GridEx\n",
      "GridREx\n",
      "CART\n",
      "COSMiK\n",
      "CReEPy\n",
      "2493\n",
      "GridEx\n",
      "GridREx\n",
      "CART\n",
      "COSMiK\n",
      "CReEPy\n",
      "2494\n",
      "GridEx\n",
      "GridREx\n",
      "CART\n",
      "COSMiK\n",
      "CReEPy\n",
      "2495\n",
      "GridEx\n",
      "GridREx\n",
      "CART\n",
      "COSMiK\n",
      "CReEPy\n",
      "2496\n",
      "GridEx\n",
      "GridREx\n",
      "CART\n",
      "COSMiK\n",
      "CReEPy\n",
      "2497\n",
      "GridEx\n",
      "GridREx\n",
      "CART\n",
      "COSMiK\n",
      "CReEPy\n",
      "2498\n",
      "GridEx\n",
      "GridREx\n",
      "CART\n",
      "COSMiK\n",
      "CReEPy\n",
      "2499\n",
      "GridEx\n",
      "GridREx\n",
      "CART\n",
      "COSMiK\n",
      "CReEPy\n",
      "2500\n",
      "GridEx\n",
      "GridREx\n",
      "CART\n",
      "COSMiK\n",
      "CReEPy\n",
      "2501\n",
      "GridEx\n",
      "GridREx\n",
      "CART\n",
      "COSMiK\n",
      "CReEPy\n",
      "2502\n",
      "GridEx\n",
      "GridREx\n",
      "CART\n",
      "COSMiK\n",
      "CReEPy\n",
      "2503\n",
      "GridEx\n",
      "GridREx\n",
      "CART\n",
      "COSMiK\n",
      "CReEPy\n",
      "2504\n",
      "GridEx\n",
      "GridREx\n",
      "CART\n",
      "COSMiK\n",
      "CReEPy\n",
      "2505\n",
      "GridEx\n",
      "GridREx\n",
      "CART\n",
      "COSMiK\n",
      "CReEPy\n",
      "2506\n",
      "GridEx\n",
      "GridREx\n",
      "CART\n",
      "COSMiK\n",
      "CReEPy\n",
      "2507\n",
      "GridEx\n",
      "GridREx\n",
      "CART\n",
      "COSMiK\n",
      "CReEPy\n",
      "2508\n",
      "GridEx\n",
      "GridREx\n",
      "CART\n",
      "COSMiK\n",
      "CReEPy\n"
     ]
    }
   ],
   "source": [
    "bartels = pd.read_csv(\"data/bartels.csv\", parse_dates = [1, 2])\n",
    "\n",
    "extractors = ['GridEx', 'GridREx', 'CART', 'COSMiK', 'CReEPy']\n",
    "\n",
    "TESTB = [i for i in range(2491, 2509)]\n",
    "\n",
    "predicted = {name: [] for name in ['index', 'V', 'model'] + extractors}\n",
    "\n",
    "rules = {name: [] for name in ['BR'] + extractors}\n",
    "\n",
    "missed = {name: [] for name in ['BR'] + extractors}\n",
    "\n",
    "for testB in TESTB:\n",
    "    rules['BR'].append(testB)\n",
    "    missed['BR'].append(testB)\n",
    "    print(testB)\n",
    "\n",
    "    data = pd.read_csv(f'data/halffuzzycoefs2B.csv', parse_dates=[0], index_col=0)\n",
    "    train, test = getTrainTest(data, testB)\n",
    "\n",
    "    predicted['index'] += list(test.index.values)\n",
    "    predicted['V'] += list(test.V.values)\n",
    "\n",
    "    scaler, scaledTrain, normalization = getScaler(train, f\"test{testB}\")\n",
    "    scaledTest = pd.DataFrame(scaler.transform(test), columns=test.columns).iloc[:, :-1]\n",
    "    m, s = normalization[test.columns[-1]]\n",
    "\n",
    "    model = KNN(200, weights='distance', p=1).fit(scaledTrain.iloc[:, :-1], scaledTrain.iloc[:, -1])\n",
    "    #dump(model, f\"models/RF/{k}_{name}_{testB}.joblib\")\n",
    "    predicted['model'] += list(model.predict(scaledTest) * s + m)\n",
    "\n",
    "    for name, fun in zip(extractors, [gridex, gridrex, cart, cosmik, creepy]):\n",
    "        print(name)\n",
    "        #if name in ['GridREx', 'CART', 'COSMiK']:\n",
    "        #    continue\n",
    "        pred, n, miss = fun(model, scaledTrain, scaledTest, normalization)\n",
    "        predicted[name] += list(pred)\n",
    "        rules[name].append(n)\n",
    "        missed[name].append(miss)"
   ],
   "metadata": {
    "collapsed": false,
    "pycharm": {
     "name": "#%%\n"
    }
   }
  },
  {
   "cell_type": "code",
   "execution_count": 39,
   "outputs": [],
   "source": [
    "pd.DataFrame(predicted).to_csv(\"results/pred1.csv\")\n",
    "pd.DataFrame(rules).to_csv('results/rules1.csv')\n",
    "pd.DataFrame(missed).to_csv('results/missed1.csv')"
   ],
   "metadata": {
    "collapsed": false,
    "pycharm": {
     "name": "#%%\n"
    }
   }
  },
  {
   "cell_type": "code",
   "execution_count": 38,
   "outputs": [
    {
     "data": {
      "text/plain": "      BR  GridEx  GridREx  CART  COSMiK  CReEPy\n0   2491       1       13     7       5       2\n1   2492      14       14     7       6       2\n2   2493       1       14     7       7       2\n3   2494       3       14     7       5       2\n4   2495      21       14     7       7       2\n5   2496      25        8     7       7       2\n6   2497      21       37     7       7       2\n7   2498       3       12     7       8       2\n8   2499       5       14     7       9       2\n9   2500       1       13     7       6       2\n10  2501       3       14     7       5       2\n11  2502       3       14     7       4       2\n12  2503       1        5     7       4       2\n13  2504       3       14     7       7       2\n14  2505       3       14     7       6       2\n15  2506       3       14     7       7       2\n16  2507       4       12     7       7       2\n17  2508       1        5     7       6       2",
      "text/html": "<div>\n<style scoped>\n    .dataframe tbody tr th:only-of-type {\n        vertical-align: middle;\n    }\n\n    .dataframe tbody tr th {\n        vertical-align: top;\n    }\n\n    .dataframe thead th {\n        text-align: right;\n    }\n</style>\n<table border=\"1\" class=\"dataframe\">\n  <thead>\n    <tr style=\"text-align: right;\">\n      <th></th>\n      <th>BR</th>\n      <th>GridEx</th>\n      <th>GridREx</th>\n      <th>CART</th>\n      <th>COSMiK</th>\n      <th>CReEPy</th>\n    </tr>\n  </thead>\n  <tbody>\n    <tr>\n      <th>0</th>\n      <td>2491</td>\n      <td>1</td>\n      <td>13</td>\n      <td>7</td>\n      <td>5</td>\n      <td>2</td>\n    </tr>\n    <tr>\n      <th>1</th>\n      <td>2492</td>\n      <td>14</td>\n      <td>14</td>\n      <td>7</td>\n      <td>6</td>\n      <td>2</td>\n    </tr>\n    <tr>\n      <th>2</th>\n      <td>2493</td>\n      <td>1</td>\n      <td>14</td>\n      <td>7</td>\n      <td>7</td>\n      <td>2</td>\n    </tr>\n    <tr>\n      <th>3</th>\n      <td>2494</td>\n      <td>3</td>\n      <td>14</td>\n      <td>7</td>\n      <td>5</td>\n      <td>2</td>\n    </tr>\n    <tr>\n      <th>4</th>\n      <td>2495</td>\n      <td>21</td>\n      <td>14</td>\n      <td>7</td>\n      <td>7</td>\n      <td>2</td>\n    </tr>\n    <tr>\n      <th>5</th>\n      <td>2496</td>\n      <td>25</td>\n      <td>8</td>\n      <td>7</td>\n      <td>7</td>\n      <td>2</td>\n    </tr>\n    <tr>\n      <th>6</th>\n      <td>2497</td>\n      <td>21</td>\n      <td>37</td>\n      <td>7</td>\n      <td>7</td>\n      <td>2</td>\n    </tr>\n    <tr>\n      <th>7</th>\n      <td>2498</td>\n      <td>3</td>\n      <td>12</td>\n      <td>7</td>\n      <td>8</td>\n      <td>2</td>\n    </tr>\n    <tr>\n      <th>8</th>\n      <td>2499</td>\n      <td>5</td>\n      <td>14</td>\n      <td>7</td>\n      <td>9</td>\n      <td>2</td>\n    </tr>\n    <tr>\n      <th>9</th>\n      <td>2500</td>\n      <td>1</td>\n      <td>13</td>\n      <td>7</td>\n      <td>6</td>\n      <td>2</td>\n    </tr>\n    <tr>\n      <th>10</th>\n      <td>2501</td>\n      <td>3</td>\n      <td>14</td>\n      <td>7</td>\n      <td>5</td>\n      <td>2</td>\n    </tr>\n    <tr>\n      <th>11</th>\n      <td>2502</td>\n      <td>3</td>\n      <td>14</td>\n      <td>7</td>\n      <td>4</td>\n      <td>2</td>\n    </tr>\n    <tr>\n      <th>12</th>\n      <td>2503</td>\n      <td>1</td>\n      <td>5</td>\n      <td>7</td>\n      <td>4</td>\n      <td>2</td>\n    </tr>\n    <tr>\n      <th>13</th>\n      <td>2504</td>\n      <td>3</td>\n      <td>14</td>\n      <td>7</td>\n      <td>7</td>\n      <td>2</td>\n    </tr>\n    <tr>\n      <th>14</th>\n      <td>2505</td>\n      <td>3</td>\n      <td>14</td>\n      <td>7</td>\n      <td>6</td>\n      <td>2</td>\n    </tr>\n    <tr>\n      <th>15</th>\n      <td>2506</td>\n      <td>3</td>\n      <td>14</td>\n      <td>7</td>\n      <td>7</td>\n      <td>2</td>\n    </tr>\n    <tr>\n      <th>16</th>\n      <td>2507</td>\n      <td>4</td>\n      <td>12</td>\n      <td>7</td>\n      <td>7</td>\n      <td>2</td>\n    </tr>\n    <tr>\n      <th>17</th>\n      <td>2508</td>\n      <td>1</td>\n      <td>5</td>\n      <td>7</td>\n      <td>6</td>\n      <td>2</td>\n    </tr>\n  </tbody>\n</table>\n</div>"
     },
     "execution_count": 38,
     "metadata": {},
     "output_type": "execute_result"
    }
   ],
   "source": [
    "pd.DataFrame(rules)"
   ],
   "metadata": {
    "collapsed": false,
    "pycharm": {
     "name": "#%%\n"
    }
   }
  },
  {
   "cell_type": "code",
   "execution_count": 10,
   "outputs": [
    {
     "name": "stdout",
     "output_type": "stream",
     "text": [
      "89.05338024185028 58.58037289200033\n",
      "1184045968753.4443 1184045968728.9656\n",
      "69.78300681133707 39.32044206472971\n",
      "99.34258321344431 70.77190676931815\n",
      "65.09043620900334 30.05875280438403\n"
     ]
    }
   ],
   "source": [
    "p = pd.DataFrame(predicted)\n",
    "for e in extractors:\n",
    "    print(abs(p.V - p[e]).mean(), abs(p.model - p[e]).mean())"
   ],
   "metadata": {
    "collapsed": false,
    "pycharm": {
     "name": "#%%\n"
    }
   }
  },
  {
   "cell_type": "code",
   "execution_count": 29,
   "outputs": [],
   "source": [
    "def plot(testB, x, pred, extracted):\n",
    "    missing = pd.read_csv(\"data/missing.csv\", parse_dates = [0], index_col = 0)\n",
    "    df = pd.read_csv(\"data/averaged1.csv\", parse_dates = [0], index_col = 0)\n",
    "    df.LPFnorm[missing.index] = np.nan\n",
    "\n",
    "    for i, b in bartels.iterrows():\n",
    "        if b.n != testB:\n",
    "            continue\n",
    "        xminmax = [b.t0, b.t1]\n",
    "\n",
    "        f, axes = plt.subplots(3, figsize=(10, 8)) # l x h\n",
    "\n",
    "        myplot(axes[0], [3, 1], \"LPF\", df.index, df.LPFnorm, xminmax)\n",
    "        myplot(axes[0], [3, 1], \"\", missing.index, missing.LPF0, xminmax, color='r', marker='*', lw=0, size=10)\n",
    "        myplot(axes[1], [3, 2], \"V\", df.index, df.V, xminmax)\n",
    "        myplot(axes[1], [3, 2], \"\", x, pred, xminmax, color='b', marker='.', lw=0)\n",
    "        myplot(axes[1], [3, 2], \"\", x, extracted, xminmax, color='r', marker='.', lw=0)\n",
    "        myplot(axes[2], [3, 3], \"B\", df.index, df.B, xminmax)\n",
    "        plt.subplots_adjust(hspace=0.6)\n",
    "        plt.savefig(f\"plot/{b.n}.jpg\", dpi=96 * 2)\n",
    "        plt.show()"
   ],
   "metadata": {
    "collapsed": false,
    "pycharm": {
     "name": "#%%\n"
    }
   }
  },
  {
   "cell_type": "code",
   "execution_count": 37,
   "outputs": [
    {
     "data": {
      "text/plain": "<Figure size 720x576 with 3 Axes>",
      "image/png": "[encoded data removed]"
     },
     "metadata": {
      "needs_background": "light"
     },
     "output_type": "display_data"
    }
   ],
   "source": [
    "plot(2492, p['index'], p.model, p.GridREx)"
   ],
   "metadata": {
    "collapsed": false,
    "pycharm": {
     "name": "#%%\n"
    }
   }
  },
  {
   "cell_type": "code",
   "execution_count": null,
   "outputs": [],
   "source": [
    "[\n",
    "    ('half2', 1.0),\n",
    "    ('Bmin', 0.9014926374248455),\n",
    "    ('Bmedian', 0.5931779258652916),\n",
    "    ('Bmax', 0.5580664110760513),\n",
    "\n",
    "    ('trend', 0.441328536097858),\n",
    "    ('max', 0.19391808653199277),\n",
    "    ('median', 0.16157357528452515),\n",
    "\n",
    "    ('halfB2', 0.06672545822303622),\n",
    "    ('min', 0.042323799412967836),\n",
    "    ('B', 0.014457395044254808),\n",
    "    ('halfB1', 0.005159557201584083),\n",
    "    ('half1', 0.0023286124765232786),\n",
    "]"
   ],
   "metadata": {
    "collapsed": false,
    "pycharm": {
     "name": "#%%\n"
    }
   }
  },
  {
   "cell_type": "code",
   "execution_count": 15,
   "outputs": [
    {
     "data": {
      "text/plain": "V          454.232082\nmodel      454.416913\nCART2       55.474434\nCART5       39.939136\nCART10      37.642059\nCART25      36.371025\nCART50      39.203983\nCART75      40.454190\nCART100     43.945508\nCART150     47.059375\nCART200     49.097016\nCART250     51.038554\nCART300     51.182619\nCART400     52.651320\nCART500     52.874986\nCART600     53.924574\nName: mean, dtype: float64"
     },
     "execution_count": 15,
     "metadata": {},
     "output_type": "execute_result"
    }
   ],
   "source": [
    "import pandas as pd\n",
    "\n",
    "p = pd.read_csv('results/cartpredpruned.csv')\n",
    "p = p[p.columns[2:]]\n",
    "for c in p.columns[2:]:\n",
    "    p[c] = abs(p[c] - p.model)\n",
    "p.describe().loc['mean']"
   ],
   "metadata": {
    "collapsed": false,
    "pycharm": {
     "name": "#%%\n"
    }
   }
  },
  {
   "cell_type": "code",
   "execution_count": null,
   "outputs": [],
   "source": [],
   "metadata": {
    "collapsed": false,
    "pycharm": {
     "name": "#%%\n"
    }
   }
  }
 ],
 "metadata": {
  "kernelspec": {
   "display_name": "Python 3",
   "language": "python",
   "name": "python3"
  },
  "language_info": {
   "codemirror_mode": {
    "name": "ipython",
    "version": 3
   },
   "file_extension": ".py",
   "mimetype": "text/x-python",
   "name": "python",
   "nbconvert_exporter": "python",
   "pygments_lexer": "ipython3",
   "version": "3.9.7"
  }
 },
 "nbformat": 4,
 "nbformat_minor": 5
}