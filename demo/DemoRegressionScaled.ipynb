{
 "cells": [
  {
   "cell_type": "code",
   "execution_count": 1,
   "id": "6b710e7c",
   "metadata": {},
   "outputs": [],
   "source": [
    "from sklearn.neighbors import KNeighborsRegressor as KNN\n",
    "from sklearn.preprocessing import StandardScaler\n",
    "\n",
    "from joblib import dump, load\n",
    "import pandas as pd\n",
    "import numpy as np\n",
    "\n",
    "from psyke import Extractor, Clustering, Target\n",
    "from psyke.extraction.hypercubic.strategy import AdaptiveStrategy\n",
    "from psyke.extraction.hypercubic import Grid, FeatureRanker\n",
    "from psyke.utils.logic import pretty_theory"
   ]
  },
  {
   "cell_type": "code",
   "execution_count": 2,
   "outputs": [],
   "source": [
    "def getTrainTest(data, testB):\n",
    "    b = bartels[bartels.n==testB]\n",
    "    t0, t1 = b.t0.values[0], b.t1.values[0]\n",
    "    idx = (data.index >= t0) & (data.index < t1)\n",
    "    return data[~idx], data[idx]\n",
    "\n",
    "def getScaler(train, name):\n",
    "    scaler = StandardScaler().fit(train)\n",
    "    dump(scaler, f\"scalers/scalerV{name}.joblib\")\n",
    "    normalization = {key: (m, s) for key, m, s in zip(train.columns, scaler.mean_, scaler.scale_)}\n",
    "    return scaler, pd.DataFrame(scaler.transform(train), columns=train.columns), normalization"
   ],
   "metadata": {
    "collapsed": false,
    "pycharm": {
     "name": "#%%\n"
    }
   }
  },
  {
   "cell_type": "code",
   "execution_count": 3,
   "outputs": [],
   "source": [
    "def gridex(model, train, test, normalization, s, m):\n",
    "    ranked = FeatureRanker(train.columns).fit(model, train.iloc[:, :-1]).rankings()\n",
    "    gridEx = Extractor.gridex(model, Grid(1, AdaptiveStrategy(ranked, [(0.6, 3), (0.75, 4)])),\n",
    "                              threshold=5, min_examples=1, normalization=normalization)\n",
    "    gridEx.extract(train)\n",
    "    return gridEx.brute_predict(test), gridEx.n_rules, sum([p is None for p in gridEx.predict(test)])\n",
    "    \n",
    "def gridrex(model, train, test, normalization, s, m):\n",
    "    ranked = FeatureRanker(train.columns).fit(model, train.iloc[:, :-1]).rankings()\n",
    "    gridREx = Extractor.gridrex(model, Grid(1, AdaptiveStrategy(ranked, [(0.5, 3)])),\n",
    "                                threshold=5, min_examples=1, normalization=normalization)\n",
    "    gridREx.extract(train)\n",
    "    return gridREx.brute_predict(test), gridREx.n_rules, sum([p is None for p in gridREx.predict(test)])\n",
    "\n",
    "def cart(model, train, test, normalization, s, m):\n",
    "    CART = Extractor.cart(model, max_depth=5, max_leaves=7, normalization=normalization)\n",
    "    CART.extract(train)\n",
    "    return CART.predict(test) * s + m, CART.n_rules, sum([p is None for p in CART.predict(test)])\n",
    "\n",
    "def cosmik(model, train, test, normalization, s, m):\n",
    "    COSMiK = Extractor.cosmik(model, max_components=10, k=100, patience=10, close_to_center=True,\n",
    "                              output=Target.CONSTANT, normalization=normalization)\n",
    "    COSMiK.extract(train)\n",
    "    return COSMiK.brute_predict(test), COSMiK.n_rules, sum([p is None for p in COSMiK.predict(test)])\n",
    "\n",
    "def creepy(model, train, test, normalization, s, m):\n",
    "    CReEPy = Extractor.creepy(model, clustering=Clustering.cream, depth=5, error_threshold=5, gauss_components=10,\n",
    "                              output=Target.REGRESSION, normalization=normalization)\n",
    "    CReEPy.extract(train)\n",
    "    return CReEPy.brute_predict(test), CReEPy.n_rules, sum([p is None for p in CReEPy.predict(test)])"
   ],
   "metadata": {
    "collapsed": false,
    "pycharm": {
     "name": "#%%\n"
    }
   }
  },
  {
   "cell_type": "code",
   "execution_count": 4,
   "outputs": [
    {
     "name": "stdout",
     "output_type": "stream",
     "text": [
      "2491\n",
      "GridREx\n"
     ]
    },
    {
     "ename": "AttributeError",
     "evalue": "'NoneType' object has no attribute 'predict'",
     "output_type": "error",
     "traceback": [
      "\u001B[1;31m---------------------------------------------------------------------------\u001B[0m",
      "\u001B[1;31mAttributeError\u001B[0m                            Traceback (most recent call last)",
      "\u001B[1;32m~\\AppData\\Local\\Temp/ipykernel_43480/1487439369.py\u001B[0m in \u001B[0;36m<module>\u001B[1;34m\u001B[0m\n\u001B[0;32m     34\u001B[0m         \u001B[1;31m#if name in ['GridREx', 'CART', 'COSMiK']:\u001B[0m\u001B[1;33m\u001B[0m\u001B[1;33m\u001B[0m\u001B[0m\n\u001B[0;32m     35\u001B[0m         \u001B[1;31m#    continue\u001B[0m\u001B[1;33m\u001B[0m\u001B[1;33m\u001B[0m\u001B[0m\n\u001B[1;32m---> 36\u001B[1;33m         \u001B[0mpred\u001B[0m\u001B[1;33m,\u001B[0m \u001B[0mn\u001B[0m\u001B[1;33m,\u001B[0m \u001B[0mmiss\u001B[0m \u001B[1;33m=\u001B[0m \u001B[0mfun\u001B[0m\u001B[1;33m(\u001B[0m\u001B[0mmodel\u001B[0m\u001B[1;33m,\u001B[0m \u001B[0mscaledTrain\u001B[0m\u001B[1;33m,\u001B[0m \u001B[0mscaledTest\u001B[0m\u001B[1;33m,\u001B[0m \u001B[0mnormalization\u001B[0m\u001B[1;33m,\u001B[0m \u001B[0ms\u001B[0m\u001B[1;33m,\u001B[0m \u001B[0mm\u001B[0m\u001B[1;33m)\u001B[0m\u001B[1;33m\u001B[0m\u001B[1;33m\u001B[0m\u001B[0m\n\u001B[0m\u001B[0;32m     37\u001B[0m         \u001B[0mpredicted\u001B[0m\u001B[1;33m[\u001B[0m\u001B[0mname\u001B[0m\u001B[1;33m]\u001B[0m \u001B[1;33m+=\u001B[0m \u001B[0mlist\u001B[0m\u001B[1;33m(\u001B[0m\u001B[0mpred\u001B[0m\u001B[1;33m)\u001B[0m\u001B[1;33m\u001B[0m\u001B[1;33m\u001B[0m\u001B[0m\n\u001B[0;32m     38\u001B[0m         \u001B[0mrules\u001B[0m\u001B[1;33m[\u001B[0m\u001B[0mname\u001B[0m\u001B[1;33m]\u001B[0m\u001B[1;33m.\u001B[0m\u001B[0mappend\u001B[0m\u001B[1;33m(\u001B[0m\u001B[0mn\u001B[0m\u001B[1;33m)\u001B[0m\u001B[1;33m\u001B[0m\u001B[1;33m\u001B[0m\u001B[0m\n",
      "\u001B[1;32m~\\AppData\\Local\\Temp/ipykernel_43480/808977561.py\u001B[0m in \u001B[0;36mgridrex\u001B[1;34m(model, train, test, normalization, s, m)\u001B[0m\n\u001B[0;32m     10\u001B[0m     gridREx = Extractor.gridrex(model, Grid(1, AdaptiveStrategy(ranked, [(0.5, 3)])),\n\u001B[0;32m     11\u001B[0m                                 threshold=5, min_examples=1, normalization=normalization)\n\u001B[1;32m---> 12\u001B[1;33m     \u001B[0mgridREx\u001B[0m\u001B[1;33m.\u001B[0m\u001B[0mextract\u001B[0m\u001B[1;33m(\u001B[0m\u001B[0mtrain\u001B[0m\u001B[1;33m)\u001B[0m\u001B[1;33m\u001B[0m\u001B[1;33m\u001B[0m\u001B[0m\n\u001B[0m\u001B[0;32m     13\u001B[0m     \u001B[1;32mreturn\u001B[0m \u001B[0mgridREx\u001B[0m\u001B[1;33m.\u001B[0m\u001B[0mbrute_predict\u001B[0m\u001B[1;33m(\u001B[0m\u001B[0mtest\u001B[0m\u001B[1;33m)\u001B[0m\u001B[1;33m,\u001B[0m \u001B[0mgridREx\u001B[0m\u001B[1;33m.\u001B[0m\u001B[0mn_rules\u001B[0m\u001B[1;33m,\u001B[0m \u001B[0msum\u001B[0m\u001B[1;33m(\u001B[0m\u001B[1;33m[\u001B[0m\u001B[0mp\u001B[0m \u001B[1;32mis\u001B[0m \u001B[1;32mNone\u001B[0m \u001B[1;32mfor\u001B[0m \u001B[0mp\u001B[0m \u001B[1;32min\u001B[0m \u001B[0mgridREx\u001B[0m\u001B[1;33m.\u001B[0m\u001B[0mpredict\u001B[0m\u001B[1;33m(\u001B[0m\u001B[0mtest\u001B[0m\u001B[1;33m)\u001B[0m\u001B[1;33m]\u001B[0m\u001B[1;33m)\u001B[0m\u001B[1;33m\u001B[0m\u001B[1;33m\u001B[0m\u001B[0m\n\u001B[0;32m     14\u001B[0m \u001B[1;33m\u001B[0m\u001B[0m\n",
      "\u001B[1;32m~\\Desktop\\psyke\\psyke-python\\psyke\\__init__.py\u001B[0m in \u001B[0;36mextract\u001B[1;34m(self, dataframe, mapping, sort)\u001B[0m\n\u001B[0;32m    375\u001B[0m \u001B[1;33m\u001B[0m\u001B[0m\n\u001B[0;32m    376\u001B[0m     \u001B[1;32mdef\u001B[0m \u001B[0mextract\u001B[0m\u001B[1;33m(\u001B[0m\u001B[0mself\u001B[0m\u001B[1;33m,\u001B[0m \u001B[0mdataframe\u001B[0m\u001B[1;33m:\u001B[0m \u001B[0mpd\u001B[0m\u001B[1;33m.\u001B[0m\u001B[0mDataFrame\u001B[0m\u001B[1;33m,\u001B[0m \u001B[0mmapping\u001B[0m\u001B[1;33m:\u001B[0m \u001B[0mdict\u001B[0m\u001B[1;33m[\u001B[0m\u001B[0mstr\u001B[0m\u001B[1;33m:\u001B[0m \u001B[0mint\u001B[0m\u001B[1;33m]\u001B[0m \u001B[1;33m=\u001B[0m \u001B[1;32mNone\u001B[0m\u001B[1;33m,\u001B[0m \u001B[0msort\u001B[0m\u001B[1;33m:\u001B[0m \u001B[0mbool\u001B[0m \u001B[1;33m=\u001B[0m \u001B[1;32mTrue\u001B[0m\u001B[1;33m)\u001B[0m \u001B[1;33m->\u001B[0m \u001B[0mTheory\u001B[0m\u001B[1;33m:\u001B[0m\u001B[1;33m\u001B[0m\u001B[1;33m\u001B[0m\u001B[0m\n\u001B[1;32m--> 377\u001B[1;33m         \u001B[0mnew_y\u001B[0m \u001B[1;33m=\u001B[0m \u001B[0mself\u001B[0m\u001B[1;33m.\u001B[0m\u001B[0mpredictor\u001B[0m\u001B[1;33m.\u001B[0m\u001B[0mpredict\u001B[0m\u001B[1;33m(\u001B[0m\u001B[0mdataframe\u001B[0m\u001B[1;33m.\u001B[0m\u001B[0miloc\u001B[0m\u001B[1;33m[\u001B[0m\u001B[1;33m:\u001B[0m\u001B[1;33m,\u001B[0m \u001B[1;33m:\u001B[0m\u001B[1;33m-\u001B[0m\u001B[1;36m1\u001B[0m\u001B[1;33m]\u001B[0m\u001B[1;33m)\u001B[0m\u001B[1;33m\u001B[0m\u001B[1;33m\u001B[0m\u001B[0m\n\u001B[0m\u001B[0;32m    378\u001B[0m         \u001B[1;32mif\u001B[0m \u001B[0mmapping\u001B[0m \u001B[1;32mis\u001B[0m \u001B[1;32mnot\u001B[0m \u001B[1;32mNone\u001B[0m\u001B[1;33m:\u001B[0m\u001B[1;33m\u001B[0m\u001B[1;33m\u001B[0m\u001B[0m\n\u001B[0;32m    379\u001B[0m             \u001B[1;32mif\u001B[0m \u001B[0mhasattr\u001B[0m\u001B[1;33m(\u001B[0m\u001B[0mnew_y\u001B[0m\u001B[1;33m[\u001B[0m\u001B[1;36m0\u001B[0m\u001B[1;33m]\u001B[0m\u001B[1;33m,\u001B[0m \u001B[1;34m'shape'\u001B[0m\u001B[1;33m)\u001B[0m\u001B[1;33m:\u001B[0m\u001B[1;33m\u001B[0m\u001B[1;33m\u001B[0m\u001B[0m\n",
      "\u001B[1;31mAttributeError\u001B[0m: 'NoneType' object has no attribute 'predict'"
     ]
    }
   ],
   "source": [
    "bartels = pd.read_csv(\"data/bartels.csv\", parse_dates = [1, 2])\n",
    "\n",
    "extractors = ['GridEx', 'GridREx', 'CART', 'COSMiK', 'CReEPy']\n",
    "\n",
    "TESTB = [i for i in range(2491, 2509)]\n",
    "\n",
    "predicted = {name: [] for name in ['index', 'V', 'model'] + extractors}\n",
    "\n",
    "rules = {name: [] for name in ['BR'] + extractors}\n",
    "\n",
    "missed = {name: [] for name in ['BR'] + extractors}\n",
    "\n",
    "for testB in TESTB:\n",
    "    rules['BR'].append(testB)\n",
    "    missed['BR'].append(testB)\n",
    "    print(testB)\n",
    "\n",
    "    data = pd.read_csv(f'data/halffuzzycoefs2B.csv', parse_dates=[0], index_col=0)\n",
    "    train, test = getTrainTest(data, testB)\n",
    "\n",
    "    predicted['index'] += list(test.index.values)\n",
    "    predicted['V'] += list(test.V.values)\n",
    "\n",
    "    scaler, scaledTrain, normalization = getScaler(train, f\"test{testB}\")\n",
    "    scaledTest = pd.DataFrame(scaler.transform(test), columns=test.columns).iloc[:, :-1]\n",
    "    m, s = normalization[test.columns[-1]]\n",
    "\n",
    "    model = KNN(200, weights='distance', p=1).fit(scaledTrain.iloc[:, :-1], scaledTrain.iloc[:, -1])\n",
    "    #dump(model, f\"models/RF/{k}_{name}_{testB}.joblib\")\n",
    "    predicted['model'] += list(model.predict(scaledTest) * s + m)\n",
    "\n",
    "    for name, fun in zip(extractors, [gridex, gridrex, cart, cosmik, creepy]):\n",
    "        print(name)\n",
    "        #if name in ['GridREx', 'CART', 'COSMiK']:\n",
    "        #    continue\n",
    "        pred, n, miss = fun(model, scaledTrain, scaledTest, normalization, s, m)\n",
    "        predicted[name] += list(pred)\n",
    "        rules[name].append(n)\n",
    "        missed[name].append(miss)\n",
    "    break"
   ],
   "metadata": {
    "collapsed": false,
    "pycharm": {
     "name": "#%%\n"
    }
   }
  },
  {
   "cell_type": "code",
   "execution_count": null,
   "outputs": [],
   "source": [
    "pd.DataFrame(predicted).to_csv(\"pred.csv\")"
   ],
   "metadata": {
    "collapsed": false,
    "pycharm": {
     "name": "#%%\n"
    }
   }
  },
  {
   "cell_type": "code",
   "execution_count": null,
   "outputs": [],
   "source": [
    "pd.DataFrame(rules).to_csv('rules.csv')\n",
    "pd.DataFrame(missed).to_csv('missed.csv')"
   ],
   "metadata": {
    "collapsed": false,
    "pycharm": {
     "name": "#%%\n"
    }
   }
  },
  {
   "cell_type": "code",
   "execution_count": null,
   "outputs": [],
   "source": [
    "p = pd.DataFrame(predicted)"
   ],
   "metadata": {
    "collapsed": false,
    "pycharm": {
     "name": "#%%\n"
    }
   }
  },
  {
   "cell_type": "code",
   "execution_count": null,
   "outputs": [],
   "source": [
    "abs(p.COSMiK - p.model).mean()"
   ],
   "metadata": {
    "collapsed": false,
    "pycharm": {
     "name": "#%%\n"
    }
   }
  },
  {
   "cell_type": "code",
   "execution_count": null,
   "outputs": [],
   "source": [
    "p.describe()"
   ],
   "metadata": {
    "collapsed": false,
    "pycharm": {
     "name": "#%%\n"
    }
   }
  },
  {
   "cell_type": "code",
   "execution_count": null,
   "outputs": [],
   "source": [],
   "metadata": {
    "collapsed": false,
    "pycharm": {
     "name": "#%%\n"
    }
   }
  }
 ],
 "metadata": {
  "kernelspec": {
   "display_name": "Python 3",
   "language": "python",
   "name": "python3"
  },
  "language_info": {
   "codemirror_mode": {
    "name": "ipython",
    "version": 3
   },
   "file_extension": ".py",
   "mimetype": "text/x-python",
   "name": "python",
   "nbconvert_exporter": "python",
   "pygments_lexer": "ipython3",
   "version": "3.9.7"
  }
 },
 "nbformat": 4,
 "nbformat_minor": 5
}