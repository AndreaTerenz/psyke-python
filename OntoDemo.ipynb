{
 "cells": [
  {
   "cell_type": "code",
   "execution_count": 1,
   "id": "6b710e7c",
   "metadata": {},
   "outputs": [],
   "source": [
    "from sklearn.datasets import load_iris\n",
    "import pandas as pd\n",
    "from psyke.utils.dataframe import get_discrete_features_supervised, get_discrete_dataset\n",
    "from psyke.utils.logic import pretty_theory\n",
    "from psyke import Extractor\n",
    "from sklearn.neighbors import KNeighborsClassifier\n",
    "from sklearn.model_selection import train_test_split"
   ]
  },
  {
   "cell_type": "code",
   "execution_count": 2,
   "id": "f8e46c49",
   "metadata": {},
   "outputs": [],
   "source": [
    "x, y = load_iris(return_X_y=True, as_frame=True)\n",
    "x.columns = ['SepalLength', 'SepalWidth', 'PetalLength', 'PetalWidth']\n",
    "y = pd.DataFrame(y).replace({\"target\": {0: 'setosa', 1: 'virginica', 2: 'versicolor'}})\n",
    "y.columns = ['iris']\n",
    "\n",
    "dataset = x.join(y)\n",
    "\n",
    "iris_features = get_discrete_features_supervised(dataset)\n",
    "x = get_discrete_dataset(x, iris_features)\n",
    "\n",
    "discretized = x.join(y)"
   ]
  },
  {
   "cell_type": "code",
   "execution_count": 3,
   "outputs": [
    {
     "name": "stdout",
     "output_type": "stream",
     "text": [
      "Extracted rules:\n",
      "\n",
      "iris(PetalLength, PetalWidth, SepalLength, SepalWidth, setosa) :-\n",
      "    PetalWidth =< 0.6474, SepalLength =< 5.3892, PetalLength not_in [2.2685, 4.865].\n",
      "iris(PetalLength, PetalWidth, SepalLength, SepalWidth, setosa) :-\n",
      "    SepalLength in [5.3892, 6.262], SepalWidth > 3.201, PetalLength not_in [2.2685, 4.865], PetalLength =< 4.865, PetalWidth not_in [0.6474, 1.6376], PetalWidth =< 1.6376.\n",
      "iris(PetalLength, PetalWidth, SepalLength, SepalWidth, versicolor) :-\n",
      "    PetalLength > 4.865, SepalLength > 6.262, PetalWidth > 0.6474, SepalWidth > 2.872.\n",
      "iris(PetalLength, PetalWidth, SepalLength, SepalWidth, versicolor) :-\n",
      "    PetalWidth > 1.6376, PetalLength > 2.2685, PetalLength not_in [2.2685, 4.865].\n",
      "iris(PetalLength, PetalWidth, SepalLength, SepalWidth, virginica) :-\n",
      "    SepalWidth =< 2.872, PetalLength > 2.2685, PetalLength =< 4.865, PetalWidth > 0.6474, PetalWidth =< 1.6376.\n",
      "iris(PetalLength, PetalWidth, SepalLength, SepalWidth, virginica) :-\n",
      "    PetalLength > 2.2685, PetalLength =< 4.865, PetalWidth > 0.6474, PetalWidth =< 1.6376, SepalLength > 5.3892, SepalLength =< 6.262, SepalWidth =< 3.201.\n",
      "iris(PetalLength, PetalWidth, SepalLength, SepalWidth, virginica) :-\n",
      "    PetalWidth in [0.6474, 1.6376], PetalLength > 2.2685, PetalLength =< 4.865, SepalWidth =< 3.201.\n",
      "iris(PetalLength, PetalWidth, SepalLength, SepalWidth, virginica) :-\n",
      "    PetalLength in [2.2685, 4.865], SepalWidth =< 2.872, PetalWidth > 0.6474, SepalLength =< 6.262.\n",
      "iris(PetalLength, PetalWidth, SepalLength, SepalWidth, virginica) :-\n",
      "    PetalLength in [2.2685, 4.865], SepalLength in [5.3892, 6.262], PetalWidth > 0.6474, SepalWidth =< 3.201.\n",
      "iris(PetalLength, PetalWidth, SepalLength, SepalWidth, virginica) :-\n",
      "    PetalWidth in [0.6474, 1.6376], PetalLength > 2.2685, SepalLength =< 6.262, SepalWidth =< 3.201.\n",
      "iris(PetalLength, PetalWidth, SepalLength, SepalWidth, virginica) :-\n",
      "    PetalWidth in [0.6474, 1.6376], SepalWidth =< 2.872, SepalLength > 5.3892.\n"
     ]
    }
   ],
   "source": [
    "_, original_test = train_test_split(dataset, test_size=0.5, random_state=1)\n",
    "train, test = train_test_split(discretized, test_size=0.5, random_state=1)\n",
    "\n",
    "predictor = KNeighborsClassifier(n_neighbors=7)\n",
    "predictor.fit(train.iloc[:, :-1], train.iloc[:, -1])\n",
    "\n",
    "extractor = Extractor.real(predictor, iris_features)\n",
    "theory = extractor.extract(train)\n",
    "print('Extracted rules:\\n\\n' + pretty_theory(theory))"
   ],
   "metadata": {
    "collapsed": false,
    "pycharm": {
     "name": "#%%\n"
    }
   }
  },
  {
   "cell_type": "code",
   "execution_count": 6,
   "outputs": [
    {
     "name": "stdout",
     "output_type": "stream",
     "text": [
      "[iris.Iris] [iris.iris1, iris.iris2, iris.iris3, iris.iris4, iris.iris5, iris.iris6, iris.iris7, iris.iris8, iris.iris9, iris.iris10, iris.iris11, iris.iris12, iris.iris13, iris.iris14, iris.iris15, iris.iris16, iris.iris17, iris.iris18, iris.iris19, iris.iris20, iris.iris21, iris.iris22, iris.iris23, iris.iris24, iris.iris25, iris.iris26, iris.iris27, iris.iris28, iris.iris29, iris.iris30, iris.iris31, iris.iris32, iris.iris33, iris.iris34, iris.iris35, iris.iris36, iris.iris37, iris.iris38, iris.iris39, iris.iris40, iris.iris41, iris.iris42, iris.iris43, iris.iris44, iris.iris45, iris.iris46, iris.iris47, iris.iris48, iris.iris49, iris.iris50, iris.iris51, iris.iris52, iris.iris53, iris.iris54, iris.iris55, iris.iris56, iris.iris57, iris.iris58, iris.iris59, iris.iris60, iris.iris61, iris.iris62, iris.iris63, iris.iris64, iris.iris65, iris.iris66, iris.iris67, iris.iris68, iris.iris69, iris.iris70, iris.iris71, iris.iris72, iris.iris73, iris.iris74, iris.iris75, iris.iris76, iris.iris77, iris.iris78, iris.iris79, iris.iris80, iris.iris81, iris.iris82, iris.iris83, iris.iris84, iris.iris85, iris.iris86, iris.iris87, iris.iris88, iris.iris89, iris.iris90, iris.iris91, iris.iris92, iris.iris93, iris.iris94, iris.iris95, iris.iris96, iris.iris97, iris.iris98, iris.iris99, iris.iris100, iris.iris101, iris.iris102, iris.iris103, iris.iris104, iris.iris105, iris.iris106, iris.iris107, iris.iris108, iris.iris109, iris.iris110, iris.iris111, iris.iris112, iris.iris113, iris.iris114, iris.iris115, iris.iris116, iris.iris117, iris.iris118, iris.iris119, iris.iris120, iris.iris121, iris.iris122, iris.iris123, iris.iris124, iris.iris125, iris.iris126, iris.iris127, iris.iris128, iris.iris129, iris.iris130, iris.iris131, iris.iris132, iris.iris133, iris.iris134, iris.iris135, iris.iris136, iris.iris137, iris.iris138, iris.iris139, iris.iris140, iris.iris141, iris.iris142, iris.iris143, iris.iris144, iris.iris145, iris.iris146, iris.iris147, iris.iris148, iris.iris149, iris.iris150, iris.iris151, iris.iris152, iris.iris153, iris.iris154, iris.iris155, iris.iris156, iris.iris157, iris.iris158, iris.iris159, iris.iris160, iris.iris161, iris.iris162, iris.iris163, iris.iris164, iris.iris165, iris.iris166, iris.iris167, iris.iris168, iris.iris169, iris.iris170, iris.iris171, iris.iris172, iris.iris173, iris.iris174, iris.iris175, iris.iris176, iris.iris177, iris.iris178, iris.iris179, iris.iris180, iris.iris181, iris.iris182, iris.iris183, iris.iris184, iris.iris185, iris.iris186, iris.iris187, iris.iris188, iris.iris189, iris.iris190, iris.iris191, iris.iris192, iris.iris193, iris.iris194, iris.iris195, iris.iris196, iris.iris197, iris.iris198, iris.iris199, iris.iris200, iris.iris201, iris.iris202, iris.iris203, iris.iris204, iris.iris205, iris.iris206, iris.iris207, iris.iris208, iris.iris209, iris.iris210, iris.iris211, iris.iris212, iris.iris213, iris.iris214, iris.iris215, iris.iris216, iris.iris217, iris.iris218, iris.iris219, iris.iris220, iris.iris221, iris.iris222, iris.iris223, iris.iris224, iris.iris225] [Iris(?iris), PetalLength(?iris, ?PetalLength), PetalWidth(?iris, ?PetalWidth), SepalLength(?iris, ?SepalLength), SepalWidth(?iris, ?SepalWidth), greaterThan(?SepalLength, 5.3892), lessThanOrEqual(?SepalWidth, 2.872), greaterThan(?PetalWidth, 0.6474), lessThanOrEqual(?PetalWidth, 1.6376) -> iris(?iris, 'virginica'), Iris(?iris), PetalLength(?iris, ?PetalLength), PetalWidth(?iris, ?PetalWidth), SepalLength(?iris, ?SepalLength), SepalWidth(?iris, ?SepalWidth), lessThanOrEqual(?SepalWidth, 3.201), lessThanOrEqual(?SepalLength, 6.262), greaterThan(?PetalLength, 2.2685), greaterThan(?PetalWidth, 0.6474), lessThanOrEqual(?PetalWidth, 1.6376) -> iris(?iris, 'virginica'), Iris(?iris), PetalLength(?iris, ?PetalLength), PetalWidth(?iris, ?PetalWidth), SepalLength(?iris, ?SepalLength), SepalWidth(?iris, ?SepalWidth), lessThanOrEqual(?SepalWidth, 3.201), greaterThan(?PetalWidth, 0.6474), greaterThan(?SepalLength, 5.3892), lessThanOrEqual(?SepalLength, 6.262), greaterThan(?PetalLength, 2.2685), lessThanOrEqual(?PetalLength, 4.865) -> iris(?iris, 'virginica'), Iris(?iris), PetalLength(?iris, ?PetalLength), PetalWidth(?iris, ?PetalWidth), SepalLength(?iris, ?SepalLength), SepalWidth(?iris, ?SepalWidth), lessThanOrEqual(?SepalLength, 6.262), greaterThan(?PetalWidth, 0.6474), lessThanOrEqual(?SepalWidth, 2.872), greaterThan(?PetalLength, 2.2685), lessThanOrEqual(?PetalLength, 4.865) -> iris(?iris, 'virginica'), Iris(?iris), PetalLength(?iris, ?PetalLength), PetalWidth(?iris, ?PetalWidth), SepalLength(?iris, ?SepalLength), SepalWidth(?iris, ?SepalWidth), lessThanOrEqual(?SepalWidth, 3.201), lessThanOrEqual(?PetalLength, 4.865), greaterThan(?PetalLength, 2.2685), greaterThan(?PetalWidth, 0.6474), lessThanOrEqual(?PetalWidth, 1.6376) -> iris(?iris, 'virginica'), Iris(?iris), PetalLength(?iris, ?PetalLength), PetalWidth(?iris, ?PetalWidth), SepalLength(?iris, ?SepalLength), SepalWidth(?iris, ?SepalWidth), lessThanOrEqual(?SepalWidth, 3.201), lessThanOrEqual(?SepalLength, 6.262), greaterThan(?SepalLength, 5.3892), lessThanOrEqual(?PetalWidth, 1.6376), greaterThan(?PetalWidth, 0.6474), lessThanOrEqual(?PetalLength, 4.865), greaterThan(?PetalLength, 2.2685) -> iris(?iris, 'virginica'), Iris(?iris), PetalLength(?iris, ?PetalLength), PetalWidth(?iris, ?PetalWidth), SepalLength(?iris, ?SepalLength), SepalWidth(?iris, ?SepalWidth), lessThanOrEqual(?PetalWidth, 1.6376), greaterThan(?PetalWidth, 0.6474), lessThanOrEqual(?PetalLength, 4.865), greaterThan(?PetalLength, 2.2685), lessThanOrEqual(?SepalWidth, 2.872) -> iris(?iris, 'virginica'), Iris(?iris), PetalLength(?iris, ?PetalLength), PetalWidth(?iris, ?PetalWidth), SepalLength(?iris, ?SepalLength), SepalWidth(?iris, ?SepalWidth), greaterThan(?PetalLength, 4.865), greaterThan(?PetalLength, 2.2685), greaterThan(?PetalWidth, 1.6376) -> iris(?iris, 'versicolor'), Iris(?iris), PetalLength(?iris, ?PetalLength), PetalWidth(?iris, ?PetalWidth), SepalLength(?iris, ?SepalLength), SepalWidth(?iris, ?SepalWidth), lessThanOrEqual(?PetalLength, 2.2685), greaterThan(?PetalLength, 2.2685), greaterThan(?PetalWidth, 1.6376) -> iris(?iris, 'versicolor'), Iris(?iris), PetalLength(?iris, ?PetalLength), PetalWidth(?iris, ?PetalWidth), SepalLength(?iris, ?SepalLength), SepalWidth(?iris, ?SepalWidth), greaterThan(?SepalWidth, 2.872), greaterThan(?PetalWidth, 0.6474), greaterThan(?SepalLength, 6.262), greaterThan(?PetalLength, 4.865) -> iris(?iris, 'versicolor'), Iris(?iris), PetalLength(?iris, ?PetalLength), PetalWidth(?iris, ?PetalWidth), SepalLength(?iris, ?SepalLength), SepalWidth(?iris, ?SepalWidth), lessThanOrEqual(?PetalWidth, 1.6376), greaterThan(?PetalWidth, 1.6376), lessThanOrEqual(?PetalLength, 4.865), greaterThan(?PetalLength, 4.865), greaterThan(?SepalWidth, 3.201), greaterThan(?SepalLength, 5.3892), lessThanOrEqual(?SepalLength, 6.262) -> iris(?iris, 'setosa'), Iris(?iris), PetalLength(?iris, ?PetalLength), PetalWidth(?iris, ?PetalWidth), SepalLength(?iris, ?SepalLength), SepalWidth(?iris, ?SepalWidth), lessThanOrEqual(?PetalWidth, 1.6376), lessThanOrEqual(?PetalWidth, 0.6474), lessThanOrEqual(?PetalLength, 4.865), greaterThan(?PetalLength, 4.865), greaterThan(?SepalWidth, 3.201), greaterThan(?SepalLength, 5.3892), lessThanOrEqual(?SepalLength, 6.262) -> iris(?iris, 'setosa'), Iris(?iris), PetalLength(?iris, ?PetalLength), PetalWidth(?iris, ?PetalWidth), SepalLength(?iris, ?SepalLength), SepalWidth(?iris, ?SepalWidth), lessThanOrEqual(?PetalWidth, 1.6376), greaterThan(?PetalWidth, 1.6376), lessThanOrEqual(?PetalLength, 4.865), lessThanOrEqual(?PetalLength, 2.2685), greaterThan(?SepalWidth, 3.201), greaterThan(?SepalLength, 5.3892), lessThanOrEqual(?SepalLength, 6.262) -> iris(?iris, 'setosa'), Iris(?iris), PetalLength(?iris, ?PetalLength), PetalWidth(?iris, ?PetalWidth), SepalLength(?iris, ?SepalLength), SepalWidth(?iris, ?SepalWidth), lessThanOrEqual(?PetalWidth, 1.6376), lessThanOrEqual(?PetalWidth, 0.6474), lessThanOrEqual(?PetalLength, 4.865), lessThanOrEqual(?PetalLength, 2.2685), greaterThan(?SepalWidth, 3.201), greaterThan(?SepalLength, 5.3892), lessThanOrEqual(?SepalLength, 6.262) -> iris(?iris, 'setosa'), Iris(?iris), PetalLength(?iris, ?PetalLength), PetalWidth(?iris, ?PetalWidth), SepalLength(?iris, ?SepalLength), SepalWidth(?iris, ?SepalWidth), greaterThan(?PetalLength, 4.865), lessThanOrEqual(?SepalLength, 5.3892), lessThanOrEqual(?PetalWidth, 0.6474) -> iris(?iris, 'setosa'), Iris(?iris), PetalLength(?iris, ?PetalLength), PetalWidth(?iris, ?PetalWidth), SepalLength(?iris, ?SepalLength), SepalWidth(?iris, ?SepalWidth), lessThanOrEqual(?PetalLength, 2.2685), lessThanOrEqual(?SepalLength, 5.3892), lessThanOrEqual(?PetalWidth, 0.6474) -> iris(?iris, 'setosa'),  -> ]\n"
     ]
    }
   ],
   "source": [
    "from psyke.utils.ontology import dataframe_to_ontology, rules_from_theory, individuals_from_dataframe\n",
    "\n",
    "onto = dataframe_to_ontology(dataset)\n",
    "individuals = individuals_from_dataframe(onto, original_test.iloc[:, :-1])\n",
    "onto = rules_from_theory(onto, theory, dataset)\n",
    "\n",
    "print(list(onto.classes()), list(onto.individuals()), list(onto.rules()))"
   ],
   "metadata": {
    "collapsed": false,
    "pycharm": {
     "name": "#%%\n"
    }
   }
  },
  {
   "cell_type": "code",
   "execution_count": 10,
   "outputs": [
    {
     "name": "stdout",
     "output_type": "stream",
     "text": [
      "setosa setosa\n",
      "virginica virginica\n",
      "virginica virginica\n",
      "setosa setosa\n",
      "versicolor versicolor\n",
      "None virginica\n",
      "versicolor versicolor\n",
      "setosa setosa\n",
      "setosa setosa\n",
      "versicolor versicolor\n",
      "virginica virginica\n",
      "setosa setosa\n",
      "versicolor versicolor\n",
      "virginica virginica\n",
      "virginica virginica\n",
      "setosa setosa\n",
      "virginica virginica\n",
      "virginica virginica\n",
      "setosa setosa\n",
      "setosa setosa\n",
      "virginica virginica\n",
      "virginica virginica\n",
      "versicolor virginica\n",
      "setosa setosa\n",
      "versicolor versicolor\n",
      "virginica virginica\n",
      "setosa setosa\n",
      "setosa setosa\n",
      "virginica virginica\n",
      "versicolor versicolor\n",
      "virginica virginica\n",
      "versicolor versicolor\n",
      "virginica virginica\n",
      "versicolor versicolor\n",
      "versicolor versicolor\n",
      "setosa setosa\n",
      "virginica virginica\n",
      "setosa setosa\n",
      "virginica virginica\n",
      "versicolor versicolor\n",
      "versicolor versicolor\n",
      "setosa setosa\n",
      "virginica versicolor\n",
      "versicolor versicolor\n",
      "virginica virginica\n",
      "versicolor versicolor\n",
      "setosa setosa\n",
      "setosa setosa\n",
      "setosa setosa\n",
      "virginica virginica\n",
      "setosa setosa\n",
      "setosa setosa\n",
      "versicolor versicolor\n",
      "versicolor versicolor\n",
      "versicolor versicolor\n",
      "versicolor versicolor\n",
      "virginica versicolor\n",
      "None virginica\n",
      "versicolor versicolor\n",
      "virginica virginica\n",
      "setosa setosa\n",
      "versicolor versicolor\n",
      "versicolor versicolor\n",
      "setosa setosa\n",
      "setosa setosa\n",
      "versicolor versicolor\n",
      "setosa setosa\n",
      "versicolor versicolor\n",
      "versicolor versicolor\n",
      "virginica virginica\n",
      "virginica virginica\n",
      "versicolor versicolor\n",
      "virginica versicolor\n",
      "setosa setosa\n",
      "virginica virginica\n"
     ]
    }
   ],
   "source": [
    "from owlready2 import *\n",
    "owlready2.JAVA_EXE = \"C:\\\\Program Files (x86)\\\\Common Files\\\\Oracle\\\\Java\\\\javapath\\\\java.exe\"\n",
    "\n",
    "sync_reasoner_pellet(infer_property_values = True, infer_data_property_values = True, debug = 0)\n",
    "for individual, output in zip(individuals, original_test.iloc[:, -1]):\n",
    "    print(individual.iris, output)"
   ],
   "metadata": {
    "collapsed": false,
    "pycharm": {
     "name": "#%%\n"
    }
   }
  },
  {
   "cell_type": "code",
   "execution_count": null,
   "outputs": [],
   "source": [
    "from pandas.core.dtypes.common import is_numeric_dtype, is_string_dtype\n",
    "from owlready2 import *\n",
    "import owlready2\n",
    "owlready2.JAVA_EXE = \"C:\\\\Program Files (x86)\\\\Common Files\\\\Oracle\\\\Java\\\\javapath\\\\java.exe\"\n",
    "\n",
    "onto = get_ontology(\"iris.rdf\")\n",
    "\n",
    "with onto:\n",
    "    class Iris(Thing): pass\n",
    "    for column in dataset.columns:\n",
    "        if is_numeric_dtype(dataset[column]):\n",
    "            type(column, (Iris >> float, FunctionalProperty), {})\n",
    "        elif is_string_dtype(dataset[column]):\n",
    "            type(column, (Iris >> str, FunctionalProperty), {})\n",
    "        else:\n",
    "            raise TypeError\n",
    "\n",
    "    # for _, row in dataset.iterrows():\n",
    "    #    string_row = \"Iris(\"\n",
    "    #    for name, value in zip(row.index, row):\n",
    "    #        if isinstance(value, numbers.Number):\n",
    "    #            string_row += f\"{name}={value},\"\n",
    "    #        elif isinstance(value, str):\n",
    "    #            string_row += f\"{name}='{value}',\"\n",
    "    #        else:\n",
    "    #            raise TypeError\n",
    "    #    eval(string_row[:-1] + \")\")\n",
    "\n",
    "    rule5 = Imp()\n",
    "    #rule2 = Imp()\n",
    "    rule5.set_as_rule(\"\"\"Iris(?i), PetalLength(?i, ?pl), SepalLength(?i, ?sl), PetalWidth(?i, ?pw), SepalWidth(?i, ?sw), greaterThanOrEqual(?pl, 5) -> iris(?i, 'setosa')\"\"\")\n",
    "    #rule2.set_as_rule(\"\"\"Iris(?i), PetalLength(?i, ?pl), SepalLength(?i, ?sl), PetalWidth(?i, ?pw), SepalWidth(?i, ?sw), lessThan(?pl, 5) -> iris(?i, 'versicolor')\"\"\")\n",
    "\n",
    "print(list(onto.classes()), list(onto.individuals()), list(onto.rules()))\n",
    "\n",
    "# for prop in onto.iris1.get_properties():\n",
    "#    for value in prop[onto.iris1]:\n",
    "#        print(\".%s == %s\" % (prop.python_name, value))\n",
    "    #class Iris(Thing): pass\n",
    "    #class petalLength(Iris >> float, FunctionalProperty): pass\n",
    "    #class petalWidth(Iris >> float, FunctionalProperty): pass\n",
    "    #class sepalLength(Iris >> float, FunctionalProperty): pass\n",
    "    #class sepalWidth(Iris >> float, FunctionalProperty): pass\n",
    "    #class irisClass(Iris >> str, FunctionalProperty): pass\n",
    "#onto.save(file = \"file.rdf\", format = \"rdfxml\")\n",
    "sync_reasoner_pellet(infer_property_values = True, infer_data_property_values = True)\n",
    "#iris15 = eval(\"Iris(PetalLength = 2.5, PetalWidth = 3.6, SepalLength = 6.3, SepalWidth = 1.3)\")\n",
    "#iris2 = Iris(PetalLength = 12.5, PetalWidth = 3.6, SepalLength = 6.3, SepalWidth = 1.3)\n",
    "\n",
    "#print(iris15.iris, iris2.iris)\n",
    "#onto.destroy()"
   ],
   "metadata": {
    "collapsed": false,
    "pycharm": {
     "name": "#%%\n"
    }
   }
  },
  {
   "cell_type": "code",
   "execution_count": null,
   "outputs": [],
   "source": [],
   "metadata": {
    "collapsed": false,
    "pycharm": {
     "name": "#%%\n"
    }
   }
  },
  {
   "cell_type": "code",
   "execution_count": null,
   "outputs": [],
   "source": [
    "with onto:\n",
    "    print(list(default_world.inconsistent_classes()))"
   ],
   "metadata": {
    "collapsed": false,
    "pycharm": {
     "name": "#%%\n"
    }
   }
  },
  {
   "cell_type": "code",
   "execution_count": null,
   "outputs": [],
   "source": [
    "onto.iris1.get_properties()"
   ],
   "metadata": {
    "collapsed": false,
    "pycharm": {
     "name": "#%%\n"
    }
   }
  },
  {
   "cell_type": "code",
   "execution_count": null,
   "outputs": [],
   "source": [
    "onto.iris1.SepalWidth"
   ],
   "metadata": {
    "collapsed": false,
    "pycharm": {
     "name": "#%%\n"
    }
   }
  }
 ],
 "metadata": {
  "kernelspec": {
   "display_name": "Python 3 (ipykernel)",
   "language": "python",
   "name": "python3"
  },
  "language_info": {
   "codemirror_mode": {
    "name": "ipython",
    "version": 3
   },
   "file_extension": ".py",
   "mimetype": "text/x-python",
   "name": "python",
   "nbconvert_exporter": "python",
   "pygments_lexer": "ipython3",
   "version": "3.9.7"
  }
 },
 "nbformat": 4,
 "nbformat_minor": 5
}