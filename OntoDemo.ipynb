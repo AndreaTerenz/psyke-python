{
 "cells": [
  {
   "cell_type": "code",
   "execution_count": 1,
   "id": "6b710e7c",
   "metadata": {},
   "outputs": [],
   "source": [
    "from sklearn.datasets import load_iris\n",
    "import pandas as pd\n",
    "from psyke.utils.dataframe import get_discrete_features_supervised, get_discrete_dataset\n",
    "from psyke.utils.logic import pretty_theory\n",
    "from psyke import Extractor\n",
    "from sklearn.neighbors import KNeighborsClassifier\n",
    "from sklearn.model_selection import train_test_split"
   ]
  },
  {
   "cell_type": "code",
   "execution_count": 2,
   "id": "f8e46c49",
   "metadata": {},
   "outputs": [],
   "source": [
    "x, y = load_iris(return_X_y=True, as_frame=True)\n",
    "x.columns = ['SepalLength', 'SepalWidth', 'PetalLength', 'PetalWidth']\n",
    "y = pd.DataFrame(y).replace({\"target\": {0: 'setosa', 1: 'virginica', 2: 'versicolor'}})\n",
    "y.columns = ['iris']\n",
    "\n",
    "dataset = x.join(y)\n",
    "\n",
    "iris_features = get_discrete_features_supervised(dataset)\n",
    "x = get_discrete_dataset(x, iris_features)\n",
    "\n",
    "discretized = x.join(y)"
   ]
  },
  {
   "cell_type": "code",
   "execution_count": 3,
   "outputs": [
    {
     "name": "stdout",
     "output_type": "stream",
     "text": [
      "REAL extracted rules:\n",
      "\n",
      "iris(PetalLength, PetalWidth, SepalLength, SepalWidth, setosa) :-\n",
      "    PetalWidth =< 0.6474.\n",
      "iris(PetalLength, PetalWidth, SepalLength, SepalWidth, versicolor) :-\n",
      "    PetalLength > 4.865, SepalLength > 6.262.\n",
      "iris(PetalLength, PetalWidth, SepalLength, SepalWidth, versicolor) :-\n",
      "    PetalWidth > 1.6376.\n",
      "iris(PetalLength, PetalWidth, SepalLength, SepalWidth, virginica) :-\n",
      "    SepalWidth =< 2.872.\n",
      "iris(PetalLength, PetalWidth, SepalLength, SepalWidth, virginica) :-\n",
      "    SepalLength in [5.3892, 6.262].\n",
      "iris(PetalLength, PetalWidth, SepalLength, SepalWidth, virginica) :-\n",
      "    PetalWidth in [0.6474, 1.6376].\n"
     ]
    }
   ],
   "source": [
    "_, original_test = train_test_split(dataset, test_size=0.5, random_state=0)\n",
    "train, test = train_test_split(discretized, test_size=0.5, random_state=0)\n",
    "\n",
    "predictor = KNeighborsClassifier(n_neighbors=7)\n",
    "predictor.fit(train.iloc[:, :-1], train.iloc[:, -1])\n",
    "\n",
    "real = Extractor.real(predictor, iris_features)\n",
    "theory_from_real = real.extract(train)\n",
    "print('REAL extracted rules:\\n\\n' + pretty_theory(theory_from_real))"
   ],
   "metadata": {
    "collapsed": false,
    "pycharm": {
     "name": "#%%\n"
    }
   }
  },
  {
   "cell_type": "code",
   "execution_count": 4,
   "outputs": [
    {
     "name": "stderr",
     "output_type": "stream",
     "text": [
      "* Owlready2 * Warning: optimized Cython parser module 'owlready2_optimized' is not available, defaulting to slower Python implementation\n"
     ]
    }
   ],
   "source": [
    "from psyke.utils.ontology import dataframe_to_ontology, rules_from_theory, individuals_from_dataframe\n",
    "\n",
    "onto = dataframe_to_ontology(dataset)\n",
    "individuals = individuals_from_dataframe(onto, original_test.iloc[:, :-1])\n",
    "onto = rules_from_theory(onto, theory_from_real, dataset)"
   ],
   "metadata": {
    "collapsed": false,
    "pycharm": {
     "name": "#%%\n"
    }
   }
  },
  {
   "cell_type": "code",
   "execution_count": 5,
   "outputs": [
    {
     "name": "stdout",
     "output_type": "stream",
     "text": [
      "[iris.Iris] [iris.iris1, iris.iris2, iris.iris3, iris.iris4, iris.iris5, iris.iris6, iris.iris7, iris.iris8, iris.iris9, iris.iris10, iris.iris11, iris.iris12, iris.iris13, iris.iris14, iris.iris15, iris.iris16, iris.iris17, iris.iris18, iris.iris19, iris.iris20, iris.iris21, iris.iris22, iris.iris23, iris.iris24, iris.iris25, iris.iris26, iris.iris27, iris.iris28, iris.iris29, iris.iris30, iris.iris31, iris.iris32, iris.iris33, iris.iris34, iris.iris35, iris.iris36, iris.iris37, iris.iris38, iris.iris39, iris.iris40, iris.iris41, iris.iris42, iris.iris43, iris.iris44, iris.iris45, iris.iris46, iris.iris47, iris.iris48, iris.iris49, iris.iris50, iris.iris51, iris.iris52, iris.iris53, iris.iris54, iris.iris55, iris.iris56, iris.iris57, iris.iris58, iris.iris59, iris.iris60, iris.iris61, iris.iris62, iris.iris63, iris.iris64, iris.iris65, iris.iris66, iris.iris67, iris.iris68, iris.iris69, iris.iris70, iris.iris71, iris.iris72, iris.iris73, iris.iris74, iris.iris75] [Iris(?iris), PetalLength(?iris, ?pl), SepalLength(?iris, ?sl), PetalWidth(?iris, ?pw), SepalWidth(?iris, ?sw), lessThan(?pl, 5) -> iris(?iris, 'virginica'), Iris(?iris), PetalLength(?iris, ?pl), SepalLength(?iris, ?sl), PetalWidth(?iris, ?pw), SepalWidth(?iris, ?sw), greaterThanOrEqual(?pl, 5) -> iris(?iris, 'versicolor')]\n"
     ]
    }
   ],
   "source": [
    "print(list(onto.classes()), list(onto.individuals()), list(onto.rules()))\n",
    "#print(list(onto.iris1.get_properties()))\n",
    "#for i in list(onto.individuals()):\n",
    "#    for p in list(i.get_properties()):\n",
    "#        print(p[i])\n",
    "#print(onto.Iris().prop)"
   ],
   "metadata": {
    "collapsed": false,
    "pycharm": {
     "name": "#%%\n"
    }
   }
  },
  {
   "cell_type": "code",
   "execution_count": 6,
   "outputs": [
    {
     "name": "stdout",
     "output_type": "stream",
     "text": [
      "versicolor\n",
      "virginica\n",
      "virginica\n",
      "versicolor\n",
      "virginica\n",
      "versicolor\n",
      "virginica\n",
      "virginica\n",
      "virginica\n",
      "virginica\n",
      "versicolor\n",
      "virginica\n",
      "virginica\n",
      "virginica\n",
      "virginica\n",
      "virginica\n",
      "virginica\n",
      "virginica\n",
      "virginica\n",
      "virginica\n",
      "virginica\n",
      "virginica\n",
      "virginica\n",
      "virginica\n",
      "virginica\n",
      "virginica\n",
      "virginica\n",
      "virginica\n",
      "virginica\n",
      "virginica\n",
      "versicolor\n",
      "virginica\n",
      "virginica\n",
      "virginica\n",
      "versicolor\n",
      "virginica\n",
      "virginica\n",
      "versicolor\n",
      "virginica\n",
      "virginica\n",
      "versicolor\n",
      "virginica\n",
      "versicolor\n",
      "virginica\n",
      "virginica\n",
      "virginica\n",
      "versicolor\n",
      "versicolor\n",
      "versicolor\n",
      "versicolor\n",
      "virginica\n",
      "versicolor\n",
      "virginica\n",
      "virginica\n",
      "virginica\n",
      "versicolor\n",
      "virginica\n",
      "versicolor\n",
      "virginica\n",
      "versicolor\n",
      "virginica\n",
      "virginica\n",
      "versicolor\n",
      "virginica\n",
      "virginica\n",
      "virginica\n",
      "virginica\n",
      "versicolor\n",
      "virginica\n",
      "virginica\n",
      "versicolor\n",
      "virginica\n",
      "virginica\n",
      "virginica\n",
      "virginica\n"
     ]
    }
   ],
   "source": [
    "from owlready2 import *\n",
    "owlready2.JAVA_EXE = \"C:\\\\Program Files (x86)\\\\Common Files\\\\Oracle\\\\Java\\\\javapath\\\\java.exe\"\n",
    "\n",
    "sync_reasoner_pellet(infer_property_values = True, infer_data_property_values = True, debug = 0)\n",
    "for individual in individuals:\n",
    "    print(individual.iris)\n",
    "\n",
    "#with test_onto:\n",
    "#    iris2 = onto.Iris(PetalLength = 12.5, PetalWidth = 3.6, SepalLength = 6.3, SepalWidth = 1.3)\n",
    "#    sync_reasoner_pellet(infer_property_values = True, infer_data_property_values = True, debug = 0)\n",
    "#print(iris2.iris)"
   ],
   "metadata": {
    "collapsed": false,
    "pycharm": {
     "name": "#%%\n"
    }
   }
  },
  {
   "cell_type": "code",
   "execution_count": null,
   "outputs": [],
   "source": [
    "from pandas.core.dtypes.common import is_numeric_dtype, is_string_dtype\n",
    "import numbers\n",
    "from owlready2 import *\n",
    "import owlready2\n",
    "owlready2.JAVA_EXE = \"C:\\\\Program Files (x86)\\\\Common Files\\\\Oracle\\\\Java\\\\javapath\\\\java.exe\"\n",
    "\n",
    "onto = get_ontology(\"iris.rdf\")\n",
    "\n",
    "with onto:\n",
    "    class Iris(Thing): pass\n",
    "    for column in dataset.columns:\n",
    "        if is_numeric_dtype(dataset[column]):\n",
    "            type(column, (Iris >> float, FunctionalProperty), {})\n",
    "        elif is_string_dtype(dataset[column]):\n",
    "            type(column, (Iris >> str, FunctionalProperty), {})\n",
    "        else:\n",
    "            raise TypeError\n",
    "\n",
    "    # for _, row in dataset.iterrows():\n",
    "    #    string_row = \"Iris(\"\n",
    "    #    for name, value in zip(row.index, row):\n",
    "    #        if isinstance(value, numbers.Number):\n",
    "    #            string_row += f\"{name}={value},\"\n",
    "    #        elif isinstance(value, str):\n",
    "    #            string_row += f\"{name}='{value}',\"\n",
    "    #        else:\n",
    "    #            raise TypeError\n",
    "    #    eval(string_row[:-1] + \")\")\n",
    "\n",
    "    rule5 = Imp()\n",
    "    #rule2 = Imp()\n",
    "    rule5.set_as_rule(\"\"\"Iris(?i), PetalLength(?i, ?pl), SepalLength(?i, ?sl), PetalWidth(?i, ?pw), SepalWidth(?i, ?sw), greaterThanOrEqual(?pl, 5) -> iris(?i, 'setosa')\"\"\")\n",
    "    #rule2.set_as_rule(\"\"\"Iris(?i), PetalLength(?i, ?pl), SepalLength(?i, ?sl), PetalWidth(?i, ?pw), SepalWidth(?i, ?sw), lessThan(?pl, 5) -> iris(?i, 'versicolor')\"\"\")\n",
    "\n",
    "print(list(onto.classes()), list(onto.individuals()), list(onto.rules()))\n",
    "\n",
    "# for prop in onto.iris1.get_properties():\n",
    "#    for value in prop[onto.iris1]:\n",
    "#        print(\".%s == %s\" % (prop.python_name, value))\n",
    "    #class Iris(Thing): pass\n",
    "    #class petalLength(Iris >> float, FunctionalProperty): pass\n",
    "    #class petalWidth(Iris >> float, FunctionalProperty): pass\n",
    "    #class sepalLength(Iris >> float, FunctionalProperty): pass\n",
    "    #class sepalWidth(Iris >> float, FunctionalProperty): pass\n",
    "    #class irisClass(Iris >> str, FunctionalProperty): pass\n",
    "#onto.save(file = \"file.rdf\", format = \"rdfxml\")\n",
    "sync_reasoner_pellet(infer_property_values = True, infer_data_property_values = True)\n",
    "#iris15 = eval(\"Iris(PetalLength = 2.5, PetalWidth = 3.6, SepalLength = 6.3, SepalWidth = 1.3)\")\n",
    "#iris2 = Iris(PetalLength = 12.5, PetalWidth = 3.6, SepalLength = 6.3, SepalWidth = 1.3)\n",
    "\n",
    "#print(iris15.iris, iris2.iris)\n",
    "#onto.destroy()"
   ],
   "metadata": {
    "collapsed": false,
    "pycharm": {
     "name": "#%%\n"
    }
   }
  },
  {
   "cell_type": "code",
   "execution_count": null,
   "outputs": [],
   "source": [],
   "metadata": {
    "collapsed": false,
    "pycharm": {
     "name": "#%%\n"
    }
   }
  },
  {
   "cell_type": "code",
   "execution_count": null,
   "outputs": [],
   "source": [
    "with onto:\n",
    "    print(list(default_world.inconsistent_classes()))"
   ],
   "metadata": {
    "collapsed": false,
    "pycharm": {
     "name": "#%%\n"
    }
   }
  },
  {
   "cell_type": "code",
   "execution_count": null,
   "outputs": [],
   "source": [
    "onto.iris1.get_properties()"
   ],
   "metadata": {
    "collapsed": false,
    "pycharm": {
     "name": "#%%\n"
    }
   }
  },
  {
   "cell_type": "code",
   "execution_count": null,
   "outputs": [],
   "source": [
    "onto.iris1.SepalWidth"
   ],
   "metadata": {
    "collapsed": false,
    "pycharm": {
     "name": "#%%\n"
    }
   }
  }
 ],
 "metadata": {
  "kernelspec": {
   "display_name": "Python 3 (ipykernel)",
   "language": "python",
   "name": "python3"
  },
  "language_info": {
   "codemirror_mode": {
    "name": "ipython",
    "version": 3
   },
   "file_extension": ".py",
   "mimetype": "text/x-python",
   "name": "python",
   "nbconvert_exporter": "python",
   "pygments_lexer": "ipython3",
   "version": "3.9.7"
  }
 },
 "nbformat": 4,
 "nbformat_minor": 5
}