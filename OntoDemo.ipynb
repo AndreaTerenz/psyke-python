{
 "cells": [
  {
   "cell_type": "code",
   "execution_count": 1,
   "id": "6b710e7c",
   "metadata": {},
   "outputs": [],
   "source": [
    "import numbers\n",
    "\n",
    "from sklearn.datasets import load_iris\n",
    "import pandas as pd"
   ]
  },
  {
   "cell_type": "code",
   "execution_count": 2,
   "id": "f8e46c49",
   "metadata": {},
   "outputs": [],
   "source": [
    "x, y = load_iris(return_X_y=True, as_frame=True)\n",
    "dataset = x.join(pd.DataFrame(y).replace({\"target\": {0: 'setosa', 1: 'virginica', 2: 'versicolor'}}))\n",
    "dataset.columns = ['SepalLength', 'SepalWidth', 'PetalLength', 'PetalWidth', 'iris']"
   ]
  },
  {
   "cell_type": "code",
   "execution_count": 4,
   "outputs": [
    {
     "name": "stdout",
     "output_type": "stream",
     "text": [
      "[iris.Iris] [iris.iris151, iris.iris152, iris.iris153, iris.iris154, iris.iris155, iris.iris156, iris.iris157, iris.iris158, iris.iris159, iris.iris160, iris.iris161, iris.iris162, iris.iris163, iris.iris164, iris.iris165, iris.iris166, iris.iris167, iris.iris168, iris.iris169, iris.iris170, iris.iris171, iris.iris172, iris.iris173, iris.iris174, iris.iris175, iris.iris176, iris.iris177, iris.iris178, iris.iris179, iris.iris180, iris.iris181, iris.iris182, iris.iris183, iris.iris184, iris.iris185, iris.iris186, iris.iris187, iris.iris188, iris.iris189, iris.iris190, iris.iris191, iris.iris192, iris.iris193, iris.iris194, iris.iris195, iris.iris196, iris.iris197, iris.iris198, iris.iris199, iris.iris200, iris.iris201, iris.iris202, iris.iris203, iris.iris204, iris.iris205, iris.iris206, iris.iris207, iris.iris208, iris.iris209, iris.iris210, iris.iris211, iris.iris212, iris.iris213, iris.iris214, iris.iris215, iris.iris216, iris.iris217, iris.iris218, iris.iris219, iris.iris220, iris.iris221, iris.iris222, iris.iris223, iris.iris224, iris.iris225, iris.iris226, iris.iris227, iris.iris228, iris.iris229, iris.iris230, iris.iris231, iris.iris232, iris.iris233, iris.iris234, iris.iris235, iris.iris236, iris.iris237, iris.iris238, iris.iris239, iris.iris240, iris.iris241, iris.iris242, iris.iris243, iris.iris244, iris.iris245, iris.iris246, iris.iris247, iris.iris248, iris.iris249, iris.iris250, iris.iris251, iris.iris252, iris.iris253, iris.iris254, iris.iris255, iris.iris256, iris.iris257, iris.iris258, iris.iris259, iris.iris260, iris.iris261, iris.iris262, iris.iris263, iris.iris264, iris.iris265, iris.iris266, iris.iris267, iris.iris268, iris.iris269, iris.iris270, iris.iris271, iris.iris272, iris.iris273, iris.iris274, iris.iris275, iris.iris276, iris.iris277, iris.iris278, iris.iris279, iris.iris280, iris.iris281, iris.iris282, iris.iris283, iris.iris284, iris.iris285, iris.iris286, iris.iris287, iris.iris288, iris.iris289, iris.iris290, iris.iris291, iris.iris292, iris.iris293, iris.iris294, iris.iris295, iris.iris296, iris.iris297, iris.iris298, iris.iris299, iris.iris300] []\n"
     ]
    }
   ],
   "source": [
    "from pandas.core.dtypes.common import is_numeric_dtype, is_string_dtype\n",
    "import numbers\n",
    "from owlready2 import *\n",
    "import owlready2\n",
    "owlready2.JAVA_EXE = \"C:\\\\Program Files (x86)\\\\Common Files\\\\Oracle\\\\Java\\\\javapath\\\\java.exe\"\n",
    "\n",
    "onto = get_ontology(\"iris.rdf\")\n",
    "\n",
    "with onto:\n",
    "    class Iris(Thing): pass\n",
    "    for column in dataset.columns:\n",
    "        if is_numeric_dtype(dataset[column]):\n",
    "            type(column, (Iris >> float, FunctionalProperty), {})\n",
    "        elif is_string_dtype(dataset[column]):\n",
    "            type(column, (Iris >> str, FunctionalProperty), {})\n",
    "        else:\n",
    "            raise TypeError\n",
    "\n",
    "    for _, row in dataset.iterrows():\n",
    "        string_row = \"Iris(\"\n",
    "        for name, value in zip(row.index, row):\n",
    "            if isinstance(value, numbers.Number):\n",
    "                string_row += f\"{name}={value},\"\n",
    "            elif isinstance(value, str):\n",
    "                string_row += f\"{name}='{value}',\"\n",
    "            else:\n",
    "                raise TypeError\n",
    "        eval(string_row[:-1] + \")\")\n",
    "\n",
    "print(list(onto.classes()), list(onto.individuals()), list(onto.rules()))\n",
    "    #class Iris(Thing): pass\n",
    "    #class petalLength(Iris >> float, FunctionalProperty): pass\n",
    "    #class petalWidth(Iris >> float, FunctionalProperty): pass\n",
    "    #class sepalLength(Iris >> float, FunctionalProperty): pass\n",
    "    #class sepalWidth(Iris >> float, FunctionalProperty): pass\n",
    "    #class irisClass(Iris >> str, FunctionalProperty): pass\n",
    "    #rule5 = Imp()\n",
    "    #rule2 = Imp()\n",
    "    #rule5.set_as_rule(\"\"\"Iris(?i), PetalLength(?i, ?pl), SepalLength(?i, ?sl), PetalWidth(?i, ?pw), SepalWidth(?i, ?sw), greaterThanOrEqual(?pl, 5) -> iris(?i, 'setosa')\"\"\")\n",
    "    #rule2.set_as_rule(\"\"\"Iris(?i), PetalLength(?i, ?pl), SepalLength(?i, ?sl), PetalWidth(?i, ?pw), SepalWidth(?i, ?sw), lessThan(?pl, 5) -> iris(?i, 'versicolor')\"\"\")\n",
    "#onto.save(file = \"file.rdf\", format = \"rdfxml\")\n",
    "\n",
    "#iris15 = eval(\"Iris(PetalLength = 2.5, PetalWidth = 3.6, SepalLength = 6.3, SepalWidth = 1.3)\")\n",
    "#iris2 = Iris(PetalLength = 12.5, PetalWidth = 3.6, SepalLength = 6.3, SepalWidth = 1.3)\n",
    "#sync_reasoner_pellet(infer_property_values = True, infer_data_property_values = True)\n",
    "#print(iris15.iris, iris2.iris)\n",
    "onto.destroy()"
   ],
   "metadata": {
    "collapsed": false,
    "pycharm": {
     "name": "#%%\n"
    }
   }
  },
  {
   "cell_type": "code",
   "execution_count": 3,
   "outputs": [],
   "source": [],
   "metadata": {
    "collapsed": false,
    "pycharm": {
     "name": "#%%\n"
    }
   }
  }
 ],
 "metadata": {
  "kernelspec": {
   "display_name": "Python 3 (ipykernel)",
   "language": "python",
   "name": "python3"
  },
  "language_info": {
   "codemirror_mode": {
    "name": "ipython",
    "version": 3
   },
   "file_extension": ".py",
   "mimetype": "text/x-python",
   "name": "python",
   "nbconvert_exporter": "python",
   "pygments_lexer": "ipython3",
   "version": "3.9.7"
  }
 },
 "nbformat": 4,
 "nbformat_minor": 5
}