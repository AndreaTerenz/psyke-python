{
 "cells": [
  {
   "cell_type": "code",
   "execution_count": 1,
   "id": "6b710e7c",
   "metadata": {},
   "outputs": [],
   "source": [
    "from sklearn.datasets import load_iris\n",
    "import pandas as pd\n",
    "from psyke.utils.dataframe import get_discrete_features_supervised, get_discrete_dataset\n",
    "from psyke.utils.logic import pretty_theory\n",
    "from psyke import Extractor\n",
    "from sklearn.neighbors import KNeighborsClassifier\n",
    "from sklearn.model_selection import train_test_split"
   ]
  },
  {
   "cell_type": "code",
   "execution_count": 2,
   "id": "f8e46c49",
   "metadata": {},
   "outputs": [],
   "source": [
    "x, y = load_iris(return_X_y=True, as_frame=True)\n",
    "x.columns = ['SepalLength', 'SepalWidth', 'PetalLength', 'PetalWidth']\n",
    "y = pd.DataFrame(y).replace({\"target\": {0: 'setosa', 1: 'virginica', 2: 'versicolor'}})\n",
    "y.columns = ['iris']\n",
    "\n",
    "dataset = x.join(y)\n",
    "\n",
    "iris_features = get_discrete_features_supervised(dataset)\n",
    "x = get_discrete_dataset(x, iris_features)\n",
    "\n",
    "discretized = x.join(y)"
   ]
  },
  {
   "cell_type": "code",
   "execution_count": 3,
   "outputs": [
    {
     "name": "stdout",
     "output_type": "stream",
     "text": [
      "Extracted rules:\n",
      "\n",
      "iris(PetalLength, PetalWidth, SepalLength, SepalWidth, setosa) :-\n",
      "    PetalWidth =< 0.6474, SepalLength =< 5.3892, PetalLength not_in [2.2685, 4.865].\n",
      "iris(PetalLength, PetalWidth, SepalLength, SepalWidth, setosa) :-\n",
      "    SepalLength in [5.3892, 6.262], SepalWidth > 3.201, PetalLength not_in [2.2685, 4.865], PetalLength =< 4.865, PetalWidth not_in [0.6474, 1.6376], PetalWidth =< 1.6376.\n",
      "iris(PetalLength, PetalWidth, SepalLength, SepalWidth, versicolor) :-\n",
      "    PetalLength > 4.865, SepalLength > 6.262, PetalWidth > 0.6474, SepalWidth > 2.872.\n",
      "iris(PetalLength, PetalWidth, SepalLength, SepalWidth, versicolor) :-\n",
      "    PetalWidth > 1.6376, PetalLength > 2.2685, PetalLength not_in [2.2685, 4.865].\n",
      "iris(PetalLength, PetalWidth, SepalLength, SepalWidth, virginica) :-\n",
      "    SepalWidth =< 2.872, PetalLength > 2.2685, PetalLength =< 4.865, PetalWidth > 0.6474, PetalWidth =< 1.6376.\n",
      "iris(PetalLength, PetalWidth, SepalLength, SepalWidth, virginica) :-\n",
      "    PetalLength > 2.2685, PetalLength =< 4.865, PetalWidth > 0.6474, PetalWidth =< 1.6376, SepalLength > 5.3892, SepalLength =< 6.262, SepalWidth =< 3.201.\n",
      "iris(PetalLength, PetalWidth, SepalLength, SepalWidth, virginica) :-\n",
      "    PetalWidth in [0.6474, 1.6376], PetalLength > 2.2685, PetalLength =< 4.865, SepalWidth =< 3.201.\n",
      "iris(PetalLength, PetalWidth, SepalLength, SepalWidth, virginica) :-\n",
      "    PetalLength in [2.2685, 4.865], SepalWidth =< 2.872, PetalWidth > 0.6474, SepalLength =< 6.262.\n",
      "iris(PetalLength, PetalWidth, SepalLength, SepalWidth, virginica) :-\n",
      "    PetalLength in [2.2685, 4.865], SepalLength in [5.3892, 6.262], PetalWidth > 0.6474, SepalWidth =< 3.201.\n",
      "iris(PetalLength, PetalWidth, SepalLength, SepalWidth, virginica) :-\n",
      "    PetalWidth in [0.6474, 1.6376], PetalLength > 2.2685, SepalLength =< 6.262, SepalWidth =< 3.201.\n",
      "iris(PetalLength, PetalWidth, SepalLength, SepalWidth, virginica) :-\n",
      "    PetalWidth in [0.6474, 1.6376], SepalWidth =< 2.872, SepalLength > 5.3892.\n"
     ]
    }
   ],
   "source": [
    "_, original_test = train_test_split(dataset, test_size=0.5, random_state=1)\n",
    "train, test = train_test_split(discretized, test_size=0.5, random_state=1)\n",
    "\n",
    "predictor = KNeighborsClassifier(n_neighbors=7)\n",
    "predictor.fit(train.iloc[:, :-1], train.iloc[:, -1])\n",
    "\n",
    "extractor = Extractor.real(predictor, iris_features)\n",
    "theory = extractor.extract(train)\n",
    "print('Extracted rules:\\n\\n' + pretty_theory(theory))"
   ],
   "metadata": {
    "collapsed": false,
    "pycharm": {
     "name": "#%%\n"
    }
   }
  },
  {
   "cell_type": "code",
   "execution_count": 4,
   "outputs": [
    {
     "name": "stderr",
     "output_type": "stream",
     "text": [
      "* Owlready2 * Warning: optimized Cython parser module 'owlready2_optimized' is not available, defaulting to slower Python implementation\n"
     ]
    },
    {
     "name": "stdout",
     "output_type": "stream",
     "text": [
      "[Iris(?iris), PetalLength(?iris, ?PetalLength), PetalWidth(?iris, ?PetalWidth), SepalLength(?iris, ?SepalLength), SepalWidth(?iris, ?SepalWidth), greaterThan(?SepalLength, 5.3892), lessThanOrEqual(?SepalWidth, 2.872), greaterThan(?PetalWidth, 0.6474), lessThanOrEqual(?PetalWidth, 1.6376) -> iris(?iris, 'virginica'), Iris(?iris), PetalLength(?iris, ?PetalLength), PetalWidth(?iris, ?PetalWidth), SepalLength(?iris, ?SepalLength), SepalWidth(?iris, ?SepalWidth), lessThanOrEqual(?SepalWidth, 3.201), lessThanOrEqual(?SepalLength, 6.262), greaterThan(?PetalLength, 2.2685), greaterThan(?PetalWidth, 0.6474), lessThanOrEqual(?PetalWidth, 1.6376) -> iris(?iris, 'virginica'), Iris(?iris), PetalLength(?iris, ?PetalLength), PetalWidth(?iris, ?PetalWidth), SepalLength(?iris, ?SepalLength), SepalWidth(?iris, ?SepalWidth), lessThanOrEqual(?SepalWidth, 3.201), greaterThan(?PetalWidth, 0.6474), greaterThan(?SepalLength, 5.3892), lessThanOrEqual(?SepalLength, 6.262), greaterThan(?PetalLength, 2.2685), lessThanOrEqual(?PetalLength, 4.865) -> iris(?iris, 'virginica'), Iris(?iris), PetalLength(?iris, ?PetalLength), PetalWidth(?iris, ?PetalWidth), SepalLength(?iris, ?SepalLength), SepalWidth(?iris, ?SepalWidth), lessThanOrEqual(?SepalLength, 6.262), greaterThan(?PetalWidth, 0.6474), lessThanOrEqual(?SepalWidth, 2.872), greaterThan(?PetalLength, 2.2685), lessThanOrEqual(?PetalLength, 4.865) -> iris(?iris, 'virginica'), Iris(?iris), PetalLength(?iris, ?PetalLength), PetalWidth(?iris, ?PetalWidth), SepalLength(?iris, ?SepalLength), SepalWidth(?iris, ?SepalWidth), lessThanOrEqual(?SepalWidth, 3.201), lessThanOrEqual(?PetalLength, 4.865), greaterThan(?PetalLength, 2.2685), greaterThan(?PetalWidth, 0.6474), lessThanOrEqual(?PetalWidth, 1.6376) -> iris(?iris, 'virginica'), Iris(?iris), PetalLength(?iris, ?PetalLength), PetalWidth(?iris, ?PetalWidth), SepalLength(?iris, ?SepalLength), SepalWidth(?iris, ?SepalWidth), lessThanOrEqual(?SepalWidth, 3.201), lessThanOrEqual(?SepalLength, 6.262), greaterThan(?SepalLength, 5.3892), lessThanOrEqual(?PetalWidth, 1.6376), greaterThan(?PetalWidth, 0.6474), lessThanOrEqual(?PetalLength, 4.865), greaterThan(?PetalLength, 2.2685) -> iris(?iris, 'virginica'), Iris(?iris), PetalLength(?iris, ?PetalLength), PetalWidth(?iris, ?PetalWidth), SepalLength(?iris, ?SepalLength), SepalWidth(?iris, ?SepalWidth), lessThanOrEqual(?PetalWidth, 1.6376), greaterThan(?PetalWidth, 0.6474), lessThanOrEqual(?PetalLength, 4.865), greaterThan(?PetalLength, 2.2685), lessThanOrEqual(?SepalWidth, 2.872) -> iris(?iris, 'virginica'), Iris(?iris), PetalLength(?iris, ?PetalLength), PetalWidth(?iris, ?PetalWidth), SepalLength(?iris, ?SepalLength), SepalWidth(?iris, ?SepalWidth), greaterThan(?PetalLength, 4.865), greaterThan(?PetalLength, 2.2685), greaterThan(?PetalWidth, 1.6376) -> iris(?iris, 'versicolor'), Iris(?iris), PetalLength(?iris, ?PetalLength), PetalWidth(?iris, ?PetalWidth), SepalLength(?iris, ?SepalLength), SepalWidth(?iris, ?SepalWidth), lessThanOrEqual(?PetalLength, 2.2685), greaterThan(?PetalLength, 2.2685), greaterThan(?PetalWidth, 1.6376) -> iris(?iris, 'versicolor'), Iris(?iris), PetalLength(?iris, ?PetalLength), PetalWidth(?iris, ?PetalWidth), SepalLength(?iris, ?SepalLength), SepalWidth(?iris, ?SepalWidth), greaterThan(?SepalWidth, 2.872), greaterThan(?PetalWidth, 0.6474), greaterThan(?SepalLength, 6.262), greaterThan(?PetalLength, 4.865) -> iris(?iris, 'versicolor'), Iris(?iris), PetalLength(?iris, ?PetalLength), PetalWidth(?iris, ?PetalWidth), SepalLength(?iris, ?SepalLength), SepalWidth(?iris, ?SepalWidth), lessThanOrEqual(?PetalWidth, 1.6376), greaterThan(?PetalWidth, 1.6376), lessThanOrEqual(?PetalLength, 4.865), greaterThan(?PetalLength, 4.865), greaterThan(?SepalWidth, 3.201), greaterThan(?SepalLength, 5.3892), lessThanOrEqual(?SepalLength, 6.262) -> iris(?iris, 'setosa'), Iris(?iris), PetalLength(?iris, ?PetalLength), PetalWidth(?iris, ?PetalWidth), SepalLength(?iris, ?SepalLength), SepalWidth(?iris, ?SepalWidth), lessThanOrEqual(?PetalWidth, 1.6376), lessThanOrEqual(?PetalWidth, 0.6474), lessThanOrEqual(?PetalLength, 4.865), greaterThan(?PetalLength, 4.865), greaterThan(?SepalWidth, 3.201), greaterThan(?SepalLength, 5.3892), lessThanOrEqual(?SepalLength, 6.262) -> iris(?iris, 'setosa'), Iris(?iris), PetalLength(?iris, ?PetalLength), PetalWidth(?iris, ?PetalWidth), SepalLength(?iris, ?SepalLength), SepalWidth(?iris, ?SepalWidth), lessThanOrEqual(?PetalWidth, 1.6376), greaterThan(?PetalWidth, 1.6376), lessThanOrEqual(?PetalLength, 4.865), lessThanOrEqual(?PetalLength, 2.2685), greaterThan(?SepalWidth, 3.201), greaterThan(?SepalLength, 5.3892), lessThanOrEqual(?SepalLength, 6.262) -> iris(?iris, 'setosa'), Iris(?iris), PetalLength(?iris, ?PetalLength), PetalWidth(?iris, ?PetalWidth), SepalLength(?iris, ?SepalLength), SepalWidth(?iris, ?SepalWidth), lessThanOrEqual(?PetalWidth, 1.6376), lessThanOrEqual(?PetalWidth, 0.6474), lessThanOrEqual(?PetalLength, 4.865), lessThanOrEqual(?PetalLength, 2.2685), greaterThan(?SepalWidth, 3.201), greaterThan(?SepalLength, 5.3892), lessThanOrEqual(?SepalLength, 6.262) -> iris(?iris, 'setosa'), Iris(?iris), PetalLength(?iris, ?PetalLength), PetalWidth(?iris, ?PetalWidth), SepalLength(?iris, ?SepalLength), SepalWidth(?iris, ?SepalWidth), greaterThan(?PetalLength, 4.865), lessThanOrEqual(?SepalLength, 5.3892), lessThanOrEqual(?PetalWidth, 0.6474) -> iris(?iris, 'setosa'), Iris(?iris), PetalLength(?iris, ?PetalLength), PetalWidth(?iris, ?PetalWidth), SepalLength(?iris, ?SepalLength), SepalWidth(?iris, ?SepalWidth), lessThanOrEqual(?PetalLength, 2.2685), lessThanOrEqual(?SepalLength, 5.3892), lessThanOrEqual(?PetalWidth, 0.6474) -> iris(?iris, 'setosa')]\n"
     ]
    }
   ],
   "source": [
    "from psyke.utils.ontology import dataframe_to_ontology, rules_from_theory, individuals_from_dataframe\n",
    "from owlready2 import *\n",
    "owlready2.JAVA_EXE = \"C:\\\\Program Files (x86)\\\\Common Files\\\\Oracle\\\\Java\\\\javapath\\\\java.exe\"\n",
    "\n",
    "onto = dataframe_to_ontology(dataset)\n",
    "individuals = individuals_from_dataframe(onto, original_test.iloc[:, :-1])\n",
    "onto = rules_from_theory(onto, theory, dataset)\n",
    "\n",
    "sync_reasoner_pellet(infer_property_values = True, infer_data_property_values = True, debug = 0)\n",
    "#for individual, output in zip(individuals, original_test.iloc[:, -1]):\n",
    "#    print(individual.iris, output)\n",
    "\n",
    "print(list(onto.rules()))"
   ],
   "metadata": {
    "collapsed": false,
    "pycharm": {
     "name": "#%%\n"
    }
   }
  }
 ],
 "metadata": {
  "kernelspec": {
   "display_name": "Python 3 (ipykernel)",
   "language": "python",
   "name": "python3"
  },
  "language_info": {
   "codemirror_mode": {
    "name": "ipython",
    "version": 3
   },
   "file_extension": ".py",
   "mimetype": "text/x-python",
   "name": "python",
   "nbconvert_exporter": "python",
   "pygments_lexer": "ipython3",
   "version": "3.9.7"
  }
 },
 "nbformat": 4,
 "nbformat_minor": 5
}