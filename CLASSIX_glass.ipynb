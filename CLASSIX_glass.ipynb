{
 "cells": [
  {
   "cell_type": "code",
   "execution_count": 1,
   "metadata": {},
   "outputs": [],
   "source": [
    "import numpy as np\n",
    "from psyke import Extractor\n",
    "import pandas as pd\n",
    "from sklearn.model_selection import train_test_split\n",
    "from sklearn import datasets\n",
    "from sklearn import metrics\n",
    "from psyke.clustering.classix.Classix_tuning import tuning_params_classix\n",
    "import plotly.express as px\n",
    "\n",
    "\n",
    "X_path=\"datasets\\X_Glass.npy\"\n",
    "Y_path=\"datasets\\Y_Glass.npy\""
   ]
  },
  {
   "cell_type": "code",
   "execution_count": 2,
   "metadata": {},
   "outputs": [],
   "source": [
    "X=np.load(X_path)\n",
    "Y=np.load(Y_path)"
   ]
  },
  {
   "cell_type": "code",
   "execution_count": 3,
   "metadata": {},
   "outputs": [
    {
     "name": "stdout",
     "output_type": "stream",
     "text": [
      "Number of expected class are: [0 1 2 3 4 5]\n"
     ]
    }
   ],
   "source": [
    "class_expected=np.unique(Y)\n",
    "print(\"Number of expected class are:\", class_expected)"
   ]
  },
  {
   "cell_type": "code",
   "execution_count": 4,
   "metadata": {},
   "outputs": [],
   "source": [
    "X_train, X_test, Y_train, Y_test = train_test_split(X, Y, test_size=0.20, random_state=42)"
   ]
  },
  {
   "attachments": {},
   "cell_type": "markdown",
   "metadata": {},
   "source": [
    "Classix works with merging based on distance"
   ]
  },
  {
   "cell_type": "code",
   "execution_count": 5,
   "metadata": {},
   "outputs": [],
   "source": [
    "parameters = {'minPts':[0,5,10,15,20,25,30,35,40,50], 'radius':[0.1,0.2,0.3,0.5,0.75,1],'scale':[0.5,0.75,1,1.25,1.5,1.75,2]}\n",
    "\n",
    "results=tuning_params_classix(X_train,X_test,Y_test,parameters,'distance')"
   ]
  },
  {
   "cell_type": "code",
   "execution_count": 6,
   "metadata": {},
   "outputs": [
    {
     "name": "stdout",
     "output_type": "stream",
     "text": [
      "The best configuration in distance aggregation has ARI score is  0.3609341825902335  , minPts is:  0  , radius is:  0.5 , scale is:  2\n"
     ]
    }
   ],
   "source": [
    "results_list = [x[0] for x in results]\n",
    "idx_best_configuration=np.argmax(results_list)\n",
    "print(\"The best configuration in distance aggregation has ARI score is \",results[idx_best_configuration][0],\" , minPts is: \",results[idx_best_configuration][1],' , radius is: ',results[idx_best_configuration][2], ', scale is: ',results[idx_best_configuration][3])"
   ]
  },
  {
   "cell_type": "code",
   "execution_count": 7,
   "metadata": {},
   "outputs": [],
   "source": [
    "minPts_best_distance=results[idx_best_configuration][1]\n",
    "radius_best_distance=results[idx_best_configuration][2]\n",
    "scale_best_distance=results[idx_best_configuration][3]"
   ]
  },
  {
   "attachments": {},
   "cell_type": "markdown",
   "metadata": {},
   "source": [
    "Classix works with merging based on density"
   ]
  },
  {
   "cell_type": "code",
   "execution_count": 8,
   "metadata": {},
   "outputs": [],
   "source": [
    "parameters = {'minPts':[0,5,10,15,20,25,30,35,40,50], 'radius':[0.1,0.2,0.3,0.5,0.75,1],'scale':[0.5,0.75,1,1.25,1.5,1.75,2]}\n",
    "\n",
    "results=tuning_params_classix(X_train,X_test,Y_test,parameters,'density')"
   ]
  },
  {
   "cell_type": "code",
   "execution_count": 9,
   "metadata": {},
   "outputs": [
    {
     "name": "stdout",
     "output_type": "stream",
     "text": [
      "The best configuration in density aggregation has ARI score is:  0.34710743801652894  , minPts is:  0  , radius is:  0.75 , scale is:  0.5\n"
     ]
    }
   ],
   "source": [
    "results_list = [x[0] for x in results]\n",
    "idx_best_configuration=np.argmax(results_list)\n",
    "print(\"The best configuration in density aggregation has ARI score is: \",results[idx_best_configuration][0],\" , minPts is: \",results[idx_best_configuration][1],' , radius is: ',results[idx_best_configuration][2],', scale is: ',results[idx_best_configuration][3])"
   ]
  },
  {
   "cell_type": "code",
   "execution_count": 10,
   "metadata": {},
   "outputs": [],
   "source": [
    "minPts_best_density=results[idx_best_configuration][1]\n",
    "radius_best_density=results[idx_best_configuration][2]\n",
    "scale_best_density=results[idx_best_configuration][3]"
   ]
  },
  {
   "attachments": {},
   "cell_type": "markdown",
   "metadata": {},
   "source": [
    "Plot results"
   ]
  },
  {
   "cell_type": "code",
   "execution_count": 11,
   "metadata": {},
   "outputs": [],
   "source": [
    "df_test=pd.DataFrame(pd.concat([pd.DataFrame(X_test,columns=[0,1,2,3,4,5,6,7,8]),pd.DataFrame(Y_test,columns=[9])],axis=1))"
   ]
  },
  {
   "cell_type": "code",
   "execution_count": 12,
   "metadata": {},
   "outputs": [
    {
     "data": {
      "application/vnd.plotly.v1+json": {
       "config": {
        "plotlyServerURL": "https://plot.ly"
       },
       "data": [
        {
         "dimensions": [
          {
           "axis": {
            "matches": true
           },
           "label": "0",
           "values": [
            1.51755,
            1.51727,
            1.52152,
            1.51602,
            1.51708,
            1.52739,
            1.51761,
            1.51569,
            1.5159,
            1.5166,
            1.51916,
            1.52369,
            1.51851,
            1.51631,
            1.51829,
            1.51969,
            1.51613,
            1.51911,
            1.5190000000000001,
            1.51115,
            1.51689,
            1.51623,
            1.52065,
            1.51545,
            1.5167,
            1.5241,
            1.51768,
            1.51764,
            1.52119,
            1.51784,
            1.51769,
            1.51674,
            1.51776,
            1.5159,
            1.5230000000000001,
            1.5165799999999998,
            1.51316,
            1.51779,
            1.5174299999999998,
            1.51409,
            1.5173,
            1.51508,
            1.51905
           ]
          },
          {
           "axis": {
            "matches": true
           },
           "label": "1",
           "values": [
            13,
            14.7,
            13.05,
            14.85,
            13.72,
            11.02,
            12.81,
            13.24,
            13.02,
            12.99,
            14.15,
            13.44,
            13.2,
            13.34,
            14.46,
            12.64,
            13.88,
            13.9,
            13.49,
            17.38,
            12.67,
            14.14,
            14.36,
            14.14,
            13.24,
            13.83,
            12.65,
            12.98,
            12.97,
            12.68,
            12.45,
            12.79,
            13.53,
            13.24,
            13.31,
            14.8,
            13.02,
            13.64,
            12.2,
            14.25,
            12.35,
            15.15,
            13.6
           ]
          },
          {
           "axis": {
            "matches": true
           },
           "label": "2",
           "values": [
            3.6,
            0,
            3.65,
            0,
            3.68,
            0,
            3.54,
            3.49,
            3.58,
            3.18,
            0,
            0,
            3.63,
            3.57,
            2.24,
            0,
            1.78,
            3.73,
            3.48,
            0,
            2.88,
            0,
            0,
            0,
            3.57,
            2.9,
            3.56,
            3.54,
            0.33,
            3.67,
            2.71,
            3.52,
            3.41,
            3.34,
            3.58,
            0,
            0,
            3.65,
            3.25,
            3.09,
            2.72,
            0,
            3.62
           ]
          },
          {
           "axis": {
            "matches": true
           },
           "label": "3",
           "values": [
            1.36,
            2.34,
            0.87,
            2.38,
            1.81,
            0.75,
            1.23,
            1.47,
            1.51,
            1.23,
            2.09,
            1.58,
            1.07,
            1.57,
            1.62,
            1.65,
            1.79,
            1.18,
            1.35,
            0.34,
            1.71,
            2.88,
            2.02,
            2.68,
            1.38,
            1.17,
            1.3,
            1.21,
            1.51,
            1.16,
            1.29,
            1.54,
            1.52,
            1.47,
            0.82,
            1.99,
            3.04,
            0.65,
            1.16,
            2.08,
            1.63,
            2.25,
            1.11
           ]
          },
          {
           "axis": {
            "matches": true
           },
           "label": "4",
           "values": [
            72.99,
            73.28,
            72.22,
            73.28,
            72.06,
            73.08,
            73.24,
            73.25,
            73.12,
            72.97,
            72.74,
            72.22,
            72.83,
            72.87,
            72.38,
            73.75,
            73.1,
            72.12,
            71.95,
            75.41,
            73.21,
            72.61,
            73.42,
            73.39,
            72.7,
            71.15,
            73.08,
            73,
            73.39,
            73.11,
            73.7,
            73.36,
            72.04,
            73.1,
            71.99,
            73.11,
            70.48,
            73,
            73.55,
            72.28,
            72.87,
            73.5,
            72.64
           ]
          },
          {
           "axis": {
            "matches": true
           },
           "label": "5",
           "values": [
            0.57,
            0,
            0.19,
            0,
            0.64,
            0,
            0.58,
            0.38,
            0.69,
            0.58,
            0,
            0.32,
            0.57,
            0.61,
            0,
            0.38,
            0,
            0.06,
            0.55,
            0,
            0.73,
            0.08,
            0,
            0.08,
            0.56,
            0.08,
            0.61,
            0.65,
            0.13,
            0.61,
            0.56,
            0.66,
            0.58,
            0.39,
            0.12,
            0,
            6.21,
            0.06,
            0.62,
            1.1,
            0.7,
            0,
            0.14
           ]
          },
          {
           "axis": {
            "matches": true
           },
           "label": "6",
           "values": [
            8.4,
            8.95,
            9.85,
            8.76,
            7.88,
            14.96,
            8.39,
            8.03,
            7.96,
            8.81,
            10.88,
            12.24,
            8.41,
            7.89,
            9.26,
            11.53,
            8.67,
            8.89,
            9,
            6.65,
            8.54,
            9.18,
            8.44,
            9.07,
            8.44,
            10.79,
            8.69,
            8.53,
            11.27,
            8.7,
            9.06,
            7.9,
            8.79,
            8.22,
            10.17,
            8.28,
            6.96,
            8.93,
            8.9,
            7.08,
            9.23,
            8.34,
            8.76
           ]
          },
          {
           "axis": {
            "matches": true
           },
           "label": "7",
           "values": [
            0,
            0.66,
            0,
            0.64,
            0,
            0,
            0,
            0,
            0,
            0,
            0,
            0,
            0.09,
            0,
            0,
            0,
            0.76,
            0,
            0,
            0,
            0,
            1.06,
            1.64,
            0.61,
            0,
            0,
            0,
            0,
            0,
            0,
            0,
            0,
            0,
            0,
            0,
            1.71,
            0,
            0,
            0,
            0,
            0,
            0.63,
            0
           ]
          },
          {
           "axis": {
            "matches": true
           },
           "label": "8",
           "values": [
            0.11,
            0,
            0.17,
            0.09,
            0,
            0,
            0,
            0,
            0,
            0.24,
            0,
            0,
            0.17,
            0,
            0,
            0,
            0,
            0,
            0,
            0,
            0,
            0,
            0,
            0.05,
            0.1,
            0,
            0.14,
            0,
            0.28,
            0,
            0.24,
            0,
            0,
            0,
            0.03,
            0,
            0,
            0,
            0.24,
            0,
            0,
            0,
            0
           ]
          }
         ],
         "hovertemplate": "%{xaxis.title.text}=%{x}<br>%{yaxis.title.text}=%{y}<br>9=%{marker.color}<extra></extra>",
         "legendgroup": "",
         "marker": {
          "color": [
           0,
           5,
           0,
           5,
           1,
           1,
           0,
           1,
           1,
           1,
           4,
           3,
           1,
           1,
           4,
           3,
           5,
           0,
           0,
           4,
           1,
           5,
           5,
           5,
           2,
           1,
           0,
           0,
           3,
           0,
           0,
           1,
           2,
           1,
           0,
           5,
           3,
           2,
           1,
           1,
           1,
           5,
           0
          ],
          "coloraxis": "coloraxis",
          "symbol": "circle"
         },
         "name": "",
         "showlegend": false,
         "type": "splom"
        }
       ],
       "layout": {
        "coloraxis": {
         "colorbar": {
          "title": {
           "text": "9"
          }
         },
         "colorscale": [
          [
           0,
           "#0d0887"
          ],
          [
           0.1111111111111111,
           "#46039f"
          ],
          [
           0.2222222222222222,
           "#7201a8"
          ],
          [
           0.3333333333333333,
           "#9c179e"
          ],
          [
           0.4444444444444444,
           "#bd3786"
          ],
          [
           0.5555555555555556,
           "#d8576b"
          ],
          [
           0.6666666666666666,
           "#ed7953"
          ],
          [
           0.7777777777777778,
           "#fb9f3a"
          ],
          [
           0.8888888888888888,
           "#fdca26"
          ],
          [
           1,
           "#f0f921"
          ]
         ]
        },
        "dragmode": "select",
        "legend": {
         "tracegroupgap": 0
        },
        "margin": {
         "t": 60
        },
        "template": {
         "data": {
          "bar": [
           {
            "error_x": {
             "color": "#2a3f5f"
            },
            "error_y": {
             "color": "#2a3f5f"
            },
            "marker": {
             "line": {
              "color": "#E5ECF6",
              "width": 0.5
             },
             "pattern": {
              "fillmode": "overlay",
              "size": 10,
              "solidity": 0.2
             }
            },
            "type": "bar"
           }
          ],
          "barpolar": [
           {
            "marker": {
             "line": {
              "color": "#E5ECF6",
              "width": 0.5
             },
             "pattern": {
              "fillmode": "overlay",
              "size": 10,
              "solidity": 0.2
             }
            },
            "type": "barpolar"
           }
          ],
          "carpet": [
           {
            "aaxis": {
             "endlinecolor": "#2a3f5f",
             "gridcolor": "white",
             "linecolor": "white",
             "minorgridcolor": "white",
             "startlinecolor": "#2a3f5f"
            },
            "baxis": {
             "endlinecolor": "#2a3f5f",
             "gridcolor": "white",
             "linecolor": "white",
             "minorgridcolor": "white",
             "startlinecolor": "#2a3f5f"
            },
            "type": "carpet"
           }
          ],
          "choropleth": [
           {
            "colorbar": {
             "outlinewidth": 0,
             "ticks": ""
            },
            "type": "choropleth"
           }
          ],
          "contour": [
           {
            "colorbar": {
             "outlinewidth": 0,
             "ticks": ""
            },
            "colorscale": [
             [
              0,
              "#0d0887"
             ],
             [
              0.1111111111111111,
              "#46039f"
             ],
             [
              0.2222222222222222,
              "#7201a8"
             ],
             [
              0.3333333333333333,
              "#9c179e"
             ],
             [
              0.4444444444444444,
              "#bd3786"
             ],
             [
              0.5555555555555556,
              "#d8576b"
             ],
             [
              0.6666666666666666,
              "#ed7953"
             ],
             [
              0.7777777777777778,
              "#fb9f3a"
             ],
             [
              0.8888888888888888,
              "#fdca26"
             ],
             [
              1,
              "#f0f921"
             ]
            ],
            "type": "contour"
           }
          ],
          "contourcarpet": [
           {
            "colorbar": {
             "outlinewidth": 0,
             "ticks": ""
            },
            "type": "contourcarpet"
           }
          ],
          "heatmap": [
           {
            "colorbar": {
             "outlinewidth": 0,
             "ticks": ""
            },
            "colorscale": [
             [
              0,
              "#0d0887"
             ],
             [
              0.1111111111111111,
              "#46039f"
             ],
             [
              0.2222222222222222,
              "#7201a8"
             ],
             [
              0.3333333333333333,
              "#9c179e"
             ],
             [
              0.4444444444444444,
              "#bd3786"
             ],
             [
              0.5555555555555556,
              "#d8576b"
             ],
             [
              0.6666666666666666,
              "#ed7953"
             ],
             [
              0.7777777777777778,
              "#fb9f3a"
             ],
             [
              0.8888888888888888,
              "#fdca26"
             ],
             [
              1,
              "#f0f921"
             ]
            ],
            "type": "heatmap"
           }
          ],
          "heatmapgl": [
           {
            "colorbar": {
             "outlinewidth": 0,
             "ticks": ""
            },
            "colorscale": [
             [
              0,
              "#0d0887"
             ],
             [
              0.1111111111111111,
              "#46039f"
             ],
             [
              0.2222222222222222,
              "#7201a8"
             ],
             [
              0.3333333333333333,
              "#9c179e"
             ],
             [
              0.4444444444444444,
              "#bd3786"
             ],
             [
              0.5555555555555556,
              "#d8576b"
             ],
             [
              0.6666666666666666,
              "#ed7953"
             ],
             [
              0.7777777777777778,
              "#fb9f3a"
             ],
             [
              0.8888888888888888,
              "#fdca26"
             ],
             [
              1,
              "#f0f921"
             ]
            ],
            "type": "heatmapgl"
           }
          ],
          "histogram": [
           {
            "marker": {
             "pattern": {
              "fillmode": "overlay",
              "size": 10,
              "solidity": 0.2
             }
            },
            "type": "histogram"
           }
          ],
          "histogram2d": [
           {
            "colorbar": {
             "outlinewidth": 0,
             "ticks": ""
            },
            "colorscale": [
             [
              0,
              "#0d0887"
             ],
             [
              0.1111111111111111,
              "#46039f"
             ],
             [
              0.2222222222222222,
              "#7201a8"
             ],
             [
              0.3333333333333333,
              "#9c179e"
             ],
             [
              0.4444444444444444,
              "#bd3786"
             ],
             [
              0.5555555555555556,
              "#d8576b"
             ],
             [
              0.6666666666666666,
              "#ed7953"
             ],
             [
              0.7777777777777778,
              "#fb9f3a"
             ],
             [
              0.8888888888888888,
              "#fdca26"
             ],
             [
              1,
              "#f0f921"
             ]
            ],
            "type": "histogram2d"
           }
          ],
          "histogram2dcontour": [
           {
            "colorbar": {
             "outlinewidth": 0,
             "ticks": ""
            },
            "colorscale": [
             [
              0,
              "#0d0887"
             ],
             [
              0.1111111111111111,
              "#46039f"
             ],
             [
              0.2222222222222222,
              "#7201a8"
             ],
             [
              0.3333333333333333,
              "#9c179e"
             ],
             [
              0.4444444444444444,
              "#bd3786"
             ],
             [
              0.5555555555555556,
              "#d8576b"
             ],
             [
              0.6666666666666666,
              "#ed7953"
             ],
             [
              0.7777777777777778,
              "#fb9f3a"
             ],
             [
              0.8888888888888888,
              "#fdca26"
             ],
             [
              1,
              "#f0f921"
             ]
            ],
            "type": "histogram2dcontour"
           }
          ],
          "mesh3d": [
           {
            "colorbar": {
             "outlinewidth": 0,
             "ticks": ""
            },
            "type": "mesh3d"
           }
          ],
          "parcoords": [
           {
            "line": {
             "colorbar": {
              "outlinewidth": 0,
              "ticks": ""
             }
            },
            "type": "parcoords"
           }
          ],
          "pie": [
           {
            "automargin": true,
            "type": "pie"
           }
          ],
          "scatter": [
           {
            "fillpattern": {
             "fillmode": "overlay",
             "size": 10,
             "solidity": 0.2
            },
            "type": "scatter"
           }
          ],
          "scatter3d": [
           {
            "line": {
             "colorbar": {
              "outlinewidth": 0,
              "ticks": ""
             }
            },
            "marker": {
             "colorbar": {
              "outlinewidth": 0,
              "ticks": ""
             }
            },
            "type": "scatter3d"
           }
          ],
          "scattercarpet": [
           {
            "marker": {
             "colorbar": {
              "outlinewidth": 0,
              "ticks": ""
             }
            },
            "type": "scattercarpet"
           }
          ],
          "scattergeo": [
           {
            "marker": {
             "colorbar": {
              "outlinewidth": 0,
              "ticks": ""
             }
            },
            "type": "scattergeo"
           }
          ],
          "scattergl": [
           {
            "marker": {
             "colorbar": {
              "outlinewidth": 0,
              "ticks": ""
             }
            },
            "type": "scattergl"
           }
          ],
          "scattermapbox": [
           {
            "marker": {
             "colorbar": {
              "outlinewidth": 0,
              "ticks": ""
             }
            },
            "type": "scattermapbox"
           }
          ],
          "scatterpolar": [
           {
            "marker": {
             "colorbar": {
              "outlinewidth": 0,
              "ticks": ""
             }
            },
            "type": "scatterpolar"
           }
          ],
          "scatterpolargl": [
           {
            "marker": {
             "colorbar": {
              "outlinewidth": 0,
              "ticks": ""
             }
            },
            "type": "scatterpolargl"
           }
          ],
          "scatterternary": [
           {
            "marker": {
             "colorbar": {
              "outlinewidth": 0,
              "ticks": ""
             }
            },
            "type": "scatterternary"
           }
          ],
          "surface": [
           {
            "colorbar": {
             "outlinewidth": 0,
             "ticks": ""
            },
            "colorscale": [
             [
              0,
              "#0d0887"
             ],
             [
              0.1111111111111111,
              "#46039f"
             ],
             [
              0.2222222222222222,
              "#7201a8"
             ],
             [
              0.3333333333333333,
              "#9c179e"
             ],
             [
              0.4444444444444444,
              "#bd3786"
             ],
             [
              0.5555555555555556,
              "#d8576b"
             ],
             [
              0.6666666666666666,
              "#ed7953"
             ],
             [
              0.7777777777777778,
              "#fb9f3a"
             ],
             [
              0.8888888888888888,
              "#fdca26"
             ],
             [
              1,
              "#f0f921"
             ]
            ],
            "type": "surface"
           }
          ],
          "table": [
           {
            "cells": {
             "fill": {
              "color": "#EBF0F8"
             },
             "line": {
              "color": "white"
             }
            },
            "header": {
             "fill": {
              "color": "#C8D4E3"
             },
             "line": {
              "color": "white"
             }
            },
            "type": "table"
           }
          ]
         },
         "layout": {
          "annotationdefaults": {
           "arrowcolor": "#2a3f5f",
           "arrowhead": 0,
           "arrowwidth": 1
          },
          "autotypenumbers": "strict",
          "coloraxis": {
           "colorbar": {
            "outlinewidth": 0,
            "ticks": ""
           }
          },
          "colorscale": {
           "diverging": [
            [
             0,
             "#8e0152"
            ],
            [
             0.1,
             "#c51b7d"
            ],
            [
             0.2,
             "#de77ae"
            ],
            [
             0.3,
             "#f1b6da"
            ],
            [
             0.4,
             "#fde0ef"
            ],
            [
             0.5,
             "#f7f7f7"
            ],
            [
             0.6,
             "#e6f5d0"
            ],
            [
             0.7,
             "#b8e186"
            ],
            [
             0.8,
             "#7fbc41"
            ],
            [
             0.9,
             "#4d9221"
            ],
            [
             1,
             "#276419"
            ]
           ],
           "sequential": [
            [
             0,
             "#0d0887"
            ],
            [
             0.1111111111111111,
             "#46039f"
            ],
            [
             0.2222222222222222,
             "#7201a8"
            ],
            [
             0.3333333333333333,
             "#9c179e"
            ],
            [
             0.4444444444444444,
             "#bd3786"
            ],
            [
             0.5555555555555556,
             "#d8576b"
            ],
            [
             0.6666666666666666,
             "#ed7953"
            ],
            [
             0.7777777777777778,
             "#fb9f3a"
            ],
            [
             0.8888888888888888,
             "#fdca26"
            ],
            [
             1,
             "#f0f921"
            ]
           ],
           "sequentialminus": [
            [
             0,
             "#0d0887"
            ],
            [
             0.1111111111111111,
             "#46039f"
            ],
            [
             0.2222222222222222,
             "#7201a8"
            ],
            [
             0.3333333333333333,
             "#9c179e"
            ],
            [
             0.4444444444444444,
             "#bd3786"
            ],
            [
             0.5555555555555556,
             "#d8576b"
            ],
            [
             0.6666666666666666,
             "#ed7953"
            ],
            [
             0.7777777777777778,
             "#fb9f3a"
            ],
            [
             0.8888888888888888,
             "#fdca26"
            ],
            [
             1,
             "#f0f921"
            ]
           ]
          },
          "colorway": [
           "#636efa",
           "#EF553B",
           "#00cc96",
           "#ab63fa",
           "#FFA15A",
           "#19d3f3",
           "#FF6692",
           "#B6E880",
           "#FF97FF",
           "#FECB52"
          ],
          "font": {
           "color": "#2a3f5f"
          },
          "geo": {
           "bgcolor": "white",
           "lakecolor": "white",
           "landcolor": "#E5ECF6",
           "showlakes": true,
           "showland": true,
           "subunitcolor": "white"
          },
          "hoverlabel": {
           "align": "left"
          },
          "hovermode": "closest",
          "mapbox": {
           "style": "light"
          },
          "paper_bgcolor": "white",
          "plot_bgcolor": "#E5ECF6",
          "polar": {
           "angularaxis": {
            "gridcolor": "white",
            "linecolor": "white",
            "ticks": ""
           },
           "bgcolor": "#E5ECF6",
           "radialaxis": {
            "gridcolor": "white",
            "linecolor": "white",
            "ticks": ""
           }
          },
          "scene": {
           "xaxis": {
            "backgroundcolor": "#E5ECF6",
            "gridcolor": "white",
            "gridwidth": 2,
            "linecolor": "white",
            "showbackground": true,
            "ticks": "",
            "zerolinecolor": "white"
           },
           "yaxis": {
            "backgroundcolor": "#E5ECF6",
            "gridcolor": "white",
            "gridwidth": 2,
            "linecolor": "white",
            "showbackground": true,
            "ticks": "",
            "zerolinecolor": "white"
           },
           "zaxis": {
            "backgroundcolor": "#E5ECF6",
            "gridcolor": "white",
            "gridwidth": 2,
            "linecolor": "white",
            "showbackground": true,
            "ticks": "",
            "zerolinecolor": "white"
           }
          },
          "shapedefaults": {
           "line": {
            "color": "#2a3f5f"
           }
          },
          "ternary": {
           "aaxis": {
            "gridcolor": "white",
            "linecolor": "white",
            "ticks": ""
           },
           "baxis": {
            "gridcolor": "white",
            "linecolor": "white",
            "ticks": ""
           },
           "bgcolor": "#E5ECF6",
           "caxis": {
            "gridcolor": "white",
            "linecolor": "white",
            "ticks": ""
           }
          },
          "title": {
           "x": 0.05
          },
          "xaxis": {
           "automargin": true,
           "gridcolor": "white",
           "linecolor": "white",
           "ticks": "",
           "title": {
            "standoff": 15
           },
           "zerolinecolor": "white",
           "zerolinewidth": 2
          },
          "yaxis": {
           "automargin": true,
           "gridcolor": "white",
           "linecolor": "white",
           "ticks": "",
           "title": {
            "standoff": 15
           },
           "zerolinecolor": "white",
           "zerolinewidth": 2
          }
         }
        }
       }
      }
     },
     "metadata": {},
     "output_type": "display_data"
    }
   ],
   "source": [
    "fig = px.scatter_matrix(df_test,\n",
    "    dimensions=[0,1,2,3,4,5,6,7,8],\n",
    "    color=9)\n",
    "fig.show()"
   ]
  },
  {
   "cell_type": "code",
   "execution_count": 13,
   "metadata": {},
   "outputs": [
    {
     "data": {
      "application/vnd.plotly.v1+json": {
       "config": {
        "plotlyServerURL": "https://plot.ly"
       },
       "data": [
        {
         "dimensions": [
          {
           "axis": {
            "matches": true
           },
           "label": "0",
           "values": [
            1.51755,
            1.51727,
            1.52152,
            1.51602,
            1.51708,
            1.52739,
            1.51761,
            1.51569,
            1.5159,
            1.5166,
            1.51916,
            1.52369,
            1.51851,
            1.51631,
            1.51829,
            1.51969,
            1.51613,
            1.51911,
            1.5190000000000001,
            1.51115,
            1.51689,
            1.51623,
            1.52065,
            1.51545,
            1.5167,
            1.5241,
            1.51768,
            1.51764,
            1.52119,
            1.51784,
            1.51769,
            1.51674,
            1.51776,
            1.5159,
            1.5230000000000001,
            1.5165799999999998,
            1.51316,
            1.51779,
            1.5174299999999998,
            1.51409,
            1.5173,
            1.51508,
            1.51905
           ]
          },
          {
           "axis": {
            "matches": true
           },
           "label": "1",
           "values": [
            13,
            14.7,
            13.05,
            14.85,
            13.72,
            11.02,
            12.81,
            13.24,
            13.02,
            12.99,
            14.15,
            13.44,
            13.2,
            13.34,
            14.46,
            12.64,
            13.88,
            13.9,
            13.49,
            17.38,
            12.67,
            14.14,
            14.36,
            14.14,
            13.24,
            13.83,
            12.65,
            12.98,
            12.97,
            12.68,
            12.45,
            12.79,
            13.53,
            13.24,
            13.31,
            14.8,
            13.02,
            13.64,
            12.2,
            14.25,
            12.35,
            15.15,
            13.6
           ]
          },
          {
           "axis": {
            "matches": true
           },
           "label": "2",
           "values": [
            3.6,
            0,
            3.65,
            0,
            3.68,
            0,
            3.54,
            3.49,
            3.58,
            3.18,
            0,
            0,
            3.63,
            3.57,
            2.24,
            0,
            1.78,
            3.73,
            3.48,
            0,
            2.88,
            0,
            0,
            0,
            3.57,
            2.9,
            3.56,
            3.54,
            0.33,
            3.67,
            2.71,
            3.52,
            3.41,
            3.34,
            3.58,
            0,
            0,
            3.65,
            3.25,
            3.09,
            2.72,
            0,
            3.62
           ]
          },
          {
           "axis": {
            "matches": true
           },
           "label": "3",
           "values": [
            1.36,
            2.34,
            0.87,
            2.38,
            1.81,
            0.75,
            1.23,
            1.47,
            1.51,
            1.23,
            2.09,
            1.58,
            1.07,
            1.57,
            1.62,
            1.65,
            1.79,
            1.18,
            1.35,
            0.34,
            1.71,
            2.88,
            2.02,
            2.68,
            1.38,
            1.17,
            1.3,
            1.21,
            1.51,
            1.16,
            1.29,
            1.54,
            1.52,
            1.47,
            0.82,
            1.99,
            3.04,
            0.65,
            1.16,
            2.08,
            1.63,
            2.25,
            1.11
           ]
          },
          {
           "axis": {
            "matches": true
           },
           "label": "4",
           "values": [
            72.99,
            73.28,
            72.22,
            73.28,
            72.06,
            73.08,
            73.24,
            73.25,
            73.12,
            72.97,
            72.74,
            72.22,
            72.83,
            72.87,
            72.38,
            73.75,
            73.1,
            72.12,
            71.95,
            75.41,
            73.21,
            72.61,
            73.42,
            73.39,
            72.7,
            71.15,
            73.08,
            73,
            73.39,
            73.11,
            73.7,
            73.36,
            72.04,
            73.1,
            71.99,
            73.11,
            70.48,
            73,
            73.55,
            72.28,
            72.87,
            73.5,
            72.64
           ]
          },
          {
           "axis": {
            "matches": true
           },
           "label": "5",
           "values": [
            0.57,
            0,
            0.19,
            0,
            0.64,
            0,
            0.58,
            0.38,
            0.69,
            0.58,
            0,
            0.32,
            0.57,
            0.61,
            0,
            0.38,
            0,
            0.06,
            0.55,
            0,
            0.73,
            0.08,
            0,
            0.08,
            0.56,
            0.08,
            0.61,
            0.65,
            0.13,
            0.61,
            0.56,
            0.66,
            0.58,
            0.39,
            0.12,
            0,
            6.21,
            0.06,
            0.62,
            1.1,
            0.7,
            0,
            0.14
           ]
          },
          {
           "axis": {
            "matches": true
           },
           "label": "6",
           "values": [
            8.4,
            8.95,
            9.85,
            8.76,
            7.88,
            14.96,
            8.39,
            8.03,
            7.96,
            8.81,
            10.88,
            12.24,
            8.41,
            7.89,
            9.26,
            11.53,
            8.67,
            8.89,
            9,
            6.65,
            8.54,
            9.18,
            8.44,
            9.07,
            8.44,
            10.79,
            8.69,
            8.53,
            11.27,
            8.7,
            9.06,
            7.9,
            8.79,
            8.22,
            10.17,
            8.28,
            6.96,
            8.93,
            8.9,
            7.08,
            9.23,
            8.34,
            8.76
           ]
          },
          {
           "axis": {
            "matches": true
           },
           "label": "7",
           "values": [
            0,
            0.66,
            0,
            0.64,
            0,
            0,
            0,
            0,
            0,
            0,
            0,
            0,
            0.09,
            0,
            0,
            0,
            0.76,
            0,
            0,
            0,
            0,
            1.06,
            1.64,
            0.61,
            0,
            0,
            0,
            0,
            0,
            0,
            0,
            0,
            0,
            0,
            0,
            1.71,
            0,
            0,
            0,
            0,
            0,
            0.63,
            0
           ]
          },
          {
           "axis": {
            "matches": true
           },
           "label": "8",
           "values": [
            0.11,
            0,
            0.17,
            0.09,
            0,
            0,
            0,
            0,
            0,
            0.24,
            0,
            0,
            0.17,
            0,
            0,
            0,
            0,
            0,
            0,
            0,
            0,
            0,
            0,
            0.05,
            0.1,
            0,
            0.14,
            0,
            0.28,
            0,
            0.24,
            0,
            0,
            0,
            0.03,
            0,
            0,
            0,
            0.24,
            0,
            0,
            0,
            0
           ]
          }
         ],
         "hovertemplate": "%{xaxis.title.text}=%{x}<br>%{yaxis.title.text}=%{y}<br>9=%{marker.color}<extra></extra>",
         "legendgroup": "",
         "marker": {
          "color": [
           0,
           1,
           0,
           1,
           0,
           17,
           0,
           0,
           0,
           0,
           22,
           7,
           0,
           0,
           2,
           22,
           2,
           0,
           0,
           11,
           0,
           1,
           1,
           1,
           0,
           24,
           0,
           0,
           22,
           0,
           0,
           0,
           0,
           0,
           0,
           1,
           9,
           0,
           0,
           12,
           0,
           1,
           0
          ],
          "coloraxis": "coloraxis",
          "symbol": "circle"
         },
         "name": "",
         "showlegend": false,
         "type": "splom"
        }
       ],
       "layout": {
        "coloraxis": {
         "colorbar": {
          "title": {
           "text": "9"
          }
         },
         "colorscale": [
          [
           0,
           "#0d0887"
          ],
          [
           0.1111111111111111,
           "#46039f"
          ],
          [
           0.2222222222222222,
           "#7201a8"
          ],
          [
           0.3333333333333333,
           "#9c179e"
          ],
          [
           0.4444444444444444,
           "#bd3786"
          ],
          [
           0.5555555555555556,
           "#d8576b"
          ],
          [
           0.6666666666666666,
           "#ed7953"
          ],
          [
           0.7777777777777778,
           "#fb9f3a"
          ],
          [
           0.8888888888888888,
           "#fdca26"
          ],
          [
           1,
           "#f0f921"
          ]
         ]
        },
        "dragmode": "select",
        "legend": {
         "tracegroupgap": 0
        },
        "margin": {
         "t": 60
        },
        "template": {
         "data": {
          "bar": [
           {
            "error_x": {
             "color": "#2a3f5f"
            },
            "error_y": {
             "color": "#2a3f5f"
            },
            "marker": {
             "line": {
              "color": "#E5ECF6",
              "width": 0.5
             },
             "pattern": {
              "fillmode": "overlay",
              "size": 10,
              "solidity": 0.2
             }
            },
            "type": "bar"
           }
          ],
          "barpolar": [
           {
            "marker": {
             "line": {
              "color": "#E5ECF6",
              "width": 0.5
             },
             "pattern": {
              "fillmode": "overlay",
              "size": 10,
              "solidity": 0.2
             }
            },
            "type": "barpolar"
           }
          ],
          "carpet": [
           {
            "aaxis": {
             "endlinecolor": "#2a3f5f",
             "gridcolor": "white",
             "linecolor": "white",
             "minorgridcolor": "white",
             "startlinecolor": "#2a3f5f"
            },
            "baxis": {
             "endlinecolor": "#2a3f5f",
             "gridcolor": "white",
             "linecolor": "white",
             "minorgridcolor": "white",
             "startlinecolor": "#2a3f5f"
            },
            "type": "carpet"
           }
          ],
          "choropleth": [
           {
            "colorbar": {
             "outlinewidth": 0,
             "ticks": ""
            },
            "type": "choropleth"
           }
          ],
          "contour": [
           {
            "colorbar": {
             "outlinewidth": 0,
             "ticks": ""
            },
            "colorscale": [
             [
              0,
              "#0d0887"
             ],
             [
              0.1111111111111111,
              "#46039f"
             ],
             [
              0.2222222222222222,
              "#7201a8"
             ],
             [
              0.3333333333333333,
              "#9c179e"
             ],
             [
              0.4444444444444444,
              "#bd3786"
             ],
             [
              0.5555555555555556,
              "#d8576b"
             ],
             [
              0.6666666666666666,
              "#ed7953"
             ],
             [
              0.7777777777777778,
              "#fb9f3a"
             ],
             [
              0.8888888888888888,
              "#fdca26"
             ],
             [
              1,
              "#f0f921"
             ]
            ],
            "type": "contour"
           }
          ],
          "contourcarpet": [
           {
            "colorbar": {
             "outlinewidth": 0,
             "ticks": ""
            },
            "type": "contourcarpet"
           }
          ],
          "heatmap": [
           {
            "colorbar": {
             "outlinewidth": 0,
             "ticks": ""
            },
            "colorscale": [
             [
              0,
              "#0d0887"
             ],
             [
              0.1111111111111111,
              "#46039f"
             ],
             [
              0.2222222222222222,
              "#7201a8"
             ],
             [
              0.3333333333333333,
              "#9c179e"
             ],
             [
              0.4444444444444444,
              "#bd3786"
             ],
             [
              0.5555555555555556,
              "#d8576b"
             ],
             [
              0.6666666666666666,
              "#ed7953"
             ],
             [
              0.7777777777777778,
              "#fb9f3a"
             ],
             [
              0.8888888888888888,
              "#fdca26"
             ],
             [
              1,
              "#f0f921"
             ]
            ],
            "type": "heatmap"
           }
          ],
          "heatmapgl": [
           {
            "colorbar": {
             "outlinewidth": 0,
             "ticks": ""
            },
            "colorscale": [
             [
              0,
              "#0d0887"
             ],
             [
              0.1111111111111111,
              "#46039f"
             ],
             [
              0.2222222222222222,
              "#7201a8"
             ],
             [
              0.3333333333333333,
              "#9c179e"
             ],
             [
              0.4444444444444444,
              "#bd3786"
             ],
             [
              0.5555555555555556,
              "#d8576b"
             ],
             [
              0.6666666666666666,
              "#ed7953"
             ],
             [
              0.7777777777777778,
              "#fb9f3a"
             ],
             [
              0.8888888888888888,
              "#fdca26"
             ],
             [
              1,
              "#f0f921"
             ]
            ],
            "type": "heatmapgl"
           }
          ],
          "histogram": [
           {
            "marker": {
             "pattern": {
              "fillmode": "overlay",
              "size": 10,
              "solidity": 0.2
             }
            },
            "type": "histogram"
           }
          ],
          "histogram2d": [
           {
            "colorbar": {
             "outlinewidth": 0,
             "ticks": ""
            },
            "colorscale": [
             [
              0,
              "#0d0887"
             ],
             [
              0.1111111111111111,
              "#46039f"
             ],
             [
              0.2222222222222222,
              "#7201a8"
             ],
             [
              0.3333333333333333,
              "#9c179e"
             ],
             [
              0.4444444444444444,
              "#bd3786"
             ],
             [
              0.5555555555555556,
              "#d8576b"
             ],
             [
              0.6666666666666666,
              "#ed7953"
             ],
             [
              0.7777777777777778,
              "#fb9f3a"
             ],
             [
              0.8888888888888888,
              "#fdca26"
             ],
             [
              1,
              "#f0f921"
             ]
            ],
            "type": "histogram2d"
           }
          ],
          "histogram2dcontour": [
           {
            "colorbar": {
             "outlinewidth": 0,
             "ticks": ""
            },
            "colorscale": [
             [
              0,
              "#0d0887"
             ],
             [
              0.1111111111111111,
              "#46039f"
             ],
             [
              0.2222222222222222,
              "#7201a8"
             ],
             [
              0.3333333333333333,
              "#9c179e"
             ],
             [
              0.4444444444444444,
              "#bd3786"
             ],
             [
              0.5555555555555556,
              "#d8576b"
             ],
             [
              0.6666666666666666,
              "#ed7953"
             ],
             [
              0.7777777777777778,
              "#fb9f3a"
             ],
             [
              0.8888888888888888,
              "#fdca26"
             ],
             [
              1,
              "#f0f921"
             ]
            ],
            "type": "histogram2dcontour"
           }
          ],
          "mesh3d": [
           {
            "colorbar": {
             "outlinewidth": 0,
             "ticks": ""
            },
            "type": "mesh3d"
           }
          ],
          "parcoords": [
           {
            "line": {
             "colorbar": {
              "outlinewidth": 0,
              "ticks": ""
             }
            },
            "type": "parcoords"
           }
          ],
          "pie": [
           {
            "automargin": true,
            "type": "pie"
           }
          ],
          "scatter": [
           {
            "fillpattern": {
             "fillmode": "overlay",
             "size": 10,
             "solidity": 0.2
            },
            "type": "scatter"
           }
          ],
          "scatter3d": [
           {
            "line": {
             "colorbar": {
              "outlinewidth": 0,
              "ticks": ""
             }
            },
            "marker": {
             "colorbar": {
              "outlinewidth": 0,
              "ticks": ""
             }
            },
            "type": "scatter3d"
           }
          ],
          "scattercarpet": [
           {
            "marker": {
             "colorbar": {
              "outlinewidth": 0,
              "ticks": ""
             }
            },
            "type": "scattercarpet"
           }
          ],
          "scattergeo": [
           {
            "marker": {
             "colorbar": {
              "outlinewidth": 0,
              "ticks": ""
             }
            },
            "type": "scattergeo"
           }
          ],
          "scattergl": [
           {
            "marker": {
             "colorbar": {
              "outlinewidth": 0,
              "ticks": ""
             }
            },
            "type": "scattergl"
           }
          ],
          "scattermapbox": [
           {
            "marker": {
             "colorbar": {
              "outlinewidth": 0,
              "ticks": ""
             }
            },
            "type": "scattermapbox"
           }
          ],
          "scatterpolar": [
           {
            "marker": {
             "colorbar": {
              "outlinewidth": 0,
              "ticks": ""
             }
            },
            "type": "scatterpolar"
           }
          ],
          "scatterpolargl": [
           {
            "marker": {
             "colorbar": {
              "outlinewidth": 0,
              "ticks": ""
             }
            },
            "type": "scatterpolargl"
           }
          ],
          "scatterternary": [
           {
            "marker": {
             "colorbar": {
              "outlinewidth": 0,
              "ticks": ""
             }
            },
            "type": "scatterternary"
           }
          ],
          "surface": [
           {
            "colorbar": {
             "outlinewidth": 0,
             "ticks": ""
            },
            "colorscale": [
             [
              0,
              "#0d0887"
             ],
             [
              0.1111111111111111,
              "#46039f"
             ],
             [
              0.2222222222222222,
              "#7201a8"
             ],
             [
              0.3333333333333333,
              "#9c179e"
             ],
             [
              0.4444444444444444,
              "#bd3786"
             ],
             [
              0.5555555555555556,
              "#d8576b"
             ],
             [
              0.6666666666666666,
              "#ed7953"
             ],
             [
              0.7777777777777778,
              "#fb9f3a"
             ],
             [
              0.8888888888888888,
              "#fdca26"
             ],
             [
              1,
              "#f0f921"
             ]
            ],
            "type": "surface"
           }
          ],
          "table": [
           {
            "cells": {
             "fill": {
              "color": "#EBF0F8"
             },
             "line": {
              "color": "white"
             }
            },
            "header": {
             "fill": {
              "color": "#C8D4E3"
             },
             "line": {
              "color": "white"
             }
            },
            "type": "table"
           }
          ]
         },
         "layout": {
          "annotationdefaults": {
           "arrowcolor": "#2a3f5f",
           "arrowhead": 0,
           "arrowwidth": 1
          },
          "autotypenumbers": "strict",
          "coloraxis": {
           "colorbar": {
            "outlinewidth": 0,
            "ticks": ""
           }
          },
          "colorscale": {
           "diverging": [
            [
             0,
             "#8e0152"
            ],
            [
             0.1,
             "#c51b7d"
            ],
            [
             0.2,
             "#de77ae"
            ],
            [
             0.3,
             "#f1b6da"
            ],
            [
             0.4,
             "#fde0ef"
            ],
            [
             0.5,
             "#f7f7f7"
            ],
            [
             0.6,
             "#e6f5d0"
            ],
            [
             0.7,
             "#b8e186"
            ],
            [
             0.8,
             "#7fbc41"
            ],
            [
             0.9,
             "#4d9221"
            ],
            [
             1,
             "#276419"
            ]
           ],
           "sequential": [
            [
             0,
             "#0d0887"
            ],
            [
             0.1111111111111111,
             "#46039f"
            ],
            [
             0.2222222222222222,
             "#7201a8"
            ],
            [
             0.3333333333333333,
             "#9c179e"
            ],
            [
             0.4444444444444444,
             "#bd3786"
            ],
            [
             0.5555555555555556,
             "#d8576b"
            ],
            [
             0.6666666666666666,
             "#ed7953"
            ],
            [
             0.7777777777777778,
             "#fb9f3a"
            ],
            [
             0.8888888888888888,
             "#fdca26"
            ],
            [
             1,
             "#f0f921"
            ]
           ],
           "sequentialminus": [
            [
             0,
             "#0d0887"
            ],
            [
             0.1111111111111111,
             "#46039f"
            ],
            [
             0.2222222222222222,
             "#7201a8"
            ],
            [
             0.3333333333333333,
             "#9c179e"
            ],
            [
             0.4444444444444444,
             "#bd3786"
            ],
            [
             0.5555555555555556,
             "#d8576b"
            ],
            [
             0.6666666666666666,
             "#ed7953"
            ],
            [
             0.7777777777777778,
             "#fb9f3a"
            ],
            [
             0.8888888888888888,
             "#fdca26"
            ],
            [
             1,
             "#f0f921"
            ]
           ]
          },
          "colorway": [
           "#636efa",
           "#EF553B",
           "#00cc96",
           "#ab63fa",
           "#FFA15A",
           "#19d3f3",
           "#FF6692",
           "#B6E880",
           "#FF97FF",
           "#FECB52"
          ],
          "font": {
           "color": "#2a3f5f"
          },
          "geo": {
           "bgcolor": "white",
           "lakecolor": "white",
           "landcolor": "#E5ECF6",
           "showlakes": true,
           "showland": true,
           "subunitcolor": "white"
          },
          "hoverlabel": {
           "align": "left"
          },
          "hovermode": "closest",
          "mapbox": {
           "style": "light"
          },
          "paper_bgcolor": "white",
          "plot_bgcolor": "#E5ECF6",
          "polar": {
           "angularaxis": {
            "gridcolor": "white",
            "linecolor": "white",
            "ticks": ""
           },
           "bgcolor": "#E5ECF6",
           "radialaxis": {
            "gridcolor": "white",
            "linecolor": "white",
            "ticks": ""
           }
          },
          "scene": {
           "xaxis": {
            "backgroundcolor": "#E5ECF6",
            "gridcolor": "white",
            "gridwidth": 2,
            "linecolor": "white",
            "showbackground": true,
            "ticks": "",
            "zerolinecolor": "white"
           },
           "yaxis": {
            "backgroundcolor": "#E5ECF6",
            "gridcolor": "white",
            "gridwidth": 2,
            "linecolor": "white",
            "showbackground": true,
            "ticks": "",
            "zerolinecolor": "white"
           },
           "zaxis": {
            "backgroundcolor": "#E5ECF6",
            "gridcolor": "white",
            "gridwidth": 2,
            "linecolor": "white",
            "showbackground": true,
            "ticks": "",
            "zerolinecolor": "white"
           }
          },
          "shapedefaults": {
           "line": {
            "color": "#2a3f5f"
           }
          },
          "ternary": {
           "aaxis": {
            "gridcolor": "white",
            "linecolor": "white",
            "ticks": ""
           },
           "baxis": {
            "gridcolor": "white",
            "linecolor": "white",
            "ticks": ""
           },
           "bgcolor": "#E5ECF6",
           "caxis": {
            "gridcolor": "white",
            "linecolor": "white",
            "ticks": ""
           }
          },
          "title": {
           "x": 0.05
          },
          "xaxis": {
           "automargin": true,
           "gridcolor": "white",
           "linecolor": "white",
           "ticks": "",
           "title": {
            "standoff": 15
           },
           "zerolinecolor": "white",
           "zerolinewidth": 2
          },
          "yaxis": {
           "automargin": true,
           "gridcolor": "white",
           "linecolor": "white",
           "ticks": "",
           "title": {
            "standoff": 15
           },
           "zerolinecolor": "white",
           "zerolinewidth": 2
          }
         }
        }
       }
      }
     },
     "metadata": {},
     "output_type": "display_data"
    }
   ],
   "source": [
    "classix_distance=Extractor.classix(group_merging_mode='distance',minPts=minPts_best_distance,radius=radius_best_distance,scale=scale_best_distance)\n",
    "classix_distance.fit(X_train)\n",
    "Y_pred_distance=classix_distance.predict(X_test)\n",
    "df_pred_distance=pd.DataFrame(pd.concat([pd.DataFrame(X_test,columns=[0,1,2,3,4,5,6,7,8]),pd.DataFrame(Y_pred_distance,columns=[9])],axis=1))\n",
    "fig = px.scatter_matrix(df_pred_distance,\n",
    "    dimensions=[0,1,2,3,4,5,6,7,8],\n",
    "    color=9)\n",
    "fig.show()"
   ]
  },
  {
   "attachments": {},
   "cell_type": "markdown",
   "metadata": {},
   "source": [
    "Rand score on best configuration with merging based on distance"
   ]
  },
  {
   "cell_type": "code",
   "execution_count": 14,
   "metadata": {},
   "outputs": [
    {
     "name": "stdout",
     "output_type": "stream",
     "text": [
      "0.7331118493909191\n"
     ]
    }
   ],
   "source": [
    "print(metrics.rand_score(Y_test,Y_pred_distance))"
   ]
  },
  {
   "cell_type": "code",
   "execution_count": 15,
   "metadata": {},
   "outputs": [
    {
     "data": {
      "application/vnd.plotly.v1+json": {
       "config": {
        "plotlyServerURL": "https://plot.ly"
       },
       "data": [
        {
         "dimensions": [
          {
           "axis": {
            "matches": true
           },
           "label": "0",
           "values": [
            1.51755,
            1.51727,
            1.52152,
            1.51602,
            1.51708,
            1.52739,
            1.51761,
            1.51569,
            1.5159,
            1.5166,
            1.51916,
            1.52369,
            1.51851,
            1.51631,
            1.51829,
            1.51969,
            1.51613,
            1.51911,
            1.5190000000000001,
            1.51115,
            1.51689,
            1.51623,
            1.52065,
            1.51545,
            1.5167,
            1.5241,
            1.51768,
            1.51764,
            1.52119,
            1.51784,
            1.51769,
            1.51674,
            1.51776,
            1.5159,
            1.5230000000000001,
            1.5165799999999998,
            1.51316,
            1.51779,
            1.5174299999999998,
            1.51409,
            1.5173,
            1.51508,
            1.51905
           ]
          },
          {
           "axis": {
            "matches": true
           },
           "label": "1",
           "values": [
            13,
            14.7,
            13.05,
            14.85,
            13.72,
            11.02,
            12.81,
            13.24,
            13.02,
            12.99,
            14.15,
            13.44,
            13.2,
            13.34,
            14.46,
            12.64,
            13.88,
            13.9,
            13.49,
            17.38,
            12.67,
            14.14,
            14.36,
            14.14,
            13.24,
            13.83,
            12.65,
            12.98,
            12.97,
            12.68,
            12.45,
            12.79,
            13.53,
            13.24,
            13.31,
            14.8,
            13.02,
            13.64,
            12.2,
            14.25,
            12.35,
            15.15,
            13.6
           ]
          },
          {
           "axis": {
            "matches": true
           },
           "label": "2",
           "values": [
            3.6,
            0,
            3.65,
            0,
            3.68,
            0,
            3.54,
            3.49,
            3.58,
            3.18,
            0,
            0,
            3.63,
            3.57,
            2.24,
            0,
            1.78,
            3.73,
            3.48,
            0,
            2.88,
            0,
            0,
            0,
            3.57,
            2.9,
            3.56,
            3.54,
            0.33,
            3.67,
            2.71,
            3.52,
            3.41,
            3.34,
            3.58,
            0,
            0,
            3.65,
            3.25,
            3.09,
            2.72,
            0,
            3.62
           ]
          },
          {
           "axis": {
            "matches": true
           },
           "label": "3",
           "values": [
            1.36,
            2.34,
            0.87,
            2.38,
            1.81,
            0.75,
            1.23,
            1.47,
            1.51,
            1.23,
            2.09,
            1.58,
            1.07,
            1.57,
            1.62,
            1.65,
            1.79,
            1.18,
            1.35,
            0.34,
            1.71,
            2.88,
            2.02,
            2.68,
            1.38,
            1.17,
            1.3,
            1.21,
            1.51,
            1.16,
            1.29,
            1.54,
            1.52,
            1.47,
            0.82,
            1.99,
            3.04,
            0.65,
            1.16,
            2.08,
            1.63,
            2.25,
            1.11
           ]
          },
          {
           "axis": {
            "matches": true
           },
           "label": "4",
           "values": [
            72.99,
            73.28,
            72.22,
            73.28,
            72.06,
            73.08,
            73.24,
            73.25,
            73.12,
            72.97,
            72.74,
            72.22,
            72.83,
            72.87,
            72.38,
            73.75,
            73.1,
            72.12,
            71.95,
            75.41,
            73.21,
            72.61,
            73.42,
            73.39,
            72.7,
            71.15,
            73.08,
            73,
            73.39,
            73.11,
            73.7,
            73.36,
            72.04,
            73.1,
            71.99,
            73.11,
            70.48,
            73,
            73.55,
            72.28,
            72.87,
            73.5,
            72.64
           ]
          },
          {
           "axis": {
            "matches": true
           },
           "label": "5",
           "values": [
            0.57,
            0,
            0.19,
            0,
            0.64,
            0,
            0.58,
            0.38,
            0.69,
            0.58,
            0,
            0.32,
            0.57,
            0.61,
            0,
            0.38,
            0,
            0.06,
            0.55,
            0,
            0.73,
            0.08,
            0,
            0.08,
            0.56,
            0.08,
            0.61,
            0.65,
            0.13,
            0.61,
            0.56,
            0.66,
            0.58,
            0.39,
            0.12,
            0,
            6.21,
            0.06,
            0.62,
            1.1,
            0.7,
            0,
            0.14
           ]
          },
          {
           "axis": {
            "matches": true
           },
           "label": "6",
           "values": [
            8.4,
            8.95,
            9.85,
            8.76,
            7.88,
            14.96,
            8.39,
            8.03,
            7.96,
            8.81,
            10.88,
            12.24,
            8.41,
            7.89,
            9.26,
            11.53,
            8.67,
            8.89,
            9,
            6.65,
            8.54,
            9.18,
            8.44,
            9.07,
            8.44,
            10.79,
            8.69,
            8.53,
            11.27,
            8.7,
            9.06,
            7.9,
            8.79,
            8.22,
            10.17,
            8.28,
            6.96,
            8.93,
            8.9,
            7.08,
            9.23,
            8.34,
            8.76
           ]
          },
          {
           "axis": {
            "matches": true
           },
           "label": "7",
           "values": [
            0,
            0.66,
            0,
            0.64,
            0,
            0,
            0,
            0,
            0,
            0,
            0,
            0,
            0.09,
            0,
            0,
            0,
            0.76,
            0,
            0,
            0,
            0,
            1.06,
            1.64,
            0.61,
            0,
            0,
            0,
            0,
            0,
            0,
            0,
            0,
            0,
            0,
            0,
            1.71,
            0,
            0,
            0,
            0,
            0,
            0.63,
            0
           ]
          },
          {
           "axis": {
            "matches": true
           },
           "label": "8",
           "values": [
            0.11,
            0,
            0.17,
            0.09,
            0,
            0,
            0,
            0,
            0,
            0.24,
            0,
            0,
            0.17,
            0,
            0,
            0,
            0,
            0,
            0,
            0,
            0,
            0,
            0,
            0.05,
            0.1,
            0,
            0.14,
            0,
            0.28,
            0,
            0.24,
            0,
            0,
            0,
            0.03,
            0,
            0,
            0,
            0.24,
            0,
            0,
            0,
            0
           ]
          }
         ],
         "hovertemplate": "%{xaxis.title.text}=%{x}<br>%{yaxis.title.text}=%{y}<br>9=%{marker.color}<extra></extra>",
         "legendgroup": "",
         "marker": {
          "color": [
           0,
           1,
           0,
           1,
           0,
           19,
           0,
           0,
           0,
           0,
           24,
           9,
           0,
           0,
           2,
           24,
           2,
           0,
           0,
           13,
           0,
           1,
           1,
           1,
           0,
           26,
           0,
           0,
           24,
           0,
           29,
           0,
           0,
           0,
           0,
           1,
           11,
           0,
           0,
           14,
           0,
           1,
           0
          ],
          "coloraxis": "coloraxis",
          "symbol": "circle"
         },
         "name": "",
         "showlegend": false,
         "type": "splom"
        }
       ],
       "layout": {
        "coloraxis": {
         "colorbar": {
          "title": {
           "text": "9"
          }
         },
         "colorscale": [
          [
           0,
           "#0d0887"
          ],
          [
           0.1111111111111111,
           "#46039f"
          ],
          [
           0.2222222222222222,
           "#7201a8"
          ],
          [
           0.3333333333333333,
           "#9c179e"
          ],
          [
           0.4444444444444444,
           "#bd3786"
          ],
          [
           0.5555555555555556,
           "#d8576b"
          ],
          [
           0.6666666666666666,
           "#ed7953"
          ],
          [
           0.7777777777777778,
           "#fb9f3a"
          ],
          [
           0.8888888888888888,
           "#fdca26"
          ],
          [
           1,
           "#f0f921"
          ]
         ]
        },
        "dragmode": "select",
        "legend": {
         "tracegroupgap": 0
        },
        "margin": {
         "t": 60
        },
        "template": {
         "data": {
          "bar": [
           {
            "error_x": {
             "color": "#2a3f5f"
            },
            "error_y": {
             "color": "#2a3f5f"
            },
            "marker": {
             "line": {
              "color": "#E5ECF6",
              "width": 0.5
             },
             "pattern": {
              "fillmode": "overlay",
              "size": 10,
              "solidity": 0.2
             }
            },
            "type": "bar"
           }
          ],
          "barpolar": [
           {
            "marker": {
             "line": {
              "color": "#E5ECF6",
              "width": 0.5
             },
             "pattern": {
              "fillmode": "overlay",
              "size": 10,
              "solidity": 0.2
             }
            },
            "type": "barpolar"
           }
          ],
          "carpet": [
           {
            "aaxis": {
             "endlinecolor": "#2a3f5f",
             "gridcolor": "white",
             "linecolor": "white",
             "minorgridcolor": "white",
             "startlinecolor": "#2a3f5f"
            },
            "baxis": {
             "endlinecolor": "#2a3f5f",
             "gridcolor": "white",
             "linecolor": "white",
             "minorgridcolor": "white",
             "startlinecolor": "#2a3f5f"
            },
            "type": "carpet"
           }
          ],
          "choropleth": [
           {
            "colorbar": {
             "outlinewidth": 0,
             "ticks": ""
            },
            "type": "choropleth"
           }
          ],
          "contour": [
           {
            "colorbar": {
             "outlinewidth": 0,
             "ticks": ""
            },
            "colorscale": [
             [
              0,
              "#0d0887"
             ],
             [
              0.1111111111111111,
              "#46039f"
             ],
             [
              0.2222222222222222,
              "#7201a8"
             ],
             [
              0.3333333333333333,
              "#9c179e"
             ],
             [
              0.4444444444444444,
              "#bd3786"
             ],
             [
              0.5555555555555556,
              "#d8576b"
             ],
             [
              0.6666666666666666,
              "#ed7953"
             ],
             [
              0.7777777777777778,
              "#fb9f3a"
             ],
             [
              0.8888888888888888,
              "#fdca26"
             ],
             [
              1,
              "#f0f921"
             ]
            ],
            "type": "contour"
           }
          ],
          "contourcarpet": [
           {
            "colorbar": {
             "outlinewidth": 0,
             "ticks": ""
            },
            "type": "contourcarpet"
           }
          ],
          "heatmap": [
           {
            "colorbar": {
             "outlinewidth": 0,
             "ticks": ""
            },
            "colorscale": [
             [
              0,
              "#0d0887"
             ],
             [
              0.1111111111111111,
              "#46039f"
             ],
             [
              0.2222222222222222,
              "#7201a8"
             ],
             [
              0.3333333333333333,
              "#9c179e"
             ],
             [
              0.4444444444444444,
              "#bd3786"
             ],
             [
              0.5555555555555556,
              "#d8576b"
             ],
             [
              0.6666666666666666,
              "#ed7953"
             ],
             [
              0.7777777777777778,
              "#fb9f3a"
             ],
             [
              0.8888888888888888,
              "#fdca26"
             ],
             [
              1,
              "#f0f921"
             ]
            ],
            "type": "heatmap"
           }
          ],
          "heatmapgl": [
           {
            "colorbar": {
             "outlinewidth": 0,
             "ticks": ""
            },
            "colorscale": [
             [
              0,
              "#0d0887"
             ],
             [
              0.1111111111111111,
              "#46039f"
             ],
             [
              0.2222222222222222,
              "#7201a8"
             ],
             [
              0.3333333333333333,
              "#9c179e"
             ],
             [
              0.4444444444444444,
              "#bd3786"
             ],
             [
              0.5555555555555556,
              "#d8576b"
             ],
             [
              0.6666666666666666,
              "#ed7953"
             ],
             [
              0.7777777777777778,
              "#fb9f3a"
             ],
             [
              0.8888888888888888,
              "#fdca26"
             ],
             [
              1,
              "#f0f921"
             ]
            ],
            "type": "heatmapgl"
           }
          ],
          "histogram": [
           {
            "marker": {
             "pattern": {
              "fillmode": "overlay",
              "size": 10,
              "solidity": 0.2
             }
            },
            "type": "histogram"
           }
          ],
          "histogram2d": [
           {
            "colorbar": {
             "outlinewidth": 0,
             "ticks": ""
            },
            "colorscale": [
             [
              0,
              "#0d0887"
             ],
             [
              0.1111111111111111,
              "#46039f"
             ],
             [
              0.2222222222222222,
              "#7201a8"
             ],
             [
              0.3333333333333333,
              "#9c179e"
             ],
             [
              0.4444444444444444,
              "#bd3786"
             ],
             [
              0.5555555555555556,
              "#d8576b"
             ],
             [
              0.6666666666666666,
              "#ed7953"
             ],
             [
              0.7777777777777778,
              "#fb9f3a"
             ],
             [
              0.8888888888888888,
              "#fdca26"
             ],
             [
              1,
              "#f0f921"
             ]
            ],
            "type": "histogram2d"
           }
          ],
          "histogram2dcontour": [
           {
            "colorbar": {
             "outlinewidth": 0,
             "ticks": ""
            },
            "colorscale": [
             [
              0,
              "#0d0887"
             ],
             [
              0.1111111111111111,
              "#46039f"
             ],
             [
              0.2222222222222222,
              "#7201a8"
             ],
             [
              0.3333333333333333,
              "#9c179e"
             ],
             [
              0.4444444444444444,
              "#bd3786"
             ],
             [
              0.5555555555555556,
              "#d8576b"
             ],
             [
              0.6666666666666666,
              "#ed7953"
             ],
             [
              0.7777777777777778,
              "#fb9f3a"
             ],
             [
              0.8888888888888888,
              "#fdca26"
             ],
             [
              1,
              "#f0f921"
             ]
            ],
            "type": "histogram2dcontour"
           }
          ],
          "mesh3d": [
           {
            "colorbar": {
             "outlinewidth": 0,
             "ticks": ""
            },
            "type": "mesh3d"
           }
          ],
          "parcoords": [
           {
            "line": {
             "colorbar": {
              "outlinewidth": 0,
              "ticks": ""
             }
            },
            "type": "parcoords"
           }
          ],
          "pie": [
           {
            "automargin": true,
            "type": "pie"
           }
          ],
          "scatter": [
           {
            "fillpattern": {
             "fillmode": "overlay",
             "size": 10,
             "solidity": 0.2
            },
            "type": "scatter"
           }
          ],
          "scatter3d": [
           {
            "line": {
             "colorbar": {
              "outlinewidth": 0,
              "ticks": ""
             }
            },
            "marker": {
             "colorbar": {
              "outlinewidth": 0,
              "ticks": ""
             }
            },
            "type": "scatter3d"
           }
          ],
          "scattercarpet": [
           {
            "marker": {
             "colorbar": {
              "outlinewidth": 0,
              "ticks": ""
             }
            },
            "type": "scattercarpet"
           }
          ],
          "scattergeo": [
           {
            "marker": {
             "colorbar": {
              "outlinewidth": 0,
              "ticks": ""
             }
            },
            "type": "scattergeo"
           }
          ],
          "scattergl": [
           {
            "marker": {
             "colorbar": {
              "outlinewidth": 0,
              "ticks": ""
             }
            },
            "type": "scattergl"
           }
          ],
          "scattermapbox": [
           {
            "marker": {
             "colorbar": {
              "outlinewidth": 0,
              "ticks": ""
             }
            },
            "type": "scattermapbox"
           }
          ],
          "scatterpolar": [
           {
            "marker": {
             "colorbar": {
              "outlinewidth": 0,
              "ticks": ""
             }
            },
            "type": "scatterpolar"
           }
          ],
          "scatterpolargl": [
           {
            "marker": {
             "colorbar": {
              "outlinewidth": 0,
              "ticks": ""
             }
            },
            "type": "scatterpolargl"
           }
          ],
          "scatterternary": [
           {
            "marker": {
             "colorbar": {
              "outlinewidth": 0,
              "ticks": ""
             }
            },
            "type": "scatterternary"
           }
          ],
          "surface": [
           {
            "colorbar": {
             "outlinewidth": 0,
             "ticks": ""
            },
            "colorscale": [
             [
              0,
              "#0d0887"
             ],
             [
              0.1111111111111111,
              "#46039f"
             ],
             [
              0.2222222222222222,
              "#7201a8"
             ],
             [
              0.3333333333333333,
              "#9c179e"
             ],
             [
              0.4444444444444444,
              "#bd3786"
             ],
             [
              0.5555555555555556,
              "#d8576b"
             ],
             [
              0.6666666666666666,
              "#ed7953"
             ],
             [
              0.7777777777777778,
              "#fb9f3a"
             ],
             [
              0.8888888888888888,
              "#fdca26"
             ],
             [
              1,
              "#f0f921"
             ]
            ],
            "type": "surface"
           }
          ],
          "table": [
           {
            "cells": {
             "fill": {
              "color": "#EBF0F8"
             },
             "line": {
              "color": "white"
             }
            },
            "header": {
             "fill": {
              "color": "#C8D4E3"
             },
             "line": {
              "color": "white"
             }
            },
            "type": "table"
           }
          ]
         },
         "layout": {
          "annotationdefaults": {
           "arrowcolor": "#2a3f5f",
           "arrowhead": 0,
           "arrowwidth": 1
          },
          "autotypenumbers": "strict",
          "coloraxis": {
           "colorbar": {
            "outlinewidth": 0,
            "ticks": ""
           }
          },
          "colorscale": {
           "diverging": [
            [
             0,
             "#8e0152"
            ],
            [
             0.1,
             "#c51b7d"
            ],
            [
             0.2,
             "#de77ae"
            ],
            [
             0.3,
             "#f1b6da"
            ],
            [
             0.4,
             "#fde0ef"
            ],
            [
             0.5,
             "#f7f7f7"
            ],
            [
             0.6,
             "#e6f5d0"
            ],
            [
             0.7,
             "#b8e186"
            ],
            [
             0.8,
             "#7fbc41"
            ],
            [
             0.9,
             "#4d9221"
            ],
            [
             1,
             "#276419"
            ]
           ],
           "sequential": [
            [
             0,
             "#0d0887"
            ],
            [
             0.1111111111111111,
             "#46039f"
            ],
            [
             0.2222222222222222,
             "#7201a8"
            ],
            [
             0.3333333333333333,
             "#9c179e"
            ],
            [
             0.4444444444444444,
             "#bd3786"
            ],
            [
             0.5555555555555556,
             "#d8576b"
            ],
            [
             0.6666666666666666,
             "#ed7953"
            ],
            [
             0.7777777777777778,
             "#fb9f3a"
            ],
            [
             0.8888888888888888,
             "#fdca26"
            ],
            [
             1,
             "#f0f921"
            ]
           ],
           "sequentialminus": [
            [
             0,
             "#0d0887"
            ],
            [
             0.1111111111111111,
             "#46039f"
            ],
            [
             0.2222222222222222,
             "#7201a8"
            ],
            [
             0.3333333333333333,
             "#9c179e"
            ],
            [
             0.4444444444444444,
             "#bd3786"
            ],
            [
             0.5555555555555556,
             "#d8576b"
            ],
            [
             0.6666666666666666,
             "#ed7953"
            ],
            [
             0.7777777777777778,
             "#fb9f3a"
            ],
            [
             0.8888888888888888,
             "#fdca26"
            ],
            [
             1,
             "#f0f921"
            ]
           ]
          },
          "colorway": [
           "#636efa",
           "#EF553B",
           "#00cc96",
           "#ab63fa",
           "#FFA15A",
           "#19d3f3",
           "#FF6692",
           "#B6E880",
           "#FF97FF",
           "#FECB52"
          ],
          "font": {
           "color": "#2a3f5f"
          },
          "geo": {
           "bgcolor": "white",
           "lakecolor": "white",
           "landcolor": "#E5ECF6",
           "showlakes": true,
           "showland": true,
           "subunitcolor": "white"
          },
          "hoverlabel": {
           "align": "left"
          },
          "hovermode": "closest",
          "mapbox": {
           "style": "light"
          },
          "paper_bgcolor": "white",
          "plot_bgcolor": "#E5ECF6",
          "polar": {
           "angularaxis": {
            "gridcolor": "white",
            "linecolor": "white",
            "ticks": ""
           },
           "bgcolor": "#E5ECF6",
           "radialaxis": {
            "gridcolor": "white",
            "linecolor": "white",
            "ticks": ""
           }
          },
          "scene": {
           "xaxis": {
            "backgroundcolor": "#E5ECF6",
            "gridcolor": "white",
            "gridwidth": 2,
            "linecolor": "white",
            "showbackground": true,
            "ticks": "",
            "zerolinecolor": "white"
           },
           "yaxis": {
            "backgroundcolor": "#E5ECF6",
            "gridcolor": "white",
            "gridwidth": 2,
            "linecolor": "white",
            "showbackground": true,
            "ticks": "",
            "zerolinecolor": "white"
           },
           "zaxis": {
            "backgroundcolor": "#E5ECF6",
            "gridcolor": "white",
            "gridwidth": 2,
            "linecolor": "white",
            "showbackground": true,
            "ticks": "",
            "zerolinecolor": "white"
           }
          },
          "shapedefaults": {
           "line": {
            "color": "#2a3f5f"
           }
          },
          "ternary": {
           "aaxis": {
            "gridcolor": "white",
            "linecolor": "white",
            "ticks": ""
           },
           "baxis": {
            "gridcolor": "white",
            "linecolor": "white",
            "ticks": ""
           },
           "bgcolor": "#E5ECF6",
           "caxis": {
            "gridcolor": "white",
            "linecolor": "white",
            "ticks": ""
           }
          },
          "title": {
           "x": 0.05
          },
          "xaxis": {
           "automargin": true,
           "gridcolor": "white",
           "linecolor": "white",
           "ticks": "",
           "title": {
            "standoff": 15
           },
           "zerolinecolor": "white",
           "zerolinewidth": 2
          },
          "yaxis": {
           "automargin": true,
           "gridcolor": "white",
           "linecolor": "white",
           "ticks": "",
           "title": {
            "standoff": 15
           },
           "zerolinecolor": "white",
           "zerolinewidth": 2
          }
         }
        }
       }
      }
     },
     "metadata": {},
     "output_type": "display_data"
    }
   ],
   "source": [
    "classix_density=Extractor.classix(group_merging_mode='density',minPts=minPts_best_density,radius=radius_best_density,scale=scale_best_density)\n",
    "classix_density.fit(X_train)\n",
    "Y_pred_density=classix_density.predict(X_test)\n",
    "\n",
    "df_pred_density=pd.DataFrame(pd.concat([pd.DataFrame(X_test,columns=[0,1,2,3,4,5,6,7,8]),pd.DataFrame(Y_pred_density,columns=[9])],axis=1))\n",
    "fig = px.scatter_matrix(df_pred_density,\n",
    "    dimensions=[0,1,2,3,4,5,6,7,8],\n",
    "    color=9)\n",
    "fig.show()"
   ]
  },
  {
   "attachments": {},
   "cell_type": "markdown",
   "metadata": {},
   "source": [
    "Rand score on best configuration with merging based on density"
   ]
  },
  {
   "cell_type": "code",
   "execution_count": 16,
   "metadata": {},
   "outputs": [
    {
     "name": "stdout",
     "output_type": "stream",
     "text": [
      "0.7375415282392026\n"
     ]
    }
   ],
   "source": [
    "print(metrics.rand_score(Y_test,Y_pred_density))"
   ]
  },
  {
   "cell_type": "code",
   "execution_count": 18,
   "metadata": {},
   "outputs": [
    {
     "name": "stdout",
     "output_type": "stream",
     "text": [
      "\tGeneralExplanation\n",
      "A clustering of 171 data points with 9 features has been performed. \n",
      "The radius parameter was set to 0.75 and MinPts was set to 0. \n",
      "As the provided data has been scaled by a factor of 1/1.36, data points within a radius of R=0.75*1.36=1.02 were aggregated into groups. \n",
      "This resulted in 41 groups, each uniquely associated with a starting point. \n",
      "These 41 groups were subsequently merged into 30 clusters resulting in the following mapping groups --> cluster:\n",
      "Groups [26, 28, 30, 31, 32, 33, 34, 35, 36] --> Cluster 0\n",
      "Groups [13, 15, 18] --> Cluster 1\n",
      "Groups [21, 22] --> Cluster 2\n",
      "Groups [19] --> Cluster 3\n",
      "Groups [7] --> Cluster 4\n",
      "Groups [12] --> Cluster 5\n",
      "Groups [10] --> Cluster 6\n",
      "Groups [9] --> Cluster 7\n",
      "Groups [40] --> Cluster 8\n",
      "Groups [6] --> Cluster 9\n",
      "Groups [14] --> Cluster 10\n",
      "Groups [27] --> Cluster 11\n",
      "Groups [2] --> Cluster 12\n",
      "Groups [29] --> Cluster 13\n",
      "Groups [37] --> Cluster 14\n",
      "Groups [39] --> Cluster 15\n",
      "Groups [38] --> Cluster 16\n",
      "Groups [5] --> Cluster 17\n",
      "Groups [11] --> Cluster 18\n",
      "Groups [1] --> Cluster 19\n",
      "Groups [23] --> Cluster 20\n",
      "Groups [4] --> Cluster 21\n",
      "Groups [25] --> Cluster 22\n",
      "Groups [0] --> Cluster 23\n",
      "Groups [8] --> Cluster 24\n",
      "Groups [17] --> Cluster 25\n",
      "Groups [16] --> Cluster 26\n",
      "Groups [20] --> Cluster 27\n",
      "Groups [3] --> Cluster 28\n",
      "Groups [24] --> Cluster 29\n",
      "\n",
      "Below the list of all the groups starting points (unscaled):\n",
      "\n",
      "Starting point 0 has alpha score = -5.336 and coordinates [1.53393000e+00 1.23000000e+01 0.00000000e+00 1.00000000e+00\n",
      " 7.01600000e+01 1.20000000e-01 1.61900000e+01 2.77555756e-17\n",
      " 2.40000000e-01]\n",
      "Starting point 1 has alpha score = -4.438 and coordinates [1.52664000e+00 1.12300000e+01 0.00000000e+00 7.70000000e-01\n",
      " 7.32100000e+01 0.00000000e+00 1.46800000e+01 2.77555756e-17\n",
      " 0.00000000e+00]\n",
      "Starting point 2 has alpha score = -4.323 and coordinates [1.52777000e+00 1.26400000e+01 0.00000000e+00 6.70000000e-01\n",
      " 7.20200000e+01 6.00000000e-02 1.44000000e+01 2.77555756e-17\n",
      " 0.00000000e+00]\n",
      "Starting point 3 has alpha score = -3.971 and coordinates [ 1.53125 10.73     0.       2.1     69.81     0.58    13.3      3.15\n",
      "  0.28   ]\n",
      "Starting point 4 has alpha score = -3.845 and coordinates [1.52614000e+00 1.37000000e+01 0.00000000e+00 1.36000000e+00\n",
      " 7.12400000e+01 1.90000000e-01 1.34400000e+01 2.77555756e-17\n",
      " 1.00000000e-01]\n",
      "Starting point 5 has alpha score = -3.685 and coordinates [1.52475000e+00 1.14500000e+01 0.00000000e+00 1.88000000e+00\n",
      " 7.21900000e+01 8.10000000e-01 1.32400000e+01 2.77555756e-17\n",
      " 3.40000000e-01]\n",
      "Starting point 6 has alpha score = -3.307 and coordinates [1.52043000e+00 1.33800000e+01 0.00000000e+00 1.40000000e+00\n",
      " 7.22500000e+01 3.30000000e-01 1.25000000e+01 2.77555756e-17\n",
      " 0.00000000e+00]\n",
      "Starting point 7 has alpha score = -2.780 and coordinates [1.52222000e+00 1.44300000e+01 0.00000000e+00 1.00000000e+00\n",
      " 7.26700000e+01 1.00000000e-01 1.15200000e+01 2.77555756e-17\n",
      " 8.00000000e-02]\n",
      "Starting point 8 has alpha score = -2.656 and coordinates [1.51994000e+00 1.32700000e+01 0.00000000e+00 1.76000000e+00\n",
      " 7.30300000e+01 4.70000000e-01 1.13200000e+01 2.77555756e-17\n",
      " 0.00000000e+00]\n",
      "Starting point 9 has alpha score = -2.439 and coordinates [1.51818000e+00 1.37200000e+01 0.00000000e+00 5.60000000e-01\n",
      " 7.44500000e+01 0.00000000e+00 1.09900000e+01 2.77555756e-17\n",
      " 0.00000000e+00]\n",
      "Starting point 10 has alpha score = -2.078 and coordinates [1.52177000e+00 1.37500000e+01 1.01000000e+00 1.36000000e+00\n",
      " 7.21900000e+01 3.30000000e-01 1.11400000e+01 2.77555756e-17\n",
      " 0.00000000e+00]\n",
      "Starting point 11 has alpha score = -1.993 and coordinates [1.51666000e+00 1.28600000e+01 0.00000000e+00 1.83000000e+00\n",
      " 7.38800000e+01 9.70000000e-01 1.01700000e+01 2.77555756e-17\n",
      " 0.00000000e+00]\n",
      "Starting point 12 has alpha score = -1.929 and coordinates [1.52151000e+00 1.10300000e+01 1.71000000e+00 1.56000000e+00\n",
      " 7.34400000e+01 5.80000000e-01 1.16200000e+01 2.77555756e-17\n",
      " 0.00000000e+00]\n",
      "Starting point 13 has alpha score = -1.740 and coordinates [ 1.5164 14.37    0.      2.74   72.85    0.      9.45    0.54    0.    ]\n",
      "Starting point 14 has alpha score = -1.578 and coordinates [1.51888000e+00 1.49900000e+01 7.80000000e-01 1.74000000e+00\n",
      " 7.25000000e+01 0.00000000e+00 9.95000000e+00 2.77555756e-17\n",
      " 0.00000000e+00]\n",
      "Starting point 15 has alpha score = -1.346 and coordinates [ 1.51645 14.94     0.       1.87    73.11     0.       8.67     1.38\n",
      "  0.     ]\n",
      "Starting point 16 has alpha score = -1.317 and coordinates [1.52725000e+00 1.38000000e+01 3.15000000e+00 6.60000000e-01\n",
      " 7.05700000e+01 8.00000000e-02 1.16400000e+01 2.77555756e-17\n",
      " 0.00000000e+00]\n",
      "Starting point 17 has alpha score = -1.190 and coordinates [1.51653000e+00 1.19500000e+01 0.00000000e+00 1.19000000e+00\n",
      " 7.51800000e+01 2.70000000e+00 8.93000000e+00 2.77555756e-17\n",
      " 0.00000000e+00]\n",
      "Starting point 18 has alpha score = -1.146 and coordinates [ 1.51514 14.85     0.       2.42    73.72     0.       8.39     0.56\n",
      "  0.     ]\n",
      "Starting point 19 has alpha score = -1.076 and coordinates [1.51915000e+00 1.27300000e+01 1.85000000e+00 1.86000000e+00\n",
      " 7.26900000e+01 6.00000000e-01 1.00900000e+01 2.77555756e-17\n",
      " 0.00000000e+00]\n",
      "Starting point 20 has alpha score = -0.798 and coordinates [1.52247000e+00 1.48600000e+01 2.20000000e+00 2.06000000e+00\n",
      " 7.02600000e+01 7.60000000e-01 9.76000000e+00 2.77555756e-17\n",
      " 0.00000000e+00]\n",
      "Starting point 21 has alpha score = -0.753 and coordinates [1.52081000e+00 1.37800000e+01 2.28000000e+00 1.43000000e+00\n",
      " 7.19900000e+01 4.90000000e-01 9.85000000e+00 2.77555756e-17\n",
      " 1.70000000e-01]\n",
      "Starting point 22 has alpha score = -0.525 and coordinates [1.51852000e+00 1.40900000e+01 2.19000000e+00 1.66000000e+00\n",
      " 7.26700000e+01 0.00000000e+00 9.32000000e+00 2.77555756e-17\n",
      " 0.00000000e+00]\n",
      "Starting point 23 has alpha score = -0.466 and coordinates [ 1.52365 15.79     1.83     1.31    70.43     0.31     8.61     1.68\n",
      "  0.     ]\n",
      "Starting point 24 has alpha score = -0.221 and coordinates [1.51820000e+00 1.26200000e+01 2.76000000e+00 8.30000000e-01\n",
      " 7.38100000e+01 3.50000000e-01 9.42000000e+00 2.77555756e-17\n",
      " 2.00000000e-01]\n",
      "Starting point 25 has alpha score = -0.188 and coordinates [ 1.51831 14.39     0.       1.82    72.86     1.41     6.47     2.88\n",
      "  0.     ]\n",
      "Starting point 26 has alpha score = -0.150 and coordinates [1.52320000e+00 1.37200000e+01 3.72000000e+00 5.10000000e-01\n",
      " 7.17500000e+01 9.00000000e-02 1.00600000e+01 2.77555756e-17\n",
      " 1.60000000e-01]\n",
      "Starting point 27 has alpha score = -0.120 and coordinates [1.51321000e+00 1.30000000e+01 0.00000000e+00 3.02000000e+00\n",
      " 7.07000000e+01 6.21000000e+00 6.93000000e+00 2.77555756e-17\n",
      " 0.00000000e+00]\n",
      "Starting point 28 has alpha score = -0.023 and coordinates [1.51837000e+00 1.31400000e+01 2.84000000e+00 1.28000000e+00\n",
      " 7.28500000e+01 5.50000000e-01 9.07000000e+00 2.77555756e-17\n",
      " 0.00000000e+00]\n",
      "Starting point 29 has alpha score = 0.228 and coordinates [1.51299000e+00 1.44000000e+01 1.74000000e+00 1.54000000e+00\n",
      " 7.45500000e+01 0.00000000e+00 7.59000000e+00 2.77555756e-17\n",
      " 0.00000000e+00]\n",
      "Starting point 30 has alpha score = 0.297 and coordinates [1.51898000e+00 1.35800000e+01 3.35000000e+00 1.23000000e+00\n",
      " 7.20800000e+01 5.90000000e-01 8.91000000e+00 2.77555756e-17\n",
      " 0.00000000e+00]\n",
      "Starting point 31 has alpha score = 0.355 and coordinates [1.52211000e+00 1.41900000e+01 3.78000000e+00 9.10000000e-01\n",
      " 7.13600000e+01 2.30000000e-01 9.14000000e+00 2.77555756e-17\n",
      " 3.70000000e-01]\n",
      "Starting point 32 has alpha score = 0.436 and coordinates [1.51966000e+00 1.47700000e+01 3.75000000e+00 2.90000000e-01\n",
      " 7.20200000e+01 3.00000000e-02 9.00000000e+00 2.77555756e-17\n",
      " 0.00000000e+00]\n",
      "Starting point 33 has alpha score = 0.589 and coordinates [1.51753000e+00 1.25700000e+01 3.47000000e+00 1.38000000e+00\n",
      " 7.33900000e+01 6.00000000e-01 8.55000000e+00 2.77555756e-17\n",
      " 6.00000000e-02]\n",
      "Starting point 34 has alpha score = 0.793 and coordinates [1.51625000e+00 1.33600000e+01 3.58000000e+00 1.49000000e+00\n",
      " 7.27200000e+01 4.50000000e-01 8.21000000e+00 2.77555756e-17\n",
      " 0.00000000e+00]\n",
      "Starting point 35 has alpha score = 0.922 and coordinates [1.52101000e+00 1.36400000e+01 4.49000000e+00 1.10000000e+00\n",
      " 7.17800000e+01 6.00000000e-02 8.75000000e+00 2.77555756e-17\n",
      " 0.00000000e+00]\n",
      "Starting point 36 has alpha score = 0.944 and coordinates [1.51800000e+00 1.37100000e+01 3.93000000e+00 1.54000000e+00\n",
      " 7.18100000e+01 5.40000000e-01 8.21000000e+00 2.77555756e-17\n",
      " 1.50000000e-01]\n",
      "Starting point 37 has alpha score = 1.241 and coordinates [1.51574000e+00 1.48600000e+01 3.67000000e+00 1.74000000e+00\n",
      " 7.18700000e+01 1.60000000e-01 7.36000000e+00 2.77555756e-17\n",
      " 1.20000000e-01]\n",
      "Starting point 38 has alpha score = 1.405 and coordinates [ 1.51514 14.01     2.68     3.5     69.89     1.68     5.87     2.2\n",
      "  0.     ]\n",
      "Starting point 39 has alpha score = 1.825 and coordinates [ 1.51838 14.32     3.26     2.22    71.25     1.46     5.79     1.63\n",
      "  0.     ]\n",
      "Starting point 40 has alpha score = 2.081 and coordinates [ 1.51131 13.69     3.2      1.81    72.81     1.76     5.43     1.19\n",
      "  0.     ]\n"
     ]
    }
   ],
   "source": [
    "classix_density.explain()"
   ]
  },
  {
   "cell_type": "code",
   "execution_count": 17,
   "metadata": {},
   "outputs": [
    {
     "name": "stdout",
     "output_type": "stream",
     "text": [
      "The configuration with aggregation on density has AMI score is:  0.4741381141985289  , silhoutte score is:  0.19366479387508476\n",
      "The configuration with aggregation on distance has AMI score is:  0.49563117326329115  , silhoutte score is:  0.3283018467215812\n"
     ]
    }
   ],
   "source": [
    "print('The configuration with aggregation on density has AMI score is: ',metrics.adjusted_mutual_info_score(Y_test,Y_pred_density),' , silhoutte score is: ',metrics.silhouette_score(X_test,Y_pred_density))  \n",
    "print('The configuration with aggregation on distance has AMI score is: ',metrics.adjusted_mutual_info_score(Y_test,Y_pred_distance),' , silhoutte score is: ',metrics.silhouette_score(X_test,Y_pred_distance))  "
   ]
  }
 ],
 "metadata": {
  "kernelspec": {
   "display_name": "env1",
   "language": "python",
   "name": "python3"
  },
  "language_info": {
   "codemirror_mode": {
    "name": "ipython",
    "version": 3
   },
   "file_extension": ".py",
   "mimetype": "text/x-python",
   "name": "python",
   "nbconvert_exporter": "python",
   "pygments_lexer": "ipython3",
   "version": "3.9.13"
  },
  "orig_nbformat": 4,
  "vscode": {
   "interpreter": {
    "hash": "417d4e038d642fb16654d8b072fd819f20b95e96faee87233047f8a98e6b253f"
   }
  }
 },
 "nbformat": 4,
 "nbformat_minor": 2
}
