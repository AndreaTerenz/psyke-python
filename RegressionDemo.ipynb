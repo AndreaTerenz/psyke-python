{
 "cells": [
  {
   "cell_type": "markdown",
   "id": "f52126f3",
   "metadata": {},
   "source": [
    "# PSyKE's demo for regression tasks\n",
    "\n",
    "Some imports."
   ]
  },
  {
   "cell_type": "code",
   "execution_count": 1,
   "id": "6b710e7c",
   "metadata": {},
   "outputs": [],
   "source": [
    "from psyke import Extractor\n",
    "from tensorflow.keras.models import Sequential\n",
    "from tensorflow.keras.layers import Dense\n",
    "from tensorflow.keras.optimizers import Adam\n",
    "from tensorflow.keras.callbacks import EarlyStopping\n",
    "from psyke.utils.logic import pretty_theory\n",
    "from sklearn.model_selection import train_test_split\n",
    "import pandas as pd"
   ]
  },
  {
   "cell_type": "markdown",
   "id": "d7c90ed2",
   "metadata": {
    "pycharm": {
     "name": "#%% md\n"
    }
   },
   "source": [
    "Import an artificial dataset."
   ]
  },
  {
   "cell_type": "code",
   "execution_count": 2,
   "id": "f8e46c49",
   "metadata": {},
   "outputs": [],
   "source": [
    "dataset = pd.read_csv(\"test/resources/datasets/arti.csv\")"
   ]
  },
  {
   "cell_type": "markdown",
   "id": "d673b766",
   "metadata": {},
   "source": [
    "Split between train and test set in a reproducible way."
   ]
  },
  {
   "cell_type": "code",
   "execution_count": 3,
   "id": "03fc5e2c",
   "metadata": {},
   "outputs": [],
   "source": [
    "train, test = train_test_split(dataset, test_size = 0.3, random_state = 10)"
   ]
  },
  {
   "cell_type": "markdown",
   "id": "fa6754a0",
   "metadata": {},
   "source": [
    "We use as predictor a MLP and we train it."
   ]
  },
  {
   "cell_type": "code",
   "execution_count": 6,
   "id": "bed764ca",
   "metadata": {},
   "outputs": [
    {
     "name": "stdout",
     "output_type": "stream",
     "text": [
      "0.027154218554496772\n"
     ]
    }
   ],
   "source": [
    "predictor = Sequential(\n",
    "    [\n",
    "        Dense(25, kernel_initializer = 'uniform', activation = \"tanh\"),\n",
    "        Dense(5, kernel_initializer = 'uniform', activation = \"tanh\"),\n",
    "        Dense(1, kernel_initializer = 'uniform')\n",
    "    ]\n",
    "\n",
    ")\n",
    "\n",
    "predictor.compile(loss = \"mae\", metrics = ['mae', 'mse'], optimizer = Adam(learning_rate = 0.1))\n",
    "\n",
    "callbacks = [\n",
    "    EarlyStopping(\n",
    "            monitor = 'val_loss', \n",
    "            min_delta = .005, \n",
    "            patience = 30, \n",
    "            restore_best_weights = True, \n",
    "            verbose = 0\n",
    "        )\n",
    "]\n",
    "\n",
    "_ = predictor.fit(train.iloc[:, :-1], train.iloc[:, -1], validation_split = 0.2,  \n",
    "              epochs = 100, batch_size = 150, verbose = 0, callbacks = callbacks)\n",
    "\n",
    "print((abs(predictor.predict(test.iloc[:, :-1]).flatten() - test.iloc[:, -1].values)).mean())"
   ]
  },
  {
   "cell_type": "markdown",
   "id": "96835867",
   "metadata": {},
   "source": [
    "We create an extractor that uses the REAL algorithm and we extract prolog rules from our trained MLP."
   ]
  },
  {
   "cell_type": "code",
   "execution_count": 7,
   "id": "5e97565d",
   "metadata": {
    "pycharm": {
     "name": "#%%\n"
    }
   },
   "outputs": [
    {
     "name": "stdout",
     "output_type": "stream",
     "text": [
      "ITER extracted rules:\n",
      "\n",
      "z(X, Y, 0.4089) :-\n",
      "    X in [0.0, 0.5164], Y in [0.4714, 1.0].\n",
      "z(X, Y, 0.6632) :-\n",
      "    X in [0.0, 0.5164], Y in [0.0, 0.4714].\n",
      "z(X, Y, 0.3574) :-\n",
      "    X in [0.5164, 1.0], Y in [0.0, 0.4714].\n",
      "z(X, Y, 0.068) :-\n",
      "    X in [0.5164, 1.0], Y in [0.4714, 1.0].\n"
     ]
    }
   ],
   "source": [
    "it = Extractor.iter(predictor, 1.0 / 30, 1, 600, 100, 0.2, False)\n",
    "theory_from_iter = it.extract(train)\n",
    "print('ITER extracted rules:\\n\\n' + pretty_theory(theory_from_iter))"
   ]
  },
  {
   "cell_type": "code",
   "execution_count": null,
   "outputs": [],
   "source": [],
   "metadata": {
    "collapsed": false,
    "pycharm": {
     "name": "#%%\n"
    }
   }
  }
 ],
 "metadata": {
  "kernelspec": {
   "display_name": "Python 3",
   "language": "python",
   "name": "python3"
  },
  "language_info": {
   "codemirror_mode": {
    "name": "ipython",
    "version": 3
   },
   "file_extension": ".py",
   "mimetype": "text/x-python",
   "name": "python",
   "nbconvert_exporter": "python",
   "pygments_lexer": "ipython3",
   "version": "3.9.7"
  }
 },
 "nbformat": 4,
 "nbformat_minor": 5
}