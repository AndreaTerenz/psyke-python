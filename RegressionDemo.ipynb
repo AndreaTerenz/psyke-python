{
 "cells": [
  {
   "cell_type": "markdown",
   "id": "f52126f3",
   "metadata": {},
   "source": [
    "# PSyKE's demo for regression tasks\n",
    "\n",
    "Some imports."
   ]
  },
  {
   "cell_type": "code",
   "execution_count": 1,
   "id": "6b710e7c",
   "metadata": {},
   "outputs": [],
   "source": [
    "from psyke import Extractor\n",
    "from psyke.regression import Grid, FixedStrategy\n",
    "from psyke.regression.optimizer import PEDRO\n",
    "from sklearn.neighbors import KNeighborsRegressor\n",
    "from psyke.utils.logic import pretty_theory\n",
    "from sklearn.model_selection import train_test_split\n",
    "import pandas as pd"
   ]
  },
  {
   "cell_type": "markdown",
   "id": "d7c90ed2",
   "metadata": {
    "pycharm": {
     "name": "#%% md\n"
    }
   },
   "source": [
    "Import an artificial dataset."
   ]
  },
  {
   "cell_type": "code",
   "execution_count": 2,
   "id": "f8e46c49",
   "metadata": {},
   "outputs": [],
   "source": [
    "dataset = pd.read_csv(\"test/resources/datasets/arti.csv\")"
   ]
  },
  {
   "cell_type": "markdown",
   "id": "d673b766",
   "metadata": {},
   "source": [
    "Split between train and test set in a reproducible way."
   ]
  },
  {
   "cell_type": "code",
   "execution_count": 3,
   "id": "03fc5e2c",
   "metadata": {},
   "outputs": [],
   "source": [
    "train, test = train_test_split(dataset, test_size = 0.3, random_state = 10)"
   ]
  },
  {
   "cell_type": "markdown",
   "id": "fa6754a0",
   "metadata": {},
   "source": [
    "We use as predictor a MLP and we train it."
   ]
  },
  {
   "cell_type": "code",
   "execution_count": 4,
   "id": "bed764ca",
   "metadata": {},
   "outputs": [
    {
     "name": "stdout",
     "output_type": "stream",
     "text": [
      "0.00933333333333333\n"
     ]
    }
   ],
   "source": [
    "predictor = KNeighborsRegressor(n_neighbors=1).fit(train.iloc[:, :-1], train.iloc[:, -1])\n",
    "\n",
    "print((abs(predictor.predict(test.iloc[:, :-1]).flatten() - test.iloc[:, -1])).mean())"
   ]
  },
  {
   "cell_type": "markdown",
   "id": "96835867",
   "metadata": {},
   "source": [
    "We create an extractor that uses the ITER algorithm and we extract prolog rules from our trained MLP."
   ]
  },
  {
   "cell_type": "code",
   "execution_count": 5,
   "outputs": [
    {
     "name": "stdout",
     "output_type": "stream",
     "text": [
      "ITER extracted rules:\n",
      "\n",
      "z(X, Y, 0.0) :-\n",
      "    X in [0.5095, 0.9994], Y in [0.5003, 0.9994].\n",
      "z(X, Y, 0.3) :-\n",
      "    X in [0.5095, 0.9994], Y in [0.0002, 0.5003].\n",
      "z(X, Y, 0.4) :-\n",
      "    X in [0.0021, 0.5095], Y in [0.4942, 0.9994].\n",
      "z(X, Y, 0.7) :-\n",
      "    X in [0.0021, 0.5095], Y in [0.0002, 0.4942].\n"
     ]
    }
   ],
   "source": [
    "it = Extractor.iter(predictor, min_update=1.0 / 15, n_points=4, max_iterations=600,\n",
    "                    min_examples=100, threshold=0.15)\n",
    "theory_from_iter = it.extract(train)\n",
    "print('ITER extracted rules:\\n\\n' + pretty_theory(theory_from_iter))"
   ],
   "metadata": {
    "collapsed": false,
    "pycharm": {
     "name": "#%%\n"
    }
   }
  },
  {
   "cell_type": "code",
   "execution_count": 6,
   "outputs": [
    {
     "name": "stdout",
     "output_type": "stream",
     "text": [
      "GridEx extracted rules:\n",
      "\n",
      "z(X, Y, 0.6976) :-\n",
      "    X in [0.0021, 0.5007], Y in [0.0002, 0.4998].\n",
      "z(X, Y, 0.3984) :-\n",
      "    X in [0.0021, 0.5007], Y in [0.4998, 0.9994].\n",
      "z(X, Y, 0.2976) :-\n",
      "    X in [0.5007, 0.9994], Y in [0.0002, 0.4998].\n",
      "z(X, Y, 0.0) :-\n",
      "    X in [0.5007, 0.9994], Y in [0.4998, 0.9994].\n"
     ]
    }
   ],
   "source": [
    "gridEx = Extractor.gridex(predictor, Grid(1, FixedStrategy(2)), threshold=0.15)\n",
    "theory_from_gridEx = gridEx.extract(train)\n",
    "print('GridEx extracted rules:\\n\\n' + pretty_theory(theory_from_gridEx))"
   ],
   "metadata": {
    "collapsed": false,
    "pycharm": {
     "name": "#%%\n"
    }
   }
  },
  {
   "cell_type": "code",
   "execution_count": 5,
   "outputs": [
    {
     "name": "stdout",
     "output_type": "stream",
     "text": [
      "GridREx extracted rules:\n",
      "\n",
      "z(X, Y, Z) :-\n",
      "    X in [0.0021, 0.5007], Y in [0.0002, 0.4998], Z is 0.7052 + -0.004 * X + -0.0264 * Y.\n",
      "z(X, Y, Z) :-\n",
      "    X in [0.0021, 0.5007], Y in [0.4998, 0.9994], Z is 0.4164 + -0.022 * X + -0.017 * Y.\n",
      "z(X, Y, Z) :-\n",
      "    X in [0.5007, 0.9994], Y in [0.0002, 0.4998], Z is 0.2971 + 0.0103 * X + -0.0301 * Y.\n",
      "z(X, Y, Z) :-\n",
      "    X in [0.5007, 0.9994], Y in [0.4998, 0.9994], Z is 0.0.\n"
     ]
    }
   ],
   "source": [
    "gridREx = Extractor.gridrex(predictor, Grid(1, FixedStrategy(2)), threshold=0.15)\n",
    "theory_from_gridREx = gridREx.extract(train)\n",
    "print('GridREx extracted rules:\\n\\n' + pretty_theory(theory_from_gridREx))"
   ],
   "metadata": {
    "collapsed": false,
    "pycharm": {
     "name": "#%%\n"
    }
   }
  },
  {
   "cell_type": "code",
   "execution_count": 8,
   "outputs": [
    {
     "name": "stdout",
     "output_type": "stream",
     "text": [
      "GridEx. Grid (1). Fixed (2). Threshold = 0.00. MAE = 0.00, 4 rules\n",
      "GridEx. Grid (1). Fixed (2). Threshold = 0.00. MAE = 0.00, 4 rules\n",
      "GridEx. Grid (1). Fixed (2). Threshold = 0.00. MAE = 0.00, 4 rules\n",
      "GridEx. Grid (1). Fixed (2). Threshold = 0.00. MAE = 0.00, 4 rules\n",
      "\n",
      "GridEx. Grid (2). Fixed (2). Threshold = 0.00. MAE = 0.00, 8 rules\n",
      "GridEx. Grid (2). Fixed (2). Threshold = 0.00. MAE = 0.00, 8 rules\n",
      "GridEx. Grid (2). Fixed (2). Threshold = 0.00. MAE = 0.00, 8 rules\n",
      "GridEx. Grid (2). Fixed (2). Threshold = 0.00. MAE = 0.00, 8 rules\n",
      "\n",
      "GridEx. Grid (1). Fixed (3). Threshold = 0.00. MAE = 0.10, 9 rules\n",
      "GridEx. Grid (1). Fixed (3). Threshold = 0.00. MAE = 0.10, 9 rules\n",
      "GridEx. Grid (1). Fixed (3). Threshold = 0.05. MAE = 0.10, 9 rules\n",
      "GridEx. Grid (1). Fixed (3). Threshold = 0.10. MAE = 0.10, 9 rules\n",
      "\n",
      "GridEx. Grid (2). Fixed (3). Threshold = 0.00. MAE = 0.10, 58 rules\n",
      "GridEx. Grid (2). Fixed (3). Threshold = 0.00. MAE = 0.10, 58 rules\n",
      "\n",
      "GridEx. Grid (1). Adaptive ([(0.99, 2)]). Threshold = 0.00. MAE = 0.15, 2 rules\n",
      "GridEx. Grid (1). Adaptive ([(0.99, 2)]). Threshold = 0.00. MAE = 0.15, 2 rules\n",
      "GridEx. Grid (1). Adaptive ([(0.99, 2)]). Threshold = 0.08. MAE = 0.15, 2 rules\n",
      "GridEx. Grid (1). Adaptive ([(0.99, 2)]). Threshold = 0.15. MAE = 0.15, 2 rules\n",
      "\n",
      "GridEx. Grid (2). Adaptive ([(0.99, 2)]). Threshold = 0.00. MAE = 0.15, 6 rules\n",
      "GridEx. Grid (2). Adaptive ([(0.99, 2)]). Threshold = 0.00. MAE = 0.15, 6 rules\n",
      "GridEx. Grid (2). Adaptive ([(0.99, 2)]). Threshold = 0.08. MAE = 0.15, 6 rules\n",
      "GridEx. Grid (2). Adaptive ([(0.99, 2)]). Threshold = 0.15. MAE = 0.15, 5 rules\n",
      "GridEx. Grid (2). Adaptive ([(0.99, 2)]). Threshold = 0.22. MAE = 0.15, 4 rules\n",
      "GridEx. Grid (2). Adaptive ([(0.99, 2)]). Threshold = 0.30. MAE = 0.15, 4 rules\n",
      "GridEx. Grid (2). Adaptive ([(0.99, 2)]). Threshold = 0.37. MAE = 0.15, 4 rules\n",
      "GridEx. Grid (2). Adaptive ([(0.99, 2)]). Threshold = 0.59. MAE = 0.15, 4 rules\n",
      "\n",
      "GridEx. Grid (1). Adaptive ([(0.99, 3)]). Threshold = 0.00. MAE = 0.17, 3 rules\n",
      "GridEx. Grid (1). Adaptive ([(0.99, 3)]). Threshold = 0.00. MAE = 0.17, 3 rules\n",
      "GridEx. Grid (1). Adaptive ([(0.99, 3)]). Threshold = 0.08. MAE = 0.17, 3 rules\n",
      "GridEx. Grid (1). Adaptive ([(0.99, 3)]). Threshold = 0.17. MAE = 0.17, 3 rules\n",
      "\n",
      "GridEx. Grid (2). Adaptive ([(0.99, 3)]). Threshold = 0.00. MAE = 0.17, 12 rules\n",
      "GridEx. Grid (2). Adaptive ([(0.99, 3)]). Threshold = 0.00. MAE = 0.17, 12 rules\n",
      "GridEx. Grid (2). Adaptive ([(0.99, 3)]). Threshold = 0.08. MAE = 0.17, 12 rules\n",
      "GridEx. Grid (2). Adaptive ([(0.99, 3)]). Threshold = 0.17. MAE = 0.17, 8 rules\n",
      "GridEx. Grid (2). Adaptive ([(0.99, 3)]). Threshold = 0.25. MAE = 0.17, 8 rules\n",
      "GridEx. Grid (2). Adaptive ([(0.99, 3)]). Threshold = 0.33. MAE = 0.17, 6 rules\n",
      "GridEx. Grid (2). Adaptive ([(0.99, 3)]). Threshold = 0.42. MAE = 0.17, 6 rules\n",
      "GridEx. Grid (2). Adaptive ([(0.99, 3)]). Threshold = 0.54. MAE = 0.17, 6 rules\n",
      "GridEx. Grid (2). Adaptive ([(0.99, 3)]). Threshold = 0.91. MAE = 0.17, 6 rules\n",
      "\n",
      "GridEx. Grid (1). Adaptive ([(0.99, 5)]). Threshold = 0.00. MAE = 0.16, 5 rules\n",
      "GridEx. Grid (1). Adaptive ([(0.99, 5)]). Threshold = 0.00. MAE = 0.16, 5 rules\n",
      "GridEx. Grid (1). Adaptive ([(0.99, 5)]). Threshold = 0.08. MAE = 0.16, 5 rules\n",
      "GridEx. Grid (1). Adaptive ([(0.99, 5)]). Threshold = 0.16. MAE = 0.16, 5 rules\n",
      "\n",
      "GridEx. Grid (2). Adaptive ([(0.99, 5)]). Threshold = 0.00. MAE = 0.16, 30 rules\n",
      "GridEx. Grid (2). Adaptive ([(0.99, 5)]). Threshold = 0.00. MAE = 0.16, 30 rules\n",
      "\n",
      "GridEx. Grid (1). Adaptive ([(0.99, 10)]). Threshold = 0.00. MAE = 0.15, 10 rules\n",
      "GridEx. Grid (1). Adaptive ([(0.99, 10)]). Threshold = 0.00. MAE = 0.15, 10 rules\n",
      "GridEx. Grid (1). Adaptive ([(0.99, 10)]). Threshold = 0.08. MAE = 0.15, 10 rules\n",
      "GridEx. Grid (1). Adaptive ([(0.99, 10)]). Threshold = 0.15. MAE = 0.15, 10 rules\n",
      "\n",
      "GridEx. Grid (2). Adaptive ([(0.99, 10)]). Threshold = 0.00. MAE = 0.15, 110 rules\n",
      "GridEx. Grid (2). Adaptive ([(0.99, 10)]). Threshold = 0.00. MAE = 0.15, 110 rules\n",
      "\n",
      "GridEx. Grid (1). Adaptive ([(0.33, 2), (0.67, 3)]). Threshold = 0.00. MAE = 0.07, 6 rules\n",
      "GridEx. Grid (1). Adaptive ([(0.33, 2), (0.67, 3)]). Threshold = 0.00. MAE = 0.07, 6 rules\n",
      "GridEx. Grid (1). Adaptive ([(0.33, 2), (0.67, 3)]). Threshold = 0.03. MAE = 0.07, 6 rules\n",
      "GridEx. Grid (1). Adaptive ([(0.33, 2), (0.67, 3)]). Threshold = 0.07. MAE = 0.07, 6 rules\n",
      "\n",
      "GridEx. Grid (2). Adaptive ([(0.33, 2), (0.67, 3)]). Threshold = 0.00. MAE = 0.07, 22 rules\n",
      "GridEx. Grid (2). Adaptive ([(0.33, 2), (0.67, 3)]). Threshold = 0.00. MAE = 0.07, 22 rules\n",
      "\n",
      "**********************\n",
      "*****Best GridEx*****\n",
      "**********************\n",
      "MAE = 0.00, 4 rules\n",
      "Threshold = 0.00\n",
      "Iterations = 1\n",
      "Strategy = Fixed (2)\n",
      "\n",
      "**********************\n",
      "*****Best   MAE  *****\n",
      "**********************\n",
      "MAE = 0.00, 8 rules\n",
      "Threshold = 0.00\n",
      "Iterations = 2\n",
      "Strategy = Fixed (2)\n",
      "\n",
      "**********************\n",
      "*****Best N rules*****\n",
      "**********************\n",
      "MAE = 0.15, 2 rules\n",
      "Threshold = 0.00\n",
      "Iterations = 1\n",
      "Strategy = Adaptive ([(0.99, 2)])\n",
      "\n"
     ]
    }
   ],
   "source": [
    "pedro = PEDRO(gridEx, train, max_mae_increase=1.2, min_rule_decrease=0.9, readability_tradeoff=0.1,\n",
    "              max_depth=3, patience=3, alg=\"GridEx\", obj=\"model\")\n",
    "pedro.search()\n",
    "_ = pedro.get_best()"
   ],
   "metadata": {
    "collapsed": false,
    "pycharm": {
     "name": "#%%\n"
    }
   }
  },
  {
   "cell_type": "code",
   "execution_count": 6,
   "outputs": [
    {
     "name": "stdout",
     "output_type": "stream",
     "text": [
      "GridREx. Grid (1). Fixed (2). Threshold = 0.00. MAE = 0.00, 4 rules\n",
      "GridREx. Grid (1). Fixed (2). Threshold = 0.00. MAE = 0.00, 4 rules\n",
      "GridREx. Grid (1). Fixed (2). Threshold = 0.01. MAE = 0.00, 4 rules\n",
      "GridREx. Grid (1). Fixed (2). Threshold = 0.01. MAE = 0.00, 4 rules\n",
      "\n",
      "GridREx. Grid (2). Fixed (2). Threshold = 0.00. MAE = 0.00, 8 rules\n",
      "GridREx. Grid (2). Fixed (2). Threshold = 0.00. MAE = 0.00, 8 rules\n",
      "GridREx. Grid (2). Fixed (2). Threshold = 0.01. MAE = 0.00, 8 rules\n",
      "GridREx. Grid (2). Fixed (2). Threshold = 0.01. MAE = 0.00, 8 rules\n",
      "\n",
      "GridREx. Grid (1). Fixed (3). Threshold = 0.00. MAE = 0.04, 9 rules\n",
      "GridREx. Grid (1). Fixed (3). Threshold = 0.00. MAE = 0.04, 9 rules\n",
      "GridREx. Grid (1). Fixed (3). Threshold = 0.02. MAE = 0.04, 9 rules\n",
      "GridREx. Grid (1). Fixed (3). Threshold = 0.04. MAE = 0.04, 9 rules\n",
      "\n",
      "GridREx. Grid (2). Fixed (3). Threshold = 0.00. MAE = 0.04, 58 rules\n",
      "GridREx. Grid (2). Fixed (3). Threshold = 0.00. MAE = 0.04, 58 rules\n",
      "\n",
      "GridREx. Grid (1). Adaptive ([(0.99, 2)]). Threshold = 0.00. MAE = 0.06, 2 rules\n",
      "GridREx. Grid (1). Adaptive ([(0.99, 2)]). Threshold = 0.00. MAE = 0.06, 2 rules\n",
      "GridREx. Grid (1). Adaptive ([(0.99, 2)]). Threshold = 0.03. MAE = 0.06, 2 rules\n",
      "GridREx. Grid (1). Adaptive ([(0.99, 2)]). Threshold = 0.06. MAE = 0.06, 2 rules\n",
      "\n",
      "GridREx. Grid (2). Adaptive ([(0.99, 2)]). Threshold = 0.00. MAE = 0.06, 6 rules\n",
      "GridREx. Grid (2). Adaptive ([(0.99, 2)]). Threshold = 0.00. MAE = 0.06, 6 rules\n",
      "GridREx. Grid (2). Adaptive ([(0.99, 2)]). Threshold = 0.03. MAE = 0.06, 6 rules\n",
      "GridREx. Grid (2). Adaptive ([(0.99, 2)]). Threshold = 0.06. MAE = 0.06, 4 rules\n",
      "GridREx. Grid (2). Adaptive ([(0.99, 2)]). Threshold = 0.09. MAE = 0.06, 4 rules\n",
      "GridREx. Grid (2). Adaptive ([(0.99, 2)]). Threshold = 0.12. MAE = 0.06, 4 rules\n",
      "GridREx. Grid (2). Adaptive ([(0.99, 2)]). Threshold = 0.18. MAE = 0.06, 4 rules\n",
      "\n",
      "GridREx. Grid (1). Adaptive ([(0.99, 3)]). Threshold = 0.00. MAE = 0.08, 3 rules\n",
      "GridREx. Grid (1). Adaptive ([(0.99, 3)]). Threshold = 0.00. MAE = 0.08, 3 rules\n",
      "GridREx. Grid (1). Adaptive ([(0.99, 3)]). Threshold = 0.04. MAE = 0.08, 3 rules\n",
      "GridREx. Grid (1). Adaptive ([(0.99, 3)]). Threshold = 0.08. MAE = 0.08, 3 rules\n",
      "\n",
      "GridREx. Grid (2). Adaptive ([(0.99, 3)]). Threshold = 0.00. MAE = 0.08, 12 rules\n",
      "GridREx. Grid (2). Adaptive ([(0.99, 3)]). Threshold = 0.00. MAE = 0.08, 12 rules\n",
      "GridREx. Grid (2). Adaptive ([(0.99, 3)]). Threshold = 0.04. MAE = 0.08, 12 rules\n",
      "GridREx. Grid (2). Adaptive ([(0.99, 3)]). Threshold = 0.08. MAE = 0.08, 8 rules\n",
      "GridREx. Grid (2). Adaptive ([(0.99, 3)]). Threshold = 0.11. MAE = 0.08, 6 rules\n",
      "GridREx. Grid (2). Adaptive ([(0.99, 3)]). Threshold = 0.15. MAE = 0.08, 6 rules\n",
      "GridREx. Grid (2). Adaptive ([(0.99, 3)]). Threshold = 0.18. MAE = 0.08, 6 rules\n",
      "GridREx. Grid (2). Adaptive ([(0.99, 3)]). Threshold = 0.29. MAE = 0.08, 6 rules\n",
      "\n",
      "GridREx. Grid (1). Adaptive ([(0.99, 5)]). Threshold = 0.00. MAE = 0.07, 5 rules\n",
      "GridREx. Grid (1). Adaptive ([(0.99, 5)]). Threshold = 0.00. MAE = 0.07, 5 rules\n",
      "GridREx. Grid (1). Adaptive ([(0.99, 5)]). Threshold = 0.04. MAE = 0.07, 5 rules\n",
      "GridREx. Grid (1). Adaptive ([(0.99, 5)]). Threshold = 0.07. MAE = 0.07, 5 rules\n",
      "\n",
      "GridREx. Grid (2). Adaptive ([(0.99, 5)]). Threshold = 0.00. MAE = 0.07, 30 rules\n",
      "GridREx. Grid (2). Adaptive ([(0.99, 5)]). Threshold = 0.00. MAE = 0.07, 30 rules\n",
      "\n",
      "GridREx. Grid (1). Adaptive ([(0.99, 10)]). Threshold = 0.00. MAE = 0.06, 10 rules\n",
      "GridREx. Grid (1). Adaptive ([(0.99, 10)]). Threshold = 0.00. MAE = 0.06, 10 rules\n",
      "GridREx. Grid (1). Adaptive ([(0.99, 10)]). Threshold = 0.03. MAE = 0.06, 10 rules\n",
      "GridREx. Grid (1). Adaptive ([(0.99, 10)]). Threshold = 0.06. MAE = 0.06, 10 rules\n",
      "\n",
      "GridREx. Grid (2). Adaptive ([(0.99, 10)]). Threshold = 0.00. MAE = 0.06, 110 rules\n",
      "GridREx. Grid (2). Adaptive ([(0.99, 10)]). Threshold = 0.00. MAE = 0.06, 110 rules\n",
      "\n",
      "GridREx. Grid (1). Adaptive ([(0.33, 2), (0.67, 3)]). Threshold = 0.00. MAE = 0.03, 6 rules\n",
      "GridREx. Grid (1). Adaptive ([(0.33, 2), (0.67, 3)]). Threshold = 0.00. MAE = 0.03, 6 rules\n",
      "GridREx. Grid (1). Adaptive ([(0.33, 2), (0.67, 3)]). Threshold = 0.02. MAE = 0.03, 6 rules\n",
      "GridREx. Grid (1). Adaptive ([(0.33, 2), (0.67, 3)]). Threshold = 0.03. MAE = 0.03, 6 rules\n",
      "\n",
      "GridREx. Grid (2). Adaptive ([(0.33, 2), (0.67, 3)]). Threshold = 0.00. MAE = 0.03, 22 rules\n",
      "GridREx. Grid (2). Adaptive ([(0.33, 2), (0.67, 3)]). Threshold = 0.00. MAE = 0.03, 22 rules\n",
      "\n",
      "**********************\n",
      "*****Best GridREx*****\n",
      "**********************\n",
      "MAE = 0.00, 4 rules\n",
      "Threshold = 0.00\n",
      "Iterations = 1\n",
      "Strategy = Fixed (2)\n",
      "\n",
      "**********************\n",
      "*****Best   MAE  *****\n",
      "**********************\n",
      "MAE = 0.00, 8 rules\n",
      "Threshold = 0.00\n",
      "Iterations = 2\n",
      "Strategy = Fixed (2)\n",
      "\n",
      "**********************\n",
      "*****Best N rules*****\n",
      "**********************\n",
      "MAE = 0.06, 2 rules\n",
      "Threshold = 0.00\n",
      "Iterations = 1\n",
      "Strategy = Adaptive ([(0.99, 2)])\n",
      "\n"
     ]
    }
   ],
   "source": [
    "pedro = PEDRO(gridREx, train, max_mae_increase=1.2, min_rule_decrease=0.9, readability_tradeoff=0.1,\n",
    "              max_depth=3, patience=3, alg=\"GridREx\", obj=\"model\")\n",
    "pedro.search()\n",
    "_ = pedro.get_best()"
   ],
   "metadata": {
    "collapsed": false,
    "pycharm": {
     "name": "#%%\n"
    }
   }
  }
 ],
 "metadata": {
  "kernelspec": {
   "display_name": "Python 3",
   "language": "python",
   "name": "python3"
  },
  "language_info": {
   "codemirror_mode": {
    "name": "ipython",
    "version": 3
   },
   "file_extension": ".py",
   "mimetype": "text/x-python",
   "name": "python",
   "nbconvert_exporter": "python",
   "pygments_lexer": "ipython3",
   "version": "3.9.7"
  }
 },
 "nbformat": 4,
 "nbformat_minor": 5
}