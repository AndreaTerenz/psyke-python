{
 "cells": [
  {
   "cell_type": "markdown",
   "id": "f52126f3",
   "metadata": {},
   "source": [
    "# PSyKE's demo for regression tasks\n",
    "\n",
    "Some imports."
   ]
  },
  {
   "cell_type": "code",
   "execution_count": 1,
   "id": "6b710e7c",
   "metadata": {},
   "outputs": [],
   "source": [
    "from psyke import Extractor\n",
    "from psyke.regression import Grid, FixedStrategy\n",
    "from sklearn.neighbors import KNeighborsRegressor\n",
    "from psyke.utils.logic import pretty_theory\n",
    "from sklearn.model_selection import train_test_split\n",
    "import pandas as pd"
   ]
  },
  {
   "cell_type": "markdown",
   "id": "d7c90ed2",
   "metadata": {
    "pycharm": {
     "name": "#%% md\n"
    }
   },
   "source": [
    "Import an artificial dataset."
   ]
  },
  {
   "cell_type": "code",
   "execution_count": 2,
   "id": "f8e46c49",
   "metadata": {},
   "outputs": [],
   "source": [
    "dataset = pd.read_csv(\"test/resources/datasets/arti.csv\")"
   ]
  },
  {
   "cell_type": "markdown",
   "id": "d673b766",
   "metadata": {},
   "source": [
    "Split between train and test set in a reproducible way."
   ]
  },
  {
   "cell_type": "code",
   "execution_count": 3,
   "id": "03fc5e2c",
   "metadata": {},
   "outputs": [],
   "source": [
    "train, test = train_test_split(dataset, test_size = 0.3, random_state = 10)"
   ]
  },
  {
   "cell_type": "markdown",
   "id": "fa6754a0",
   "metadata": {},
   "source": [
    "We use as predictor a MLP and we train it."
   ]
  },
  {
   "cell_type": "code",
   "execution_count": 4,
   "id": "bed764ca",
   "metadata": {},
   "outputs": [
    {
     "name": "stdout",
     "output_type": "stream",
     "text": [
      "0.009333333333333332\n"
     ]
    }
   ],
   "source": [
    "predictor = KNeighborsRegressor(n_neighbors=1).fit(train.iloc[:, :-1].values, train.iloc[:, -1].values)\n",
    "\n",
    "print((abs(predictor.predict(test.iloc[:, :-1].values).flatten() - test.iloc[:, -1].values)).mean())"
   ]
  },
  {
   "cell_type": "markdown",
   "id": "96835867",
   "metadata": {},
   "source": [
    "We create an extractor that uses the ITER algorithm and we extract prolog rules from our trained MLP."
   ]
  },
  {
   "cell_type": "code",
   "execution_count": 5,
   "outputs": [
    {
     "name": "stdout",
     "output_type": "stream",
     "text": [
      "ITER extracted rules:\n",
      "\n",
      "z(X, Y, 0.0) :-\n",
      "    X in [0.5095, 0.9994], Y in [0.5003, 0.9994].\n",
      "z(X, Y, 0.3) :-\n",
      "    X in [0.5095, 0.9994], Y in [0.0002, 0.5003].\n",
      "z(X, Y, 0.4) :-\n",
      "    X in [0.0021, 0.5095], Y in [0.4942, 0.9994].\n",
      "z(X, Y, 0.7) :-\n",
      "    X in [0.0021, 0.5095], Y in [0.0002, 0.4942].\n"
     ]
    }
   ],
   "source": [
    "it = Extractor.iter(predictor, min_update=1.0 / 15, n_points=4, max_iterations=600,\n",
    "                    min_examples=100, threshold=0.15)\n",
    "theory_from_iter = it.extract(train)\n",
    "print('ITER extracted rules:\\n\\n' + pretty_theory(theory_from_iter))"
   ],
   "metadata": {
    "collapsed": false,
    "pycharm": {
     "name": "#%%\n"
    }
   }
  },
  {
   "cell_type": "code",
   "execution_count": 6,
   "outputs": [
    {
     "name": "stdout",
     "output_type": "stream",
     "text": [
      "GridEx extracted rules:\n",
      "\n",
      "z(X, Y, 0.6976) :-\n",
      "    X in [0.0021, 0.5007], Y in [0.0002, 0.4998].\n",
      "z(X, Y, 0.3984) :-\n",
      "    X in [0.0021, 0.5007], Y in [0.4998, 0.9994].\n",
      "z(X, Y, 0.2976) :-\n",
      "    X in [0.5007, 0.9994], Y in [0.0002, 0.4998].\n",
      "z(X, Y, 0.0) :-\n",
      "    X in [0.5007, 0.9994], Y in [0.4998, 0.9994].\n"
     ]
    }
   ],
   "source": [
    "gridEx = Extractor.gridex(predictor, Grid(1, FixedStrategy(2)), threshold=0.15)\n",
    "theory_from_gridEx = gridEx.extract(train)\n",
    "print('GridEx extracted rules:\\n\\n' + pretty_theory(theory_from_gridEx))"
   ],
   "metadata": {
    "collapsed": false,
    "pycharm": {
     "name": "#%%\n"
    }
   }
  },
  {
   "cell_type": "code",
   "execution_count": 7,
   "outputs": [
    {
     "name": "stdout",
     "output_type": "stream",
     "text": [
      "GridREx extracted rules:\n",
      "\n",
      "z(X, Y, Z) :-\n",
      "    X in [0.0021, 0.5007], Y in [0.0002, 0.4998], Z is 0.7052 + -0.004 * X + -0.0264 * Y.\n",
      "z(X, Y, Z) :-\n",
      "    X in [0.0021, 0.5007], Y in [0.4998, 0.9994], Z is 0.4164 + -0.022 * X + -0.017 * Y.\n",
      "z(X, Y, Z) :-\n",
      "    X in [0.5007, 0.9994], Y in [0.0002, 0.4998], Z is 0.2971 + 0.0103 * X + -0.0301 * Y.\n",
      "z(X, Y, Z) :-\n",
      "    X in [0.5007, 0.9994], Y in [0.4998, 0.9994], Z is 0.0.\n"
     ]
    }
   ],
   "source": [
    "gridREx = Extractor.gridrex(predictor, Grid(1, FixedStrategy(2)), threshold=0.15)\n",
    "theory_from_gridREx = gridREx.extract(train)\n",
    "print('GridREx extracted rules:\\n\\n' + pretty_theory(theory_from_gridREx))"
   ],
   "metadata": {
    "collapsed": false,
    "pycharm": {
     "name": "#%%\n"
    }
   }
  }
 ],
 "metadata": {
  "kernelspec": {
   "display_name": "Python 3",
   "language": "python",
   "name": "python3"
  },
  "language_info": {
   "codemirror_mode": {
    "name": "ipython",
    "version": 3
   },
   "file_extension": ".py",
   "mimetype": "text/x-python",
   "name": "python",
   "nbconvert_exporter": "python",
   "pygments_lexer": "ipython3",
   "version": "3.9.7"
  }
 },
 "nbformat": 4,
 "nbformat_minor": 5
}